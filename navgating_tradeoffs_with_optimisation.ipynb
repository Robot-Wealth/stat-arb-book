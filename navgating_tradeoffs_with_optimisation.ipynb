{
 "cells": [
  {
   "attachments": {},
   "cell_type": "markdown",
   "metadata": {},
   "source": [
    "# Navigating Tradeoffs with Convex Optimisation\n",
    "\n",
    "This is the final article in our recent stat arb series. The previous articles are linked below:\n",
    "\n",
    "- [A short take on stat arb trading in the real world](https://robotwealth.com/a-short-take-on-real-world-pairs-trading/)\n",
    "- [A general approach for exploiting stat arb alphas](https://robotwealth.com/a-general-approach-for-exploiting-statistical-arbitrage-alphas/)\n",
    "- [Ideas for crypto stat arb features](https://robotwealth.com/ideas-for-crypto-stat-arb-features/)\n",
    "- [Quantifying and combining crypto alphas](https://robotwealth.com/quantifying-and-combining-crypto-alphas/)\n",
    "- [A simple and effective way to manage turnover and not get killed by costs](https://robotwealth.com/a-simple-effective-way-to-manage-turnover-and-not-get-killed-by-costs/)\n",
    "- [How to model features as expected returns](https://robotwealth.com/how-to-model-features-as-expected-returns/)\n",
    "- [Building intuition for trading with convex optimisation with CVXR](https://robotwealth.com/building-intuition-for-trading-with-convex-optimisation-with-cvxr/)\n",
    "\n",
    "So far in this series, we have:\n",
    "- Introduced a general approach for doing stat arb \n",
    "- Brainstormed some ideas for crypto stat arb alphas\n",
    "- Explored how we might quantify and combine those alphas\n",
    "- Introduced the no-trade buffer: a heuristic approach to navigating the tradeoff between uncertain alpha and certain costs\n",
    "- Described how to model features as expected returns - a prerequisite for using an optimisation-based approach\n",
    "- Provided a ton of examples of different optimisation problems and how they work in CVXR\n",
    "\n",
    "In the previous article, we built some intuition for what an optimiser does under the hood. In this article, we'll use the optimiser to navigate the tradeoffs between costs, alpha and risk. Essentially we're swapping out the simpler heuristic approach from earlier in the series for an optimisation-based approach. \n",
    "\n",
    "There are advantages and disadvantages to doing this:\n",
    "- The heuristic approach is simple and intuitive and leads to a predictable, mechanical set of rules for managing your positions. The optimiser is a bit more black box. \n",
    "- The optimisation approach accommodates real-world constraints directly.\n",
    "- It also enables incorporation of risk models such as covariance estimates, Value-at-Risk, etc. In the heuristic approach, you'd have to incorporate this upstream of your rebalancing somehow. \n",
    "- The optimisation-based approach is very flexible and scalable: you can add new signals or risk estimates without re-fitting anything.\n",
    "\n",
    "You certainly don't *need* to add the complexity of an optimisation-based approach. It's not a pre-requisite to making money. But if you have the resources to implement it (time, skills, etc) it can boost performance and allow you to scale fairly quickly by adding new signals or risk models as you develop them. \n",
    "\n",
    "In this article, I'll show you how to simulate trading with convex optimisation. \n",
    "\n",
    "First, load our libraries and the dataset we've been using throughout the series:"
   ]
  },
  {
   "cell_type": "code",
   "execution_count": 2,
   "metadata": {
    "vscode": {
     "languageId": "r"
    }
   },
   "outputs": [
    {
     "name": "stderr",
     "output_type": "stream",
     "text": [
      "\u001b[1mRows: \u001b[22m\u001b[34m187251\u001b[39m \u001b[1mColumns: \u001b[22m\u001b[34m11\u001b[39m\n",
      "\u001b[36m──\u001b[39m \u001b[1mColumn specification\u001b[22m \u001b[36m────────────────────────────────────────────────────────\u001b[39m\n",
      "\u001b[1mDelimiter:\u001b[22m \",\"\n",
      "\u001b[31mchr\u001b[39m  (1): ticker\n",
      "\u001b[32mdbl\u001b[39m  (9): open, high, low, close, dollar_volume, num_trades, taker_buy_volum...\n",
      "\u001b[34mdate\u001b[39m (1): date\n",
      "\n",
      "\u001b[36mℹ\u001b[39m Use `spec()` to retrieve the full column specification for this data.\n",
      "\u001b[36mℹ\u001b[39m Specify the column types or set `show_col_types = FALSE` to quiet this message.\n"
     ]
    },
    {
     "data": {
      "text/html": [
       "<table class=\"dataframe\">\n",
       "<caption>A tibble: 6 × 11</caption>\n",
       "<thead>\n",
       "\t<tr><th scope=col>ticker</th><th scope=col>date</th><th scope=col>open</th><th scope=col>high</th><th scope=col>low</th><th scope=col>close</th><th scope=col>dollar_volume</th><th scope=col>num_trades</th><th scope=col>taker_buy_volume</th><th scope=col>taker_buy_quote_volumne</th><th scope=col>funding_rate</th></tr>\n",
       "\t<tr><th scope=col>&lt;chr&gt;</th><th scope=col>&lt;date&gt;</th><th scope=col>&lt;dbl&gt;</th><th scope=col>&lt;dbl&gt;</th><th scope=col>&lt;dbl&gt;</th><th scope=col>&lt;dbl&gt;</th><th scope=col>&lt;dbl&gt;</th><th scope=col>&lt;dbl&gt;</th><th scope=col>&lt;dbl&gt;</th><th scope=col>&lt;dbl&gt;</th><th scope=col>&lt;dbl&gt;</th></tr>\n",
       "</thead>\n",
       "<tbody>\n",
       "\t<tr><td>BTCUSDT</td><td>2019-09-11</td><td>10172.13</td><td>10293.11</td><td> 9884.31</td><td> 9991.84</td><td> 85955369</td><td>10928</td><td> 5169.153</td><td> 52110075</td><td>-3e-04</td></tr>\n",
       "\t<tr><td>BTCUSDT</td><td>2019-09-12</td><td> 9992.18</td><td>10365.15</td><td> 9934.11</td><td>10326.58</td><td>157223498</td><td>19384</td><td>11822.980</td><td>119810012</td><td>-3e-04</td></tr>\n",
       "\t<tr><td>BTCUSDT</td><td>2019-09-13</td><td>10327.25</td><td>10450.13</td><td>10239.42</td><td>10296.57</td><td>189055129</td><td>25370</td><td> 9198.551</td><td> 94983470</td><td>-3e-04</td></tr>\n",
       "\t<tr><td>BTCUSDT</td><td>2019-09-14</td><td>10294.81</td><td>10396.40</td><td>10153.51</td><td>10358.00</td><td>206031349</td><td>31494</td><td> 9761.462</td><td>100482121</td><td>-3e-04</td></tr>\n",
       "\t<tr><td>BTCUSDT</td><td>2019-09-15</td><td>10355.61</td><td>10419.97</td><td>10024.81</td><td>10306.37</td><td>211326874</td><td>27512</td><td> 7418.716</td><td> 76577710</td><td>-3e-04</td></tr>\n",
       "\t<tr><td>BTCUSDT</td><td>2019-09-16</td><td>10306.79</td><td>10353.81</td><td>10115.00</td><td>10120.07</td><td>208211376</td><td>29030</td><td> 7564.376</td><td> 77673986</td><td>-3e-04</td></tr>\n",
       "</tbody>\n",
       "</table>\n"
      ],
      "text/latex": [
       "A tibble: 6 × 11\n",
       "\\begin{tabular}{lllllllllll}\n",
       " ticker & date & open & high & low & close & dollar\\_volume & num\\_trades & taker\\_buy\\_volume & taker\\_buy\\_quote\\_volumne & funding\\_rate\\\\\n",
       " <chr> & <date> & <dbl> & <dbl> & <dbl> & <dbl> & <dbl> & <dbl> & <dbl> & <dbl> & <dbl>\\\\\n",
       "\\hline\n",
       "\t BTCUSDT & 2019-09-11 & 10172.13 & 10293.11 &  9884.31 &  9991.84 &  85955369 & 10928 &  5169.153 &  52110075 & -3e-04\\\\\n",
       "\t BTCUSDT & 2019-09-12 &  9992.18 & 10365.15 &  9934.11 & 10326.58 & 157223498 & 19384 & 11822.980 & 119810012 & -3e-04\\\\\n",
       "\t BTCUSDT & 2019-09-13 & 10327.25 & 10450.13 & 10239.42 & 10296.57 & 189055129 & 25370 &  9198.551 &  94983470 & -3e-04\\\\\n",
       "\t BTCUSDT & 2019-09-14 & 10294.81 & 10396.40 & 10153.51 & 10358.00 & 206031349 & 31494 &  9761.462 & 100482121 & -3e-04\\\\\n",
       "\t BTCUSDT & 2019-09-15 & 10355.61 & 10419.97 & 10024.81 & 10306.37 & 211326874 & 27512 &  7418.716 &  76577710 & -3e-04\\\\\n",
       "\t BTCUSDT & 2019-09-16 & 10306.79 & 10353.81 & 10115.00 & 10120.07 & 208211376 & 29030 &  7564.376 &  77673986 & -3e-04\\\\\n",
       "\\end{tabular}\n"
      ],
      "text/markdown": [
       "\n",
       "A tibble: 6 × 11\n",
       "\n",
       "| ticker &lt;chr&gt; | date &lt;date&gt; | open &lt;dbl&gt; | high &lt;dbl&gt; | low &lt;dbl&gt; | close &lt;dbl&gt; | dollar_volume &lt;dbl&gt; | num_trades &lt;dbl&gt; | taker_buy_volume &lt;dbl&gt; | taker_buy_quote_volumne &lt;dbl&gt; | funding_rate &lt;dbl&gt; |\n",
       "|---|---|---|---|---|---|---|---|---|---|---|\n",
       "| BTCUSDT | 2019-09-11 | 10172.13 | 10293.11 |  9884.31 |  9991.84 |  85955369 | 10928 |  5169.153 |  52110075 | -3e-04 |\n",
       "| BTCUSDT | 2019-09-12 |  9992.18 | 10365.15 |  9934.11 | 10326.58 | 157223498 | 19384 | 11822.980 | 119810012 | -3e-04 |\n",
       "| BTCUSDT | 2019-09-13 | 10327.25 | 10450.13 | 10239.42 | 10296.57 | 189055129 | 25370 |  9198.551 |  94983470 | -3e-04 |\n",
       "| BTCUSDT | 2019-09-14 | 10294.81 | 10396.40 | 10153.51 | 10358.00 | 206031349 | 31494 |  9761.462 | 100482121 | -3e-04 |\n",
       "| BTCUSDT | 2019-09-15 | 10355.61 | 10419.97 | 10024.81 | 10306.37 | 211326874 | 27512 |  7418.716 |  76577710 | -3e-04 |\n",
       "| BTCUSDT | 2019-09-16 | 10306.79 | 10353.81 | 10115.00 | 10120.07 | 208211376 | 29030 |  7564.376 |  77673986 | -3e-04 |\n",
       "\n"
      ],
      "text/plain": [
       "  ticker  date       open     high     low      close    dollar_volume\n",
       "1 BTCUSDT 2019-09-11 10172.13 10293.11  9884.31  9991.84  85955369    \n",
       "2 BTCUSDT 2019-09-12  9992.18 10365.15  9934.11 10326.58 157223498    \n",
       "3 BTCUSDT 2019-09-13 10327.25 10450.13 10239.42 10296.57 189055129    \n",
       "4 BTCUSDT 2019-09-14 10294.81 10396.40 10153.51 10358.00 206031349    \n",
       "5 BTCUSDT 2019-09-15 10355.61 10419.97 10024.81 10306.37 211326874    \n",
       "6 BTCUSDT 2019-09-16 10306.79 10353.81 10115.00 10120.07 208211376    \n",
       "  num_trades taker_buy_volume taker_buy_quote_volumne funding_rate\n",
       "1 10928       5169.153         52110075               -3e-04      \n",
       "2 19384      11822.980        119810012               -3e-04      \n",
       "3 25370       9198.551         94983470               -3e-04      \n",
       "4 31494       9761.462        100482121               -3e-04      \n",
       "5 27512       7418.716         76577710               -3e-04      \n",
       "6 29030       7564.376         77673986               -3e-04      "
      ]
     },
     "metadata": {},
     "output_type": "display_data"
    }
   ],
   "source": [
    "# session  options\n",
    "options(repr.plot.width = 14, repr.plot.height=7, warn = -1)\n",
    "\n",
    "library(tidyverse)\n",
    "library(tidyfit)\n",
    "library(glue)\n",
    "library(CVXR)\n",
    "library(tibbletime)\n",
    "library(roll)\n",
    "library(patchwork)\n",
    "pacman::p_load_current_gh(\"Robot-Wealth/rsims\", dependencies = TRUE) \n",
    "\n",
    "# chart options\n",
    "theme_set(theme_bw())\n",
    "theme_update(text = element_text(size = 20))\n",
    "\n",
    "# data\n",
    "perps <- read_csv(\"https://github.com/Robot-Wealth/r-quant-recipes/raw/master/quantifying-combining-alphas/binance_perp_daily.csv\")\n",
    "head(perps)"
   ]
  },
  {
   "cell_type": "markdown",
   "metadata": {},
   "source": [
    "For the purposes of this example, we'll create the same crypto universe that we used last time - the top 30 Binance perpetual futures contracts by trailing 30-day dollar-volume, with stables and wrapped tokens removed. \n",
    "\n",
    "We'll also calculate returns at this step for later use. "
   ]
  },
  {
   "cell_type": "code",
   "execution_count": 2,
   "metadata": {
    "vscode": {
     "languageId": "r"
    }
   },
   "outputs": [],
   "source": [
    "# get same universe as before - top 30 by rolling 30-day dollar volume, no stables\n",
    "\n",
    "# remove stablecoins\n",
    "# list of stablecoins from defi llama\n",
    "url <- \"https://stablecoins.llama.fi/stablecoins?includePrices=true\"\n",
    "response <- httr::GET(url)\n",
    "\n",
    "stables <- response %>%\n",
    "  httr::content(as = \"text\", encoding = \"UTF-8\") %>%\n",
    "  jsonlite::fromJSON(flatten = TRUE) %>%\n",
    "  pluck(\"peggedAssets\") %>%\n",
    "  pull(symbol)\n",
    "\n",
    "# sort(stables)\n",
    "\n",
    "perps <- perps %>% \n",
    "  filter(!ticker %in% glue::glue(\"{stables}USDT\")) "
   ]
  },
  {
   "cell_type": "code",
   "execution_count": 3,
   "metadata": {
    "vscode": {
     "languageId": "r"
    }
   },
   "outputs": [
    {
     "data": {
      "image/png": "[encoded data removed]",
      "text/plain": [
       "plot without title"
      ]
     },
     "metadata": {
      "image/png": {
       "height": 420,
       "width": 840
      }
     },
     "output_type": "display_data"
    }
   ],
   "source": [
    "# get the top 30 by trailing 30-day volume\n",
    "# exclude from universe until we have enough data to do a covariance estimate (see later)\n",
    "trading_universe_size <- 30\n",
    "ew_cov_init_wdw <- 30\n",
    "\n",
    "universe <- perps %>%\n",
    "  group_by(ticker) %>% \n",
    "  # also calculate returns for later\n",
    "  mutate(\n",
    "    total_return_simple = funding_rate + (close - lag(close, 1))/lag(close, 1),\n",
    "    total_return_log = log(1 + total_return_simple),\n",
    "    total_fwd_return_simple = dplyr::lead(funding_rate, 1) + (dplyr::lead(close, 1) - close)/close,\n",
    "    total_fwd_return_log = log(1 + total_fwd_return_simple),\n",
    "    trail_volume = roll_mean(dollar_volume, 30)\n",
    "  ) %>% \n",
    "  mutate(days_since_listing = row_number()) %>%   # the number of days we have data for each ticker\n",
    "  na.omit() %>%\n",
    "  ungroup() %>% \n",
    "  # exclude from volume ranking - won't matter if we use a rolling volume calculated with more than the covariance initialisation window as will drop these rows using na.omit\n",
    "  mutate(to_exclude = days_since_listing < ew_cov_init_wdw) %>%   \n",
    "  group_by(date) %>%\n",
    "  mutate(\n",
    "    volume_rank = if_else(to_exclude, NA_integer_, row_number(-trail_volume)),\n",
    "    is_universe = volume_rank <= trading_universe_size,\n",
    "  ) \n",
    "\n",
    "universe %>%\n",
    "  group_by(date, is_universe) %>%\n",
    "  summarize(count = n(), .groups = \"drop\") %>%\n",
    "  ggplot(aes(x=date, y=count, color = is_universe)) + \n",
    "  geom_line() + \n",
    "  labs(\n",
    "    title = 'Universe size'\n",
    ")"
   ]
  },
  {
   "attachments": {},
   "cell_type": "markdown",
   "metadata": {},
   "source": [
    "## Calculate features\n",
    "\n",
    "Next, calculate our features as before. We have:  \n",
    "- Short-term (10-day) cross-sectional momentum (bucketed into deciles by date)\n",
    "- Short-term (1-day) cross-sectional carry (also bucketed into deciles by date)\n",
    "- A breakout feature defined as the number of days since the 20-day high which we use as a time-series return predictor. "
   ]
  },
  {
   "cell_type": "code",
   "execution_count": 4,
   "metadata": {
    "vscode": {
     "languageId": "r"
    }
   },
   "outputs": [],
   "source": [
    "# calculate features as before\n",
    "rolling_days_since_high_20 <- purrr::possibly(\n",
    "  tibbletime::rollify(\n",
    "    function(x) {\n",
    "      idx_of_high <- which.max(x)\n",
    "      days_since_high <- length(x) - idx_of_high\n",
    "      days_since_high\n",
    "    }, \n",
    "    window = 20, na_value = NA), \n",
    "  otherwise = NA\n",
    ")\n",
    "\n",
    "features <- universe %>%\n",
    "  group_by(ticker) %>%\n",
    "  arrange(date) %>%\n",
    "  mutate(\n",
    "    breakout = 9.5 - rolling_days_since_high_20(close),  # puts this feature on a scale -9.5 to +9.5\n",
    "    momo = close - lag(close, 10)/close,\n",
    "    carry = funding_rate\n",
    "  ) %>%\n",
    "  ungroup() %>% \n",
    "  na.omit()\n",
    "\n",
    "# create a model df on our universe with momo and carry features scaled into deciles\n",
    "model_df <- features %>%\n",
    "  filter(is_universe) %>% \n",
    "  group_by(date) %>%\n",
    "  mutate(\n",
    "    carry_decile = ntile(carry, 10),\n",
    "    momo_decile = ntile(momo, 10),\n",
    "    # also calculate demeaned return for everything in our universe each day for later\n",
    "    demeaned_return = total_return_simple - mean(total_return_simple, na.rm = TRUE),\n",
    "    demeaned_fwd_return = total_fwd_return_simple - mean(total_fwd_return_simple, na.rm = TRUE)\n",
    "  ) %>% \n",
    "  ungroup()\n",
    "\n",
    "  # start simulation from date we first have n tickers in the universe\n",
    "start_date <- features %>%\n",
    "  group_by(date, is_universe) %>%\n",
    "  summarize(count = n(), .groups = \"drop\") %>%\n",
    "  filter(count >= trading_universe_size) %>%\n",
    "  head(1) %>%\n",
    "  pull(date)"
   ]
  },
  {
   "attachments": {},
   "cell_type": "markdown",
   "metadata": {},
   "source": [
    "## Model expected returns\n",
    "\n",
    "We'll model our features as expected returns. See [here]((https://robotwealth.com/how-to-model-features-as-expected-returns/)) for a detailed exploration of this topic. "
   ]
  },
  {
   "cell_type": "code",
   "execution_count": 5,
   "metadata": {
    "vscode": {
     "languageId": "r"
    }
   },
   "outputs": [],
   "source": [
    "# use a 90-day window and refit every 10 days\n",
    "is_days <- 90\n",
    "step_size <- trading_universe_size*10  \n",
    "\n",
    "# rolling model for cross-sectional features\n",
    "roll_xs_coeffs_df <- model_df %>% \n",
    "  filter(date >= start_date) %>% \n",
    "  regress(\n",
    "    demeaned_fwd_return ~ carry_decile + momo_decile,\n",
    "    m(\"lm\", vcov. = \"HAC\"),  \n",
    "    .cv = \"sliding_index\", \n",
    "    .cv_args = list(lookback = days(is_days), step = step_size, index = \"date\"),  \n",
    "    .force_cv = TRUE, \n",
    "    .return_slices = TRUE\n",
    "  )\n",
    "\n",
    "# rolling model for time series features \n",
    "breakout_cutoff <- 5.5  # below this level, we set our expected return to zero\n",
    "roll_ts_coeffs_df <- model_df %>% \n",
    "  filter(date >= start_date) %>% \n",
    "  # setting regression weights to zero when breakout < breakout_cutoff will give these data points zero weight in estimating coefficients\n",
    "  mutate(regression_weights = case_when(breakout < breakout_cutoff ~ 0, TRUE ~ 1)) %>% \n",
    "  regress(\n",
    "    total_fwd_return_simple ~ breakout,\n",
    "    m(\"lm\", vcov. = \"HAC\"), \n",
    "    .weights = \"regression_weights\", \n",
    "    .cv = \"sliding_index\", \n",
    "    .cv_args = list(lookback = days(is_days), step = step_size, index = \"date\"),  \n",
    "    .force_cv = TRUE, \n",
    "    .return_slices = TRUE\n",
    "  )"
   ]
  },
  {
   "cell_type": "markdown",
   "metadata": {},
   "source": [
    "This results in a nested dataframe that contains the model objects and various metadata:"
   ]
  },
  {
   "cell_type": "code",
   "execution_count": 6,
   "metadata": {
    "vscode": {
     "languageId": "r"
    }
   },
   "outputs": [
    {
     "data": {
      "text/html": [
       "<table class=\"dataframe\">\n",
       "<caption>A tidyfit.models: 6 × 7</caption>\n",
       "<thead>\n",
       "\t<tr><th scope=col>model</th><th scope=col>estimator_fct</th><th scope=col>size (MB)</th><th scope=col>grid_id</th><th scope=col>model_object</th><th scope=col>settings</th><th scope=col>slice_id</th></tr>\n",
       "\t<tr><th scope=col>&lt;chr&gt;</th><th scope=col>&lt;chr&gt;</th><th scope=col>&lt;dbl&gt;</th><th scope=col>&lt;chr&gt;</th><th scope=col>&lt;list&gt;</th><th scope=col>&lt;list&gt;</th><th scope=col>&lt;chr&gt;</th></tr>\n",
       "</thead>\n",
       "<tbody>\n",
       "\t<tr><td>lm</td><td>stats::lm</td><td>1.360960</td><td>#0010000</td><td>&lt;environment: 0x000002c9993fbe90&gt;</td><td>HAC</td><td>2021-02-11</td></tr>\n",
       "\t<tr><td>lm</td><td>stats::lm</td><td>1.367016</td><td>#0010000</td><td>&lt;environment: 0x000002c9994915b8&gt;</td><td>HAC</td><td>2021-02-21</td></tr>\n",
       "\t<tr><td>lm</td><td>stats::lm</td><td>1.380032</td><td>#0010000</td><td>&lt;environment: 0x000002c9997f4918&gt;</td><td>HAC</td><td>2021-03-03</td></tr>\n",
       "\t<tr><td>lm</td><td>stats::lm</td><td>1.384864</td><td>#0010000</td><td>&lt;environment: 0x000002c999c1dc98&gt;</td><td>HAC</td><td>2021-03-13</td></tr>\n",
       "\t<tr><td>lm</td><td>stats::lm</td><td>1.384808</td><td>#0010000</td><td>&lt;environment: 0x000002c999f2ada0&gt;</td><td>HAC</td><td>2021-03-23</td></tr>\n",
       "\t<tr><td>lm</td><td>stats::lm</td><td>1.384944</td><td>#0010000</td><td>&lt;environment: 0x000002c98f421ae8&gt;</td><td>HAC</td><td>2021-04-02</td></tr>\n",
       "</tbody>\n",
       "</table>\n"
      ],
      "text/latex": [
       "A tidyfit.models: 6 × 7\n",
       "\\begin{tabular}{lllllll}\n",
       " model & estimator\\_fct & size (MB) & grid\\_id & model\\_object & settings & slice\\_id\\\\\n",
       " <chr> & <chr> & <dbl> & <chr> & <list> & <list> & <chr>\\\\\n",
       "\\hline\n",
       "\t lm & stats::lm & 1.360960 & \\#0010000 & <environment: 0x000002c9993fbe90> & HAC & 2021-02-11\\\\\n",
       "\t lm & stats::lm & 1.367016 & \\#0010000 & <environment: 0x000002c9994915b8> & HAC & 2021-02-21\\\\\n",
       "\t lm & stats::lm & 1.380032 & \\#0010000 & <environment: 0x000002c9997f4918> & HAC & 2021-03-03\\\\\n",
       "\t lm & stats::lm & 1.384864 & \\#0010000 & <environment: 0x000002c999c1dc98> & HAC & 2021-03-13\\\\\n",
       "\t lm & stats::lm & 1.384808 & \\#0010000 & <environment: 0x000002c999f2ada0> & HAC & 2021-03-23\\\\\n",
       "\t lm & stats::lm & 1.384944 & \\#0010000 & <environment: 0x000002c98f421ae8> & HAC & 2021-04-02\\\\\n",
       "\\end{tabular}\n"
      ],
      "text/markdown": [
       "\n",
       "A tidyfit.models: 6 × 7\n",
       "\n",
       "| model &lt;chr&gt; | estimator_fct &lt;chr&gt; | size (MB) &lt;dbl&gt; | grid_id &lt;chr&gt; | model_object &lt;list&gt; | settings &lt;list&gt; | slice_id &lt;chr&gt; |\n",
       "|---|---|---|---|---|---|---|\n",
       "| lm | stats::lm | 1.360960 | #0010000 | &lt;environment: 0x000002c9993fbe90&gt; | HAC | 2021-02-11 |\n",
       "| lm | stats::lm | 1.367016 | #0010000 | &lt;environment: 0x000002c9994915b8&gt; | HAC | 2021-02-21 |\n",
       "| lm | stats::lm | 1.380032 | #0010000 | &lt;environment: 0x000002c9997f4918&gt; | HAC | 2021-03-03 |\n",
       "| lm | stats::lm | 1.384864 | #0010000 | &lt;environment: 0x000002c999c1dc98&gt; | HAC | 2021-03-13 |\n",
       "| lm | stats::lm | 1.384808 | #0010000 | &lt;environment: 0x000002c999f2ada0&gt; | HAC | 2021-03-23 |\n",
       "| lm | stats::lm | 1.384944 | #0010000 | &lt;environment: 0x000002c98f421ae8&gt; | HAC | 2021-04-02 |\n",
       "\n"
      ],
      "text/plain": [
       "  model estimator_fct size (MB) grid_id  model_object                     \n",
       "1 lm    stats::lm     1.360960  #0010000 <environment: 0x000002c9993fbe90>\n",
       "2 lm    stats::lm     1.367016  #0010000 <environment: 0x000002c9994915b8>\n",
       "3 lm    stats::lm     1.380032  #0010000 <environment: 0x000002c9997f4918>\n",
       "4 lm    stats::lm     1.384864  #0010000 <environment: 0x000002c999c1dc98>\n",
       "5 lm    stats::lm     1.384808  #0010000 <environment: 0x000002c999f2ada0>\n",
       "6 lm    stats::lm     1.384944  #0010000 <environment: 0x000002c98f421ae8>\n",
       "  settings slice_id  \n",
       "1 HAC      2021-02-11\n",
       "2 HAC      2021-02-21\n",
       "3 HAC      2021-03-03\n",
       "4 HAC      2021-03-13\n",
       "5 HAC      2021-03-23\n",
       "6 HAC      2021-04-02"
      ]
     },
     "metadata": {},
     "output_type": "display_data"
    },
    {
     "data": {
      "text/html": [
       "<table class=\"dataframe\">\n",
       "<caption>A tidyfit.models: 6 × 6</caption>\n",
       "<thead>\n",
       "\t<tr><th scope=col>model</th><th scope=col>estimator_fct</th><th scope=col>size (MB)</th><th scope=col>grid_id</th><th scope=col>model_object</th><th scope=col>slice_id</th></tr>\n",
       "\t<tr><th scope=col>&lt;chr&gt;</th><th scope=col>&lt;chr&gt;</th><th scope=col>&lt;dbl&gt;</th><th scope=col>&lt;chr&gt;</th><th scope=col>&lt;list&gt;</th><th scope=col>&lt;chr&gt;</th></tr>\n",
       "</thead>\n",
       "<tbody>\n",
       "\t<tr><td>lm</td><td>stats::lm</td><td>1.245552</td><td>#0010000</td><td>&lt;environment: 0x000002c99633fe90&gt;</td><td>2021-02-11</td></tr>\n",
       "\t<tr><td>lm</td><td>stats::lm</td><td>1.257864</td><td>#0010000</td><td>&lt;environment: 0x000002c995893588&gt;</td><td>2021-02-21</td></tr>\n",
       "\t<tr><td>lm</td><td>stats::lm</td><td>1.254896</td><td>#0010000</td><td>&lt;environment: 0x000002c989f4bd30&gt;</td><td>2021-03-03</td></tr>\n",
       "\t<tr><td>lm</td><td>stats::lm</td><td>1.255688</td><td>#0010000</td><td>&lt;environment: 0x000002c9891edc98&gt;</td><td>2021-03-13</td></tr>\n",
       "\t<tr><td>lm</td><td>stats::lm</td><td>1.260624</td><td>#0010000</td><td>&lt;environment: 0x000002c988f475b8&gt;</td><td>2021-03-23</td></tr>\n",
       "\t<tr><td>lm</td><td>stats::lm</td><td>1.257784</td><td>#0010000</td><td>&lt;environment: 0x000002c987e70f28&gt;</td><td>2021-04-02</td></tr>\n",
       "</tbody>\n",
       "</table>\n"
      ],
      "text/latex": [
       "A tidyfit.models: 6 × 6\n",
       "\\begin{tabular}{llllll}\n",
       " model & estimator\\_fct & size (MB) & grid\\_id & model\\_object & slice\\_id\\\\\n",
       " <chr> & <chr> & <dbl> & <chr> & <list> & <chr>\\\\\n",
       "\\hline\n",
       "\t lm & stats::lm & 1.245552 & \\#0010000 & <environment: 0x000002c99633fe90> & 2021-02-11\\\\\n",
       "\t lm & stats::lm & 1.257864 & \\#0010000 & <environment: 0x000002c995893588> & 2021-02-21\\\\\n",
       "\t lm & stats::lm & 1.254896 & \\#0010000 & <environment: 0x000002c989f4bd30> & 2021-03-03\\\\\n",
       "\t lm & stats::lm & 1.255688 & \\#0010000 & <environment: 0x000002c9891edc98> & 2021-03-13\\\\\n",
       "\t lm & stats::lm & 1.260624 & \\#0010000 & <environment: 0x000002c988f475b8> & 2021-03-23\\\\\n",
       "\t lm & stats::lm & 1.257784 & \\#0010000 & <environment: 0x000002c987e70f28> & 2021-04-02\\\\\n",
       "\\end{tabular}\n"
      ],
      "text/markdown": [
       "\n",
       "A tidyfit.models: 6 × 6\n",
       "\n",
       "| model &lt;chr&gt; | estimator_fct &lt;chr&gt; | size (MB) &lt;dbl&gt; | grid_id &lt;chr&gt; | model_object &lt;list&gt; | slice_id &lt;chr&gt; |\n",
       "|---|---|---|---|---|---|\n",
       "| lm | stats::lm | 1.245552 | #0010000 | &lt;environment: 0x000002c99633fe90&gt; | 2021-02-11 |\n",
       "| lm | stats::lm | 1.257864 | #0010000 | &lt;environment: 0x000002c995893588&gt; | 2021-02-21 |\n",
       "| lm | stats::lm | 1.254896 | #0010000 | &lt;environment: 0x000002c989f4bd30&gt; | 2021-03-03 |\n",
       "| lm | stats::lm | 1.255688 | #0010000 | &lt;environment: 0x000002c9891edc98&gt; | 2021-03-13 |\n",
       "| lm | stats::lm | 1.260624 | #0010000 | &lt;environment: 0x000002c988f475b8&gt; | 2021-03-23 |\n",
       "| lm | stats::lm | 1.257784 | #0010000 | &lt;environment: 0x000002c987e70f28&gt; | 2021-04-02 |\n",
       "\n"
      ],
      "text/plain": [
       "  model estimator_fct size (MB) grid_id  model_object                     \n",
       "1 lm    stats::lm     1.245552  #0010000 <environment: 0x000002c99633fe90>\n",
       "2 lm    stats::lm     1.257864  #0010000 <environment: 0x000002c995893588>\n",
       "3 lm    stats::lm     1.254896  #0010000 <environment: 0x000002c989f4bd30>\n",
       "4 lm    stats::lm     1.255688  #0010000 <environment: 0x000002c9891edc98>\n",
       "5 lm    stats::lm     1.260624  #0010000 <environment: 0x000002c988f475b8>\n",
       "6 lm    stats::lm     1.257784  #0010000 <environment: 0x000002c987e70f28>\n",
       "  slice_id  \n",
       "1 2021-02-11\n",
       "2 2021-02-21\n",
       "3 2021-03-03\n",
       "4 2021-03-13\n",
       "5 2021-03-23\n",
       "6 2021-04-02"
      ]
     },
     "metadata": {},
     "output_type": "display_data"
    }
   ],
   "source": [
    "roll_xs_coeffs_df %>% head\n",
    "roll_ts_coeffs_df %>% select(-settings) %>% head"
   ]
  },
  {
   "cell_type": "markdown",
   "metadata": {},
   "source": [
    "`slice_id` is the date the model goes out of sample - so we'll need to make sure that we align our model coefficients to avoid using them on the data they were fitted on. \n",
    "\n",
    "This requires a little data wrangling:"
   ]
  },
  {
   "cell_type": "code",
   "execution_count": 7,
   "metadata": {
    "vscode": {
     "languageId": "r"
    }
   },
   "outputs": [
    {
     "data": {
      "text/html": [
       "<table class=\"dataframe\">\n",
       "<caption>A tibble: 6 × 5</caption>\n",
       "<thead>\n",
       "\t<tr><th scope=col>slice_id</th><th scope=col>xs_intercept</th><th scope=col>carry_decile</th><th scope=col>momo_decile</th><th scope=col>slice_id_oos</th></tr>\n",
       "\t<tr><th scope=col>&lt;date&gt;</th><th scope=col>&lt;dbl&gt;</th><th scope=col>&lt;dbl&gt;</th><th scope=col>&lt;dbl&gt;</th><th scope=col>&lt;date&gt;</th></tr>\n",
       "</thead>\n",
       "<tbody>\n",
       "\t<tr><td>2021-02-11</td><td>-0.004872208</td><td>0.001732322</td><td>-0.0008239738</td><td>2021-02-21</td></tr>\n",
       "\t<tr><td>2021-02-21</td><td>-0.006129608</td><td>0.001902553</td><td>-0.0007640190</td><td>2021-03-03</td></tr>\n",
       "\t<tr><td>2021-03-03</td><td>-0.009538180</td><td>0.002148154</td><td>-0.0003897220</td><td>2021-03-13</td></tr>\n",
       "\t<tr><td>2021-03-13</td><td>-0.008374302</td><td>0.001953655</td><td>-0.0004141515</td><td>2021-03-23</td></tr>\n",
       "\t<tr><td>2021-03-23</td><td>-0.008275046</td><td>0.002211137</td><td>-0.0006898811</td><td>2021-04-02</td></tr>\n",
       "\t<tr><td>2021-04-02</td><td>-0.008613423</td><td>0.002413307</td><td>-0.0008298451</td><td>2021-04-12</td></tr>\n",
       "</tbody>\n",
       "</table>\n"
      ],
      "text/latex": [
       "A tibble: 6 × 5\n",
       "\\begin{tabular}{lllll}\n",
       " slice\\_id & xs\\_intercept & carry\\_decile & momo\\_decile & slice\\_id\\_oos\\\\\n",
       " <date> & <dbl> & <dbl> & <dbl> & <date>\\\\\n",
       "\\hline\n",
       "\t 2021-02-11 & -0.004872208 & 0.001732322 & -0.0008239738 & 2021-02-21\\\\\n",
       "\t 2021-02-21 & -0.006129608 & 0.001902553 & -0.0007640190 & 2021-03-03\\\\\n",
       "\t 2021-03-03 & -0.009538180 & 0.002148154 & -0.0003897220 & 2021-03-13\\\\\n",
       "\t 2021-03-13 & -0.008374302 & 0.001953655 & -0.0004141515 & 2021-03-23\\\\\n",
       "\t 2021-03-23 & -0.008275046 & 0.002211137 & -0.0006898811 & 2021-04-02\\\\\n",
       "\t 2021-04-02 & -0.008613423 & 0.002413307 & -0.0008298451 & 2021-04-12\\\\\n",
       "\\end{tabular}\n"
      ],
      "text/markdown": [
       "\n",
       "A tibble: 6 × 5\n",
       "\n",
       "| slice_id &lt;date&gt; | xs_intercept &lt;dbl&gt; | carry_decile &lt;dbl&gt; | momo_decile &lt;dbl&gt; | slice_id_oos &lt;date&gt; |\n",
       "|---|---|---|---|---|\n",
       "| 2021-02-11 | -0.004872208 | 0.001732322 | -0.0008239738 | 2021-02-21 |\n",
       "| 2021-02-21 | -0.006129608 | 0.001902553 | -0.0007640190 | 2021-03-03 |\n",
       "| 2021-03-03 | -0.009538180 | 0.002148154 | -0.0003897220 | 2021-03-13 |\n",
       "| 2021-03-13 | -0.008374302 | 0.001953655 | -0.0004141515 | 2021-03-23 |\n",
       "| 2021-03-23 | -0.008275046 | 0.002211137 | -0.0006898811 | 2021-04-02 |\n",
       "| 2021-04-02 | -0.008613423 | 0.002413307 | -0.0008298451 | 2021-04-12 |\n",
       "\n"
      ],
      "text/plain": [
       "  slice_id   xs_intercept carry_decile momo_decile   slice_id_oos\n",
       "1 2021-02-11 -0.004872208 0.001732322  -0.0008239738 2021-02-21  \n",
       "2 2021-02-21 -0.006129608 0.001902553  -0.0007640190 2021-03-03  \n",
       "3 2021-03-03 -0.009538180 0.002148154  -0.0003897220 2021-03-13  \n",
       "4 2021-03-13 -0.008374302 0.001953655  -0.0004141515 2021-03-23  \n",
       "5 2021-03-23 -0.008275046 0.002211137  -0.0006898811 2021-04-02  \n",
       "6 2021-04-02 -0.008613423 0.002413307  -0.0008298451 2021-04-12  "
      ]
     },
     "metadata": {},
     "output_type": "display_data"
    }
   ],
   "source": [
    "# for this to work, need to install.packages(\"sandwich\", \"lmtest\")\n",
    "xs_coefs <- roll_xs_coeffs_df %>% \n",
    "  coef()\n",
    "\n",
    "xs_coefs_df <- xs_coefs %>% \n",
    "  ungroup() %>% \n",
    "  select(term, estimate, slice_id) %>% \n",
    "  pivot_wider(id_cols = slice_id, names_from = term, values_from = estimate) %>% \n",
    "  mutate(slice_id = as_date(slice_id)) %>% \n",
    "  # need to lag slice id to make it oos\n",
    "  # slice_id_oos is the date we start using the parameters\n",
    "  mutate(slice_id_oos = lead(slice_id)) %>% \n",
    "  rename(\"xs_intercept\" = `(Intercept)`)\n",
    "\n",
    "ts_coefs <- roll_ts_coeffs_df %>% \n",
    "  coef()\n",
    "\n",
    "ts_coefs_df <- ts_coefs %>% \n",
    "  ungroup() %>% \n",
    "  select(term, estimate, slice_id) %>% \n",
    "  pivot_wider(id_cols = slice_id, names_from = term, values_from = estimate) %>% \n",
    "  mutate(slice_id = as_date(slice_id)) %>% \n",
    "  # need to lag slice id to make it oos\n",
    "  # slice_id_oos is the date we start using the parameters\n",
    "  mutate(slice_id_oos = lead(slice_id)) %>% \n",
    "  rename(\"ts_intercept\" = `(Intercept)`)\n",
    "\n",
    "xs_coefs_df %>% head\n",
    "# ts_coefs_df %>% head"
   ]
  },
  {
   "cell_type": "markdown",
   "metadata": {},
   "source": [
    "Here's a plot of our cross-sectional features' regression coefficients through time:"
   ]
  },
  {
   "cell_type": "code",
   "execution_count": 8,
   "metadata": {
    "vscode": {
     "languageId": "r"
    }
   },
   "outputs": [
    {
     "data": {
      "image/png": "[encoded data removed]",
      "text/plain": [
       "plot without title"
      ]
     },
     "metadata": {
      "image/png": {
       "height": 420,
       "width": 840
      }
     },
     "output_type": "display_data"
    }
   ],
   "source": [
    "# plot cross-sectional estimates\n",
    "xs_coefs_df %>% \n",
    "  select(-slice_id) %>% \n",
    "  pivot_longer(cols = -slice_id_oos, names_to = \"coefficient\", values_to = \"estimate\") %>% \n",
    "  ggplot(aes(x = slice_id_oos, y = estimate)) +\n",
    "  geom_line() +\n",
    "  facet_wrap(~coefficient, ncol = 1, scales = \"free_y\") +\n",
    "  labs(\n",
    "    title = \"Cross-sectional features model parameters\",\n",
    "    x = \"Date\",\n",
    "    y = \"Estimate\"\n",
    "  )\n",
    "\n",
    "# plot time-series estimates\n",
    "# ts_coefs_df %>% \n",
    "#   select(-slice_id) %>% \n",
    "#   pivot_longer(cols = -slice_id_oos, names_to = \"coefficient\", values_to = \"estimate\") %>% \n",
    "#   ggplot(aes(x = slice_id_oos, y = estimate)) +\n",
    "#   geom_line() +\n",
    "#   facet_wrap(~coefficient, ncol = 1, scales = \"free_y\") +\n",
    "#   labs(\n",
    "#     title = \"Time-series features model parameters\",\n",
    "#     x = \"Date\",\n",
    "#     y = \"Estimate\"\n",
    "#   )"
   ]
  },
  {
   "attachments": {},
   "cell_type": "markdown",
   "metadata": {},
   "source": [
    "The estimates for the coefficients for our carry and momentum features change over time to reflect the changing relationship with forward returns.  \n",
    "\n",
    "In particular, notice how the momentum coefficient flipped sign a few times, but especially from mid-2022, which is in line with our understanding of how the feature evolved. "
   ]
  },
  {
   "attachments": {},
   "cell_type": "markdown",
   "metadata": {},
   "source": [
    "## Plot frictionless returns to our features\n",
    "\n",
    "Now we can plot a time series of returns to a frictionless trading strategy based on these expected return estimates. This isn't a backtest - it makes no attempt to address real-world issues such as costs and turnover. It simply plots the returns to our predictions of expected returns over time.\n",
    "\n",
    "I won't actually use the linear model of the breakout feature - instead I'll just set its expected return to 0.002 when it's greater than 5 and 0 otherwise. \n",
    "\n",
    "I'll calculate target positions proportional to their cross-sectional return estimates. I'll then let the breakout feature tilt the portfolio net long, but I'll constrain the maximum delta that this feature can add to a position."
   ]
  },
  {
   "cell_type": "code",
   "execution_count": 9,
   "metadata": {
    "vscode": {
     "languageId": "r"
    }
   },
   "outputs": [
    {
     "data": {
      "image/png": "[encoded data removed]",
      "text/plain": [
       "plot without title"
      ]
     },
     "metadata": {
      "image/png": {
       "height": 420,
       "width": 840
      }
     },
     "output_type": "display_data"
    }
   ],
   "source": [
    "# join and fill using slice_id to designate when the model goes oos\n",
    "exp_return_df <- model_df %>% \n",
    "  left_join(\n",
    "    xs_coefs_df %>% left_join(ts_coefs_df, by = c(\"slice_id\", \"slice_id_oos\")), \n",
    "    by = join_by(closest(date > slice_id_oos)), suffix = c(\"_factor\", \"_coef\")\n",
    "  ) %>% \n",
    "  na.omit() %>% \n",
    "  # forecast cross-sectional expected return as\n",
    "  mutate(expected_xs_return = carry_decile_factor*carry_decile_coef + momo_decile_factor*momo_decile_coef + xs_intercept ) %>% \n",
    "  # mean expected xs return each day is zero\n",
    "  # let total expected return be xs return + ts return - allows time series expected return to tilt weights\n",
    "  mutate(expected_ts_return = case_when(breakout_factor >= 5.5 ~ 0.002, TRUE ~ 0)) %>% \n",
    "  ungroup() \n",
    "\n",
    "# long-short the xs expected return\n",
    "# layer ts expected return on top\n",
    "# position by expected return\n",
    "\n",
    "# 1 in the numerator lets it get max 100% long due to breakout\n",
    "max_ts_pos <- 0.5/trading_universe_size\n",
    "\n",
    "strategy_df <- exp_return_df %>% \n",
    "  filter(date >= start_date) %>% \n",
    "  group_by(date) %>% \n",
    "  mutate(xs_position = expected_xs_return - mean(expected_xs_return, na.rm = TRUE)) %>% \n",
    "  # scale positions so that leverage is 1\n",
    "  group_by(date) %>% \n",
    "  mutate(xs_position = if_else(xs_position == 0, 0, xs_position/sum(abs(xs_position)))) %>%\n",
    "  # layer ts expected return prediction\n",
    "  ungroup() %>% \n",
    "  mutate(ts_position = sign(expected_ts_return)) %>% \n",
    "  # constrain maximum delta added by time series prediction\n",
    "  mutate(ts_position = if_else(ts_position >= 0, pmin(ts_position, max_ts_pos), pmax(ts_position, -max_ts_pos))) %>% \n",
    "  mutate(position = xs_position + ts_position) %>% \n",
    "  # strategy return\n",
    "  mutate(strat_return = position*total_fwd_return_simple) %>% \n",
    "  # scale back to leverage 1\n",
    "  group_by(date) %>% \n",
    "  mutate(position = if_else(position == 0, 0, position/sum(abs(position)))) \n",
    "  \n",
    "returns_plot <- strategy_df %>%\n",
    "  group_by(date) %>% \n",
    "  summarise(total_ret = sum(strat_return)) %>% \n",
    "  ggplot(aes(x = date, y = cumsum(log(1+total_ret)))) +\n",
    "  geom_line() +\n",
    "  labs(\n",
    "    title = \"Cumulative strategy return\",\n",
    "    y = \"Cumulative return\"\n",
    "  )\n",
    "\n",
    "weights_plot <- strategy_df %>%\n",
    "  summarise(net_pos = sum(position)) %>% \n",
    "  ggplot(aes(x = date, y = net_pos)) +\n",
    "  geom_line() +\n",
    "  labs(\n",
    "    x = \"Date\",\n",
    "    y = \"Net Weight\"\n",
    "  )\n",
    "\n",
    "returns_plot / weights_plot + plot_layout(heights = c(2,1))"
   ]
  },
  {
   "attachments": {},
   "cell_type": "markdown",
   "metadata": {},
   "source": [
    "## Setting up the optimisation framework\n",
    "\n",
    "There are a few things we need for our optimisation framework:  \n",
    "- A dataframe of prices and expected returns for all the tickers that were ever in the universe\n",
    "- A risk model - we'll use a shrunk exponentially weighted covariance matrix\n",
    "- We'll need a covariance matrix for each day of our simulation, so we'll compute these prior to running the simulation and store them in a list\n",
    "- We'll also need a function for doing the optimisation at each time step and returning the weights for the next period\n",
    "- Finally, we'll need to figure out appropriate values for lambda and tau (the parameters that control our risk and propensity to trade). We'll do this by testing out a few values on a sample of our data. We'll do this using parallel processing to speed things up a bit. \n",
    "\n",
    "Then, we can do our actual simulation. \n",
    "\n",
    "### Prices and expected returns dataframes\n",
    "\n",
    "First, we make a dataframe of prices and expected returns for all the tickers that were ever in the tradeable universe:"
   ]
  },
  {
   "cell_type": "code",
   "execution_count": 71,
   "metadata": {
    "vscode": {
     "languageId": "r"
    }
   },
   "outputs": [],
   "source": [
    "# tickers that were ever in the universe\n",
    "universe_tickers <- features %>%\n",
    "  filter(is_universe) %>%\n",
    "  pull(ticker) %>%\n",
    "  unique()\n",
    "\n",
    "# universe_tickers"
   ]
  },
  {
   "cell_type": "code",
   "execution_count": 11,
   "metadata": {
    "vscode": {
     "languageId": "r"
    }
   },
   "outputs": [],
   "source": [
    "strategy_df <- exp_return_df %>% \n",
    "  filter(date >= start_date) %>% \n",
    "  group_by(date) %>% \n",
    "  mutate(expected_xs_return = expected_xs_return - mean(expected_xs_return, na.rm = TRUE)) %>% \n",
    "  ungroup() %>% \n",
    "  mutate(expected_return = expected_xs_return + expected_ts_return) %>% \n",
    "  select(date, ticker, expected_return) %>% \n",
    "  # join back onto df of prices for all tickers that were ever in the universe\n",
    "  # so that we have prices before and after a ticker comes into or out of the universe\n",
    "  # for backtesting purposes\n",
    "  right_join(\n",
    "    features %>% \n",
    "      filter(ticker %in% universe_tickers) %>% \n",
    "      select(date, ticker, close, total_fwd_return_simple, funding_rate), \n",
    "    by = c(\"date\", \"ticker\")\n",
    "  ) %>% \n",
    "  arrange(date, ticker) %>%\n",
    "  filter(date >= start_date)"
   ]
  },
  {
   "cell_type": "code",
   "execution_count": 12,
   "metadata": {
    "vscode": {
     "languageId": "r"
    }
   },
   "outputs": [],
   "source": [
    "# get same length exp returns vector for each date\n",
    "exp_returns_wide <- strategy_df %>% \n",
    "  select(ticker, date, expected_return) %>% \n",
    "  # will give NA where a ticker didn't exist\n",
    "  pivot_wider(id_cols = date, names_from = ticker, values_from = expected_return)"
   ]
  },
  {
   "attachments": {},
   "cell_type": "markdown",
   "metadata": {},
   "source": [
    "### Risk model \n",
    "\n",
    "Next, we need a risk model for each day in our simulation. \n",
    "\n",
    "We'll use an exponentially weighted covariance estimate - this puts more weight on recent data and less on the past and tends to remove the big jumps you get using a fixed window approach. See [here](https://robotwealth.com/an-expenonetially-weighted-covariance-matrix-in-r/) for more details on this approach. \n",
    "\n",
    "We'll also shrink our covariance matrix:\n",
    "- Off-diagonal elements (covariances) will be shrunk towards zero to reflect our uncertainty.\n",
    "- On-diagonal elements (variances) will be shrunk towards the average variance.\n",
    "\n",
    "First, make our exponentially weighted covariance estimates:"
   ]
  },
  {
   "cell_type": "code",
   "execution_count": 13,
   "metadata": {
    "vscode": {
     "languageId": "r"
    }
   },
   "outputs": [],
   "source": [
    "# EWMA covariance estimate\n",
    "# note definition of lambda in line with Risk Metrics\n",
    "# ie higher values of lambda put less weight on the most recent returns and more weight on historical returns.\n",
    "ewma_cov <- function(x, y, lambda, initialisation_wdw = 100) {\n",
    "  # check that x and y are the same length and greater than initialisation_wdw\n",
    "  stopifnot(\"x and y must be of equal length\" = length(x) == length(y))\n",
    "  if(length(x) <= initialisation_wdw) {\n",
    "    ewma_cov <- rep(NA, length(x))\n",
    "    return(ewma_cov)\n",
    "  }\n",
    "\n",
    "  # create initialisation window and estimation window\n",
    "  init_x = x[1:initialisation_wdw]\n",
    "  init_y = y[1:initialisation_wdw]\n",
    "\n",
    "  num_obs <- length(x)\n",
    "\n",
    "  # initial covariance and mean return estimates\n",
    "  old_cov <- cov(init_x, init_y)\n",
    "  old_x <- mean(init_x)\n",
    "  old_y <- mean(init_y)\n",
    "\n",
    "  # preallocate output vector\n",
    "  ewma_cov <- vector(mode = \"numeric\", length = num_obs)\n",
    "\n",
    "  # pad with NA for initialisation window\n",
    "  ewma_cov[1:initialisation_wdw] <- NA\n",
    "\n",
    "  # covariance estimate\n",
    "  for(i in c((initialisation_wdw+1):num_obs)) {\n",
    "    ewma_cov[i] <- lambda*old_cov + (1 - lambda)*(old_x * old_y)\n",
    "    old_cov <- ewma_cov[i]\n",
    "    old_x <- x[i]\n",
    "    old_y <- y[i]\n",
    "  }\n",
    "  ewma_cov\n",
    "}"
   ]
  },
  {
   "cell_type": "code",
   "execution_count": 14,
   "metadata": {
    "vscode": {
     "languageId": "r"
    }
   },
   "outputs": [
    {
     "data": {
      "text/html": [
       "<table class=\"dataframe\">\n",
       "<caption>A tibble: 6 × 5</caption>\n",
       "<thead>\n",
       "\t<tr><th scope=col>date</th><th scope=col>tickers</th><th scope=col>ewma_cov</th><th scope=col>ticker.x</th><th scope=col>ticker.y</th></tr>\n",
       "\t<tr><th scope=col>&lt;date&gt;</th><th scope=col>&lt;chr&gt;</th><th scope=col>&lt;dbl&gt;</th><th scope=col>&lt;chr&gt;</th><th scope=col>&lt;chr&gt;</th></tr>\n",
       "</thead>\n",
       "<tbody>\n",
       "\t<tr><td>2024-02-07</td><td>ZRXUSDT, ZRXUSDT</td><td>0.003337849</td><td>ZRXUSDT</td><td>ZRXUSDT</td></tr>\n",
       "\t<tr><td>2024-02-08</td><td>ZRXUSDT, ZRXUSDT</td><td>0.003321164</td><td>ZRXUSDT</td><td>ZRXUSDT</td></tr>\n",
       "\t<tr><td>2024-02-09</td><td>ZRXUSDT, ZRXUSDT</td><td>0.003306101</td><td>ZRXUSDT</td><td>ZRXUSDT</td></tr>\n",
       "\t<tr><td>2024-02-10</td><td>ZRXUSDT, ZRXUSDT</td><td>0.003290074</td><td>ZRXUSDT</td><td>ZRXUSDT</td></tr>\n",
       "\t<tr><td>2024-02-11</td><td>ZRXUSDT, ZRXUSDT</td><td>0.003274115</td><td>ZRXUSDT</td><td>ZRXUSDT</td></tr>\n",
       "\t<tr><td>2024-02-12</td><td>ZRXUSDT, ZRXUSDT</td><td>0.003259633</td><td>ZRXUSDT</td><td>ZRXUSDT</td></tr>\n",
       "</tbody>\n",
       "</table>\n"
      ],
      "text/latex": [
       "A tibble: 6 × 5\n",
       "\\begin{tabular}{lllll}\n",
       " date & tickers & ewma\\_cov & ticker.x & ticker.y\\\\\n",
       " <date> & <chr> & <dbl> & <chr> & <chr>\\\\\n",
       "\\hline\n",
       "\t 2024-02-07 & ZRXUSDT, ZRXUSDT & 0.003337849 & ZRXUSDT & ZRXUSDT\\\\\n",
       "\t 2024-02-08 & ZRXUSDT, ZRXUSDT & 0.003321164 & ZRXUSDT & ZRXUSDT\\\\\n",
       "\t 2024-02-09 & ZRXUSDT, ZRXUSDT & 0.003306101 & ZRXUSDT & ZRXUSDT\\\\\n",
       "\t 2024-02-10 & ZRXUSDT, ZRXUSDT & 0.003290074 & ZRXUSDT & ZRXUSDT\\\\\n",
       "\t 2024-02-11 & ZRXUSDT, ZRXUSDT & 0.003274115 & ZRXUSDT & ZRXUSDT\\\\\n",
       "\t 2024-02-12 & ZRXUSDT, ZRXUSDT & 0.003259633 & ZRXUSDT & ZRXUSDT\\\\\n",
       "\\end{tabular}\n"
      ],
      "text/markdown": [
       "\n",
       "A tibble: 6 × 5\n",
       "\n",
       "| date &lt;date&gt; | tickers &lt;chr&gt; | ewma_cov &lt;dbl&gt; | ticker.x &lt;chr&gt; | ticker.y &lt;chr&gt; |\n",
       "|---|---|---|---|---|\n",
       "| 2024-02-07 | ZRXUSDT, ZRXUSDT | 0.003337849 | ZRXUSDT | ZRXUSDT |\n",
       "| 2024-02-08 | ZRXUSDT, ZRXUSDT | 0.003321164 | ZRXUSDT | ZRXUSDT |\n",
       "| 2024-02-09 | ZRXUSDT, ZRXUSDT | 0.003306101 | ZRXUSDT | ZRXUSDT |\n",
       "| 2024-02-10 | ZRXUSDT, ZRXUSDT | 0.003290074 | ZRXUSDT | ZRXUSDT |\n",
       "| 2024-02-11 | ZRXUSDT, ZRXUSDT | 0.003274115 | ZRXUSDT | ZRXUSDT |\n",
       "| 2024-02-12 | ZRXUSDT, ZRXUSDT | 0.003259633 | ZRXUSDT | ZRXUSDT |\n",
       "\n"
      ],
      "text/plain": [
       "  date       tickers          ewma_cov    ticker.x ticker.y\n",
       "1 2024-02-07 ZRXUSDT, ZRXUSDT 0.003337849 ZRXUSDT  ZRXUSDT \n",
       "2 2024-02-08 ZRXUSDT, ZRXUSDT 0.003321164 ZRXUSDT  ZRXUSDT \n",
       "3 2024-02-09 ZRXUSDT, ZRXUSDT 0.003306101 ZRXUSDT  ZRXUSDT \n",
       "4 2024-02-10 ZRXUSDT, ZRXUSDT 0.003290074 ZRXUSDT  ZRXUSDT \n",
       "5 2024-02-11 ZRXUSDT, ZRXUSDT 0.003274115 ZRXUSDT  ZRXUSDT \n",
       "6 2024-02-12 ZRXUSDT, ZRXUSDT 0.003259633 ZRXUSDT  ZRXUSDT "
      ]
     },
     "metadata": {},
     "output_type": "display_data"
    }
   ],
   "source": [
    "cov_lambda <- 0.995\n",
    "wdw <- ew_cov_init_wdw\n",
    "\n",
    "returns <- features %>% \n",
    "  filter(ticker %in% universe_tickers) %>% \n",
    "  select(ticker, date, total_return_simple)\n",
    "\n",
    "# long dataframe of pairwise EW covariances\n",
    "ewma_covs <- returns %>%\n",
    "  full_join(returns, by = \"date\") %>%\n",
    "  na.omit() %>%\n",
    "  ungroup() %>%\n",
    "  # get all combinations (tickers) and remove duplicate combos (eg BTC-ETH, ETH-BTC)\n",
    "  mutate(tickers = ifelse(ticker.x < ticker.y, glue(\"{ticker.x}, {ticker.y}\"), glue(\"{ticker.y}, {ticker.x}\"))) %>%\n",
    "  distinct(date, tickers, .keep_all = TRUE) %>%\n",
    "  # calculate rolling pairwise ewma correlations\n",
    "  group_by(tickers) %>%\n",
    "  arrange(date, .by_group = TRUE) %>%\n",
    "  mutate(ewma_cov = ewma_cov(total_return_simple.x, total_return_simple.y, lambda = cov_lambda, initialisation_wdw = ew_cov_init_wdw)) %>%\n",
    "  select(date, tickers, ewma_cov, ticker.x, ticker.y) %>%\n",
    "  na.omit() %>% \n",
    "  ungroup()\n",
    "\n",
    "tail(ewma_covs)"
   ]
  },
  {
   "attachments": {},
   "cell_type": "markdown",
   "metadata": {},
   "source": [
    "Here's a plot of some covariance estimates for BTC and various coins:"
   ]
  },
  {
   "cell_type": "code",
   "execution_count": 15,
   "metadata": {
    "vscode": {
     "languageId": "r"
    }
   },
   "outputs": [
    {
     "data": {
      "image/png": "[encoded data removed]",
      "text/plain": [
       "plot without title"
      ]
     },
     "metadata": {
      "image/png": {
       "height": 420,
       "width": 840
      }
     },
     "output_type": "display_data"
    }
   ],
   "source": [
    "# plot pairwise rolling covariances\n",
    "ewma_covs %>%\n",
    "  filter(str_starts(tickers, \"BTCUSDT, S\")) %>%\n",
    "  ggplot(aes(x = date, y = ewma_cov, colour = tickers)) +\n",
    "    geom_line(size=0.8) +\n",
    "    labs(\n",
    "      title = \"Rolling Window Covariance Estimates\",\n",
    "      colour = \"Tickers\"\n",
    "    )"
   ]
  },
  {
   "attachments": {},
   "cell_type": "markdown",
   "metadata": {},
   "source": [
    "We'll also need some functions for extracting today's covariance matrix from our long dataframe of pairwise covariances, making sure it's symmetrical and positive semi definite, and shrinking its values.  \n",
    "\n",
    "I've also included a function `extend_covmat` that extends today's covariance matrix to include all the tickers that were ever in the universe. That's just to make the optimisation loop a little simpler - we can use consistent expected returns vectors and covariance matrixes at each iteration. For tickers not in the tradeable universe on a particular day, we set their:\n",
    "- expected return to NA\n",
    "- pairwise covariances to zero\n",
    "- variances to the average variance of tradeable assets\n",
    "\n",
    "We also explicitly constrain their weights to be zero in the optimisation. "
   ]
  },
  {
   "cell_type": "code",
   "execution_count": 16,
   "metadata": {
    "vscode": {
     "languageId": "r"
    }
   },
   "outputs": [
    {
     "name": "stderr",
     "output_type": "stream",
     "text": [
      "\n",
      "Attaching package: 'Matrix'\n",
      "\n",
      "\n",
      "The following objects are masked from 'package:tidyr':\n",
      "\n",
      "    expand, pack, unpack\n",
      "\n",
      "\n",
      "\n",
      "Attaching package: 'matrixcalc'\n",
      "\n",
      "\n",
      "The following object is masked from 'package:CVXR':\n",
      "\n",
      "    vec\n",
      "\n",
      "\n"
     ]
    }
   ],
   "source": [
    "# functions for wrangling covariance matrix\n",
    "library(Matrix) \n",
    "library(matrixcalc)\n",
    "\n",
    "get_today_covmat <- function(ewma_covs_long, today_date) {\n",
    "    today_cov_df <- ewma_covs_long %>%\n",
    "        ungroup() %>% \n",
    "        filter(date == today_date) %>% \n",
    "        select(ticker.x, ticker.y, ewma_cov) %>%\n",
    "        pivot_wider(names_from = ticker.y, values_from = ewma_cov) %>%  # , names_prefix = \"cov_\"\n",
    "        column_to_rownames(var = \"ticker.x\")\n",
    "    \n",
    "    # check rownames and colnames match\n",
    "    stopifnot(\"error making today's cov matrix\" = all.equal(rownames(today_cov_df), colnames(today_cov_df)))\n",
    "    today_covmat <- as.matrix(today_cov_df)\n",
    "    today_covmat[lower.tri(today_covmat)] <- t(today_covmat)[lower.tri(today_covmat)]\n",
    "    \n",
    "    # return nearest positive semi-definite matrix\n",
    "    today_covmat <- nearPD(today_covmat)\n",
    "    return(today_covmat$mat)\n",
    "}\n",
    "\n",
    "#' shrinks covs towards zero, reflecting uncertainty in cov estimates. may increases variances.\n",
    "#' @param shrinkage_intensity: a value between 0 and 1. 0 means no shrinkage (use the original covmat), 1 means full shrinkage (use only the target_matrix)\n",
    "shrink_covmat <- function(covmat, shrinkage_intensity = 0.9) {\n",
    "    # average variance from the diagonal \n",
    "    average_variance <- mean(diag(covmat))\n",
    "    # shrinkage target matrix (identity matrix scaled by average variance)\n",
    "    target_matrix <- diag(average_variance, nrow = ncol(covmat))\n",
    "    # shrunk covariance matrix\n",
    "    covmat_shrunk <- (1 - shrinkage_intensity) * covmat + shrinkage_intensity * target_matrix\n",
    "\n",
    "    return(covmat_shrunk)\n",
    "}\n",
    "\n",
    "#' extend covmat to cover all tickers in the tradeable universe\n",
    "#' put average variance on the diagonal, zeroes elsewhere\n",
    "#' intent is that optimisation will explicitly constrain weights for assets not yet in the universe to 0\n",
    "extend_covmat <- function(covmat, all_tickers) {\n",
    "    current_tickers <- colnames(covmat) \n",
    "    \n",
    "    full_covmat <- matrix(0, nrow = length(all_tickers), ncol = length(all_tickers),\n",
    "         dimnames = list(all_tickers, all_tickers))\n",
    "    \n",
    "    current_tickers_ordered <- intersect(all_tickers, rownames(covmat))\n",
    "\n",
    "    # ensure covmats are ordered correctly\n",
    "    covmat_reordered <- covmat[current_tickers_ordered, current_tickers_ordered] %>% \n",
    "      # ensure is Matrix type for compatibility\n",
    "      as.matrix()\n",
    "    full_covmat <- full_covmat[all_tickers, all_tickers]\n",
    "\n",
    "    # replace in full_covmat\n",
    "    full_covmat[current_tickers_ordered, current_tickers_ordered] <- covmat_reordered\n",
    "\n",
    "    # replace zeros on diagonal with average variance\n",
    "    zero_diag_indices <- which(diag(full_covmat) == 0)\n",
    "    average_variance <- mean(diag(covmat))\n",
    "    diag(full_covmat)[zero_diag_indices] <- average_variance\n",
    "    \n",
    "    return(full_covmat)\n",
    "}\n",
    "\n",
    "wrangle_covmat <- function(ewma_covs_long, date, tickers, shrinkage_intensity = 0.9) {\n",
    "    today_covmat <- get_today_covmat(ewma_covs_long, date) %>% \n",
    "      shrink_covmat(shrinkage_intensity = shrinkage_intensity) %>% \n",
    "      extend_covmat(all_tickers = tickers)\n",
    "\n",
    "    # check\n",
    "    if(is.positive.semi.definite(today_covmat, tol=1e-8)){\n",
    "        if(isSymmetric(today_covmat)) {\n",
    "            glue(\"covmat crated for {date} not symmetric\")\n",
    "        }\n",
    "    } else {\n",
    "        glue(\"covmat crated for {date} not PSD\")\n",
    "    }    \n",
    "    \n",
    "    return(today_covmat)\n",
    "}"
   ]
  },
  {
   "attachments": {},
   "cell_type": "markdown",
   "metadata": {},
   "source": [
    "Next we precompute our covariance estimates for each day in our simulation and store them in a list. This just saves a bit of time in the optimisation loop. "
   ]
  },
  {
   "cell_type": "code",
   "execution_count": 17,
   "metadata": {
    "vscode": {
     "languageId": "r"
    }
   },
   "outputs": [],
   "source": [
    "# precompute covariances matrixes \n",
    "simulation_start_date <- start_date + days(100)  # allow for first in-sample period - otherwise we run lots of simulation loops for zero weights\n",
    "exp_returns_sim_df <- exp_returns_wide %>% filter(date >= simulation_start_date)\n",
    "\n",
    "dates <- exp_returns_sim_df$date\n",
    "covmat_list <- map(dates, ~wrangle_covmat(ewma_covs, .x, tickers = universe_tickers, shrinkage_intensity = 0.9))"
   ]
  },
  {
   "attachments": {},
   "cell_type": "markdown",
   "metadata": {},
   "source": [
    "### Define optimisation function\n",
    "\n",
    "Next we define a function for finding our optimal weights at each time step. I'll use the mean-variance optimisation with costs. We explore this in more detail in [this article](https://robotwealth.com/building-intuition-for-trading-with-convex-optimisation-with-cvxr/).\n",
    "\n",
    "Notice that we constrain the portfolio to be unleveraged (max total weight less than or equal to 1), but we don't put a constraint on how *net* long or short the portfolio can be. That means that in the extreme, we could end up being fully long or fully short. Below, I'll show you an example of constraining the net position as well. \n",
    "\n",
    "We also pass `na_idxs` to tell the optimiser which assets in our expected returns vector are not in the tradeable universe and should therefore get a weight of zero. "
   ]
  },
  {
   "cell_type": "code",
   "execution_count": 18,
   "metadata": {
    "vscode": {
     "languageId": "r"
    }
   },
   "outputs": [],
   "source": [
    "# define our mvo function\n",
    "mvo_with_costs <- function(expected_returns, current_weights, na_idxs = c(), costs, covmat, lambda = 1, tau=1) {\n",
    "  # define our weights vector as a CVXR::Variable\n",
    "  weights <- Variable(length(expected_returns))\n",
    "  # define an alpha term as the weighted sum of expected returns\n",
    "    # again, express using linear algebra\n",
    "  alpha_term <- (t(weights) %*% expected_returns)\n",
    "  # define a costs term. depends on:\n",
    "    # cost of trading - needs to be expressed such that it scales with expected returns\n",
    "      # calculate as elementwise cost * absolute value of weights - current_weights\n",
    "      # use CVXR::multiply and CVXR::abs\n",
    "    # absolute distance of current_weights to our weights variable\n",
    "      # the more our target weights differ from current weights, the more it costs to trade\n",
    "      # this is a decent representation of fixed percentage costs, but doesn't capture minimum commissions\n",
    "    # sum_entries is a CVXR function for summing the elements of a vector\n",
    "  costs_term <- sum_entries(multiply(costs, abs(weights - current_weights))) # elementwise abs, multiply\n",
    "  # define a risk term as w*Sigma*w\n",
    "    # quad_form is a CVXR function for doing w*Sigma*w\n",
    "  risk_term <- quad_form(weights, covmat)\n",
    "  # define our objective\n",
    "    # maximise our alpha less our risk term multiplied by some factor, lambda, less our costs term multiplied by tau\n",
    "  objective <- Maximize(alpha_term - lambda*risk_term - tau*costs_term)\n",
    "  # apply our no leverage constraint\n",
    "  constraints <- list(cvxr_norm(weights, 1) <= 1, weights[na_idxs] == 0)\n",
    "  # specify the problem\n",
    "  problem <- Problem(objective, constraints)\n",
    "  # solve\n",
    "  result <- solve(problem)\n",
    "\n",
    "  # return the values of the variable we solved for\n",
    "  result$getValue(weights)\n",
    "}"
   ]
  },
  {
   "attachments": {},
   "cell_type": "markdown",
   "metadata": {},
   "source": [
    "### Explore lambda-tau parameter space\n",
    "\n",
    "Next we need to figure out some reasonable values for lambda (our risk aversion) and tau (our propensity to trade).  \n",
    "\n",
    "If you need a refresher on lambda and tau, see the previous article on [building intuition for optimisation](https://robotwealth.com/building-intuition-for-trading-with-convex-optimisation-with-cvxr/). The TLDR is:\n",
    "\n",
    "- Higher values of lambda will put more weight on the risk term and lead to higher diversification and eventually to reduced position sizes. \n",
    "- Higher values of tau will reduce our trading by requiring a greater expected return hurdle. \n",
    "\n",
    "We probably don't need to run the simulation over our entire history in order to find reasonable values of lambda and tau. So we'll just use 500 days to figure out our parameter values, then do a full simulation on that single parameter set. \n",
    "\n",
    "We'll loop over four values of lambda and five values of tau, for a total of 20 simulations over 500 days each. And we'll do these in parallel to speed things up.\n",
    "\n",
    "Here's how to set up a parallel backend and prepare each worker environment:"
   ]
  },
  {
   "cell_type": "code",
   "execution_count": 68,
   "metadata": {
    "vscode": {
     "languageId": "r"
    }
   },
   "outputs": [
    {
     "name": "stderr",
     "output_type": "stream",
     "text": [
      "Loading required package: foreach\n",
      "\n",
      "\n",
      "Attaching package: 'foreach'\n",
      "\n",
      "\n",
      "The following objects are masked from 'package:purrr':\n",
      "\n",
      "    accumulate, when\n",
      "\n",
      "\n",
      "Loading required package: iterators\n",
      "\n",
      "Loading required package: parallel\n",
      "\n"
     ]
    },
    {
     "data": {
      "text/html": [
       "<ol>\n",
       "\t<li><style>\n",
       ".list-inline {list-style: none; margin:0; padding: 0}\n",
       ".list-inline>li {display: inline-block}\n",
       ".list-inline>li:not(:last-child)::after {content: \"\\00b7\"; padding: 0 .5ex}\n",
       "</style>\n",
       "<ol class=list-inline><li>'glue'</li><li>'tidyr'</li><li>'dplyr'</li><li>'matrixcalc'</li><li>'Matrix'</li><li>'CVXR'</li><li>'stats'</li><li>'graphics'</li><li>'grDevices'</li><li>'utils'</li><li>'datasets'</li><li>'methods'</li><li>'base'</li></ol>\n",
       "</li>\n",
       "\t<li><style>\n",
       ".list-inline {list-style: none; margin:0; padding: 0}\n",
       ".list-inline>li {display: inline-block}\n",
       ".list-inline>li:not(:last-child)::after {content: \"\\00b7\"; padding: 0 .5ex}\n",
       "</style>\n",
       "<ol class=list-inline><li>'glue'</li><li>'tidyr'</li><li>'dplyr'</li><li>'matrixcalc'</li><li>'Matrix'</li><li>'CVXR'</li><li>'stats'</li><li>'graphics'</li><li>'grDevices'</li><li>'utils'</li><li>'datasets'</li><li>'methods'</li><li>'base'</li></ol>\n",
       "</li>\n",
       "\t<li><style>\n",
       ".list-inline {list-style: none; margin:0; padding: 0}\n",
       ".list-inline>li {display: inline-block}\n",
       ".list-inline>li:not(:last-child)::after {content: \"\\00b7\"; padding: 0 .5ex}\n",
       "</style>\n",
       "<ol class=list-inline><li>'glue'</li><li>'tidyr'</li><li>'dplyr'</li><li>'matrixcalc'</li><li>'Matrix'</li><li>'CVXR'</li><li>'stats'</li><li>'graphics'</li><li>'grDevices'</li><li>'utils'</li><li>'datasets'</li><li>'methods'</li><li>'base'</li></ol>\n",
       "</li>\n",
       "\t<li><style>\n",
       ".list-inline {list-style: none; margin:0; padding: 0}\n",
       ".list-inline>li {display: inline-block}\n",
       ".list-inline>li:not(:last-child)::after {content: \"\\00b7\"; padding: 0 .5ex}\n",
       "</style>\n",
       "<ol class=list-inline><li>'glue'</li><li>'tidyr'</li><li>'dplyr'</li><li>'matrixcalc'</li><li>'Matrix'</li><li>'CVXR'</li><li>'stats'</li><li>'graphics'</li><li>'grDevices'</li><li>'utils'</li><li>'datasets'</li><li>'methods'</li><li>'base'</li></ol>\n",
       "</li>\n",
       "\t<li><style>\n",
       ".list-inline {list-style: none; margin:0; padding: 0}\n",
       ".list-inline>li {display: inline-block}\n",
       ".list-inline>li:not(:last-child)::after {content: \"\\00b7\"; padding: 0 .5ex}\n",
       "</style>\n",
       "<ol class=list-inline><li>'glue'</li><li>'tidyr'</li><li>'dplyr'</li><li>'matrixcalc'</li><li>'Matrix'</li><li>'CVXR'</li><li>'stats'</li><li>'graphics'</li><li>'grDevices'</li><li>'utils'</li><li>'datasets'</li><li>'methods'</li><li>'base'</li></ol>\n",
       "</li>\n",
       "\t<li><style>\n",
       ".list-inline {list-style: none; margin:0; padding: 0}\n",
       ".list-inline>li {display: inline-block}\n",
       ".list-inline>li:not(:last-child)::after {content: \"\\00b7\"; padding: 0 .5ex}\n",
       "</style>\n",
       "<ol class=list-inline><li>'glue'</li><li>'tidyr'</li><li>'dplyr'</li><li>'matrixcalc'</li><li>'Matrix'</li><li>'CVXR'</li><li>'stats'</li><li>'graphics'</li><li>'grDevices'</li><li>'utils'</li><li>'datasets'</li><li>'methods'</li><li>'base'</li></ol>\n",
       "</li>\n",
       "\t<li><style>\n",
       ".list-inline {list-style: none; margin:0; padding: 0}\n",
       ".list-inline>li {display: inline-block}\n",
       ".list-inline>li:not(:last-child)::after {content: \"\\00b7\"; padding: 0 .5ex}\n",
       "</style>\n",
       "<ol class=list-inline><li>'glue'</li><li>'tidyr'</li><li>'dplyr'</li><li>'matrixcalc'</li><li>'Matrix'</li><li>'CVXR'</li><li>'stats'</li><li>'graphics'</li><li>'grDevices'</li><li>'utils'</li><li>'datasets'</li><li>'methods'</li><li>'base'</li></ol>\n",
       "</li>\n",
       "</ol>\n"
      ],
      "text/latex": [
       "\\begin{enumerate}\n",
       "\\item \\begin{enumerate*}\n",
       "\\item 'glue'\n",
       "\\item 'tidyr'\n",
       "\\item 'dplyr'\n",
       "\\item 'matrixcalc'\n",
       "\\item 'Matrix'\n",
       "\\item 'CVXR'\n",
       "\\item 'stats'\n",
       "\\item 'graphics'\n",
       "\\item 'grDevices'\n",
       "\\item 'utils'\n",
       "\\item 'datasets'\n",
       "\\item 'methods'\n",
       "\\item 'base'\n",
       "\\end{enumerate*}\n",
       "\n",
       "\\item \\begin{enumerate*}\n",
       "\\item 'glue'\n",
       "\\item 'tidyr'\n",
       "\\item 'dplyr'\n",
       "\\item 'matrixcalc'\n",
       "\\item 'Matrix'\n",
       "\\item 'CVXR'\n",
       "\\item 'stats'\n",
       "\\item 'graphics'\n",
       "\\item 'grDevices'\n",
       "\\item 'utils'\n",
       "\\item 'datasets'\n",
       "\\item 'methods'\n",
       "\\item 'base'\n",
       "\\end{enumerate*}\n",
       "\n",
       "\\item \\begin{enumerate*}\n",
       "\\item 'glue'\n",
       "\\item 'tidyr'\n",
       "\\item 'dplyr'\n",
       "\\item 'matrixcalc'\n",
       "\\item 'Matrix'\n",
       "\\item 'CVXR'\n",
       "\\item 'stats'\n",
       "\\item 'graphics'\n",
       "\\item 'grDevices'\n",
       "\\item 'utils'\n",
       "\\item 'datasets'\n",
       "\\item 'methods'\n",
       "\\item 'base'\n",
       "\\end{enumerate*}\n",
       "\n",
       "\\item \\begin{enumerate*}\n",
       "\\item 'glue'\n",
       "\\item 'tidyr'\n",
       "\\item 'dplyr'\n",
       "\\item 'matrixcalc'\n",
       "\\item 'Matrix'\n",
       "\\item 'CVXR'\n",
       "\\item 'stats'\n",
       "\\item 'graphics'\n",
       "\\item 'grDevices'\n",
       "\\item 'utils'\n",
       "\\item 'datasets'\n",
       "\\item 'methods'\n",
       "\\item 'base'\n",
       "\\end{enumerate*}\n",
       "\n",
       "\\item \\begin{enumerate*}\n",
       "\\item 'glue'\n",
       "\\item 'tidyr'\n",
       "\\item 'dplyr'\n",
       "\\item 'matrixcalc'\n",
       "\\item 'Matrix'\n",
       "\\item 'CVXR'\n",
       "\\item 'stats'\n",
       "\\item 'graphics'\n",
       "\\item 'grDevices'\n",
       "\\item 'utils'\n",
       "\\item 'datasets'\n",
       "\\item 'methods'\n",
       "\\item 'base'\n",
       "\\end{enumerate*}\n",
       "\n",
       "\\item \\begin{enumerate*}\n",
       "\\item 'glue'\n",
       "\\item 'tidyr'\n",
       "\\item 'dplyr'\n",
       "\\item 'matrixcalc'\n",
       "\\item 'Matrix'\n",
       "\\item 'CVXR'\n",
       "\\item 'stats'\n",
       "\\item 'graphics'\n",
       "\\item 'grDevices'\n",
       "\\item 'utils'\n",
       "\\item 'datasets'\n",
       "\\item 'methods'\n",
       "\\item 'base'\n",
       "\\end{enumerate*}\n",
       "\n",
       "\\item \\begin{enumerate*}\n",
       "\\item 'glue'\n",
       "\\item 'tidyr'\n",
       "\\item 'dplyr'\n",
       "\\item 'matrixcalc'\n",
       "\\item 'Matrix'\n",
       "\\item 'CVXR'\n",
       "\\item 'stats'\n",
       "\\item 'graphics'\n",
       "\\item 'grDevices'\n",
       "\\item 'utils'\n",
       "\\item 'datasets'\n",
       "\\item 'methods'\n",
       "\\item 'base'\n",
       "\\end{enumerate*}\n",
       "\n",
       "\\end{enumerate}\n"
      ],
      "text/markdown": [
       "1. 1. 'glue'\n",
       "2. 'tidyr'\n",
       "3. 'dplyr'\n",
       "4. 'matrixcalc'\n",
       "5. 'Matrix'\n",
       "6. 'CVXR'\n",
       "7. 'stats'\n",
       "8. 'graphics'\n",
       "9. 'grDevices'\n",
       "10. 'utils'\n",
       "11. 'datasets'\n",
       "12. 'methods'\n",
       "13. 'base'\n",
       "\n",
       "\n",
       "\n",
       "2. 1. 'glue'\n",
       "2. 'tidyr'\n",
       "3. 'dplyr'\n",
       "4. 'matrixcalc'\n",
       "5. 'Matrix'\n",
       "6. 'CVXR'\n",
       "7. 'stats'\n",
       "8. 'graphics'\n",
       "9. 'grDevices'\n",
       "10. 'utils'\n",
       "11. 'datasets'\n",
       "12. 'methods'\n",
       "13. 'base'\n",
       "\n",
       "\n",
       "\n",
       "3. 1. 'glue'\n",
       "2. 'tidyr'\n",
       "3. 'dplyr'\n",
       "4. 'matrixcalc'\n",
       "5. 'Matrix'\n",
       "6. 'CVXR'\n",
       "7. 'stats'\n",
       "8. 'graphics'\n",
       "9. 'grDevices'\n",
       "10. 'utils'\n",
       "11. 'datasets'\n",
       "12. 'methods'\n",
       "13. 'base'\n",
       "\n",
       "\n",
       "\n",
       "4. 1. 'glue'\n",
       "2. 'tidyr'\n",
       "3. 'dplyr'\n",
       "4. 'matrixcalc'\n",
       "5. 'Matrix'\n",
       "6. 'CVXR'\n",
       "7. 'stats'\n",
       "8. 'graphics'\n",
       "9. 'grDevices'\n",
       "10. 'utils'\n",
       "11. 'datasets'\n",
       "12. 'methods'\n",
       "13. 'base'\n",
       "\n",
       "\n",
       "\n",
       "5. 1. 'glue'\n",
       "2. 'tidyr'\n",
       "3. 'dplyr'\n",
       "4. 'matrixcalc'\n",
       "5. 'Matrix'\n",
       "6. 'CVXR'\n",
       "7. 'stats'\n",
       "8. 'graphics'\n",
       "9. 'grDevices'\n",
       "10. 'utils'\n",
       "11. 'datasets'\n",
       "12. 'methods'\n",
       "13. 'base'\n",
       "\n",
       "\n",
       "\n",
       "6. 1. 'glue'\n",
       "2. 'tidyr'\n",
       "3. 'dplyr'\n",
       "4. 'matrixcalc'\n",
       "5. 'Matrix'\n",
       "6. 'CVXR'\n",
       "7. 'stats'\n",
       "8. 'graphics'\n",
       "9. 'grDevices'\n",
       "10. 'utils'\n",
       "11. 'datasets'\n",
       "12. 'methods'\n",
       "13. 'base'\n",
       "\n",
       "\n",
       "\n",
       "7. 1. 'glue'\n",
       "2. 'tidyr'\n",
       "3. 'dplyr'\n",
       "4. 'matrixcalc'\n",
       "5. 'Matrix'\n",
       "6. 'CVXR'\n",
       "7. 'stats'\n",
       "8. 'graphics'\n",
       "9. 'grDevices'\n",
       "10. 'utils'\n",
       "11. 'datasets'\n",
       "12. 'methods'\n",
       "13. 'base'\n",
       "\n",
       "\n",
       "\n",
       "\n",
       "\n"
      ],
      "text/plain": [
       "[[1]]\n",
       " [1] \"glue\"       \"tidyr\"      \"dplyr\"      \"matrixcalc\" \"Matrix\"    \n",
       " [6] \"CVXR\"       \"stats\"      \"graphics\"   \"grDevices\"  \"utils\"     \n",
       "[11] \"datasets\"   \"methods\"    \"base\"      \n",
       "\n",
       "[[2]]\n",
       " [1] \"glue\"       \"tidyr\"      \"dplyr\"      \"matrixcalc\" \"Matrix\"    \n",
       " [6] \"CVXR\"       \"stats\"      \"graphics\"   \"grDevices\"  \"utils\"     \n",
       "[11] \"datasets\"   \"methods\"    \"base\"      \n",
       "\n",
       "[[3]]\n",
       " [1] \"glue\"       \"tidyr\"      \"dplyr\"      \"matrixcalc\" \"Matrix\"    \n",
       " [6] \"CVXR\"       \"stats\"      \"graphics\"   \"grDevices\"  \"utils\"     \n",
       "[11] \"datasets\"   \"methods\"    \"base\"      \n",
       "\n",
       "[[4]]\n",
       " [1] \"glue\"       \"tidyr\"      \"dplyr\"      \"matrixcalc\" \"Matrix\"    \n",
       " [6] \"CVXR\"       \"stats\"      \"graphics\"   \"grDevices\"  \"utils\"     \n",
       "[11] \"datasets\"   \"methods\"    \"base\"      \n",
       "\n",
       "[[5]]\n",
       " [1] \"glue\"       \"tidyr\"      \"dplyr\"      \"matrixcalc\" \"Matrix\"    \n",
       " [6] \"CVXR\"       \"stats\"      \"graphics\"   \"grDevices\"  \"utils\"     \n",
       "[11] \"datasets\"   \"methods\"    \"base\"      \n",
       "\n",
       "[[6]]\n",
       " [1] \"glue\"       \"tidyr\"      \"dplyr\"      \"matrixcalc\" \"Matrix\"    \n",
       " [6] \"CVXR\"       \"stats\"      \"graphics\"   \"grDevices\"  \"utils\"     \n",
       "[11] \"datasets\"   \"methods\"    \"base\"      \n",
       "\n",
       "[[7]]\n",
       " [1] \"glue\"       \"tidyr\"      \"dplyr\"      \"matrixcalc\" \"Matrix\"    \n",
       " [6] \"CVXR\"       \"stats\"      \"graphics\"   \"grDevices\"  \"utils\"     \n",
       "[11] \"datasets\"   \"methods\"    \"base\"      \n"
      ]
     },
     "metadata": {},
     "output_type": "display_data"
    }
   ],
   "source": [
    "library(doParallel)\n",
    "library(foreach)\n",
    "\n",
    "# register parallel backend\n",
    "num_cores <- detectCores() - 1  # leave one core free\n",
    "cl <- makeCluster(num_cores)\n",
    "registerDoParallel(cl)\n",
    "\n",
    "# use clusterEvalQ to define functions and objects available to each worker\n",
    "clusterExport(\n",
    "  cl, \n",
    "  varlist = c(\"get_today_covmat\", \"shrink_covmat\", \"extend_covmat\", \"wrangle_covmat\", \"mvo_with_costs\", \"universe_tickers\", \"exp_returns_sim_df\", \"covmat_list\")\n",
    ")\n",
    "\n",
    "# load libraries in each worker\n",
    "clusterEvalQ(cl, {\n",
    "  library(CVXR); library(Matrix); library(matrixcalc); library(dplyr); library(tidyr); library(glue)\n",
    "})"
   ]
  },
  {
   "attachments": {},
   "cell_type": "markdown",
   "metadata": {},
   "source": [
    "Next, define our parameters for the simulations:"
   ]
  },
  {
   "cell_type": "code",
   "execution_count": 19,
   "metadata": {
    "vscode": {
     "languageId": "r"
    }
   },
   "outputs": [],
   "source": [
    "num_days <- nrow(exp_returns_wide)\n",
    "lambdas <- c(0.1, 0.3, 1, 3)\n",
    "taus <- c(0.003, 0.1, 0.3, 1, 3)\n",
    "date_idxs_to_do <- c(1:500)\n",
    "costs <- 0.15/100"
   ]
  },
  {
   "attachments": {},
   "cell_type": "markdown",
   "metadata": {},
   "source": [
    "Finally, we can do our 500-day simulations for each combination of lambda and tau in parallel. This still takes a while to complete, so we'll save the results to disk:"
   ]
  },
  {
   "cell_type": "code",
   "execution_count": 70,
   "metadata": {
    "vscode": {
     "languageId": "r"
    }
   },
   "outputs": [],
   "source": [
    "# custom combine function for flattening results of foreach to one big list\n",
    "# ensures that each result from the inner loop is appended to the main list, rather than nesting it further \n",
    "# results in a flat structure where each element is a list corresponding to an iteration over lambda and tau without deep nesting\n",
    "# requres .init arg of foreach to be list() - initialises an empty list for storing the results\n",
    "flatten_lists <- function(x, y) {\n",
    "  c(x, y)\n",
    "}\n",
    "\n",
    "results <- foreach(lambda = lambdas, .combine = 'flatten_lists', .init = list()) %:%   # \n",
    "  foreach(tau = taus, .combine = 'flatten_lists', .init = list()) %dopar% {\n",
    "   \n",
    "   weights <- list()\n",
    "   errors <- list()\n",
    "   w0 <- rep(0, length(universe_tickers))\n",
    "   for( i in date_idxs_to_do ) {\n",
    "      # today's date\n",
    "      d = exp_returns_sim_df$date[i]\n",
    "\n",
    "      # cov estimate\n",
    "      today_covmat <- covmat_list[[i]]\n",
    "\n",
    "      # check cov matrix and exp returns vector are ticker-aligned\n",
    "      # all.equal(exp_returns_sim_df %>% filter(date == d) %>% pivot_longer(-date, names_to = \"ticker\", values_to = \"expected_return\")%>% arrange(match(ticker, universe_tickers)) %>% pull(ticker), colnames(today_covmat))\n",
    "      \n",
    "      # get row of expected returns as a vector in the same order as the columns of the covariance matrix\n",
    "      # contains NA at this point\n",
    "      exp_rets <- exp_returns_sim_df %>% filter(date == d) %>% pivot_longer(-date, names_to = \"ticker\", values_to = \"expected_return\")%>% arrange(match(ticker, universe_tickers)) %>% pull(expected_return)\n",
    "      \n",
    "      # get na indexes\n",
    "      # we'll explicitly constrain these to get zero weight\n",
    "      na_idxs <- which(is.na(exp_rets))\n",
    "      # convert NA to zero\n",
    "      exp_rets[is.na(exp_rets)] <- 0\n",
    "      \n",
    "      # initialise w in case we get a solver error (can retain w0 in these cases)\n",
    "      w <- w0\n",
    "      \n",
    "      # solve for next period's weights\n",
    "      tryCatch({\n",
    "         w <- mvo_with_costs(expected_returns = exp_rets, current_weights = w0, na_idxs = na_idxs, costs = costs, covmat = today_covmat, lambda = lambda, tau = tau)\n",
    "      }, error = function(e) {\n",
    "            # in case of solver error, log and retain existing weights\n",
    "            errors[[i]] <- e\n",
    "         }\n",
    "      )\n",
    "      \n",
    "      # store weights\n",
    "      # w is a one-column matrix\n",
    "      weights[[i]] <- w\n",
    "      w0 <- w \n",
    "    }\n",
    "    # return a list with weights, parameters, and any errors\n",
    "    list(list(weights = weights, lambda = lambda, tau = tau, errors = errors))\n",
    "}\n",
    "  \n",
    "stopCluster(cl)\n",
    "\n",
    "# save to disk\n",
    "saveRDS(results, file = \"lambda_tau_search_results_1_500.rds\")"
   ]
  },
  {
   "cell_type": "code",
   "execution_count": 21,
   "metadata": {
    "vscode": {
     "languageId": "r"
    }
   },
   "outputs": [],
   "source": [
    "# read results from disk\n",
    "# results <- readRDS(\"lambda_tau_search_results_1_500.rds\")"
   ]
  },
  {
   "attachments": {},
   "cell_type": "markdown",
   "metadata": {},
   "source": [
    "### Wrangle simulation results\n",
    "\n",
    "Our simulation results are a list of lists - one sublist for each lambda-tau combination. Each sublist contains 500 weights vectors (one for each day in the simulation), the values of lambda and tau, and a list of solver errors, if any occurred. \n",
    "\n",
    "We can make one big dataframe of weights for each lambda-tau combination using the awesome `purrr` tools:"
   ]
  },
  {
   "cell_type": "code",
   "execution_count": 22,
   "metadata": {
    "vscode": {
     "languageId": "r"
    }
   },
   "outputs": [
    {
     "data": {
      "text/html": [
       "<table class=\"dataframe\">\n",
       "<caption>A tibble: 6 × 22</caption>\n",
       "<thead>\n",
       "\t<tr><th scope=col>date</th><th scope=col>ticker</th><th scope=col>lambda_0.1_tau_0.003</th><th scope=col>lambda_0.1_tau_0.1</th><th scope=col>lambda_0.1_tau_0.3</th><th scope=col>lambda_0.1_tau_1</th><th scope=col>lambda_0.1_tau_3</th><th scope=col>lambda_0.3_tau_0.003</th><th scope=col>lambda_0.3_tau_0.1</th><th scope=col>lambda_0.3_tau_0.3</th><th scope=col>⋯</th><th scope=col>lambda_1_tau_0.003</th><th scope=col>lambda_1_tau_0.1</th><th scope=col>lambda_1_tau_0.3</th><th scope=col>lambda_1_tau_1</th><th scope=col>lambda_1_tau_3</th><th scope=col>lambda_3_tau_0.003</th><th scope=col>lambda_3_tau_0.1</th><th scope=col>lambda_3_tau_0.3</th><th scope=col>lambda_3_tau_1</th><th scope=col>lambda_3_tau_3</th></tr>\n",
       "\t<tr><th scope=col>&lt;date&gt;</th><th scope=col>&lt;chr&gt;</th><th scope=col>&lt;dbl&gt;</th><th scope=col>&lt;dbl&gt;</th><th scope=col>&lt;dbl&gt;</th><th scope=col>&lt;dbl&gt;</th><th scope=col>&lt;dbl&gt;</th><th scope=col>&lt;dbl&gt;</th><th scope=col>&lt;dbl&gt;</th><th scope=col>&lt;dbl&gt;</th><th scope=col>⋯</th><th scope=col>&lt;dbl&gt;</th><th scope=col>&lt;dbl&gt;</th><th scope=col>&lt;dbl&gt;</th><th scope=col>&lt;dbl&gt;</th><th scope=col>&lt;dbl&gt;</th><th scope=col>&lt;dbl&gt;</th><th scope=col>&lt;dbl&gt;</th><th scope=col>&lt;dbl&gt;</th><th scope=col>&lt;dbl&gt;</th><th scope=col>&lt;dbl&gt;</th></tr>\n",
       "</thead>\n",
       "<tbody>\n",
       "\t<tr><td>2020-11-10</td><td>BTCUSDT</td><td>0</td><td>0</td><td>0</td><td>0</td><td>0</td><td>0</td><td>0</td><td>0</td><td>⋯</td><td>0</td><td>0</td><td>0</td><td>0</td><td>0</td><td>0</td><td>0</td><td>0</td><td>0</td><td>0</td></tr>\n",
       "\t<tr><td>2020-11-10</td><td>ETHUSDT</td><td>0</td><td>0</td><td>0</td><td>0</td><td>0</td><td>0</td><td>0</td><td>0</td><td>⋯</td><td>0</td><td>0</td><td>0</td><td>0</td><td>0</td><td>0</td><td>0</td><td>0</td><td>0</td><td>0</td></tr>\n",
       "\t<tr><td>2020-11-10</td><td>BCHUSDT</td><td>0</td><td>0</td><td>0</td><td>0</td><td>0</td><td>0</td><td>0</td><td>0</td><td>⋯</td><td>0</td><td>0</td><td>0</td><td>0</td><td>0</td><td>0</td><td>0</td><td>0</td><td>0</td><td>0</td></tr>\n",
       "\t<tr><td>2020-11-10</td><td>XRPUSDT</td><td>0</td><td>0</td><td>0</td><td>0</td><td>0</td><td>0</td><td>0</td><td>0</td><td>⋯</td><td>0</td><td>0</td><td>0</td><td>0</td><td>0</td><td>0</td><td>0</td><td>0</td><td>0</td><td>0</td></tr>\n",
       "\t<tr><td>2020-11-10</td><td>EOSUSDT</td><td>0</td><td>0</td><td>0</td><td>0</td><td>0</td><td>0</td><td>0</td><td>0</td><td>⋯</td><td>0</td><td>0</td><td>0</td><td>0</td><td>0</td><td>0</td><td>0</td><td>0</td><td>0</td><td>0</td></tr>\n",
       "\t<tr><td>2020-11-10</td><td>LTCUSDT</td><td>0</td><td>0</td><td>0</td><td>0</td><td>0</td><td>0</td><td>0</td><td>0</td><td>⋯</td><td>0</td><td>0</td><td>0</td><td>0</td><td>0</td><td>0</td><td>0</td><td>0</td><td>0</td><td>0</td></tr>\n",
       "</tbody>\n",
       "</table>\n"
      ],
      "text/latex": [
       "A tibble: 6 × 22\n",
       "\\begin{tabular}{lllllllllllllllllllll}\n",
       " date & ticker & lambda\\_0.1\\_tau\\_0.003 & lambda\\_0.1\\_tau\\_0.1 & lambda\\_0.1\\_tau\\_0.3 & lambda\\_0.1\\_tau\\_1 & lambda\\_0.1\\_tau\\_3 & lambda\\_0.3\\_tau\\_0.003 & lambda\\_0.3\\_tau\\_0.1 & lambda\\_0.3\\_tau\\_0.3 & ⋯ & lambda\\_1\\_tau\\_0.003 & lambda\\_1\\_tau\\_0.1 & lambda\\_1\\_tau\\_0.3 & lambda\\_1\\_tau\\_1 & lambda\\_1\\_tau\\_3 & lambda\\_3\\_tau\\_0.003 & lambda\\_3\\_tau\\_0.1 & lambda\\_3\\_tau\\_0.3 & lambda\\_3\\_tau\\_1 & lambda\\_3\\_tau\\_3\\\\\n",
       " <date> & <chr> & <dbl> & <dbl> & <dbl> & <dbl> & <dbl> & <dbl> & <dbl> & <dbl> & ⋯ & <dbl> & <dbl> & <dbl> & <dbl> & <dbl> & <dbl> & <dbl> & <dbl> & <dbl> & <dbl>\\\\\n",
       "\\hline\n",
       "\t 2020-11-10 & BTCUSDT & 0 & 0 & 0 & 0 & 0 & 0 & 0 & 0 & ⋯ & 0 & 0 & 0 & 0 & 0 & 0 & 0 & 0 & 0 & 0\\\\\n",
       "\t 2020-11-10 & ETHUSDT & 0 & 0 & 0 & 0 & 0 & 0 & 0 & 0 & ⋯ & 0 & 0 & 0 & 0 & 0 & 0 & 0 & 0 & 0 & 0\\\\\n",
       "\t 2020-11-10 & BCHUSDT & 0 & 0 & 0 & 0 & 0 & 0 & 0 & 0 & ⋯ & 0 & 0 & 0 & 0 & 0 & 0 & 0 & 0 & 0 & 0\\\\\n",
       "\t 2020-11-10 & XRPUSDT & 0 & 0 & 0 & 0 & 0 & 0 & 0 & 0 & ⋯ & 0 & 0 & 0 & 0 & 0 & 0 & 0 & 0 & 0 & 0\\\\\n",
       "\t 2020-11-10 & EOSUSDT & 0 & 0 & 0 & 0 & 0 & 0 & 0 & 0 & ⋯ & 0 & 0 & 0 & 0 & 0 & 0 & 0 & 0 & 0 & 0\\\\\n",
       "\t 2020-11-10 & LTCUSDT & 0 & 0 & 0 & 0 & 0 & 0 & 0 & 0 & ⋯ & 0 & 0 & 0 & 0 & 0 & 0 & 0 & 0 & 0 & 0\\\\\n",
       "\\end{tabular}\n"
      ],
      "text/markdown": [
       "\n",
       "A tibble: 6 × 22\n",
       "\n",
       "| date &lt;date&gt; | ticker &lt;chr&gt; | lambda_0.1_tau_0.003 &lt;dbl&gt; | lambda_0.1_tau_0.1 &lt;dbl&gt; | lambda_0.1_tau_0.3 &lt;dbl&gt; | lambda_0.1_tau_1 &lt;dbl&gt; | lambda_0.1_tau_3 &lt;dbl&gt; | lambda_0.3_tau_0.003 &lt;dbl&gt; | lambda_0.3_tau_0.1 &lt;dbl&gt; | lambda_0.3_tau_0.3 &lt;dbl&gt; | ⋯ ⋯ | lambda_1_tau_0.003 &lt;dbl&gt; | lambda_1_tau_0.1 &lt;dbl&gt; | lambda_1_tau_0.3 &lt;dbl&gt; | lambda_1_tau_1 &lt;dbl&gt; | lambda_1_tau_3 &lt;dbl&gt; | lambda_3_tau_0.003 &lt;dbl&gt; | lambda_3_tau_0.1 &lt;dbl&gt; | lambda_3_tau_0.3 &lt;dbl&gt; | lambda_3_tau_1 &lt;dbl&gt; | lambda_3_tau_3 &lt;dbl&gt; |\n",
       "|---|---|---|---|---|---|---|---|---|---|---|---|---|---|---|---|---|---|---|---|---|\n",
       "| 2020-11-10 | BTCUSDT | 0 | 0 | 0 | 0 | 0 | 0 | 0 | 0 | ⋯ | 0 | 0 | 0 | 0 | 0 | 0 | 0 | 0 | 0 | 0 |\n",
       "| 2020-11-10 | ETHUSDT | 0 | 0 | 0 | 0 | 0 | 0 | 0 | 0 | ⋯ | 0 | 0 | 0 | 0 | 0 | 0 | 0 | 0 | 0 | 0 |\n",
       "| 2020-11-10 | BCHUSDT | 0 | 0 | 0 | 0 | 0 | 0 | 0 | 0 | ⋯ | 0 | 0 | 0 | 0 | 0 | 0 | 0 | 0 | 0 | 0 |\n",
       "| 2020-11-10 | XRPUSDT | 0 | 0 | 0 | 0 | 0 | 0 | 0 | 0 | ⋯ | 0 | 0 | 0 | 0 | 0 | 0 | 0 | 0 | 0 | 0 |\n",
       "| 2020-11-10 | EOSUSDT | 0 | 0 | 0 | 0 | 0 | 0 | 0 | 0 | ⋯ | 0 | 0 | 0 | 0 | 0 | 0 | 0 | 0 | 0 | 0 |\n",
       "| 2020-11-10 | LTCUSDT | 0 | 0 | 0 | 0 | 0 | 0 | 0 | 0 | ⋯ | 0 | 0 | 0 | 0 | 0 | 0 | 0 | 0 | 0 | 0 |\n",
       "\n"
      ],
      "text/plain": [
       "  date       ticker  lambda_0.1_tau_0.003 lambda_0.1_tau_0.1 lambda_0.1_tau_0.3\n",
       "1 2020-11-10 BTCUSDT 0                    0                  0                 \n",
       "2 2020-11-10 ETHUSDT 0                    0                  0                 \n",
       "3 2020-11-10 BCHUSDT 0                    0                  0                 \n",
       "4 2020-11-10 XRPUSDT 0                    0                  0                 \n",
       "5 2020-11-10 EOSUSDT 0                    0                  0                 \n",
       "6 2020-11-10 LTCUSDT 0                    0                  0                 \n",
       "  lambda_0.1_tau_1 lambda_0.1_tau_3 lambda_0.3_tau_0.003 lambda_0.3_tau_0.1\n",
       "1 0                0                0                    0                 \n",
       "2 0                0                0                    0                 \n",
       "3 0                0                0                    0                 \n",
       "4 0                0                0                    0                 \n",
       "5 0                0                0                    0                 \n",
       "6 0                0                0                    0                 \n",
       "  lambda_0.3_tau_0.3 ⋯ lambda_1_tau_0.003 lambda_1_tau_0.1 lambda_1_tau_0.3\n",
       "1 0                  ⋯ 0                  0                0               \n",
       "2 0                  ⋯ 0                  0                0               \n",
       "3 0                  ⋯ 0                  0                0               \n",
       "4 0                  ⋯ 0                  0                0               \n",
       "5 0                  ⋯ 0                  0                0               \n",
       "6 0                  ⋯ 0                  0                0               \n",
       "  lambda_1_tau_1 lambda_1_tau_3 lambda_3_tau_0.003 lambda_3_tau_0.1\n",
       "1 0              0              0                  0               \n",
       "2 0              0              0                  0               \n",
       "3 0              0              0                  0               \n",
       "4 0              0              0                  0               \n",
       "5 0              0              0                  0               \n",
       "6 0              0              0                  0               \n",
       "  lambda_3_tau_0.3 lambda_3_tau_1 lambda_3_tau_3\n",
       "1 0                0              0             \n",
       "2 0                0              0             \n",
       "3 0                0              0             \n",
       "4 0                0              0             \n",
       "5 0                0              0             \n",
       "6 0                0              0             "
      ]
     },
     "metadata": {},
     "output_type": "display_data"
    }
   ],
   "source": [
    "# function for converting a day's weights vector to a dataframe\n",
    "weights_mat_to_df <- function(x, d, lambda, tau, tickers) {\n",
    "  x %>% \n",
    "    as_tibble(.name_repair = ~paste0(\"lambda_\",lambda,\"_tau_\",tau)) %>% \n",
    "    mutate(date = d) %>%\n",
    "    mutate(ticker = tickers)\n",
    "}\n",
    "\n",
    "# make one dataframe of weights for each lambda-tau combination\n",
    "weights_dfs <- list()\n",
    "for(i in seq_along(results)) {\n",
    "  this_entry <- results[[i]]\n",
    "  these_weights <- this_entry$weights\n",
    "  this_lambda <- this_entry$lambda\n",
    "  this_tau <- this_entry$tau\n",
    "\n",
    "  weights_df <- purrr::map2(\n",
    "    these_weights, \n",
    "    exp_returns_wide$date[date_idxs_to_do], \n",
    "    ~weights_mat_to_df(.x, .y, lambda = this_lambda, tau = this_tau, tickers = universe_tickers)\n",
    "  ) %>% \n",
    "    bind_rows()\n",
    "  \n",
    "  weights_dfs[[i]] <- weights_df\n",
    "}\n",
    "\n",
    "# combine dataframes for each lmbda-tau combination into one big dataframe\n",
    "all_weights <- weights_dfs %>% purrr::reduce(left_join, by = c(\"date\", \"ticker\")) %>% \n",
    "  relocate(c(date, ticker))\n",
    "\n",
    "head(all_weights)"
   ]
  },
  {
   "attachments": {},
   "cell_type": "markdown",
   "metadata": {},
   "source": [
    "Let's look at how our different parameterisations impact the weights for BTC:"
   ]
  },
  {
   "cell_type": "code",
   "execution_count": 25,
   "metadata": {
    "vscode": {
     "languageId": "r"
    }
   },
   "outputs": [
    {
     "data": {
      "image/png": "[encoded data removed]",
      "text/plain": [
       "plot without title"
      ]
     },
     "metadata": {
      "image/png": {
       "height": 420,
       "width": 840
      }
     },
     "output_type": "display_data"
    }
   ],
   "source": [
    "all_weights %>% \n",
    "  pivot_longer(cols = c(-date, -ticker), names_to = \"parameterisation\", values_to = \"weight\") %>% \n",
    "  filter(ticker == \"BTCUSDT\") %>% \n",
    "  ggplot(aes(x = date, y = weight, colour = parameterisation)) +\n",
    "  geom_line() +\n",
    "  facet_wrap(~parameterisation) +\n",
    "  theme(legend.position = \"none\") +\n",
    "  labs(\n",
    "    title = \"BTC weights for various paramterisations\"\n",
    "  )"
   ]
  },
  {
   "attachments": {},
   "cell_type": "markdown",
   "metadata": {},
   "source": [
    "You can see that as lambda increases, the weight we put on BTC decreases - as we increase lambda, the optimiser would start by assigning some of BTC's weight to other tickers in order to increase diversification, and as we increase lambda further, the total portfolio exposure would decrease, further reducing the weight on BTC.  \n",
    "\n",
    "And you can see that as tau increases, there are fewer changes in those weights because we do less trading. In the extreme, we hold our existing position for far longer than we would like to. \n",
    "\n",
    "Let's look at how our total and net portfolio weight changes:"
   ]
  },
  {
   "cell_type": "code",
   "execution_count": 28,
   "metadata": {
    "vscode": {
     "languageId": "r"
    }
   },
   "outputs": [
    {
     "data": {
      "image/png": "[encoded data removed]",
      "text/plain": [
       "plot without title"
      ]
     },
     "metadata": {
      "image/png": {
       "height": 420,
       "width": 840
      }
     },
     "output_type": "display_data"
    }
   ],
   "source": [
    "all_weights %>% \n",
    "  pivot_longer(cols = c(-date, -ticker), names_to = \"parameterisation\", values_to = \"weight\") %>% \n",
    "  group_by(parameterisation, date) %>% \n",
    "  summarise(total_weight = sum(abs(weight)), net_weight = (sum(weight)), .groups = \"drop\") %>%   \n",
    "  pivot_longer(cols = c(total_weight, net_weight), names_to = \"total_net\", values_to = \"weight\")  %>% \n",
    "  ggplot(aes(x = date, y = weight, colour = total_net)) + \n",
    "  geom_line() + \n",
    "  facet_wrap(~parameterisation) +\n",
    "  labs(\n",
    "    title = \"Total and net portfolio weight for various paramterisations\"\n",
    "  )"
   ]
  },
  {
   "attachments": {},
   "cell_type": "markdown",
   "metadata": {},
   "source": [
    "You can see that for lower values of lambda, the portfolio is mostly fully invested (blue lines). As we increase lambda, we have periods where we reduce our total portfolio exposure. This becomes more extreme as we increase lambda. \n",
    "\n",
    "Also notice that for lower values of lambda, we can have more extreme net long or short positions (red lines). As we increase lambda, our net position tends not to fluctuate as much. We also tend not be net short as often, reflecting the long-only nature of the breakout feature, and the fact that one or two large negative expected returns will have less impact as lambda increases. "
   ]
  },
  {
   "attachments": {},
   "cell_type": "markdown",
   "metadata": {},
   "source": [
    "## Simulate our parameterisations\n",
    "\n",
    "Next, we'll use `rsims` to run an accurate simulation for each of our parameterisations. See [this article](https://robotwealth.com/a-simple-effective-way-to-manage-turnover-and-not-get-killed-by-costs/) for more information and examples of using `rsims`. \n",
    "\n",
    "We'll assume costs of 0.15% of traded value. "
   ]
  },
  {
   "cell_type": "code",
   "execution_count": 29,
   "metadata": {
    "vscode": {
     "languageId": "r"
    }
   },
   "outputs": [
    {
     "data": {
      "text/html": [
       "<table class=\"dataframe\">\n",
       "<caption>A tibble: 6 × 8</caption>\n",
       "<thead>\n",
       "\t<tr><th scope=col>date</th><th scope=col>ticker</th><th scope=col>parameterisation</th><th scope=col>weight</th><th scope=col>expected_return</th><th scope=col>close</th><th scope=col>total_fwd_return_simple</th><th scope=col>funding_rate</th></tr>\n",
       "\t<tr><th scope=col>&lt;date&gt;</th><th scope=col>&lt;chr&gt;</th><th scope=col>&lt;chr&gt;</th><th scope=col>&lt;dbl&gt;</th><th scope=col>&lt;dbl&gt;</th><th scope=col>&lt;dbl&gt;</th><th scope=col>&lt;dbl&gt;</th><th scope=col>&lt;dbl&gt;</th></tr>\n",
       "</thead>\n",
       "<tbody>\n",
       "\t<tr><td>2020-11-10</td><td>BTCUSDT</td><td>lambda_0.1_tau_0.003</td><td>0</td><td>NA</td><td>15167.88</td><td>0.03288394</td><td>-3e-04</td></tr>\n",
       "\t<tr><td>2020-11-10</td><td>BTCUSDT</td><td>lambda_0.1_tau_0.1  </td><td>0</td><td>NA</td><td>15167.88</td><td>0.03288394</td><td>-3e-04</td></tr>\n",
       "\t<tr><td>2020-11-10</td><td>BTCUSDT</td><td>lambda_0.1_tau_0.3  </td><td>0</td><td>NA</td><td>15167.88</td><td>0.03288394</td><td>-3e-04</td></tr>\n",
       "\t<tr><td>2020-11-10</td><td>BTCUSDT</td><td>lambda_0.1_tau_1    </td><td>0</td><td>NA</td><td>15167.88</td><td>0.03288394</td><td>-3e-04</td></tr>\n",
       "\t<tr><td>2020-11-10</td><td>BTCUSDT</td><td>lambda_0.1_tau_3    </td><td>0</td><td>NA</td><td>15167.88</td><td>0.03288394</td><td>-3e-04</td></tr>\n",
       "\t<tr><td>2020-11-10</td><td>BTCUSDT</td><td>lambda_0.3_tau_0.003</td><td>0</td><td>NA</td><td>15167.88</td><td>0.03288394</td><td>-3e-04</td></tr>\n",
       "</tbody>\n",
       "</table>\n"
      ],
      "text/latex": [
       "A tibble: 6 × 8\n",
       "\\begin{tabular}{llllllll}\n",
       " date & ticker & parameterisation & weight & expected\\_return & close & total\\_fwd\\_return\\_simple & funding\\_rate\\\\\n",
       " <date> & <chr> & <chr> & <dbl> & <dbl> & <dbl> & <dbl> & <dbl>\\\\\n",
       "\\hline\n",
       "\t 2020-11-10 & BTCUSDT & lambda\\_0.1\\_tau\\_0.003 & 0 & NA & 15167.88 & 0.03288394 & -3e-04\\\\\n",
       "\t 2020-11-10 & BTCUSDT & lambda\\_0.1\\_tau\\_0.1   & 0 & NA & 15167.88 & 0.03288394 & -3e-04\\\\\n",
       "\t 2020-11-10 & BTCUSDT & lambda\\_0.1\\_tau\\_0.3   & 0 & NA & 15167.88 & 0.03288394 & -3e-04\\\\\n",
       "\t 2020-11-10 & BTCUSDT & lambda\\_0.1\\_tau\\_1     & 0 & NA & 15167.88 & 0.03288394 & -3e-04\\\\\n",
       "\t 2020-11-10 & BTCUSDT & lambda\\_0.1\\_tau\\_3     & 0 & NA & 15167.88 & 0.03288394 & -3e-04\\\\\n",
       "\t 2020-11-10 & BTCUSDT & lambda\\_0.3\\_tau\\_0.003 & 0 & NA & 15167.88 & 0.03288394 & -3e-04\\\\\n",
       "\\end{tabular}\n"
      ],
      "text/markdown": [
       "\n",
       "A tibble: 6 × 8\n",
       "\n",
       "| date &lt;date&gt; | ticker &lt;chr&gt; | parameterisation &lt;chr&gt; | weight &lt;dbl&gt; | expected_return &lt;dbl&gt; | close &lt;dbl&gt; | total_fwd_return_simple &lt;dbl&gt; | funding_rate &lt;dbl&gt; |\n",
       "|---|---|---|---|---|---|---|---|\n",
       "| 2020-11-10 | BTCUSDT | lambda_0.1_tau_0.003 | 0 | NA | 15167.88 | 0.03288394 | -3e-04 |\n",
       "| 2020-11-10 | BTCUSDT | lambda_0.1_tau_0.1   | 0 | NA | 15167.88 | 0.03288394 | -3e-04 |\n",
       "| 2020-11-10 | BTCUSDT | lambda_0.1_tau_0.3   | 0 | NA | 15167.88 | 0.03288394 | -3e-04 |\n",
       "| 2020-11-10 | BTCUSDT | lambda_0.1_tau_1     | 0 | NA | 15167.88 | 0.03288394 | -3e-04 |\n",
       "| 2020-11-10 | BTCUSDT | lambda_0.1_tau_3     | 0 | NA | 15167.88 | 0.03288394 | -3e-04 |\n",
       "| 2020-11-10 | BTCUSDT | lambda_0.3_tau_0.003 | 0 | NA | 15167.88 | 0.03288394 | -3e-04 |\n",
       "\n"
      ],
      "text/plain": [
       "  date       ticker  parameterisation     weight expected_return close   \n",
       "1 2020-11-10 BTCUSDT lambda_0.1_tau_0.003 0      NA              15167.88\n",
       "2 2020-11-10 BTCUSDT lambda_0.1_tau_0.1   0      NA              15167.88\n",
       "3 2020-11-10 BTCUSDT lambda_0.1_tau_0.3   0      NA              15167.88\n",
       "4 2020-11-10 BTCUSDT lambda_0.1_tau_1     0      NA              15167.88\n",
       "5 2020-11-10 BTCUSDT lambda_0.1_tau_3     0      NA              15167.88\n",
       "6 2020-11-10 BTCUSDT lambda_0.3_tau_0.003 0      NA              15167.88\n",
       "  total_fwd_return_simple funding_rate\n",
       "1 0.03288394              -3e-04      \n",
       "2 0.03288394              -3e-04      \n",
       "3 0.03288394              -3e-04      \n",
       "4 0.03288394              -3e-04      \n",
       "5 0.03288394              -3e-04      \n",
       "6 0.03288394              -3e-04      "
      ]
     },
     "metadata": {},
     "output_type": "display_data"
    }
   ],
   "source": [
    "backtest_df <- all_weights %>% \n",
    "  pivot_longer(cols = c(-date, -ticker), names_to = \"parameterisation\", values_to = \"weight\") %>%  \n",
    "  left_join(strategy_df, by = c(\"ticker\", \"date\"))\n",
    "\n",
    "head(backtest_df)"
   ]
  },
  {
   "cell_type": "code",
   "execution_count": 30,
   "metadata": {
    "vscode": {
     "languageId": "r"
    }
   },
   "outputs": [
    {
     "data": {
      "text/html": [
       "<style>\n",
       ".list-inline {list-style: none; margin:0; padding: 0}\n",
       ".list-inline>li {display: inline-block}\n",
       ".list-inline>li:not(:last-child)::after {content: \"\\00b7\"; padding: 0 .5ex}\n",
       "</style>\n",
       "<ol class=list-inline><li>'lambda_0.1_tau_0.003'</li><li>'lambda_0.1_tau_0.1'</li><li>'lambda_0.1_tau_0.3'</li><li>'lambda_0.1_tau_1'</li><li>'lambda_0.1_tau_3'</li><li>'lambda_0.3_tau_0.003'</li><li>'lambda_0.3_tau_0.1'</li><li>'lambda_0.3_tau_0.3'</li><li>'lambda_0.3_tau_1'</li><li>'lambda_0.3_tau_3'</li><li>'lambda_1_tau_0.003'</li><li>'lambda_1_tau_0.1'</li><li>'lambda_1_tau_0.3'</li><li>'lambda_1_tau_1'</li><li>'lambda_1_tau_3'</li><li>'lambda_3_tau_0.003'</li><li>'lambda_3_tau_0.1'</li><li>'lambda_3_tau_0.3'</li><li>'lambda_3_tau_1'</li><li>'lambda_3_tau_3'</li></ol>\n"
      ],
      "text/latex": [
       "\\begin{enumerate*}\n",
       "\\item 'lambda\\_0.1\\_tau\\_0.003'\n",
       "\\item 'lambda\\_0.1\\_tau\\_0.1'\n",
       "\\item 'lambda\\_0.1\\_tau\\_0.3'\n",
       "\\item 'lambda\\_0.1\\_tau\\_1'\n",
       "\\item 'lambda\\_0.1\\_tau\\_3'\n",
       "\\item 'lambda\\_0.3\\_tau\\_0.003'\n",
       "\\item 'lambda\\_0.3\\_tau\\_0.1'\n",
       "\\item 'lambda\\_0.3\\_tau\\_0.3'\n",
       "\\item 'lambda\\_0.3\\_tau\\_1'\n",
       "\\item 'lambda\\_0.3\\_tau\\_3'\n",
       "\\item 'lambda\\_1\\_tau\\_0.003'\n",
       "\\item 'lambda\\_1\\_tau\\_0.1'\n",
       "\\item 'lambda\\_1\\_tau\\_0.3'\n",
       "\\item 'lambda\\_1\\_tau\\_1'\n",
       "\\item 'lambda\\_1\\_tau\\_3'\n",
       "\\item 'lambda\\_3\\_tau\\_0.003'\n",
       "\\item 'lambda\\_3\\_tau\\_0.1'\n",
       "\\item 'lambda\\_3\\_tau\\_0.3'\n",
       "\\item 'lambda\\_3\\_tau\\_1'\n",
       "\\item 'lambda\\_3\\_tau\\_3'\n",
       "\\end{enumerate*}\n"
      ],
      "text/markdown": [
       "1. 'lambda_0.1_tau_0.003'\n",
       "2. 'lambda_0.1_tau_0.1'\n",
       "3. 'lambda_0.1_tau_0.3'\n",
       "4. 'lambda_0.1_tau_1'\n",
       "5. 'lambda_0.1_tau_3'\n",
       "6. 'lambda_0.3_tau_0.003'\n",
       "7. 'lambda_0.3_tau_0.1'\n",
       "8. 'lambda_0.3_tau_0.3'\n",
       "9. 'lambda_0.3_tau_1'\n",
       "10. 'lambda_0.3_tau_3'\n",
       "11. 'lambda_1_tau_0.003'\n",
       "12. 'lambda_1_tau_0.1'\n",
       "13. 'lambda_1_tau_0.3'\n",
       "14. 'lambda_1_tau_1'\n",
       "15. 'lambda_1_tau_3'\n",
       "16. 'lambda_3_tau_0.003'\n",
       "17. 'lambda_3_tau_0.1'\n",
       "18. 'lambda_3_tau_0.3'\n",
       "19. 'lambda_3_tau_1'\n",
       "20. 'lambda_3_tau_3'\n",
       "\n",
       "\n"
      ],
      "text/plain": [
       " [1] \"lambda_0.1_tau_0.003\" \"lambda_0.1_tau_0.1\"   \"lambda_0.1_tau_0.3\"  \n",
       " [4] \"lambda_0.1_tau_1\"     \"lambda_0.1_tau_3\"     \"lambda_0.3_tau_0.003\"\n",
       " [7] \"lambda_0.3_tau_0.1\"   \"lambda_0.3_tau_0.3\"   \"lambda_0.3_tau_1\"    \n",
       "[10] \"lambda_0.3_tau_3\"     \"lambda_1_tau_0.003\"   \"lambda_1_tau_0.1\"    \n",
       "[13] \"lambda_1_tau_0.3\"     \"lambda_1_tau_1\"       \"lambda_1_tau_3\"      \n",
       "[16] \"lambda_3_tau_0.003\"   \"lambda_3_tau_0.1\"     \"lambda_3_tau_0.3\"    \n",
       "[19] \"lambda_3_tau_1\"       \"lambda_3_tau_3\"      "
      ]
     },
     "metadata": {},
     "output_type": "display_data"
    }
   ],
   "source": [
    "params <- unique(backtest_df$parameterisation)\n",
    "params"
   ]
  },
  {
   "cell_type": "code",
   "execution_count": 31,
   "metadata": {
    "vscode": {
     "languageId": "r"
    }
   },
   "outputs": [],
   "source": [
    "# simulation for each parameterisation\n",
    "\n",
    "# no trade buffer (trades controlled by tau parameter and are embedded in weights)\n",
    "equity_curves <- vector(\"list\", length = length(params))\n",
    "results_dfs <- vector(\"list\", length = length(params))\n",
    "i <- 1\n",
    "for( p in params ) {\n",
    "    # get weights as a wide matrix \n",
    "    # note that date column will get converted to unix timestamp\n",
    "    backtest_weights <- backtest_df %>%\n",
    "        dplyr::filter(parameterisation == p) %>% \n",
    "        pivot_wider(id_cols = date, names_from = ticker, values_from = c(close, weight)) %>%  # pivot wider guarantees prices and theo_weight are date aligned\n",
    "        select(date, starts_with(\"weight\")) %>%\n",
    "        mutate(date = as.numeric(date)) %>% \n",
    "        data.matrix()\n",
    "\n",
    "    # NA weights should be zero\n",
    "    backtest_weights[is.na(backtest_weights)] <- 0\n",
    "\n",
    "    # get prices as a wide matrix\n",
    "    # note that date column will get converted to unix timestamp\n",
    "    backtest_prices <- backtest_df %>% \n",
    "        dplyr::filter(parameterisation == p) %>% \n",
    "        pivot_wider(id_cols = date, names_from = ticker, values_from = c(close, weight)) %>%  # pivot wider guarantees prices and theo_weight are date aligned\n",
    "        select(date, starts_with(\"close_\")) %>%\n",
    "        mutate(date = as.numeric(date)) %>% \n",
    "        data.matrix()\n",
    "\n",
    "    # get funding as a wide matrix\n",
    "    # note that date column will get converted to unix timestamp\n",
    "    backtest_funding <- backtest_df %>%\n",
    "        dplyr::filter(parameterisation == p) %>% \n",
    "        pivot_wider(id_cols = date, names_from = ticker, values_from = c(close, funding_rate)) %>%  # pivot wider guarantees prices and funding_returns_simple are date aligned\n",
    "        select(date, starts_with(\"funding_rate_\")) %>%\n",
    "        mutate(date = as.numeric(date)) %>% \n",
    "        data.matrix()\n",
    "\n",
    "    # simulation\n",
    "    results_df <- fixed_commission_backtest_with_funding(\n",
    "        prices = backtest_prices,\n",
    "        target_weights = backtest_weights,\n",
    "        funding_rates = backtest_funding,\n",
    "        trade_buffer = 0.,\n",
    "        initial_cash = 10000,\n",
    "        margin = 0.05,\n",
    "        commission_pct = 0.0015,\n",
    "        capitalise_profits = FALSE\n",
    "        ) %>%\n",
    "        mutate(ticker = str_remove(ticker, \"close_\")) %>%\n",
    "        # remove coins we don't trade from results\n",
    "        drop_na(Value)\n",
    "\n",
    "    margin <- results_df %>%\n",
    "        group_by(Date) %>%\n",
    "        summarise(Margin = sum(Margin, na.rm = TRUE))\n",
    "\n",
    "    cash_balance <- results_df %>%\n",
    "        filter(ticker == \"Cash\") %>%\n",
    "        select(Date, Value) %>%\n",
    "        rename(\"Cash\" = Value)\n",
    "\n",
    "    equity <- cash_balance %>%\n",
    "        left_join(margin, by = \"Date\") %>% \n",
    "        mutate(Equity = Cash + Margin) %>% \n",
    "        select(Date, Equity) %>% \n",
    "        rename(!!p := Equity)\n",
    "    \n",
    "    equity_curves[[i]] <- equity\n",
    "    results_dfs[[i]] <- results_df\n",
    "\n",
    "    i <- i + 1\n",
    "}"
   ]
  },
  {
   "attachments": {},
   "cell_type": "markdown",
   "metadata": {},
   "source": [
    "Plot equity curves for each 500-day simulation:"
   ]
  },
  {
   "cell_type": "code",
   "execution_count": 33,
   "metadata": {
    "vscode": {
     "languageId": "r"
    }
   },
   "outputs": [
    {
     "data": {
      "image/png": "[encoded data removed]",
      "text/plain": [
       "plot without title"
      ]
     },
     "metadata": {
      "image/png": {
       "height": 420,
       "width": 840
      }
     },
     "output_type": "display_data"
    }
   ],
   "source": [
    "equity_curves %>% \n",
    "  purrr::discard(is.null) %>% \n",
    "  reduce(left_join, by = \"Date\") %>% \n",
    "  pivot_longer(-Date, names_to = \"param\", values_to = \"equity\") %>%\n",
    "  ggplot(aes(x = Date, y = equity, colour = param)) +\n",
    "  geom_line() +\n",
    "  facet_wrap(~param) +\n",
    "  theme(legend.position = \"none\") +\n",
    "  labs(\n",
    "    title = \"After-costs equity curves for 500-day simulations\"\n",
    "  )"
   ]
  },
  {
   "attachments": {},
   "cell_type": "markdown",
   "metadata": {},
   "source": [
    "Eyeballing equity curves is illustrative, but let's also quantify these results. For each 500-day simulation, we'll calculate:\n",
    "- Sharpe ratio\n",
    "- Total return\n",
    "- Average daily turnover (as percentage of allocated cash)"
   ]
  },
  {
   "cell_type": "code",
   "execution_count": 51,
   "metadata": {
    "vscode": {
     "languageId": "r"
    }
   },
   "outputs": [
    {
     "data": {
      "text/html": [
       "<table class=\"dataframe\">\n",
       "<caption>A data.frame: 20 × 5</caption>\n",
       "<thead>\n",
       "\t<tr><th scope=col>lambda</th><th scope=col>tau</th><th scope=col>sharpe</th><th scope=col>total_return</th><th scope=col>average_turnover</th></tr>\n",
       "\t<tr><th scope=col>&lt;chr&gt;</th><th scope=col>&lt;chr&gt;</th><th scope=col>&lt;dbl&gt;</th><th scope=col>&lt;dbl&gt;</th><th scope=col>&lt;dbl&gt;</th></tr>\n",
       "</thead>\n",
       "<tbody>\n",
       "\t<tr><td>0.3</td><td>0.003</td><td>1.5979996</td><td>187.91581</td><td>86.563401</td></tr>\n",
       "\t<tr><td>1  </td><td>1    </td><td>1.5843898</td><td>147.20999</td><td>26.719370</td></tr>\n",
       "\t<tr><td>0.1</td><td>0.3  </td><td>1.5632515</td><td>243.76855</td><td>62.853329</td></tr>\n",
       "\t<tr><td>0.3</td><td>0.1  </td><td>1.5582835</td><td>184.85528</td><td>74.244957</td></tr>\n",
       "\t<tr><td>0.1</td><td>0.1  </td><td>1.5049803</td><td>215.82454</td><td>82.633311</td></tr>\n",
       "\t<tr><td>0.3</td><td>0.3  </td><td>1.4733322</td><td>177.88543</td><td>57.872224</td></tr>\n",
       "\t<tr><td>3  </td><td>1    </td><td>1.4360708</td><td> 68.91465</td><td>23.088435</td></tr>\n",
       "\t<tr><td>0.1</td><td>0.003</td><td>1.4106634</td><td>187.10321</td><td>98.365393</td></tr>\n",
       "\t<tr><td>0.3</td><td>1    </td><td>1.3676426</td><td>157.92362</td><td>28.740003</td></tr>\n",
       "\t<tr><td>0.1</td><td>3    </td><td>1.3467732</td><td>146.92856</td><td>13.373507</td></tr>\n",
       "\t<tr><td>0.3</td><td>3    </td><td>1.3300004</td><td>127.71079</td><td>11.963360</td></tr>\n",
       "\t<tr><td>1  </td><td>0.3  </td><td>1.2548320</td><td> 98.57962</td><td>48.687742</td></tr>\n",
       "\t<tr><td>1  </td><td>0.003</td><td>1.1851221</td><td> 87.42170</td><td>71.599827</td></tr>\n",
       "\t<tr><td>1  </td><td>0.1  </td><td>1.1803581</td><td> 87.72210</td><td>62.037604</td></tr>\n",
       "\t<tr><td>0.1</td><td>1    </td><td>1.1530450</td><td>128.67032</td><td>30.273378</td></tr>\n",
       "\t<tr><td>1  </td><td>3    </td><td>1.1099375</td><td> 81.99863</td><td>11.013410</td></tr>\n",
       "\t<tr><td>3  </td><td>3    </td><td>1.0846910</td><td> 43.49599</td><td> 8.641305</td></tr>\n",
       "\t<tr><td>3  </td><td>0.3  </td><td>1.0200999</td><td> 45.43914</td><td>38.044012</td></tr>\n",
       "\t<tr><td>3  </td><td>0.1  </td><td>0.8968249</td><td> 38.13561</td><td>46.235756</td></tr>\n",
       "\t<tr><td>3  </td><td>0.003</td><td>0.8670867</td><td> 36.31248</td><td>51.907027</td></tr>\n",
       "</tbody>\n",
       "</table>\n"
      ],
      "text/latex": [
       "A data.frame: 20 × 5\n",
       "\\begin{tabular}{lllll}\n",
       " lambda & tau & sharpe & total\\_return & average\\_turnover\\\\\n",
       " <chr> & <chr> & <dbl> & <dbl> & <dbl>\\\\\n",
       "\\hline\n",
       "\t 0.3 & 0.003 & 1.5979996 & 187.91581 & 86.563401\\\\\n",
       "\t 1   & 1     & 1.5843898 & 147.20999 & 26.719370\\\\\n",
       "\t 0.1 & 0.3   & 1.5632515 & 243.76855 & 62.853329\\\\\n",
       "\t 0.3 & 0.1   & 1.5582835 & 184.85528 & 74.244957\\\\\n",
       "\t 0.1 & 0.1   & 1.5049803 & 215.82454 & 82.633311\\\\\n",
       "\t 0.3 & 0.3   & 1.4733322 & 177.88543 & 57.872224\\\\\n",
       "\t 3   & 1     & 1.4360708 &  68.91465 & 23.088435\\\\\n",
       "\t 0.1 & 0.003 & 1.4106634 & 187.10321 & 98.365393\\\\\n",
       "\t 0.3 & 1     & 1.3676426 & 157.92362 & 28.740003\\\\\n",
       "\t 0.1 & 3     & 1.3467732 & 146.92856 & 13.373507\\\\\n",
       "\t 0.3 & 3     & 1.3300004 & 127.71079 & 11.963360\\\\\n",
       "\t 1   & 0.3   & 1.2548320 &  98.57962 & 48.687742\\\\\n",
       "\t 1   & 0.003 & 1.1851221 &  87.42170 & 71.599827\\\\\n",
       "\t 1   & 0.1   & 1.1803581 &  87.72210 & 62.037604\\\\\n",
       "\t 0.1 & 1     & 1.1530450 & 128.67032 & 30.273378\\\\\n",
       "\t 1   & 3     & 1.1099375 &  81.99863 & 11.013410\\\\\n",
       "\t 3   & 3     & 1.0846910 &  43.49599 &  8.641305\\\\\n",
       "\t 3   & 0.3   & 1.0200999 &  45.43914 & 38.044012\\\\\n",
       "\t 3   & 0.1   & 0.8968249 &  38.13561 & 46.235756\\\\\n",
       "\t 3   & 0.003 & 0.8670867 &  36.31248 & 51.907027\\\\\n",
       "\\end{tabular}\n"
      ],
      "text/markdown": [
       "\n",
       "A data.frame: 20 × 5\n",
       "\n",
       "| lambda &lt;chr&gt; | tau &lt;chr&gt; | sharpe &lt;dbl&gt; | total_return &lt;dbl&gt; | average_turnover &lt;dbl&gt; |\n",
       "|---|---|---|---|---|\n",
       "| 0.3 | 0.003 | 1.5979996 | 187.91581 | 86.563401 |\n",
       "| 1   | 1     | 1.5843898 | 147.20999 | 26.719370 |\n",
       "| 0.1 | 0.3   | 1.5632515 | 243.76855 | 62.853329 |\n",
       "| 0.3 | 0.1   | 1.5582835 | 184.85528 | 74.244957 |\n",
       "| 0.1 | 0.1   | 1.5049803 | 215.82454 | 82.633311 |\n",
       "| 0.3 | 0.3   | 1.4733322 | 177.88543 | 57.872224 |\n",
       "| 3   | 1     | 1.4360708 |  68.91465 | 23.088435 |\n",
       "| 0.1 | 0.003 | 1.4106634 | 187.10321 | 98.365393 |\n",
       "| 0.3 | 1     | 1.3676426 | 157.92362 | 28.740003 |\n",
       "| 0.1 | 3     | 1.3467732 | 146.92856 | 13.373507 |\n",
       "| 0.3 | 3     | 1.3300004 | 127.71079 | 11.963360 |\n",
       "| 1   | 0.3   | 1.2548320 |  98.57962 | 48.687742 |\n",
       "| 1   | 0.003 | 1.1851221 |  87.42170 | 71.599827 |\n",
       "| 1   | 0.1   | 1.1803581 |  87.72210 | 62.037604 |\n",
       "| 0.1 | 1     | 1.1530450 | 128.67032 | 30.273378 |\n",
       "| 1   | 3     | 1.1099375 |  81.99863 | 11.013410 |\n",
       "| 3   | 3     | 1.0846910 |  43.49599 |  8.641305 |\n",
       "| 3   | 0.3   | 1.0200999 |  45.43914 | 38.044012 |\n",
       "| 3   | 0.1   | 0.8968249 |  38.13561 | 46.235756 |\n",
       "| 3   | 0.003 | 0.8670867 |  36.31248 | 51.907027 |\n",
       "\n"
      ],
      "text/plain": [
       "   lambda tau   sharpe    total_return average_turnover\n",
       "1  0.3    0.003 1.5979996 187.91581    86.563401       \n",
       "2  1      1     1.5843898 147.20999    26.719370       \n",
       "3  0.1    0.3   1.5632515 243.76855    62.853329       \n",
       "4  0.3    0.1   1.5582835 184.85528    74.244957       \n",
       "5  0.1    0.1   1.5049803 215.82454    82.633311       \n",
       "6  0.3    0.3   1.4733322 177.88543    57.872224       \n",
       "7  3      1     1.4360708  68.91465    23.088435       \n",
       "8  0.1    0.003 1.4106634 187.10321    98.365393       \n",
       "9  0.3    1     1.3676426 157.92362    28.740003       \n",
       "10 0.1    3     1.3467732 146.92856    13.373507       \n",
       "11 0.3    3     1.3300004 127.71079    11.963360       \n",
       "12 1      0.3   1.2548320  98.57962    48.687742       \n",
       "13 1      0.003 1.1851221  87.42170    71.599827       \n",
       "14 1      0.1   1.1803581  87.72210    62.037604       \n",
       "15 0.1    1     1.1530450 128.67032    30.273378       \n",
       "16 1      3     1.1099375  81.99863    11.013410       \n",
       "17 3      3     1.0846910  43.49599     8.641305       \n",
       "18 3      0.3   1.0200999  45.43914    38.044012       \n",
       "19 3      0.1   0.8968249  38.13561    46.235756       \n",
       "20 3      0.003 0.8670867  36.31248    51.907027       "
      ]
     },
     "metadata": {},
     "output_type": "display_data"
    }
   ],
   "source": [
    "initial_cash <- 10000\n",
    "i <- 1\n",
    "dfs <- list()\n",
    "for (r in results_dfs) {\n",
    "  # get lambda and tau\n",
    "  these_params <- str_extract_all(params[i],\"[0-9]+\\\\.*[0-9]*\", simplify = TRUE)\n",
    "  this_lambda <- these_params[1, 1]\n",
    "  this_tau <- these_params[1, 2]\n",
    "\n",
    "  # average daily turnover\n",
    "  average_turnover <- r %>%\n",
    "    filter(ticker != \"Cash\") %>% \n",
    "    group_by(Date) %>% \n",
    "    summarise(turnover = 100*sum(abs(TradeValue))/initial_cash, .groups = \"drop\") %>% \n",
    "    summarise(ave_turnover = mean(turnover)) %>% \n",
    "    pull(ave_turnover)\n",
    "\n",
    "  # total return\n",
    "  equity <- equity_curves[[i]][, 2, drop = TRUE]\n",
    "\n",
    "  fin_eq <- equity %>%\n",
    "    tail(1) \n",
    "\n",
    "  init_eq <- equity%>%\n",
    "    head(1) \n",
    "\n",
    "  total_return <- (fin_eq/init_eq - 1) * 100\n",
    "  days <- length(equity)\n",
    "  ann_return <- total_return * 365/days\n",
    "  \n",
    "  # sharpe\n",
    "  returns <- na.omit(equity/lag(equity) - 1)\n",
    "  sharpe <- sqrt(365)*mean(returns)/sd(returns)\n",
    "\n",
    "  # store results\n",
    "  df <- data.frame(\n",
    "    lambda = this_lambda,\n",
    "    tau = this_tau,\n",
    "    sharpe = sharpe,\n",
    "    total_return = total_return,\n",
    "    average_turnover = average_turnover\n",
    "  )\n",
    "  dfs[[i]] <- df\n",
    "\n",
    "  i <- i + 1\n",
    "}\n",
    "\n",
    "metrics <- dfs %>% bind_rows()\n",
    "metrics %>% arrange(desc(sharpe))"
   ]
  },
  {
   "attachments": {},
   "cell_type": "markdown",
   "metadata": {},
   "source": [
    "These metrics give you an idea of the tradeoffs:\n",
    "- The parameters that resulted in our highest Sharpe turn over more than 85% of the portfolio daily. This would be hard to manage if you were trading by hand. \n",
    "- You could achieve a slightly lower Sharpe but turn over much less, for example with lambda = 1, tau = 1. This would be operationally simpler. \n",
    "\n",
    "Bear in mind though that these results only represent the first 500-days of the simulation, and there's no guarantee that they would be reflective of the results over the entire history. But they're a good starting point for thinking about the tradeoffs. \n",
    "\n",
    "For now, let's pick lambda = 1 and tau = 1 and simulate over the full sample:"
   ]
  },
  {
   "cell_type": "code",
   "execution_count": 52,
   "metadata": {
    "vscode": {
     "languageId": "r"
    }
   },
   "outputs": [],
   "source": [
    "lambda <- 1\n",
    "tau <- 1\n",
    "costs <- 0.15/100\n",
    "   \n",
    "weights <- list()\n",
    "errors <- list()\n",
    "w0 <- rep(0, length(universe_tickers))\n",
    "for( i in c(1:length(exp_returns_sim_df$date)) ) {\n",
    "    # today's date\n",
    "    d = exp_returns_sim_df$date[i]\n",
    "\n",
    "    # cov estimate\n",
    "    today_covmat <- covmat_list[[i]]\n",
    "\n",
    "    # check cov matrix and exp returns vector are ticker-aligned\n",
    "    # all.equal(exp_returns_sim_df %>% filter(date == d) %>% pivot_longer(-date, names_to = \"ticker\", values_to = \"expected_return\")%>% arrange(match(ticker, universe_tickers)) %>% pull(ticker), colnames(today_covmat))\n",
    "    \n",
    "    # get row of expected returns as a vector in the same order as the columns of the covariance matrix\n",
    "    # contains NA at this point\n",
    "    exp_rets <- exp_returns_sim_df %>% filter(date == d) %>% pivot_longer(-date, names_to = \"ticker\", values_to = \"expected_return\")%>% arrange(match(ticker, universe_tickers)) %>% pull(expected_return)\n",
    "    # get na indexes\n",
    "    # we'll explicitly constrain these to get zero weight\n",
    "    na_idxs <- which(is.na(exp_rets))\n",
    "    # convert NA to zero\n",
    "    exp_rets[is.na(exp_rets)] <- 0\n",
    "    # initialise w in case we get a solver error (can retain w0 in these cases)\n",
    "    w <- w0\n",
    "    tryCatch({\n",
    "        w <- mvo_with_costs(expected_returns = exp_rets, current_weights = w0, na_idxs = na_idxs, costs = costs, covmat = today_covmat, lambda = lambda, tau = tau)\n",
    "    }, error = function(e) {\n",
    "        # in case of solver error, log and retain existing weights\n",
    "        errors[[i]] <- e\n",
    "        }\n",
    "    )\n",
    "    \n",
    "    # w is a one-column matrix\n",
    "    weights[[i]] <- w\n",
    "    w0 <- w \n",
    "}\n",
    "\n",
    "results <- list(weights = weights, lambda = lambda, tau = tau, errors = errors)\n",
    "\n",
    "saveRDS(results, file = \"lambda_1_tau_1.rds\")"
   ]
  },
  {
   "cell_type": "code",
   "execution_count": 55,
   "metadata": {
    "vscode": {
     "languageId": "r"
    }
   },
   "outputs": [
    {
     "data": {
      "text/html": [
       "<table class=\"dataframe\">\n",
       "<caption>A tibble: 6 × 3</caption>\n",
       "<thead>\n",
       "\t<tr><th scope=col>weight</th><th scope=col>date</th><th scope=col>ticker</th></tr>\n",
       "\t<tr><th scope=col>&lt;dbl&gt;</th><th scope=col>&lt;date&gt;</th><th scope=col>&lt;chr&gt;</th></tr>\n",
       "</thead>\n",
       "<tbody>\n",
       "\t<tr><td>0</td><td>2021-02-18</td><td>BTCUSDT</td></tr>\n",
       "\t<tr><td>0</td><td>2021-02-18</td><td>ETHUSDT</td></tr>\n",
       "\t<tr><td>0</td><td>2021-02-18</td><td>BCHUSDT</td></tr>\n",
       "\t<tr><td>0</td><td>2021-02-18</td><td>XRPUSDT</td></tr>\n",
       "\t<tr><td>0</td><td>2021-02-18</td><td>EOSUSDT</td></tr>\n",
       "\t<tr><td>0</td><td>2021-02-18</td><td>LTCUSDT</td></tr>\n",
       "</tbody>\n",
       "</table>\n"
      ],
      "text/latex": [
       "A tibble: 6 × 3\n",
       "\\begin{tabular}{lll}\n",
       " weight & date & ticker\\\\\n",
       " <dbl> & <date> & <chr>\\\\\n",
       "\\hline\n",
       "\t 0 & 2021-02-18 & BTCUSDT\\\\\n",
       "\t 0 & 2021-02-18 & ETHUSDT\\\\\n",
       "\t 0 & 2021-02-18 & BCHUSDT\\\\\n",
       "\t 0 & 2021-02-18 & XRPUSDT\\\\\n",
       "\t 0 & 2021-02-18 & EOSUSDT\\\\\n",
       "\t 0 & 2021-02-18 & LTCUSDT\\\\\n",
       "\\end{tabular}\n"
      ],
      "text/markdown": [
       "\n",
       "A tibble: 6 × 3\n",
       "\n",
       "| weight &lt;dbl&gt; | date &lt;date&gt; | ticker &lt;chr&gt; |\n",
       "|---|---|---|\n",
       "| 0 | 2021-02-18 | BTCUSDT |\n",
       "| 0 | 2021-02-18 | ETHUSDT |\n",
       "| 0 | 2021-02-18 | BCHUSDT |\n",
       "| 0 | 2021-02-18 | XRPUSDT |\n",
       "| 0 | 2021-02-18 | EOSUSDT |\n",
       "| 0 | 2021-02-18 | LTCUSDT |\n",
       "\n"
      ],
      "text/plain": [
       "  weight date       ticker \n",
       "1 0      2021-02-18 BTCUSDT\n",
       "2 0      2021-02-18 ETHUSDT\n",
       "3 0      2021-02-18 BCHUSDT\n",
       "4 0      2021-02-18 XRPUSDT\n",
       "5 0      2021-02-18 EOSUSDT\n",
       "6 0      2021-02-18 LTCUSDT"
      ]
     },
     "metadata": {},
     "output_type": "display_data"
    }
   ],
   "source": [
    "# wrangle weights into a dataframe\n",
    "weights_df <- purrr::map2(\n",
    "  weights, \n",
    "  exp_returns_sim_df$date, \n",
    "  ~weights_mat_to_df(.x, .y, lambda = lambda, tau = tau, tickers = universe_tickers)\n",
    ") %>% \n",
    "  bind_rows() %>% \n",
    "  rename(\"weight\" = lambda_1_tau_1)\n",
    "\n",
    "head(weights_df)"
   ]
  },
  {
   "cell_type": "code",
   "execution_count": 56,
   "metadata": {
    "vscode": {
     "languageId": "r"
    }
   },
   "outputs": [
    {
     "data": {
      "text/html": [
       "<table class=\"dataframe\">\n",
       "<caption>A tibble: 6 × 7</caption>\n",
       "<thead>\n",
       "\t<tr><th scope=col>weight</th><th scope=col>date</th><th scope=col>ticker</th><th scope=col>expected_return</th><th scope=col>close</th><th scope=col>total_fwd_return_simple</th><th scope=col>funding_rate</th></tr>\n",
       "\t<tr><th scope=col>&lt;dbl&gt;</th><th scope=col>&lt;date&gt;</th><th scope=col>&lt;chr&gt;</th><th scope=col>&lt;dbl&gt;</th><th scope=col>&lt;dbl&gt;</th><th scope=col>&lt;dbl&gt;</th><th scope=col>&lt;dbl&gt;</th></tr>\n",
       "</thead>\n",
       "<tbody>\n",
       "\t<tr><td>0</td><td>2021-02-18</td><td>BTCUSDT</td><td>NA</td><td>51663.6400</td><td>0.041106415</td><td>-0.00412394</td></tr>\n",
       "\t<tr><td>0</td><td>2021-02-18</td><td>ETHUSDT</td><td>NA</td><td> 1910.9900</td><td>0.007813203</td><td>-0.00516012</td></tr>\n",
       "\t<tr><td>0</td><td>2021-02-18</td><td>BCHUSDT</td><td>NA</td><td>  702.5500</td><td>0.015704896</td><td>-0.00711178</td></tr>\n",
       "\t<tr><td>0</td><td>2021-02-18</td><td>XRPUSDT</td><td>NA</td><td>    0.5302</td><td>0.030592698</td><td>-0.00688510</td></tr>\n",
       "\t<tr><td>0</td><td>2021-02-18</td><td>EOSUSDT</td><td>NA</td><td>    4.8000</td><td>0.077784750</td><td>-0.00550166</td></tr>\n",
       "\t<tr><td>0</td><td>2021-02-18</td><td>LTCUSDT</td><td>NA</td><td>  225.8000</td><td>0.020896880</td><td>-0.00616800</td></tr>\n",
       "</tbody>\n",
       "</table>\n"
      ],
      "text/latex": [
       "A tibble: 6 × 7\n",
       "\\begin{tabular}{lllllll}\n",
       " weight & date & ticker & expected\\_return & close & total\\_fwd\\_return\\_simple & funding\\_rate\\\\\n",
       " <dbl> & <date> & <chr> & <dbl> & <dbl> & <dbl> & <dbl>\\\\\n",
       "\\hline\n",
       "\t 0 & 2021-02-18 & BTCUSDT & NA & 51663.6400 & 0.041106415 & -0.00412394\\\\\n",
       "\t 0 & 2021-02-18 & ETHUSDT & NA &  1910.9900 & 0.007813203 & -0.00516012\\\\\n",
       "\t 0 & 2021-02-18 & BCHUSDT & NA &   702.5500 & 0.015704896 & -0.00711178\\\\\n",
       "\t 0 & 2021-02-18 & XRPUSDT & NA &     0.5302 & 0.030592698 & -0.00688510\\\\\n",
       "\t 0 & 2021-02-18 & EOSUSDT & NA &     4.8000 & 0.077784750 & -0.00550166\\\\\n",
       "\t 0 & 2021-02-18 & LTCUSDT & NA &   225.8000 & 0.020896880 & -0.00616800\\\\\n",
       "\\end{tabular}\n"
      ],
      "text/markdown": [
       "\n",
       "A tibble: 6 × 7\n",
       "\n",
       "| weight &lt;dbl&gt; | date &lt;date&gt; | ticker &lt;chr&gt; | expected_return &lt;dbl&gt; | close &lt;dbl&gt; | total_fwd_return_simple &lt;dbl&gt; | funding_rate &lt;dbl&gt; |\n",
       "|---|---|---|---|---|---|---|\n",
       "| 0 | 2021-02-18 | BTCUSDT | NA | 51663.6400 | 0.041106415 | -0.00412394 |\n",
       "| 0 | 2021-02-18 | ETHUSDT | NA |  1910.9900 | 0.007813203 | -0.00516012 |\n",
       "| 0 | 2021-02-18 | BCHUSDT | NA |   702.5500 | 0.015704896 | -0.00711178 |\n",
       "| 0 | 2021-02-18 | XRPUSDT | NA |     0.5302 | 0.030592698 | -0.00688510 |\n",
       "| 0 | 2021-02-18 | EOSUSDT | NA |     4.8000 | 0.077784750 | -0.00550166 |\n",
       "| 0 | 2021-02-18 | LTCUSDT | NA |   225.8000 | 0.020896880 | -0.00616800 |\n",
       "\n"
      ],
      "text/plain": [
       "  weight date       ticker  expected_return close      total_fwd_return_simple\n",
       "1 0      2021-02-18 BTCUSDT NA              51663.6400 0.041106415            \n",
       "2 0      2021-02-18 ETHUSDT NA               1910.9900 0.007813203            \n",
       "3 0      2021-02-18 BCHUSDT NA                702.5500 0.015704896            \n",
       "4 0      2021-02-18 XRPUSDT NA                  0.5302 0.030592698            \n",
       "5 0      2021-02-18 EOSUSDT NA                  4.8000 0.077784750            \n",
       "6 0      2021-02-18 LTCUSDT NA                225.8000 0.020896880            \n",
       "  funding_rate\n",
       "1 -0.00412394 \n",
       "2 -0.00516012 \n",
       "3 -0.00711178 \n",
       "4 -0.00688510 \n",
       "5 -0.00550166 \n",
       "6 -0.00616800 "
      ]
     },
     "metadata": {},
     "output_type": "display_data"
    }
   ],
   "source": [
    "# join weights onto prices\n",
    "backtest_df <- weights_df %>% \n",
    "  left_join(strategy_df, by = c(\"ticker\", \"date\"))\n",
    "\n",
    "head(backtest_df)"
   ]
  },
  {
   "cell_type": "code",
   "execution_count": 57,
   "metadata": {
    "vscode": {
     "languageId": "r"
    }
   },
   "outputs": [],
   "source": [
    "# simulate\n",
    "\n",
    "# get weights as a wide matrix \n",
    "backtest_weights <- backtest_df %>%\n",
    "  pivot_wider(id_cols = date, names_from = ticker, values_from = c(close, weight)) %>%  # pivot wider guarantees prices and theo_weight are date aligned\n",
    "  select(date, starts_with(\"weight\")) %>%\n",
    "  mutate(date = as.numeric(date)) %>% \n",
    "  data.matrix()\n",
    "\n",
    "# NA weights should be zero\n",
    "backtest_weights[is.na(backtest_weights)] <- 0\n",
    "\n",
    "# get prices as a wide matrix\n",
    "backtest_prices <- backtest_df %>% \n",
    "  pivot_wider(id_cols = date, names_from = ticker, values_from = c(close, weight)) %>%  # pivot wider guarantees prices and theo_weight are date aligned\n",
    "  select(date, starts_with(\"close_\")) %>%\n",
    "  mutate(date = as.numeric(date)) %>% \n",
    "  data.matrix()\n",
    "\n",
    "# get funding as a wide matrix\n",
    "backtest_funding <- backtest_df %>%\n",
    "  pivot_wider(id_cols = date, names_from = ticker, values_from = c(close, funding_rate)) %>%  # pivot wider guarantees prices and funding_returns_simple are date aligned\n",
    "  select(date, starts_with(\"funding_rate_\")) %>%\n",
    "  mutate(date = as.numeric(date)) %>% \n",
    "  data.matrix()\n",
    "\n",
    "# simulation\n",
    "results_df <- fixed_commission_backtest_with_funding(\n",
    "  prices = backtest_prices,\n",
    "  target_weights = backtest_weights,\n",
    "  funding_rates = backtest_funding,\n",
    "  trade_buffer = 0.,\n",
    "  initial_cash = 10000,\n",
    "  margin = 0.05,\n",
    "  commission_pct = 0.0015,\n",
    "  capitalise_profits = FALSE\n",
    ") %>%\n",
    "mutate(ticker = str_remove(ticker, \"close_\")) %>%\n",
    "# remove coins we don't trade from results\n",
    "drop_na(Value)\n",
    "\n",
    "margin <- results_df %>%\n",
    "  group_by(Date) %>%\n",
    "  summarise(Margin = sum(Margin, na.rm = TRUE))\n",
    "\n",
    "cash_balance <- results_df %>%\n",
    "  filter(ticker == \"Cash\") %>%\n",
    "  select(Date, Value) %>%\n",
    "  rename(\"Cash\" = Value)\n",
    "\n",
    "equity <- cash_balance %>%\n",
    "  left_join(margin, by = \"Date\") %>% \n",
    "  mutate(Equity = Cash + Margin) %>% \n",
    "  select(Date, Equity) "
   ]
  },
  {
   "attachments": {},
   "cell_type": "markdown",
   "metadata": {},
   "source": [
    "Here are some plots showing the after-cost performance:"
   ]
  },
  {
   "cell_type": "code",
   "execution_count": 63,
   "metadata": {
    "vscode": {
     "languageId": "r"
    }
   },
   "outputs": [
    {
     "data": {
      "image/png": "[encoded data removed]",
      "text/plain": [
       "plot without title"
      ]
     },
     "metadata": {
      "image/png": {
       "height": 720,
       "width": 840
      }
     },
     "output_type": "display_data"
    }
   ],
   "source": [
    "# plot results\n",
    "equity_plot <- equity %>% \n",
    "  ggplot(aes(x = Date, y = Equity)) + \n",
    "  geom_line() +\n",
    "  labs(\n",
    "    title = \"Simulation of carry, momentum & breakout factors with lambda 1, tau 1\",\n",
    "    y = \"Equity, $\"\n",
    "  )\n",
    "\n",
    "weights_plot <- backtest_df %>%\n",
    "  group_by(date) %>% \n",
    "  summarise(\n",
    "    total_weight = sum(abs(weight)),\n",
    "    net_weight = sum(weight)\n",
    "  ) %>% \n",
    "  pivot_longer(-date, names_to = \"type\", values_to = \"weight\") %>% \n",
    "  ggplot(aes(x = date, y = weight, colour = type)) +\n",
    "  geom_line() +\n",
    "  labs(\n",
    "    title = \"Total and Net Weight\",\n",
    "    y = \"Weight\",\n",
    "    colour = \"\"\n",
    "  ) +\n",
    "  theme(legend.position = \"bottom\")\n",
    "\n",
    "turnover_plot <- results_df  %>% \n",
    "  filter(ticker != \"Cash\") %>% \n",
    "  group_by(Date) %>% \n",
    "  summarise(Turnover = 100*sum(abs(TradeValue))/initial_cash) %>% \n",
    "  ggplot(aes(x = Date, y = Turnover)) +\n",
    "    geom_line() +\n",
    "    geom_point() +\n",
    "    labs(\n",
    "      title = \"Turnover as % of trading capital\",\n",
    "      y = \"Turnover, %\"\n",
    "    )\n",
    "\n",
    "options(repr.plot.width = 14, repr.plot.height=12)\n",
    "equity_plot / weights_plot / turnover_plot + plot_layout(heights = c(2, 1, 1))\n",
    "options(repr.plot.width = 14, repr.plot.height=7)"
   ]
  },
  {
   "attachments": {},
   "cell_type": "markdown",
   "metadata": {},
   "source": [
    "Notice that we get quite long from time to time. And sometimes we're not quite fully invested. Maybe that's what you want, maybe not. \n",
    "\n",
    "Let's repeat the process, but this time constrain the portfolio to a maximum net weight of +/- 0.5:"
   ]
  },
  {
   "cell_type": "code",
   "execution_count": 65,
   "metadata": {
    "vscode": {
     "languageId": "r"
    }
   },
   "outputs": [],
   "source": [
    "# define our mvo function\n",
    "mvo_with_costs_constrained <- function(expected_returns, current_weights, na_idxs = c(), costs, covmat, lambda = 1, tau = 1) {\n",
    "  # define our weights vector as a CVXR::Variable\n",
    "  weights <- Variable(length(expected_returns))\n",
    "  # define an alpha term as the weighted sum of expected returns\n",
    "    # again, express using linear algebra\n",
    "  alpha_term <- (t(weights) %*% expected_returns)\n",
    "  # define a costs term. depends on:\n",
    "    # cost of trading - needs to be expressed such that it scales with expected returns\n",
    "      # calculate as elementwise cost * absolute value of weights - current_weights\n",
    "      # use CVXR::multiply and CVXR::abs\n",
    "    # absolute distance of current_weights to our weights variable\n",
    "      # the more our target weights differ from current weights, the more it costs to trade\n",
    "      # this is a decent representation of fixed percentage costs, but doesn't capture minimum commissions\n",
    "    # sum_entries is a CVXR function for summing the elements of a vector\n",
    "  costs_term <- sum_entries(multiply(costs, abs(weights - current_weights))) # elementwise abs, multiply\n",
    "  # define a risk term as w*Sigma*w\n",
    "    # quad_form is a CVXR function for doing w*Sigma*w\n",
    "  risk_term <- quad_form(weights, covmat)\n",
    "  # define our objective\n",
    "    # maximise our alpha less our risk term multiplied by some factor, lambda, less our costs term multiplied by tau\n",
    "  objective <- Maximize(alpha_term - lambda*risk_term - tau*costs_term)\n",
    "  # constrain to a maximum net weight +/- 0.5, maximum leverage 1\n",
    "  constraints <- list(cvxr_norm(weights, 1) <= 1, abs(sum_entries(weights)) <= 0.5, weights[na_idxs] == 0)\n",
    "  # specify the problem\n",
    "  problem <- Problem(objective, constraints)\n",
    "  # solve\n",
    "  result <- solve(problem)\n",
    "\n",
    "  # return the values of the variable we solved for\n",
    "  result$getValue(weights)\n",
    "}"
   ]
  },
  {
   "cell_type": "code",
   "execution_count": 66,
   "metadata": {
    "vscode": {
     "languageId": "r"
    }
   },
   "outputs": [],
   "source": [
    "lambda <- 1\n",
    "tau <- 1\n",
    "weights <- list()\n",
    "errors <- list()\n",
    "w0 <- rep(0, length(universe_tickers))\n",
    "for( i in c(1:length(exp_returns_sim_df$date)) ) {\n",
    "    # today's date\n",
    "    d = exp_returns_sim_df$date[i]\n",
    "\n",
    "    # cov estimate\n",
    "    today_covmat <- covmat_list[[i]]\n",
    "\n",
    "    # check cov matrix and exp returns vector are ticker-aligned\n",
    "    # all.equal(exp_returns_sim_df %>% filter(date == d) %>% pivot_longer(-date, names_to = \"ticker\", values_to = \"expected_return\")%>% arrange(match(ticker, universe_tickers)) %>% pull(ticker), colnames(today_covmat))\n",
    "    \n",
    "    # get row of expected returns as a vector in the same order as the columns of the covariance matrix\n",
    "    # contains NA at this point\n",
    "    exp_rets <- exp_returns_sim_df %>% filter(date == d) %>% pivot_longer(-date, names_to = \"ticker\", values_to = \"expected_return\")%>% arrange(match(ticker, universe_tickers)) %>% pull(expected_return)\n",
    "    # get na indexes\n",
    "    # we'll explicitly constrain these to get zero weight\n",
    "    na_idxs <- which(is.na(exp_rets))\n",
    "    # convert NA to zero\n",
    "    exp_rets[is.na(exp_rets)] <- 0\n",
    "    # initialise w in case we get a solver error (can retain w0 in these cases)\n",
    "    w <- w0\n",
    "    tryCatch({\n",
    "        w <- mvo_with_costs_constrained(expected_returns = exp_rets, current_weights = w0, na_idxs = na_idxs, costs = costs, covmat = today_covmat, lambda = lambda, tau = tau)\n",
    "    }, error = function(e) {\n",
    "        # in case of solver error, log and retain existing weights\n",
    "        errors[[i]] <- e\n",
    "        }\n",
    "    )\n",
    "    \n",
    "    # w is a one-column matrix\n",
    "    weights[[i]] <- w\n",
    "    w0 <- w \n",
    "}\n",
    "\n",
    "saveRDS(results, file = \"lambda_1_tau_1_net_weight_constrained.rds\")"
   ]
  },
  {
   "cell_type": "code",
   "execution_count": 67,
   "metadata": {
    "vscode": {
     "languageId": "r"
    }
   },
   "outputs": [
    {
     "data": {
      "text/html": [
       "<table class=\"dataframe\">\n",
       "<caption>A tibble: 6 × 7</caption>\n",
       "<thead>\n",
       "\t<tr><th scope=col>weight</th><th scope=col>date</th><th scope=col>ticker</th><th scope=col>expected_return</th><th scope=col>close</th><th scope=col>total_fwd_return_simple</th><th scope=col>funding_rate</th></tr>\n",
       "\t<tr><th scope=col>&lt;dbl&gt;</th><th scope=col>&lt;date&gt;</th><th scope=col>&lt;chr&gt;</th><th scope=col>&lt;dbl&gt;</th><th scope=col>&lt;dbl&gt;</th><th scope=col>&lt;dbl&gt;</th><th scope=col>&lt;dbl&gt;</th></tr>\n",
       "</thead>\n",
       "<tbody>\n",
       "\t<tr><td>0</td><td>2021-02-18</td><td>BTCUSDT</td><td>NA</td><td>51663.6400</td><td>0.041106415</td><td>-0.00412394</td></tr>\n",
       "\t<tr><td>0</td><td>2021-02-18</td><td>ETHUSDT</td><td>NA</td><td> 1910.9900</td><td>0.007813203</td><td>-0.00516012</td></tr>\n",
       "\t<tr><td>0</td><td>2021-02-18</td><td>BCHUSDT</td><td>NA</td><td>  702.5500</td><td>0.015704896</td><td>-0.00711178</td></tr>\n",
       "\t<tr><td>0</td><td>2021-02-18</td><td>XRPUSDT</td><td>NA</td><td>    0.5302</td><td>0.030592698</td><td>-0.00688510</td></tr>\n",
       "\t<tr><td>0</td><td>2021-02-18</td><td>EOSUSDT</td><td>NA</td><td>    4.8000</td><td>0.077784750</td><td>-0.00550166</td></tr>\n",
       "\t<tr><td>0</td><td>2021-02-18</td><td>LTCUSDT</td><td>NA</td><td>  225.8000</td><td>0.020896880</td><td>-0.00616800</td></tr>\n",
       "</tbody>\n",
       "</table>\n"
      ],
      "text/latex": [
       "A tibble: 6 × 7\n",
       "\\begin{tabular}{lllllll}\n",
       " weight & date & ticker & expected\\_return & close & total\\_fwd\\_return\\_simple & funding\\_rate\\\\\n",
       " <dbl> & <date> & <chr> & <dbl> & <dbl> & <dbl> & <dbl>\\\\\n",
       "\\hline\n",
       "\t 0 & 2021-02-18 & BTCUSDT & NA & 51663.6400 & 0.041106415 & -0.00412394\\\\\n",
       "\t 0 & 2021-02-18 & ETHUSDT & NA &  1910.9900 & 0.007813203 & -0.00516012\\\\\n",
       "\t 0 & 2021-02-18 & BCHUSDT & NA &   702.5500 & 0.015704896 & -0.00711178\\\\\n",
       "\t 0 & 2021-02-18 & XRPUSDT & NA &     0.5302 & 0.030592698 & -0.00688510\\\\\n",
       "\t 0 & 2021-02-18 & EOSUSDT & NA &     4.8000 & 0.077784750 & -0.00550166\\\\\n",
       "\t 0 & 2021-02-18 & LTCUSDT & NA &   225.8000 & 0.020896880 & -0.00616800\\\\\n",
       "\\end{tabular}\n"
      ],
      "text/markdown": [
       "\n",
       "A tibble: 6 × 7\n",
       "\n",
       "| weight &lt;dbl&gt; | date &lt;date&gt; | ticker &lt;chr&gt; | expected_return &lt;dbl&gt; | close &lt;dbl&gt; | total_fwd_return_simple &lt;dbl&gt; | funding_rate &lt;dbl&gt; |\n",
       "|---|---|---|---|---|---|---|\n",
       "| 0 | 2021-02-18 | BTCUSDT | NA | 51663.6400 | 0.041106415 | -0.00412394 |\n",
       "| 0 | 2021-02-18 | ETHUSDT | NA |  1910.9900 | 0.007813203 | -0.00516012 |\n",
       "| 0 | 2021-02-18 | BCHUSDT | NA |   702.5500 | 0.015704896 | -0.00711178 |\n",
       "| 0 | 2021-02-18 | XRPUSDT | NA |     0.5302 | 0.030592698 | -0.00688510 |\n",
       "| 0 | 2021-02-18 | EOSUSDT | NA |     4.8000 | 0.077784750 | -0.00550166 |\n",
       "| 0 | 2021-02-18 | LTCUSDT | NA |   225.8000 | 0.020896880 | -0.00616800 |\n",
       "\n"
      ],
      "text/plain": [
       "  weight date       ticker  expected_return close      total_fwd_return_simple\n",
       "1 0      2021-02-18 BTCUSDT NA              51663.6400 0.041106415            \n",
       "2 0      2021-02-18 ETHUSDT NA               1910.9900 0.007813203            \n",
       "3 0      2021-02-18 BCHUSDT NA                702.5500 0.015704896            \n",
       "4 0      2021-02-18 XRPUSDT NA                  0.5302 0.030592698            \n",
       "5 0      2021-02-18 EOSUSDT NA                  4.8000 0.077784750            \n",
       "6 0      2021-02-18 LTCUSDT NA                225.8000 0.020896880            \n",
       "  funding_rate\n",
       "1 -0.00412394 \n",
       "2 -0.00516012 \n",
       "3 -0.00711178 \n",
       "4 -0.00688510 \n",
       "5 -0.00550166 \n",
       "6 -0.00616800 "
      ]
     },
     "metadata": {},
     "output_type": "display_data"
    }
   ],
   "source": [
    "# wrangle weights into a dataframe\n",
    "weights_df <- purrr::map2(\n",
    "  weights, \n",
    "  exp_returns_sim_df$date, \n",
    "  ~weights_mat_to_df(.x, .y, lambda = lambda, tau = tau, tickers = universe_tickers)\n",
    ") %>% \n",
    "  bind_rows() %>% \n",
    "  rename(\"weight\" = lambda_1_tau_1)\n",
    "\n",
    "# join weights onto prices\n",
    "backtest_df <- weights_df %>% \n",
    "  left_join(strategy_df, by = c(\"ticker\", \"date\"))\n",
    "\n",
    "head(backtest_df)"
   ]
  },
  {
   "cell_type": "code",
   "execution_count": 68,
   "metadata": {
    "vscode": {
     "languageId": "r"
    }
   },
   "outputs": [],
   "source": [
    "# simulate\n",
    "\n",
    "# get weights as a wide matrix \n",
    "backtest_weights <- backtest_df %>%\n",
    "  pivot_wider(id_cols = date, names_from = ticker, values_from = c(close, weight)) %>%  # pivot wider guarantees prices and theo_weight are date aligned\n",
    "  select(date, starts_with(\"weight\")) %>%\n",
    "  mutate(date = as.numeric(date)) %>% \n",
    "  data.matrix()\n",
    "\n",
    "# NA weights should be zero\n",
    "backtest_weights[is.na(backtest_weights)] <- 0\n",
    "\n",
    "# get prices as a wide matrix\n",
    "backtest_prices <- backtest_df %>% \n",
    "  pivot_wider(id_cols = date, names_from = ticker, values_from = c(close, weight)) %>%  # pivot wider guarantees prices and theo_weight are date aligned\n",
    "  select(date, starts_with(\"close_\")) %>%\n",
    "  mutate(date = as.numeric(date)) %>% \n",
    "  data.matrix()\n",
    "\n",
    "# get funding as a wide matrix\n",
    "backtest_funding <- backtest_df %>%\n",
    "  pivot_wider(id_cols = date, names_from = ticker, values_from = c(close, funding_rate)) %>%  # pivot wider guarantees prices and funding_returns_simple are date aligned\n",
    "  select(date, starts_with(\"funding_rate_\")) %>%\n",
    "  mutate(date = as.numeric(date)) %>% \n",
    "  data.matrix()\n",
    "\n",
    "# simulation\n",
    "results_df <- fixed_commission_backtest_with_funding(\n",
    "  prices = backtest_prices,\n",
    "  target_weights = backtest_weights,\n",
    "  funding_rates = backtest_funding,\n",
    "  trade_buffer = 0.,\n",
    "  initial_cash = 10000,\n",
    "  margin = 0.05,\n",
    "  commission_pct = 0.0015,\n",
    "  capitalise_profits = FALSE\n",
    ") %>%\n",
    "mutate(ticker = str_remove(ticker, \"close_\")) %>%\n",
    "# remove coins we don't trade from results\n",
    "drop_na(Value)\n",
    "\n",
    "margin <- results_df %>%\n",
    "  group_by(Date) %>%\n",
    "  summarise(Margin = sum(Margin, na.rm = TRUE))\n",
    "\n",
    "cash_balance <- results_df %>%\n",
    "  filter(ticker == \"Cash\") %>%\n",
    "  select(Date, Value) %>%\n",
    "  rename(\"Cash\" = Value)\n",
    "\n",
    "equity <- cash_balance %>%\n",
    "  left_join(margin, by = \"Date\") %>% \n",
    "  mutate(Equity = Cash + Margin) %>% \n",
    "  select(Date, Equity) "
   ]
  },
  {
   "cell_type": "code",
   "execution_count": 70,
   "metadata": {
    "vscode": {
     "languageId": "r"
    }
   },
   "outputs": [
    {
     "data": {
      "image/png": "[encoded data removed]",
      "text/plain": [
       "plot without title"
      ]
     },
     "metadata": {
      "image/png": {
       "height": 720,
       "width": 840
      }
     },
     "output_type": "display_data"
    }
   ],
   "source": [
    "# plot results\n",
    "equity_plot <- equity %>% \n",
    "  ggplot(aes(x = Date, y = Equity)) + \n",
    "  geom_line() +\n",
    "  labs(\n",
    "    title = \"Simulation of carry, momentum & breakout factors with lambda 1, tau 1\",\n",
    "    subtitle = \"Portfolio net position constrained to +/- 0.5\",\n",
    "    y = \"Equity, $\"\n",
    "  )\n",
    "\n",
    "weights_plot <- backtest_df %>%\n",
    "  group_by(date) %>% \n",
    "  summarise(\n",
    "    total_weight = sum(abs(weight)),\n",
    "    net_weight = sum(weight)\n",
    "  ) %>% \n",
    "  pivot_longer(-date, names_to = \"type\", values_to = \"weight\") %>% \n",
    "  ggplot(aes(x = date, y = weight, colour = type)) +\n",
    "  geom_line() +\n",
    "  labs(\n",
    "    title = \"Total and Net Weight\",\n",
    "    y = \"Weight\",\n",
    "    colour = \"\"\n",
    "  ) +\n",
    "  theme(legend.position = \"bottom\")\n",
    "\n",
    "turnover_plot <- results_df  %>% \n",
    "  filter(ticker != \"Cash\") %>% \n",
    "  group_by(Date) %>% \n",
    "  summarise(Turnover = 100*sum(abs(TradeValue))/initial_cash) %>% \n",
    "  ggplot(aes(x = Date, y = Turnover)) +\n",
    "    geom_line() +\n",
    "    geom_point() +\n",
    "    labs(\n",
    "      title = \"Turnover as % of trading capital\",\n",
    "      y = \"Turnover, %\"\n",
    "    )\n",
    "\n",
    "options(repr.plot.width = 14, repr.plot.height=12)\n",
    "equity_plot / weights_plot / turnover_plot + plot_layout(heights = c(2, 1, 1))\n",
    "options(repr.plot.width = 14, repr.plot.height=7)"
   ]
  },
  {
   "attachments": {},
   "cell_type": "markdown",
   "metadata": {},
   "source": [
    "You can see that now the portfolio never gets more than 50% net long. You can adjust this constraint further, and add any of your own, if you like. "
   ]
  },
  {
   "attachments": {},
   "cell_type": "markdown",
   "metadata": {},
   "source": [
    "## Conclusions\n",
    "\n",
    "In this article, we demonstrated how to frame the trading problem - that is, how to navigate the tradeoffs between edge, costs, and constraints - as a mathematical optimisation problem, and how to simulate trading the output of the optimisation. \n",
    "\n",
    "We showed how you can control the optimiser's decisions with the lambda (risk aversion) and tau (propensity to trade) parameters. We saw how different parameter values affect the optimiser's trading decisions. \n",
    "\n",
    "It's worth reiterating that optimisation doesn't represent alpha. Your alpha is embedded in your forecasts of expected returns. Optimisation is a tool for navigating the tradeoffs involved with harnessing your expected returns, but it doesn't provide any alpha itself. This implies that the real work is in finding, quantifying and understanding your signals. \n",
    "\n",
    "If using a risk model in your optimisation, like we did here with our covariance matrixes, it's important to note that the optimiser can be very sensitive to your covariance estimates. It's reasonable to shrink these estimates as a reflection of the inherent uncertainty. \n",
    "\n",
    "How does the optimisation approach stack up against the heuristic no-trade buffer that we explored [earlier](https://robotwealth.com/a-simple-effective-way-to-manage-turnover-and-not-get-killed-by-costs/)? The heuristic is simpler to reason about and implement. But it requires a bit more fudging upstream, particularly if you wanted to incorporate a risk model. \n",
    "\n",
    "The optimisation approach is fiddly to set up at the outset, but extremely scalable once set up. It requires some skill in modelling expected returns and covariances. "
   ]
  },
  {
   "cell_type": "markdown",
   "metadata": {},
   "source": []
  }
 ],
 "metadata": {
  "kernelspec": {
   "display_name": "R",
   "language": "R",
   "name": "ir"
  },
  "language_info": {
   "codemirror_mode": "r",
   "file_extension": ".r",
   "mimetype": "text/x-r-source",
   "name": "R",
   "pygments_lexer": "r",
   "version": "4.2.3"
  },
  "orig_nbformat": 4
 },
 "nbformat": 4,
 "nbformat_minor": 2
}
