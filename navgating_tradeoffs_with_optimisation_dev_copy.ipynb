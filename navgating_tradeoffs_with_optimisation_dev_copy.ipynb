{
 "cells": [
  {
   "attachments": {},
   "cell_type": "markdown",
   "metadata": {},
   "source": [
    "Optimisation article \n",
    "\n",
    "Allows factoring other things in the optimisation - such as risk and trading costs"
   ]
  },
  {
   "attachments": {},
   "cell_type": "markdown",
   "metadata": {},
   "source": [
    "extra_dependencies = c(\"gmp\", \"Rmpfr\", \"ECOSolveR\", \"scs\", \"osqp\", \"RcppEigen\")"
   ]
  },
  {
   "cell_type": "code",
   "execution_count": 1,
   "metadata": {
    "vscode": {
     "languageId": "r"
    }
   },
   "outputs": [
    {
     "name": "stderr",
     "output_type": "stream",
     "text": [
      "── \u001b[1mAttaching core tidyverse packages\u001b[22m ──────────────────────── tidyverse 2.0.0 ──\n",
      "\u001b[32m✔\u001b[39m \u001b[34mdplyr    \u001b[39m 1.1.4     \u001b[32m✔\u001b[39m \u001b[34mreadr    \u001b[39m 2.1.4\n",
      "\u001b[32m✔\u001b[39m \u001b[34mforcats  \u001b[39m 1.0.0     \u001b[32m✔\u001b[39m \u001b[34mstringr  \u001b[39m 1.5.1\n",
      "\u001b[32m✔\u001b[39m \u001b[34mggplot2  \u001b[39m 3.4.4     \u001b[32m✔\u001b[39m \u001b[34mtibble   \u001b[39m 3.2.1\n",
      "\u001b[32m✔\u001b[39m \u001b[34mlubridate\u001b[39m 1.9.3     \u001b[32m✔\u001b[39m \u001b[34mtidyr    \u001b[39m 1.3.1\n",
      "\u001b[32m✔\u001b[39m \u001b[34mpurrr    \u001b[39m 1.0.2     \n",
      "── \u001b[1mConflicts\u001b[22m ────────────────────────────────────────── tidyverse_conflicts() ──\n",
      "\u001b[31m✖\u001b[39m \u001b[34mdplyr\u001b[39m::\u001b[32mfilter()\u001b[39m masks \u001b[34mstats\u001b[39m::filter()\n",
      "\u001b[31m✖\u001b[39m \u001b[34mdplyr\u001b[39m::\u001b[32mlag()\u001b[39m    masks \u001b[34mstats\u001b[39m::lag()\n",
      "\u001b[36mℹ\u001b[39m Use the conflicted package (\u001b[3m\u001b[34m<http://conflicted.r-lib.org/>\u001b[39m\u001b[23m) to force all conflicts to become errors\n",
      "\n",
      "Attaching package: 'CVXR'\n",
      "\n",
      "\n",
      "The following object is masked from 'package:dplyr':\n",
      "\n",
      "    id\n",
      "\n",
      "\n",
      "The following object is masked from 'package:purrr':\n",
      "\n",
      "    is_vector\n",
      "\n",
      "\n",
      "The following object is masked from 'package:stats':\n",
      "\n",
      "    power\n",
      "\n",
      "\n",
      "\n",
      "Attaching package: 'tibbletime'\n",
      "\n",
      "\n",
      "The following object is masked from 'package:stats':\n",
      "\n",
      "    filter\n",
      "\n",
      "\n"
     ]
    }
   ],
   "source": [
    "# session  options\n",
    "options(repr.plot.width = 14, repr.plot.height=7, warn = -1)\n",
    "\n",
    "library(tidyverse)\n",
    "library(tidyfit)\n",
    "library(glue)\n",
    "library(CVXR)\n",
    "library(tibbletime)\n",
    "library(roll)\n",
    "library(patchwork)\n",
    "pacman::p_load_current_gh(\"Robot-Wealth/rsims\", dependencies = TRUE) \n",
    "\n",
    "# chart options\n",
    "theme_set(theme_bw())\n",
    "theme_update(text = element_text(size = 20))"
   ]
  },
  {
   "cell_type": "code",
   "execution_count": 2,
   "metadata": {
    "vscode": {
     "languageId": "r"
    }
   },
   "outputs": [
    {
     "name": "stderr",
     "output_type": "stream",
     "text": [
      "\u001b[1mRows: \u001b[22m\u001b[34m187251\u001b[39m \u001b[1mColumns: \u001b[22m\u001b[34m11\u001b[39m\n",
      "\u001b[36m──\u001b[39m \u001b[1mColumn specification\u001b[22m \u001b[36m────────────────────────────────────────────────────────\u001b[39m\n",
      "\u001b[1mDelimiter:\u001b[22m \",\"\n",
      "\u001b[31mchr\u001b[39m  (1): ticker\n",
      "\u001b[32mdbl\u001b[39m  (9): open, high, low, close, dollar_volume, num_trades, taker_buy_volum...\n",
      "\u001b[34mdate\u001b[39m (1): date\n",
      "\n",
      "\u001b[36mℹ\u001b[39m Use `spec()` to retrieve the full column specification for this data.\n",
      "\u001b[36mℹ\u001b[39m Specify the column types or set `show_col_types = FALSE` to quiet this message.\n"
     ]
    },
    {
     "data": {
      "text/html": [
       "<table class=\"dataframe\">\n",
       "<caption>A tibble: 6 × 11</caption>\n",
       "<thead>\n",
       "\t<tr><th scope=col>ticker</th><th scope=col>date</th><th scope=col>open</th><th scope=col>high</th><th scope=col>low</th><th scope=col>close</th><th scope=col>dollar_volume</th><th scope=col>num_trades</th><th scope=col>taker_buy_volume</th><th scope=col>taker_buy_quote_volumne</th><th scope=col>funding_rate</th></tr>\n",
       "\t<tr><th scope=col>&lt;chr&gt;</th><th scope=col>&lt;date&gt;</th><th scope=col>&lt;dbl&gt;</th><th scope=col>&lt;dbl&gt;</th><th scope=col>&lt;dbl&gt;</th><th scope=col>&lt;dbl&gt;</th><th scope=col>&lt;dbl&gt;</th><th scope=col>&lt;dbl&gt;</th><th scope=col>&lt;dbl&gt;</th><th scope=col>&lt;dbl&gt;</th><th scope=col>&lt;dbl&gt;</th></tr>\n",
       "</thead>\n",
       "<tbody>\n",
       "\t<tr><td>BTCUSDT</td><td>2019-09-11</td><td>10172.13</td><td>10293.11</td><td> 9884.31</td><td> 9991.84</td><td> 85955369</td><td>10928</td><td> 5169.153</td><td> 52110075</td><td>-3e-04</td></tr>\n",
       "\t<tr><td>BTCUSDT</td><td>2019-09-12</td><td> 9992.18</td><td>10365.15</td><td> 9934.11</td><td>10326.58</td><td>157223498</td><td>19384</td><td>11822.980</td><td>119810012</td><td>-3e-04</td></tr>\n",
       "\t<tr><td>BTCUSDT</td><td>2019-09-13</td><td>10327.25</td><td>10450.13</td><td>10239.42</td><td>10296.57</td><td>189055129</td><td>25370</td><td> 9198.551</td><td> 94983470</td><td>-3e-04</td></tr>\n",
       "\t<tr><td>BTCUSDT</td><td>2019-09-14</td><td>10294.81</td><td>10396.40</td><td>10153.51</td><td>10358.00</td><td>206031349</td><td>31494</td><td> 9761.462</td><td>100482121</td><td>-3e-04</td></tr>\n",
       "\t<tr><td>BTCUSDT</td><td>2019-09-15</td><td>10355.61</td><td>10419.97</td><td>10024.81</td><td>10306.37</td><td>211326874</td><td>27512</td><td> 7418.716</td><td> 76577710</td><td>-3e-04</td></tr>\n",
       "\t<tr><td>BTCUSDT</td><td>2019-09-16</td><td>10306.79</td><td>10353.81</td><td>10115.00</td><td>10120.07</td><td>208211376</td><td>29030</td><td> 7564.376</td><td> 77673986</td><td>-3e-04</td></tr>\n",
       "</tbody>\n",
       "</table>\n"
      ],
      "text/latex": [
       "A tibble: 6 × 11\n",
       "\\begin{tabular}{lllllllllll}\n",
       " ticker & date & open & high & low & close & dollar\\_volume & num\\_trades & taker\\_buy\\_volume & taker\\_buy\\_quote\\_volumne & funding\\_rate\\\\\n",
       " <chr> & <date> & <dbl> & <dbl> & <dbl> & <dbl> & <dbl> & <dbl> & <dbl> & <dbl> & <dbl>\\\\\n",
       "\\hline\n",
       "\t BTCUSDT & 2019-09-11 & 10172.13 & 10293.11 &  9884.31 &  9991.84 &  85955369 & 10928 &  5169.153 &  52110075 & -3e-04\\\\\n",
       "\t BTCUSDT & 2019-09-12 &  9992.18 & 10365.15 &  9934.11 & 10326.58 & 157223498 & 19384 & 11822.980 & 119810012 & -3e-04\\\\\n",
       "\t BTCUSDT & 2019-09-13 & 10327.25 & 10450.13 & 10239.42 & 10296.57 & 189055129 & 25370 &  9198.551 &  94983470 & -3e-04\\\\\n",
       "\t BTCUSDT & 2019-09-14 & 10294.81 & 10396.40 & 10153.51 & 10358.00 & 206031349 & 31494 &  9761.462 & 100482121 & -3e-04\\\\\n",
       "\t BTCUSDT & 2019-09-15 & 10355.61 & 10419.97 & 10024.81 & 10306.37 & 211326874 & 27512 &  7418.716 &  76577710 & -3e-04\\\\\n",
       "\t BTCUSDT & 2019-09-16 & 10306.79 & 10353.81 & 10115.00 & 10120.07 & 208211376 & 29030 &  7564.376 &  77673986 & -3e-04\\\\\n",
       "\\end{tabular}\n"
      ],
      "text/markdown": [
       "\n",
       "A tibble: 6 × 11\n",
       "\n",
       "| ticker &lt;chr&gt; | date &lt;date&gt; | open &lt;dbl&gt; | high &lt;dbl&gt; | low &lt;dbl&gt; | close &lt;dbl&gt; | dollar_volume &lt;dbl&gt; | num_trades &lt;dbl&gt; | taker_buy_volume &lt;dbl&gt; | taker_buy_quote_volumne &lt;dbl&gt; | funding_rate &lt;dbl&gt; |\n",
       "|---|---|---|---|---|---|---|---|---|---|---|\n",
       "| BTCUSDT | 2019-09-11 | 10172.13 | 10293.11 |  9884.31 |  9991.84 |  85955369 | 10928 |  5169.153 |  52110075 | -3e-04 |\n",
       "| BTCUSDT | 2019-09-12 |  9992.18 | 10365.15 |  9934.11 | 10326.58 | 157223498 | 19384 | 11822.980 | 119810012 | -3e-04 |\n",
       "| BTCUSDT | 2019-09-13 | 10327.25 | 10450.13 | 10239.42 | 10296.57 | 189055129 | 25370 |  9198.551 |  94983470 | -3e-04 |\n",
       "| BTCUSDT | 2019-09-14 | 10294.81 | 10396.40 | 10153.51 | 10358.00 | 206031349 | 31494 |  9761.462 | 100482121 | -3e-04 |\n",
       "| BTCUSDT | 2019-09-15 | 10355.61 | 10419.97 | 10024.81 | 10306.37 | 211326874 | 27512 |  7418.716 |  76577710 | -3e-04 |\n",
       "| BTCUSDT | 2019-09-16 | 10306.79 | 10353.81 | 10115.00 | 10120.07 | 208211376 | 29030 |  7564.376 |  77673986 | -3e-04 |\n",
       "\n"
      ],
      "text/plain": [
       "  ticker  date       open     high     low      close    dollar_volume\n",
       "1 BTCUSDT 2019-09-11 10172.13 10293.11  9884.31  9991.84  85955369    \n",
       "2 BTCUSDT 2019-09-12  9992.18 10365.15  9934.11 10326.58 157223498    \n",
       "3 BTCUSDT 2019-09-13 10327.25 10450.13 10239.42 10296.57 189055129    \n",
       "4 BTCUSDT 2019-09-14 10294.81 10396.40 10153.51 10358.00 206031349    \n",
       "5 BTCUSDT 2019-09-15 10355.61 10419.97 10024.81 10306.37 211326874    \n",
       "6 BTCUSDT 2019-09-16 10306.79 10353.81 10115.00 10120.07 208211376    \n",
       "  num_trades taker_buy_volume taker_buy_quote_volumne funding_rate\n",
       "1 10928       5169.153         52110075               -3e-04      \n",
       "2 19384      11822.980        119810012               -3e-04      \n",
       "3 25370       9198.551         94983470               -3e-04      \n",
       "4 31494       9761.462        100482121               -3e-04      \n",
       "5 27512       7418.716         76577710               -3e-04      \n",
       "6 29030       7564.376         77673986               -3e-04      "
      ]
     },
     "metadata": {},
     "output_type": "display_data"
    }
   ],
   "source": [
    "perps <- read_csv(\"https://github.com/Robot-Wealth/r-quant-recipes/raw/master/quantifying-combining-alphas/binance_perp_daily.csv\")\n",
    "head(perps)"
   ]
  },
  {
   "cell_type": "markdown",
   "metadata": {},
   "source": [
    "For the purposes of this example, we'll create the same crypto universe that we used last time - the top 30 Binance perpetual futures contracts by trailing 30-day dollar-volume, with stables and wrapped tokens removed. \n",
    "\n",
    "We'll also calculate returns at this step for later use. "
   ]
  },
  {
   "cell_type": "code",
   "execution_count": 3,
   "metadata": {
    "vscode": {
     "languageId": "r"
    }
   },
   "outputs": [],
   "source": [
    "# get same universe as before - top 30 by rolling 30-day dollar volume, no stables\n",
    "\n",
    "# remove stablecoins\n",
    "# list of stablecoins from defi llama\n",
    "url <- \"https://stablecoins.llama.fi/stablecoins?includePrices=true\"\n",
    "response <- httr::GET(url)\n",
    "\n",
    "stables <- response %>%\n",
    "  httr::content(as = \"text\", encoding = \"UTF-8\") %>%\n",
    "  jsonlite::fromJSON(flatten = TRUE) %>%\n",
    "  pluck(\"peggedAssets\") %>%\n",
    "  pull(symbol)\n",
    "\n",
    "# sort(stables)\n",
    "\n",
    "perps <- perps %>% \n",
    "  filter(!ticker %in% glue::glue(\"{stables}USDT\")) "
   ]
  },
  {
   "cell_type": "code",
   "execution_count": 4,
   "metadata": {
    "vscode": {
     "languageId": "r"
    }
   },
   "outputs": [
    {
     "data": {
      "image/png": "[encoded data removed]",
      "text/plain": [
       "plot without title"
      ]
     },
     "metadata": {
      "image/png": {
       "height": 420,
       "width": 840
      }
     },
     "output_type": "display_data"
    }
   ],
   "source": [
    "# get the top 30 by trailing 30-day volume\n",
    "# exclude from universe until we have enough data to do a covariance estimate\n",
    "trading_universe_size <- 30\n",
    "ew_cov_init_wdw <- 30\n",
    "\n",
    "universe <- perps %>%\n",
    "  group_by(ticker) %>% \n",
    "  # also calculate returns for later\n",
    "  mutate(\n",
    "    total_return_simple = funding_rate + (close - lag(close, 1))/lag(close, 1),\n",
    "    total_return_log = log(1 + total_return_simple),\n",
    "    total_fwd_return_simple = dplyr::lead(funding_rate, 1) + (dplyr::lead(close, 1) - close)/close,\n",
    "    total_fwd_return_log = log(1 + total_fwd_return_simple),\n",
    "    trail_volume = roll_mean(dollar_volume, 30)\n",
    "  ) %>% \n",
    "  mutate(days_since_listing = row_number()) %>%   # the number of days we have data for each ticker\n",
    "  na.omit() %>%\n",
    "  ungroup() %>% \n",
    "  # exclude from volume ranking - won't matter if we use a rolling volume calculated with more than the covariance initialisation window as will drop these rows using na.omit\n",
    "  mutate(to_exclude = days_since_listing < ew_cov_init_wdw) %>%   \n",
    "  group_by(date) %>%\n",
    "  mutate(\n",
    "    volume_rank = if_else(to_exclude, NA_integer_, row_number(-trail_volume)),\n",
    "    is_universe = volume_rank <= trading_universe_size,\n",
    "  ) \n",
    "\n",
    "universe %>%\n",
    "  group_by(date, is_universe) %>%\n",
    "  summarize(count = n(), .groups = \"drop\") %>%\n",
    "  ggplot(aes(x=date, y=count, color = is_universe)) + \n",
    "  geom_line() + \n",
    "  labs(\n",
    "    title = 'Universe size'\n",
    ")"
   ]
  },
  {
   "cell_type": "markdown",
   "metadata": {},
   "source": [
    "Next, calculate our features as before. We have:  \n",
    "- Short-term (10-day) cross-sectional momentum (buckted into deciles by date)\n",
    "- Short-term (1-day) cross-sectional carry (also bucketed into deciles by date)\n",
    "- A breakout feature defined as the number of days since the 20-day high which we use as a time-series return predictor. "
   ]
  },
  {
   "cell_type": "code",
   "execution_count": 5,
   "metadata": {
    "vscode": {
     "languageId": "r"
    }
   },
   "outputs": [],
   "source": [
    "# calculate features as before\n",
    "rolling_days_since_high_20 <- purrr::possibly(\n",
    "  tibbletime::rollify(\n",
    "    function(x) {\n",
    "      idx_of_high <- which.max(x)\n",
    "      days_since_high <- length(x) - idx_of_high\n",
    "      days_since_high\n",
    "    }, \n",
    "    window = 20, na_value = NA), \n",
    "  otherwise = NA\n",
    ")\n",
    "\n",
    "features <- universe %>%\n",
    "  group_by(ticker) %>%\n",
    "  arrange(date) %>%\n",
    "  mutate(\n",
    "    breakout = 9.5 - rolling_days_since_high_20(close),  # puts this feature on a scale -9.5 to +9.5\n",
    "    momo = close - lag(close, 10)/close,\n",
    "    carry = funding_rate\n",
    "  ) %>%\n",
    "  ungroup() %>% \n",
    "  na.omit()\n",
    "\n",
    "# create a model df on our universe with momo and carry features scaled into deciles\n",
    "model_df <- features %>%\n",
    "  filter(is_universe) %>% \n",
    "  group_by(date) %>%\n",
    "  mutate(\n",
    "    carry_decile = ntile(carry, 10),\n",
    "    momo_decile = ntile(momo, 10),\n",
    "    # also calculate demeaned return for everything in our universe each day for later\n",
    "    demeaned_return = total_return_simple - mean(total_return_simple, na.rm = TRUE),\n",
    "    demeaned_fwd_return = total_fwd_return_simple - mean(total_fwd_return_simple, na.rm = TRUE)\n",
    "  ) %>% \n",
    "  ungroup()\n",
    "\n",
    "  # start simulation from date we first have n tickers in the universe\n",
    "start_date <- features %>%\n",
    "  group_by(date, is_universe) %>%\n",
    "  summarize(count = n(), .groups = \"drop\") %>%\n",
    "  filter(count >= trading_universe_size) %>%\n",
    "  head(1) %>%\n",
    "  pull(date)"
   ]
  },
  {
   "cell_type": "code",
   "execution_count": 6,
   "metadata": {
    "vscode": {
     "languageId": "r"
    }
   },
   "outputs": [],
   "source": [
    "# use a 90-day window and refit every 10 days\n",
    "is_days <- 90\n",
    "step_size <- trading_universe_size*10  \n",
    "\n",
    "# rolling model for cross-sectional features\n",
    "roll_xs_coeffs_df <- model_df %>% \n",
    "  filter(date >= start_date) %>% \n",
    "  regress(\n",
    "    demeaned_fwd_return ~ carry_decile + momo_decile,\n",
    "    m(\"lm\", vcov. = \"HAC\"),  \n",
    "    .cv = \"sliding_index\", \n",
    "    .cv_args = list(lookback = days(is_days), step = step_size, index = \"date\"),  \n",
    "    .force_cv = TRUE, \n",
    "    .return_slices = TRUE\n",
    "  )\n",
    "\n",
    "# rolling model for time series features \n",
    "breakout_cutoff <- 5.5  # below this level, we set our expected return to zero\n",
    "roll_ts_coeffs_df <- model_df %>% \n",
    "  filter(date >= start_date) %>% \n",
    "  # setting regression weights to zero when breakout < breakout_cutoff will give these data points zero weight in estimating coefficients\n",
    "  mutate(regression_weights = case_when(breakout < breakout_cutoff ~ 0, TRUE ~ 1)) %>% \n",
    "  regress(\n",
    "    total_fwd_return_simple ~ breakout,\n",
    "    m(\"lm\", vcov. = \"HAC\"), \n",
    "    .weights = \"regression_weights\", \n",
    "    .cv = \"sliding_index\", \n",
    "    .cv_args = list(lookback = days(is_days), step = step_size, index = \"date\"),  \n",
    "    .force_cv = TRUE, \n",
    "    .return_slices = TRUE\n",
    "  )"
   ]
  },
  {
   "cell_type": "markdown",
   "metadata": {},
   "source": [
    "This results in a nested dataframe that contains the model objects and various metadata:"
   ]
  },
  {
   "cell_type": "code",
   "execution_count": 7,
   "metadata": {
    "vscode": {
     "languageId": "r"
    }
   },
   "outputs": [
    {
     "data": {
      "text/html": [
       "<table class=\"dataframe\">\n",
       "<caption>A tidyfit.models: 6 × 7</caption>\n",
       "<thead>\n",
       "\t<tr><th scope=col>model</th><th scope=col>estimator_fct</th><th scope=col>size (MB)</th><th scope=col>grid_id</th><th scope=col>model_object</th><th scope=col>settings</th><th scope=col>slice_id</th></tr>\n",
       "\t<tr><th scope=col>&lt;chr&gt;</th><th scope=col>&lt;chr&gt;</th><th scope=col>&lt;dbl&gt;</th><th scope=col>&lt;chr&gt;</th><th scope=col>&lt;list&gt;</th><th scope=col>&lt;list&gt;</th><th scope=col>&lt;chr&gt;</th></tr>\n",
       "</thead>\n",
       "<tbody>\n",
       "\t<tr><td>lm</td><td>stats::lm</td><td>1.360960</td><td>#0010000</td><td>&lt;environment: 0x00000169acab3ca0&gt;</td><td>HAC</td><td>2021-02-11</td></tr>\n",
       "\t<tr><td>lm</td><td>stats::lm</td><td>1.367016</td><td>#0010000</td><td>&lt;environment: 0x00000169acd67438&gt;</td><td>HAC</td><td>2021-02-21</td></tr>\n",
       "\t<tr><td>lm</td><td>stats::lm</td><td>1.380032</td><td>#0010000</td><td>&lt;environment: 0x00000169ad4de7e0&gt;</td><td>HAC</td><td>2021-03-03</td></tr>\n",
       "\t<tr><td>lm</td><td>stats::lm</td><td>1.384864</td><td>#0010000</td><td>&lt;environment: 0x00000169ad683c50&gt;</td><td>HAC</td><td>2021-03-13</td></tr>\n",
       "\t<tr><td>lm</td><td>stats::lm</td><td>1.384808</td><td>#0010000</td><td>&lt;environment: 0x00000169a525f2b8&gt;</td><td>HAC</td><td>2021-03-23</td></tr>\n",
       "\t<tr><td>lm</td><td>stats::lm</td><td>1.384944</td><td>#0010000</td><td>&lt;environment: 0x00000169a336aa58&gt;</td><td>HAC</td><td>2021-04-02</td></tr>\n",
       "</tbody>\n",
       "</table>\n"
      ],
      "text/latex": [
       "A tidyfit.models: 6 × 7\n",
       "\\begin{tabular}{lllllll}\n",
       " model & estimator\\_fct & size (MB) & grid\\_id & model\\_object & settings & slice\\_id\\\\\n",
       " <chr> & <chr> & <dbl> & <chr> & <list> & <list> & <chr>\\\\\n",
       "\\hline\n",
       "\t lm & stats::lm & 1.360960 & \\#0010000 & <environment: 0x00000169acab3ca0> & HAC & 2021-02-11\\\\\n",
       "\t lm & stats::lm & 1.367016 & \\#0010000 & <environment: 0x00000169acd67438> & HAC & 2021-02-21\\\\\n",
       "\t lm & stats::lm & 1.380032 & \\#0010000 & <environment: 0x00000169ad4de7e0> & HAC & 2021-03-03\\\\\n",
       "\t lm & stats::lm & 1.384864 & \\#0010000 & <environment: 0x00000169ad683c50> & HAC & 2021-03-13\\\\\n",
       "\t lm & stats::lm & 1.384808 & \\#0010000 & <environment: 0x00000169a525f2b8> & HAC & 2021-03-23\\\\\n",
       "\t lm & stats::lm & 1.384944 & \\#0010000 & <environment: 0x00000169a336aa58> & HAC & 2021-04-02\\\\\n",
       "\\end{tabular}\n"
      ],
      "text/markdown": [
       "\n",
       "A tidyfit.models: 6 × 7\n",
       "\n",
       "| model &lt;chr&gt; | estimator_fct &lt;chr&gt; | size (MB) &lt;dbl&gt; | grid_id &lt;chr&gt; | model_object &lt;list&gt; | settings &lt;list&gt; | slice_id &lt;chr&gt; |\n",
       "|---|---|---|---|---|---|---|\n",
       "| lm | stats::lm | 1.360960 | #0010000 | &lt;environment: 0x00000169acab3ca0&gt; | HAC | 2021-02-11 |\n",
       "| lm | stats::lm | 1.367016 | #0010000 | &lt;environment: 0x00000169acd67438&gt; | HAC | 2021-02-21 |\n",
       "| lm | stats::lm | 1.380032 | #0010000 | &lt;environment: 0x00000169ad4de7e0&gt; | HAC | 2021-03-03 |\n",
       "| lm | stats::lm | 1.384864 | #0010000 | &lt;environment: 0x00000169ad683c50&gt; | HAC | 2021-03-13 |\n",
       "| lm | stats::lm | 1.384808 | #0010000 | &lt;environment: 0x00000169a525f2b8&gt; | HAC | 2021-03-23 |\n",
       "| lm | stats::lm | 1.384944 | #0010000 | &lt;environment: 0x00000169a336aa58&gt; | HAC | 2021-04-02 |\n",
       "\n"
      ],
      "text/plain": [
       "  model estimator_fct size (MB) grid_id  model_object                     \n",
       "1 lm    stats::lm     1.360960  #0010000 <environment: 0x00000169acab3ca0>\n",
       "2 lm    stats::lm     1.367016  #0010000 <environment: 0x00000169acd67438>\n",
       "3 lm    stats::lm     1.380032  #0010000 <environment: 0x00000169ad4de7e0>\n",
       "4 lm    stats::lm     1.384864  #0010000 <environment: 0x00000169ad683c50>\n",
       "5 lm    stats::lm     1.384808  #0010000 <environment: 0x00000169a525f2b8>\n",
       "6 lm    stats::lm     1.384944  #0010000 <environment: 0x00000169a336aa58>\n",
       "  settings slice_id  \n",
       "1 HAC      2021-02-11\n",
       "2 HAC      2021-02-21\n",
       "3 HAC      2021-03-03\n",
       "4 HAC      2021-03-13\n",
       "5 HAC      2021-03-23\n",
       "6 HAC      2021-04-02"
      ]
     },
     "metadata": {},
     "output_type": "display_data"
    },
    {
     "data": {
      "text/html": [
       "<table class=\"dataframe\">\n",
       "<caption>A tidyfit.models: 6 × 6</caption>\n",
       "<thead>\n",
       "\t<tr><th scope=col>model</th><th scope=col>estimator_fct</th><th scope=col>size (MB)</th><th scope=col>grid_id</th><th scope=col>model_object</th><th scope=col>slice_id</th></tr>\n",
       "\t<tr><th scope=col>&lt;chr&gt;</th><th scope=col>&lt;chr&gt;</th><th scope=col>&lt;dbl&gt;</th><th scope=col>&lt;chr&gt;</th><th scope=col>&lt;list&gt;</th><th scope=col>&lt;chr&gt;</th></tr>\n",
       "</thead>\n",
       "<tbody>\n",
       "\t<tr><td>lm</td><td>stats::lm</td><td>1.245552</td><td>#0010000</td><td>&lt;environment: 0x00000169a9cd1e70&gt;</td><td>2021-02-11</td></tr>\n",
       "\t<tr><td>lm</td><td>stats::lm</td><td>1.257864</td><td>#0010000</td><td>&lt;environment: 0x00000169a9421110&gt;</td><td>2021-02-21</td></tr>\n",
       "\t<tr><td>lm</td><td>stats::lm</td><td>1.254896</td><td>#0010000</td><td>&lt;environment: 0x00000169a64bc680&gt;</td><td>2021-03-03</td></tr>\n",
       "\t<tr><td>lm</td><td>stats::lm</td><td>1.255688</td><td>#0010000</td><td>&lt;environment: 0x00000169a0435408&gt;</td><td>2021-03-13</td></tr>\n",
       "\t<tr><td>lm</td><td>stats::lm</td><td>1.260624</td><td>#0010000</td><td>&lt;environment: 0x00000169a0147808&gt;</td><td>2021-03-23</td></tr>\n",
       "\t<tr><td>lm</td><td>stats::lm</td><td>1.257784</td><td>#0010000</td><td>&lt;environment: 0x000001699f09fac0&gt;</td><td>2021-04-02</td></tr>\n",
       "</tbody>\n",
       "</table>\n"
      ],
      "text/latex": [
       "A tidyfit.models: 6 × 6\n",
       "\\begin{tabular}{llllll}\n",
       " model & estimator\\_fct & size (MB) & grid\\_id & model\\_object & slice\\_id\\\\\n",
       " <chr> & <chr> & <dbl> & <chr> & <list> & <chr>\\\\\n",
       "\\hline\n",
       "\t lm & stats::lm & 1.245552 & \\#0010000 & <environment: 0x00000169a9cd1e70> & 2021-02-11\\\\\n",
       "\t lm & stats::lm & 1.257864 & \\#0010000 & <environment: 0x00000169a9421110> & 2021-02-21\\\\\n",
       "\t lm & stats::lm & 1.254896 & \\#0010000 & <environment: 0x00000169a64bc680> & 2021-03-03\\\\\n",
       "\t lm & stats::lm & 1.255688 & \\#0010000 & <environment: 0x00000169a0435408> & 2021-03-13\\\\\n",
       "\t lm & stats::lm & 1.260624 & \\#0010000 & <environment: 0x00000169a0147808> & 2021-03-23\\\\\n",
       "\t lm & stats::lm & 1.257784 & \\#0010000 & <environment: 0x000001699f09fac0> & 2021-04-02\\\\\n",
       "\\end{tabular}\n"
      ],
      "text/markdown": [
       "\n",
       "A tidyfit.models: 6 × 6\n",
       "\n",
       "| model &lt;chr&gt; | estimator_fct &lt;chr&gt; | size (MB) &lt;dbl&gt; | grid_id &lt;chr&gt; | model_object &lt;list&gt; | slice_id &lt;chr&gt; |\n",
       "|---|---|---|---|---|---|\n",
       "| lm | stats::lm | 1.245552 | #0010000 | &lt;environment: 0x00000169a9cd1e70&gt; | 2021-02-11 |\n",
       "| lm | stats::lm | 1.257864 | #0010000 | &lt;environment: 0x00000169a9421110&gt; | 2021-02-21 |\n",
       "| lm | stats::lm | 1.254896 | #0010000 | &lt;environment: 0x00000169a64bc680&gt; | 2021-03-03 |\n",
       "| lm | stats::lm | 1.255688 | #0010000 | &lt;environment: 0x00000169a0435408&gt; | 2021-03-13 |\n",
       "| lm | stats::lm | 1.260624 | #0010000 | &lt;environment: 0x00000169a0147808&gt; | 2021-03-23 |\n",
       "| lm | stats::lm | 1.257784 | #0010000 | &lt;environment: 0x000001699f09fac0&gt; | 2021-04-02 |\n",
       "\n"
      ],
      "text/plain": [
       "  model estimator_fct size (MB) grid_id  model_object                     \n",
       "1 lm    stats::lm     1.245552  #0010000 <environment: 0x00000169a9cd1e70>\n",
       "2 lm    stats::lm     1.257864  #0010000 <environment: 0x00000169a9421110>\n",
       "3 lm    stats::lm     1.254896  #0010000 <environment: 0x00000169a64bc680>\n",
       "4 lm    stats::lm     1.255688  #0010000 <environment: 0x00000169a0435408>\n",
       "5 lm    stats::lm     1.260624  #0010000 <environment: 0x00000169a0147808>\n",
       "6 lm    stats::lm     1.257784  #0010000 <environment: 0x000001699f09fac0>\n",
       "  slice_id  \n",
       "1 2021-02-11\n",
       "2 2021-02-21\n",
       "3 2021-03-03\n",
       "4 2021-03-13\n",
       "5 2021-03-23\n",
       "6 2021-04-02"
      ]
     },
     "metadata": {},
     "output_type": "display_data"
    }
   ],
   "source": [
    "roll_xs_coeffs_df %>% head\n",
    "roll_ts_coeffs_df %>% select(-settings) %>% head"
   ]
  },
  {
   "cell_type": "markdown",
   "metadata": {},
   "source": [
    "`slice_id` is the date the model goes out of sample - so we'll need to make sure that we align our model coefficients to avoid using them on the data they were fitted on. \n",
    "\n",
    "This requires a little data wrangling:"
   ]
  },
  {
   "cell_type": "code",
   "execution_count": 8,
   "metadata": {
    "vscode": {
     "languageId": "r"
    }
   },
   "outputs": [],
   "source": [
    "# for this to work, need to install.packages(\"sandwich\", \"lmtest\")\n",
    "xs_coefs <- roll_xs_coeffs_df %>% \n",
    "  coef()\n",
    "\n",
    "xs_coefs_df <- xs_coefs %>% \n",
    "  ungroup() %>% \n",
    "  select(term, estimate, slice_id) %>% \n",
    "  pivot_wider(id_cols = slice_id, names_from = term, values_from = estimate) %>% \n",
    "  mutate(slice_id = as_date(slice_id)) %>% \n",
    "  # need to lag slice id to make it oos\n",
    "  # slice_id_oos is the date we start using the parameters\n",
    "  mutate(slice_id_oos = lead(slice_id)) %>% \n",
    "  rename(\"xs_intercept\" = `(Intercept)`)\n",
    "\n",
    "ts_coefs <- roll_ts_coeffs_df %>% \n",
    "  coef()\n",
    "\n",
    "ts_coefs_df <- ts_coefs %>% \n",
    "  ungroup() %>% \n",
    "  select(term, estimate, slice_id) %>% \n",
    "  pivot_wider(id_cols = slice_id, names_from = term, values_from = estimate) %>% \n",
    "  mutate(slice_id = as_date(slice_id)) %>% \n",
    "  # need to lag slice id to make it oos\n",
    "  # slice_id_oos is the date we start using the parameters\n",
    "  mutate(slice_id_oos = lead(slice_id)) %>% \n",
    "  rename(\"ts_intercept\" = `(Intercept)`)\n",
    "\n",
    "xs_coefs_df %>% head\n",
    "# ts_coefs_df %>% head"
   ]
  },
  {
   "cell_type": "markdown",
   "metadata": {},
   "source": [
    "Here's a plot of our cross-sectional features' regression coefficients through time:"
   ]
  },
  {
   "cell_type": "code",
   "execution_count": null,
   "metadata": {
    "vscode": {
     "languageId": "r"
    }
   },
   "outputs": [
    {
     "data": {
      "image/png": "[encoded data removed]",
      "text/plain": [
       "plot without title"
      ]
     },
     "metadata": {
      "image/png": {
       "height": 420,
       "width": 840
      }
     },
     "output_type": "display_data"
    }
   ],
   "source": [
    "# plot cross-sectional estimates\n",
    "xs_coefs_df %>% \n",
    "  select(-slice_id) %>% \n",
    "  pivot_longer(cols = -slice_id_oos, names_to = \"coefficient\", values_to = \"estimate\") %>% \n",
    "  ggplot(aes(x = slice_id_oos, y = estimate)) +\n",
    "  geom_line() +\n",
    "  facet_wrap(~coefficient, ncol = 1, scales = \"free_y\") +\n",
    "  labs(\n",
    "    title = \"Cross-sectional features model parameters\",\n",
    "    x = \"Date\",\n",
    "    y = \"Estimate\"\n",
    "  )\n",
    "\n",
    "# plot time-series estimates\n",
    "# ts_coefs_df %>% \n",
    "#   select(-slice_id) %>% \n",
    "#   pivot_longer(cols = -slice_id_oos, names_to = \"coefficient\", values_to = \"estimate\") %>% \n",
    "#   ggplot(aes(x = slice_id_oos, y = estimate)) +\n",
    "#   geom_line() +\n",
    "#   facet_wrap(~coefficient, ncol = 1, scales = \"free_y\") +\n",
    "#   labs(\n",
    "#     title = \"Time-series features model parameters\",\n",
    "#     x = \"Date\",\n",
    "#     y = \"Estimate\"\n",
    "#   )"
   ]
  },
  {
   "cell_type": "markdown",
   "metadata": {},
   "source": [
    "The estimates for the model coefficients for our carry and momentum features change over time to reflect the changing relationship with forward returns.  \n",
    "\n",
    "In particular, notice how the momentum coefficient flipped sign a few times, but especially from mid-2022, which is in line with our understanding of how the feature evolved. "
   ]
  },
  {
   "cell_type": "markdown",
   "metadata": {},
   "source": [
    "Now we can plot a time series of returns to a frictionless trading strategy based on these expected return estimates. This isn't a backtest - it makes no attempt to address real-world issues such as costs and turnover. It simply plots the returns to our predictions of expected returns over time.\n",
    "\n",
    "I won't actually use the linear model of the breakout feature - instead I'll just set its expected return to 0.002 when it's greater than 5 and 0 otherwise. I don't like that the breakout coefficients go negative from time to time.\n",
    "\n",
    "I'll calculate target positions proportional to their cross-sectional return estimates. I'll then let the breakout feature tilt the portfolio net long, but I'll constrain the maximum delta that this feature can add to a position."
   ]
  },
  {
   "cell_type": "code",
   "execution_count": null,
   "metadata": {
    "vscode": {
     "languageId": "r"
    }
   },
   "outputs": [
    {
     "data": {
      "image/png": "[encoded data removed]",
      "text/plain": [
       "plot without title"
      ]
     },
     "metadata": {
      "image/png": {
       "height": 420,
       "width": 840
      }
     },
     "output_type": "display_data"
    }
   ],
   "source": [
    "# join and fill using slice_id to designate when the model goes oos\n",
    "exp_return_df <- model_df %>% \n",
    "  left_join(\n",
    "    xs_coefs_df %>% left_join(ts_coefs_df, by = c(\"slice_id\", \"slice_id_oos\")), \n",
    "    by = join_by(closest(date > slice_id_oos)), suffix = c(\"_factor\", \"_coef\")\n",
    "  ) %>% \n",
    "  na.omit() %>% \n",
    "  # forecast cross-sectional expected return as\n",
    "  mutate(expected_xs_return = carry_decile_factor*carry_decile_coef + momo_decile_factor*momo_decile_coef + xs_intercept ) %>% \n",
    "  # mean expected xs return each day is zero\n",
    "  # let total expected return be xs return + ts return - allows time series expected return to tilt weights\n",
    "  mutate(expected_ts_return = case_when(breakout_factor >= 5.5 ~ 0.002, TRUE ~ 0)) %>% \n",
    "  ungroup() \n",
    "\n",
    "# long-short the xs expected return\n",
    "# layer ts expected return on top\n",
    "# position by expected return\n",
    "\n",
    "# 1 in the numerator lets it get max 100% long due to breakout\n",
    "max_ts_pos <- 0.5/trading_universe_size\n",
    "\n",
    "strategy_df <- exp_return_df %>% \n",
    "  filter(date >= start_date) %>% \n",
    "  group_by(date) %>% \n",
    "  mutate(xs_position = expected_xs_return - mean(expected_xs_return, na.rm = TRUE)) %>% \n",
    "  # scale positions so that leverage is 1\n",
    "  group_by(date) %>% \n",
    "  mutate(xs_position = if_else(xs_position == 0, 0, xs_position/sum(abs(xs_position)))) %>%\n",
    "  # layer ts expected return prediction\n",
    "  ungroup() %>% \n",
    "  mutate(ts_position = sign(expected_ts_return)) %>% \n",
    "  # constrain maximum delta added by time series prediction\n",
    "  mutate(ts_position = if_else(ts_position >= 0, pmin(ts_position, max_ts_pos), pmax(ts_position, -max_ts_pos))) %>% \n",
    "  mutate(position = xs_position + ts_position) %>% \n",
    "  # strategy return\n",
    "  mutate(strat_return = position*total_fwd_return_simple) %>% \n",
    "  # scale back to leverage 1\n",
    "  group_by(date) %>% \n",
    "  mutate(position = if_else(position == 0, 0, position/sum(abs(position)))) \n",
    "  \n",
    "returns_plot <- strategy_df %>%\n",
    "  group_by(date) %>% \n",
    "  summarise(total_ret = sum(strat_return)) %>% \n",
    "  ggplot(aes(x = date, y = cumsum(log(1+total_ret)))) +\n",
    "  geom_line() +\n",
    "  labs(\n",
    "    title = \"Cumulative strategy return\",\n",
    "    y = \"Cumulative return\"\n",
    "  )\n",
    "\n",
    "weights_plot <- strategy_df %>%\n",
    "  summarise(net_pos = sum(position)) %>% \n",
    "  ggplot(aes(x = date, y = net_pos)) +\n",
    "  geom_line() +\n",
    "  labs(\n",
    "    x = \"Date\",\n",
    "    y = \"Net Weight\"\n",
    "  )\n",
    "\n",
    "returns_plot / weights_plot + plot_layout(heights = c(2,1))"
   ]
  },
  {
   "cell_type": "code",
   "execution_count": null,
   "metadata": {
    "vscode": {
     "languageId": "r"
    }
   },
   "outputs": [
    {
     "data": {
      "text/html": [
       "<style>\n",
       ".list-inline {list-style: none; margin:0; padding: 0}\n",
       ".list-inline>li {display: inline-block}\n",
       ".list-inline>li:not(:last-child)::after {content: \"\\00b7\"; padding: 0 .5ex}\n",
       "</style>\n",
       "<ol class=list-inline><li>'BTCUSDT'</li><li>'ETHUSDT'</li><li>'BCHUSDT'</li><li>'XRPUSDT'</li><li>'EOSUSDT'</li><li>'LTCUSDT'</li><li>'TRXUSDT'</li><li>'ETCUSDT'</li><li>'LINKUSDT'</li><li>'XLMUSDT'</li><li>'ADAUSDT'</li><li>'XMRUSDT'</li><li>'DASHUSDT'</li><li>'ZECUSDT'</li><li>'XTZUSDT'</li><li>'ATOMUSDT'</li><li>'BNBUSDT'</li><li>'ONTUSDT'</li><li>'IOTAUSDT'</li><li>'BATUSDT'</li><li>'VETUSDT'</li><li>'NEOUSDT'</li><li>'QTUMUSDT'</li><li>'IOSTUSDT'</li><li>'THETAUSDT'</li><li>'ALGOUSDT'</li><li>'ZILUSDT'</li><li>'KNCUSDT'</li><li>'ZRXUSDT'</li><li>'COMPUSDT'</li><li>'OMGUSDT'</li><li>'SXPUSDT'</li><li>'KAVAUSDT'</li><li>'BANDUSDT'</li><li>'RLCUSDT'</li><li>'WAVESUSDT'</li><li>'DOTUSDT'</li><li>'MKRUSDT'</li><li>'YFIUSDT'</li><li>'CRVUSDT'</li><li>'SUSHIUSDT'</li><li>'TRBUSDT'</li><li>'UNIUSDT'</li><li>'SOLUSDT'</li><li>'AVAXUSDT'</li><li>'AAVEUSDT'</li><li>'FILUSDT'</li><li>'RSRUSDT'</li><li>'EGLDUSDT'</li><li>'SNXUSDT'</li><li>'DOGEUSDT'</li><li>'ALPHAUSDT'</li><li>'GRTUSDT'</li><li>'1INCHUSDT'</li><li>'FTMUSDT'</li><li>'ENJUSDT'</li><li>'CHZUSDT'</li><li>'MATICUSDT'</li><li>'ANKRUSDT'</li><li>'STORJUSDT'</li><li>'SKLUSDT'</li><li>'KSMUSDT'</li><li>'RUNEUSDT'</li><li>'1000SHIBUSDT'</li><li>'AXSUSDT'</li><li>'SANDUSDT'</li><li>'ALICEUSDT'</li><li>'CHRUSDT'</li><li>'BAKEUSDT'</li><li>'DENTUSDT'</li><li>'SRMUSDT'</li><li>'NEARUSDT'</li><li>'CELRUSDT'</li><li>'COTIUSDT'</li><li>'ONEUSDT'</li><li>'SFPUSDT'</li><li>'DYDXUSDT'</li><li>'MANAUSDT'</li><li>'LRCUSDT'</li><li>'IOTXUSDT'</li><li>'GALAUSDT'</li><li>'GTCUSDT'</li><li>'PEOPLEUSDT'</li><li>'OGNUSDT'</li><li>'IMXUSDT'</li><li>'MTLUSDT'</li><li>'GMTUSDT'</li><li>'ENSUSDT'</li><li>'APEUSDT'</li><li>'BELUSDT'</li><li>'UNFIUSDT'</li><li>'FLMUSDT'</li><li>'LITUSDT'</li><li>'OPUSDT'</li><li>'FLOWUSDT'</li><li>'BLZUSDT'</li><li>'HNTUSDT'</li><li>'RVNUSDT'</li><li>'REEFUSDT'</li><li>'1000LUNCUSDT'</li><li>'KLAYUSDT'</li><li>'LUNA2USDT'</li><li>'MASKUSDT'</li><li>'FTTUSDT'</li><li>'APTUSDT'</li><li>'RENUSDT'</li><li>'OCEANUSDT'</li><li>'LDOUSDT'</li><li>'FETUSDT'</li><li>'MAGICUSDT'</li><li>'AGIXUSDT'</li><li>'LINAUSDT'</li><li>'CFXUSDT'</li><li>'STXUSDT'</li><li>'INJUSDT'</li><li>'ICXUSDT'</li><li>'CTSIUSDT'</li><li>'RNDRUSDT'</li><li>'COCOSUSDT'</li><li>'TOMOUSDT'</li><li>'ARBUSDT'</li><li>'IDUSDT'</li><li>'ARPAUSDT'</li><li>'EDUUSDT'</li><li>'SUIUSDT'</li><li>'1000PEPEUSDT'</li><li>'1000XECUSDT'</li><li>'STMXUSDT'</li><li>'LPTUSDT'</li><li>'C98USDT'</li><li>'HBARUSDT'</li><li>'API3USDT'</li><li>'PERPUSDT'</li><li>'NMRUSDT'</li><li>'WLDUSDT'</li><li>'LEVERUSDT'</li><li>'CYBERUSDT'</li><li>'BNTUSDT'</li><li>'LQTYUSDT'</li><li>'MINAUSDT'</li><li>'ARKUSDT'</li><li>'BLURUSDT'</li><li>'SEIUSDT'</li><li>'BIGTIMEUSDT'</li><li>'GASUSDT'</li><li>'TIAUSDT'</li><li>'MEMEUSDT'</li><li>'ORDIUSDT'</li><li>'ICPUSDT'</li><li>'1000BONKUSDT'</li><li>'UMAUSDT'</li><li>'POWRUSDT'</li><li>'1000SATSUSDT'</li><li>'PYTHUSDT'</li></ol>\n"
      ],
      "text/latex": [
       "\\begin{enumerate*}\n",
       "\\item 'BTCUSDT'\n",
       "\\item 'ETHUSDT'\n",
       "\\item 'BCHUSDT'\n",
       "\\item 'XRPUSDT'\n",
       "\\item 'EOSUSDT'\n",
       "\\item 'LTCUSDT'\n",
       "\\item 'TRXUSDT'\n",
       "\\item 'ETCUSDT'\n",
       "\\item 'LINKUSDT'\n",
       "\\item 'XLMUSDT'\n",
       "\\item 'ADAUSDT'\n",
       "\\item 'XMRUSDT'\n",
       "\\item 'DASHUSDT'\n",
       "\\item 'ZECUSDT'\n",
       "\\item 'XTZUSDT'\n",
       "\\item 'ATOMUSDT'\n",
       "\\item 'BNBUSDT'\n",
       "\\item 'ONTUSDT'\n",
       "\\item 'IOTAUSDT'\n",
       "\\item 'BATUSDT'\n",
       "\\item 'VETUSDT'\n",
       "\\item 'NEOUSDT'\n",
       "\\item 'QTUMUSDT'\n",
       "\\item 'IOSTUSDT'\n",
       "\\item 'THETAUSDT'\n",
       "\\item 'ALGOUSDT'\n",
       "\\item 'ZILUSDT'\n",
       "\\item 'KNCUSDT'\n",
       "\\item 'ZRXUSDT'\n",
       "\\item 'COMPUSDT'\n",
       "\\item 'OMGUSDT'\n",
       "\\item 'SXPUSDT'\n",
       "\\item 'KAVAUSDT'\n",
       "\\item 'BANDUSDT'\n",
       "\\item 'RLCUSDT'\n",
       "\\item 'WAVESUSDT'\n",
       "\\item 'DOTUSDT'\n",
       "\\item 'MKRUSDT'\n",
       "\\item 'YFIUSDT'\n",
       "\\item 'CRVUSDT'\n",
       "\\item 'SUSHIUSDT'\n",
       "\\item 'TRBUSDT'\n",
       "\\item 'UNIUSDT'\n",
       "\\item 'SOLUSDT'\n",
       "\\item 'AVAXUSDT'\n",
       "\\item 'AAVEUSDT'\n",
       "\\item 'FILUSDT'\n",
       "\\item 'RSRUSDT'\n",
       "\\item 'EGLDUSDT'\n",
       "\\item 'SNXUSDT'\n",
       "\\item 'DOGEUSDT'\n",
       "\\item 'ALPHAUSDT'\n",
       "\\item 'GRTUSDT'\n",
       "\\item '1INCHUSDT'\n",
       "\\item 'FTMUSDT'\n",
       "\\item 'ENJUSDT'\n",
       "\\item 'CHZUSDT'\n",
       "\\item 'MATICUSDT'\n",
       "\\item 'ANKRUSDT'\n",
       "\\item 'STORJUSDT'\n",
       "\\item 'SKLUSDT'\n",
       "\\item 'KSMUSDT'\n",
       "\\item 'RUNEUSDT'\n",
       "\\item '1000SHIBUSDT'\n",
       "\\item 'AXSUSDT'\n",
       "\\item 'SANDUSDT'\n",
       "\\item 'ALICEUSDT'\n",
       "\\item 'CHRUSDT'\n",
       "\\item 'BAKEUSDT'\n",
       "\\item 'DENTUSDT'\n",
       "\\item 'SRMUSDT'\n",
       "\\item 'NEARUSDT'\n",
       "\\item 'CELRUSDT'\n",
       "\\item 'COTIUSDT'\n",
       "\\item 'ONEUSDT'\n",
       "\\item 'SFPUSDT'\n",
       "\\item 'DYDXUSDT'\n",
       "\\item 'MANAUSDT'\n",
       "\\item 'LRCUSDT'\n",
       "\\item 'IOTXUSDT'\n",
       "\\item 'GALAUSDT'\n",
       "\\item 'GTCUSDT'\n",
       "\\item 'PEOPLEUSDT'\n",
       "\\item 'OGNUSDT'\n",
       "\\item 'IMXUSDT'\n",
       "\\item 'MTLUSDT'\n",
       "\\item 'GMTUSDT'\n",
       "\\item 'ENSUSDT'\n",
       "\\item 'APEUSDT'\n",
       "\\item 'BELUSDT'\n",
       "\\item 'UNFIUSDT'\n",
       "\\item 'FLMUSDT'\n",
       "\\item 'LITUSDT'\n",
       "\\item 'OPUSDT'\n",
       "\\item 'FLOWUSDT'\n",
       "\\item 'BLZUSDT'\n",
       "\\item 'HNTUSDT'\n",
       "\\item 'RVNUSDT'\n",
       "\\item 'REEFUSDT'\n",
       "\\item '1000LUNCUSDT'\n",
       "\\item 'KLAYUSDT'\n",
       "\\item 'LUNA2USDT'\n",
       "\\item 'MASKUSDT'\n",
       "\\item 'FTTUSDT'\n",
       "\\item 'APTUSDT'\n",
       "\\item 'RENUSDT'\n",
       "\\item 'OCEANUSDT'\n",
       "\\item 'LDOUSDT'\n",
       "\\item 'FETUSDT'\n",
       "\\item 'MAGICUSDT'\n",
       "\\item 'AGIXUSDT'\n",
       "\\item 'LINAUSDT'\n",
       "\\item 'CFXUSDT'\n",
       "\\item 'STXUSDT'\n",
       "\\item 'INJUSDT'\n",
       "\\item 'ICXUSDT'\n",
       "\\item 'CTSIUSDT'\n",
       "\\item 'RNDRUSDT'\n",
       "\\item 'COCOSUSDT'\n",
       "\\item 'TOMOUSDT'\n",
       "\\item 'ARBUSDT'\n",
       "\\item 'IDUSDT'\n",
       "\\item 'ARPAUSDT'\n",
       "\\item 'EDUUSDT'\n",
       "\\item 'SUIUSDT'\n",
       "\\item '1000PEPEUSDT'\n",
       "\\item '1000XECUSDT'\n",
       "\\item 'STMXUSDT'\n",
       "\\item 'LPTUSDT'\n",
       "\\item 'C98USDT'\n",
       "\\item 'HBARUSDT'\n",
       "\\item 'API3USDT'\n",
       "\\item 'PERPUSDT'\n",
       "\\item 'NMRUSDT'\n",
       "\\item 'WLDUSDT'\n",
       "\\item 'LEVERUSDT'\n",
       "\\item 'CYBERUSDT'\n",
       "\\item 'BNTUSDT'\n",
       "\\item 'LQTYUSDT'\n",
       "\\item 'MINAUSDT'\n",
       "\\item 'ARKUSDT'\n",
       "\\item 'BLURUSDT'\n",
       "\\item 'SEIUSDT'\n",
       "\\item 'BIGTIMEUSDT'\n",
       "\\item 'GASUSDT'\n",
       "\\item 'TIAUSDT'\n",
       "\\item 'MEMEUSDT'\n",
       "\\item 'ORDIUSDT'\n",
       "\\item 'ICPUSDT'\n",
       "\\item '1000BONKUSDT'\n",
       "\\item 'UMAUSDT'\n",
       "\\item 'POWRUSDT'\n",
       "\\item '1000SATSUSDT'\n",
       "\\item 'PYTHUSDT'\n",
       "\\end{enumerate*}\n"
      ],
      "text/markdown": [
       "1. 'BTCUSDT'\n",
       "2. 'ETHUSDT'\n",
       "3. 'BCHUSDT'\n",
       "4. 'XRPUSDT'\n",
       "5. 'EOSUSDT'\n",
       "6. 'LTCUSDT'\n",
       "7. 'TRXUSDT'\n",
       "8. 'ETCUSDT'\n",
       "9. 'LINKUSDT'\n",
       "10. 'XLMUSDT'\n",
       "11. 'ADAUSDT'\n",
       "12. 'XMRUSDT'\n",
       "13. 'DASHUSDT'\n",
       "14. 'ZECUSDT'\n",
       "15. 'XTZUSDT'\n",
       "16. 'ATOMUSDT'\n",
       "17. 'BNBUSDT'\n",
       "18. 'ONTUSDT'\n",
       "19. 'IOTAUSDT'\n",
       "20. 'BATUSDT'\n",
       "21. 'VETUSDT'\n",
       "22. 'NEOUSDT'\n",
       "23. 'QTUMUSDT'\n",
       "24. 'IOSTUSDT'\n",
       "25. 'THETAUSDT'\n",
       "26. 'ALGOUSDT'\n",
       "27. 'ZILUSDT'\n",
       "28. 'KNCUSDT'\n",
       "29. 'ZRXUSDT'\n",
       "30. 'COMPUSDT'\n",
       "31. 'OMGUSDT'\n",
       "32. 'SXPUSDT'\n",
       "33. 'KAVAUSDT'\n",
       "34. 'BANDUSDT'\n",
       "35. 'RLCUSDT'\n",
       "36. 'WAVESUSDT'\n",
       "37. 'DOTUSDT'\n",
       "38. 'MKRUSDT'\n",
       "39. 'YFIUSDT'\n",
       "40. 'CRVUSDT'\n",
       "41. 'SUSHIUSDT'\n",
       "42. 'TRBUSDT'\n",
       "43. 'UNIUSDT'\n",
       "44. 'SOLUSDT'\n",
       "45. 'AVAXUSDT'\n",
       "46. 'AAVEUSDT'\n",
       "47. 'FILUSDT'\n",
       "48. 'RSRUSDT'\n",
       "49. 'EGLDUSDT'\n",
       "50. 'SNXUSDT'\n",
       "51. 'DOGEUSDT'\n",
       "52. 'ALPHAUSDT'\n",
       "53. 'GRTUSDT'\n",
       "54. '1INCHUSDT'\n",
       "55. 'FTMUSDT'\n",
       "56. 'ENJUSDT'\n",
       "57. 'CHZUSDT'\n",
       "58. 'MATICUSDT'\n",
       "59. 'ANKRUSDT'\n",
       "60. 'STORJUSDT'\n",
       "61. 'SKLUSDT'\n",
       "62. 'KSMUSDT'\n",
       "63. 'RUNEUSDT'\n",
       "64. '1000SHIBUSDT'\n",
       "65. 'AXSUSDT'\n",
       "66. 'SANDUSDT'\n",
       "67. 'ALICEUSDT'\n",
       "68. 'CHRUSDT'\n",
       "69. 'BAKEUSDT'\n",
       "70. 'DENTUSDT'\n",
       "71. 'SRMUSDT'\n",
       "72. 'NEARUSDT'\n",
       "73. 'CELRUSDT'\n",
       "74. 'COTIUSDT'\n",
       "75. 'ONEUSDT'\n",
       "76. 'SFPUSDT'\n",
       "77. 'DYDXUSDT'\n",
       "78. 'MANAUSDT'\n",
       "79. 'LRCUSDT'\n",
       "80. 'IOTXUSDT'\n",
       "81. 'GALAUSDT'\n",
       "82. 'GTCUSDT'\n",
       "83. 'PEOPLEUSDT'\n",
       "84. 'OGNUSDT'\n",
       "85. 'IMXUSDT'\n",
       "86. 'MTLUSDT'\n",
       "87. 'GMTUSDT'\n",
       "88. 'ENSUSDT'\n",
       "89. 'APEUSDT'\n",
       "90. 'BELUSDT'\n",
       "91. 'UNFIUSDT'\n",
       "92. 'FLMUSDT'\n",
       "93. 'LITUSDT'\n",
       "94. 'OPUSDT'\n",
       "95. 'FLOWUSDT'\n",
       "96. 'BLZUSDT'\n",
       "97. 'HNTUSDT'\n",
       "98. 'RVNUSDT'\n",
       "99. 'REEFUSDT'\n",
       "100. '1000LUNCUSDT'\n",
       "101. 'KLAYUSDT'\n",
       "102. 'LUNA2USDT'\n",
       "103. 'MASKUSDT'\n",
       "104. 'FTTUSDT'\n",
       "105. 'APTUSDT'\n",
       "106. 'RENUSDT'\n",
       "107. 'OCEANUSDT'\n",
       "108. 'LDOUSDT'\n",
       "109. 'FETUSDT'\n",
       "110. 'MAGICUSDT'\n",
       "111. 'AGIXUSDT'\n",
       "112. 'LINAUSDT'\n",
       "113. 'CFXUSDT'\n",
       "114. 'STXUSDT'\n",
       "115. 'INJUSDT'\n",
       "116. 'ICXUSDT'\n",
       "117. 'CTSIUSDT'\n",
       "118. 'RNDRUSDT'\n",
       "119. 'COCOSUSDT'\n",
       "120. 'TOMOUSDT'\n",
       "121. 'ARBUSDT'\n",
       "122. 'IDUSDT'\n",
       "123. 'ARPAUSDT'\n",
       "124. 'EDUUSDT'\n",
       "125. 'SUIUSDT'\n",
       "126. '1000PEPEUSDT'\n",
       "127. '1000XECUSDT'\n",
       "128. 'STMXUSDT'\n",
       "129. 'LPTUSDT'\n",
       "130. 'C98USDT'\n",
       "131. 'HBARUSDT'\n",
       "132. 'API3USDT'\n",
       "133. 'PERPUSDT'\n",
       "134. 'NMRUSDT'\n",
       "135. 'WLDUSDT'\n",
       "136. 'LEVERUSDT'\n",
       "137. 'CYBERUSDT'\n",
       "138. 'BNTUSDT'\n",
       "139. 'LQTYUSDT'\n",
       "140. 'MINAUSDT'\n",
       "141. 'ARKUSDT'\n",
       "142. 'BLURUSDT'\n",
       "143. 'SEIUSDT'\n",
       "144. 'BIGTIMEUSDT'\n",
       "145. 'GASUSDT'\n",
       "146. 'TIAUSDT'\n",
       "147. 'MEMEUSDT'\n",
       "148. 'ORDIUSDT'\n",
       "149. 'ICPUSDT'\n",
       "150. '1000BONKUSDT'\n",
       "151. 'UMAUSDT'\n",
       "152. 'POWRUSDT'\n",
       "153. '1000SATSUSDT'\n",
       "154. 'PYTHUSDT'\n",
       "\n",
       "\n"
      ],
      "text/plain": [
       "  [1] \"BTCUSDT\"      \"ETHUSDT\"      \"BCHUSDT\"      \"XRPUSDT\"      \"EOSUSDT\"     \n",
       "  [6] \"LTCUSDT\"      \"TRXUSDT\"      \"ETCUSDT\"      \"LINKUSDT\"     \"XLMUSDT\"     \n",
       " [11] \"ADAUSDT\"      \"XMRUSDT\"      \"DASHUSDT\"     \"ZECUSDT\"      \"XTZUSDT\"     \n",
       " [16] \"ATOMUSDT\"     \"BNBUSDT\"      \"ONTUSDT\"      \"IOTAUSDT\"     \"BATUSDT\"     \n",
       " [21] \"VETUSDT\"      \"NEOUSDT\"      \"QTUMUSDT\"     \"IOSTUSDT\"     \"THETAUSDT\"   \n",
       " [26] \"ALGOUSDT\"     \"ZILUSDT\"      \"KNCUSDT\"      \"ZRXUSDT\"      \"COMPUSDT\"    \n",
       " [31] \"OMGUSDT\"      \"SXPUSDT\"      \"KAVAUSDT\"     \"BANDUSDT\"     \"RLCUSDT\"     \n",
       " [36] \"WAVESUSDT\"    \"DOTUSDT\"      \"MKRUSDT\"      \"YFIUSDT\"      \"CRVUSDT\"     \n",
       " [41] \"SUSHIUSDT\"    \"TRBUSDT\"      \"UNIUSDT\"      \"SOLUSDT\"      \"AVAXUSDT\"    \n",
       " [46] \"AAVEUSDT\"     \"FILUSDT\"      \"RSRUSDT\"      \"EGLDUSDT\"     \"SNXUSDT\"     \n",
       " [51] \"DOGEUSDT\"     \"ALPHAUSDT\"    \"GRTUSDT\"      \"1INCHUSDT\"    \"FTMUSDT\"     \n",
       " [56] \"ENJUSDT\"      \"CHZUSDT\"      \"MATICUSDT\"    \"ANKRUSDT\"     \"STORJUSDT\"   \n",
       " [61] \"SKLUSDT\"      \"KSMUSDT\"      \"RUNEUSDT\"     \"1000SHIBUSDT\" \"AXSUSDT\"     \n",
       " [66] \"SANDUSDT\"     \"ALICEUSDT\"    \"CHRUSDT\"      \"BAKEUSDT\"     \"DENTUSDT\"    \n",
       " [71] \"SRMUSDT\"      \"NEARUSDT\"     \"CELRUSDT\"     \"COTIUSDT\"     \"ONEUSDT\"     \n",
       " [76] \"SFPUSDT\"      \"DYDXUSDT\"     \"MANAUSDT\"     \"LRCUSDT\"      \"IOTXUSDT\"    \n",
       " [81] \"GALAUSDT\"     \"GTCUSDT\"      \"PEOPLEUSDT\"   \"OGNUSDT\"      \"IMXUSDT\"     \n",
       " [86] \"MTLUSDT\"      \"GMTUSDT\"      \"ENSUSDT\"      \"APEUSDT\"      \"BELUSDT\"     \n",
       " [91] \"UNFIUSDT\"     \"FLMUSDT\"      \"LITUSDT\"      \"OPUSDT\"       \"FLOWUSDT\"    \n",
       " [96] \"BLZUSDT\"      \"HNTUSDT\"      \"RVNUSDT\"      \"REEFUSDT\"     \"1000LUNCUSDT\"\n",
       "[101] \"KLAYUSDT\"     \"LUNA2USDT\"    \"MASKUSDT\"     \"FTTUSDT\"      \"APTUSDT\"     \n",
       "[106] \"RENUSDT\"      \"OCEANUSDT\"    \"LDOUSDT\"      \"FETUSDT\"      \"MAGICUSDT\"   \n",
       "[111] \"AGIXUSDT\"     \"LINAUSDT\"     \"CFXUSDT\"      \"STXUSDT\"      \"INJUSDT\"     \n",
       "[116] \"ICXUSDT\"      \"CTSIUSDT\"     \"RNDRUSDT\"     \"COCOSUSDT\"    \"TOMOUSDT\"    \n",
       "[121] \"ARBUSDT\"      \"IDUSDT\"       \"ARPAUSDT\"     \"EDUUSDT\"      \"SUIUSDT\"     \n",
       "[126] \"1000PEPEUSDT\" \"1000XECUSDT\"  \"STMXUSDT\"     \"LPTUSDT\"      \"C98USDT\"     \n",
       "[131] \"HBARUSDT\"     \"API3USDT\"     \"PERPUSDT\"     \"NMRUSDT\"      \"WLDUSDT\"     \n",
       "[136] \"LEVERUSDT\"    \"CYBERUSDT\"    \"BNTUSDT\"      \"LQTYUSDT\"     \"MINAUSDT\"    \n",
       "[141] \"ARKUSDT\"      \"BLURUSDT\"     \"SEIUSDT\"      \"BIGTIMEUSDT\"  \"GASUSDT\"     \n",
       "[146] \"TIAUSDT\"      \"MEMEUSDT\"     \"ORDIUSDT\"     \"ICPUSDT\"      \"1000BONKUSDT\"\n",
       "[151] \"UMAUSDT\"      \"POWRUSDT\"     \"1000SATSUSDT\" \"PYTHUSDT\"    "
      ]
     },
     "metadata": {},
     "output_type": "display_data"
    }
   ],
   "source": [
    "# tickers that were ever in the universe\n",
    "universe_tickers <- features %>%\n",
    "  filter(is_universe) %>%\n",
    "  pull(ticker) %>%\n",
    "  unique()\n",
    "\n",
    "universe_tickers"
   ]
  },
  {
   "cell_type": "code",
   "execution_count": null,
   "metadata": {
    "vscode": {
     "languageId": "r"
    }
   },
   "outputs": [],
   "source": [
    "strategy_df <- exp_return_df %>% \n",
    "  filter(date >= start_date) %>% \n",
    "  group_by(date) %>% \n",
    "  mutate(expected_xs_return = expected_xs_return - mean(expected_xs_return, na.rm = TRUE)) %>% \n",
    "  ungroup() %>% \n",
    "  mutate(expected_return = expected_xs_return + expected_ts_return) %>% \n",
    "  select(date, ticker, expected_return) %>% \n",
    "  # join back onto df of prices for all tickers that were ever in the universe\n",
    "  # so that we have prices before and after a ticker comes into or out of the universe\n",
    "  # for backtesting purposes\n",
    "  right_join(\n",
    "    features %>% \n",
    "      filter(ticker %in% universe_tickers) %>% \n",
    "      select(date, ticker, close, total_fwd_return_simple, funding_rate), \n",
    "    by = c(\"date\", \"ticker\")\n",
    "  ) %>% \n",
    "  # give anything with a NA weight (due to the join) a zero... or do we want to keep this as NA?\n",
    "  # replace_na(list(expected_return = 0)) %>%\n",
    "  arrange(date, ticker) %>%\n",
    "  filter(date >= start_date)"
   ]
  },
  {
   "cell_type": "code",
   "execution_count": null,
   "metadata": {
    "vscode": {
     "languageId": "r"
    }
   },
   "outputs": [],
   "source": [
    "# get same length exp returns vector for each date\n",
    "exp_returns_wide <- strategy_df %>% \n",
    "  select(ticker, date, expected_return) %>% \n",
    "  # will give NA where a ticker didn't exist\n",
    "  pivot_wider(id_cols = date, names_from = ticker, values_from = expected_return)"
   ]
  },
  {
   "cell_type": "code",
   "execution_count": 18,
   "metadata": {
    "vscode": {
     "languageId": "r"
    }
   },
   "outputs": [
    {
     "data": {
      "text/html": [
       "<table class=\"dataframe\">\n",
       "<caption>A matrix: 6 × 154 of type dbl</caption>\n",
       "<thead>\n",
       "\t<tr><th></th><th scope=col>BTCUSDT</th><th scope=col>ETHUSDT</th><th scope=col>BCHUSDT</th><th scope=col>XRPUSDT</th><th scope=col>EOSUSDT</th><th scope=col>LTCUSDT</th><th scope=col>TRXUSDT</th><th scope=col>ETCUSDT</th><th scope=col>LINKUSDT</th><th scope=col>XLMUSDT</th><th scope=col>⋯</th><th scope=col>ARKUSDT</th><th scope=col>BIGTIMEUSDT</th><th scope=col>GASUSDT</th><th scope=col>POWRUSDT</th><th scope=col>TIAUSDT</th><th scope=col>MEMEUSDT</th><th scope=col>ORDIUSDT</th><th scope=col>1000BONKUSDT</th><th scope=col>PYTHUSDT</th><th scope=col>1000SATSUSDT</th></tr>\n",
       "</thead>\n",
       "<tbody>\n",
       "\t<tr><th scope=row>BTCUSDT</th><td>0.001257750</td><td>0.001265187</td><td>0.001292076</td><td>0.001115746</td><td>0.001228519</td><td>0.001374415</td><td>0.0009567806</td><td>0.001278436</td><td>0.001349403</td><td>0.001187751</td><td>⋯</td><td>0.0004572614</td><td>0.0008971800</td><td>0.0003884761</td><td> 7.137973e-05</td><td>0.0007968656</td><td>0.0006152759</td><td>0.0007570901</td><td>0.0013995239</td><td>0.0003881934</td><td> 3.737449e-04</td></tr>\n",
       "\t<tr><th scope=row>ETHUSDT</th><td>0.001265187</td><td>0.001894860</td><td>0.001601769</td><td>0.001455268</td><td>0.001586128</td><td>0.001714758</td><td>0.0011794332</td><td>0.001841863</td><td>0.001921484</td><td>0.001563655</td><td>⋯</td><td>0.0007247233</td><td>0.0007315801</td><td>0.0006155184</td><td>-3.249583e-05</td><td>0.0002907538</td><td>0.0008001309</td><td>0.0005765096</td><td>0.0009809659</td><td>0.0003911769</td><td> 3.025503e-04</td></tr>\n",
       "\t<tr><th scope=row>BCHUSDT</th><td>0.001292076</td><td>0.001601769</td><td>0.002517979</td><td>0.001650154</td><td>0.001876128</td><td>0.001926555</td><td>0.0013091551</td><td>0.002313368</td><td>0.001898103</td><td>0.001808057</td><td>⋯</td><td>0.0004925287</td><td>0.0011506410</td><td>0.0004856916</td><td> 3.387579e-04</td><td>0.0003967369</td><td>0.0009569715</td><td>0.0008240247</td><td>0.0018537774</td><td>0.0007740062</td><td>-6.085514e-05</td></tr>\n",
       "\t<tr><th scope=row>XRPUSDT</th><td>0.001115746</td><td>0.001455268</td><td>0.001650154</td><td>0.003351683</td><td>0.001882594</td><td>0.001689355</td><td>0.0014283803</td><td>0.001824146</td><td>0.001845807</td><td>0.002317943</td><td>⋯</td><td>0.0004762300</td><td>0.0006059839</td><td>0.0005503228</td><td>-9.190736e-05</td><td>0.0005900446</td><td>0.0008936143</td><td>0.0006949940</td><td>0.0010784931</td><td>0.0006377378</td><td> 2.433058e-05</td></tr>\n",
       "\t<tr><th scope=row>EOSUSDT</th><td>0.001228519</td><td>0.001586128</td><td>0.001876128</td><td>0.001882594</td><td>0.002665066</td><td>0.001889743</td><td>0.0015077323</td><td>0.002185584</td><td>0.002022431</td><td>0.001988568</td><td>⋯</td><td>0.0007372026</td><td>0.0013071906</td><td>0.0008202318</td><td>-2.254763e-04</td><td>0.0005419884</td><td>0.0011924345</td><td>0.0011503750</td><td>0.0013801471</td><td>0.0008974178</td><td> 5.859936e-05</td></tr>\n",
       "\t<tr><th scope=row>LTCUSDT</th><td>0.001374415</td><td>0.001714758</td><td>0.001926555</td><td>0.001689355</td><td>0.001889743</td><td>0.002456971</td><td>0.0013433160</td><td>0.002046660</td><td>0.002036484</td><td>0.001788308</td><td>⋯</td><td>0.0005532189</td><td>0.0006777831</td><td>0.0006348186</td><td>-2.362741e-04</td><td>0.0002527921</td><td>0.0008244184</td><td>0.0004917830</td><td>0.0008205351</td><td>0.0005166350</td><td>-2.901757e-05</td></tr>\n",
       "</tbody>\n",
       "</table>\n"
      ],
      "text/latex": [
       "A matrix: 6 × 154 of type dbl\n",
       "\\begin{tabular}{r|lllllllllllllllllllll}\n",
       "  & BTCUSDT & ETHUSDT & BCHUSDT & XRPUSDT & EOSUSDT & LTCUSDT & TRXUSDT & ETCUSDT & LINKUSDT & XLMUSDT & ⋯ & ARKUSDT & BIGTIMEUSDT & GASUSDT & POWRUSDT & TIAUSDT & MEMEUSDT & ORDIUSDT & 1000BONKUSDT & PYTHUSDT & 1000SATSUSDT\\\\\n",
       "\\hline\n",
       "\tBTCUSDT & 0.001257750 & 0.001265187 & 0.001292076 & 0.001115746 & 0.001228519 & 0.001374415 & 0.0009567806 & 0.001278436 & 0.001349403 & 0.001187751 & ⋯ & 0.0004572614 & 0.0008971800 & 0.0003884761 &  7.137973e-05 & 0.0007968656 & 0.0006152759 & 0.0007570901 & 0.0013995239 & 0.0003881934 &  3.737449e-04\\\\\n",
       "\tETHUSDT & 0.001265187 & 0.001894860 & 0.001601769 & 0.001455268 & 0.001586128 & 0.001714758 & 0.0011794332 & 0.001841863 & 0.001921484 & 0.001563655 & ⋯ & 0.0007247233 & 0.0007315801 & 0.0006155184 & -3.249583e-05 & 0.0002907538 & 0.0008001309 & 0.0005765096 & 0.0009809659 & 0.0003911769 &  3.025503e-04\\\\\n",
       "\tBCHUSDT & 0.001292076 & 0.001601769 & 0.002517979 & 0.001650154 & 0.001876128 & 0.001926555 & 0.0013091551 & 0.002313368 & 0.001898103 & 0.001808057 & ⋯ & 0.0004925287 & 0.0011506410 & 0.0004856916 &  3.387579e-04 & 0.0003967369 & 0.0009569715 & 0.0008240247 & 0.0018537774 & 0.0007740062 & -6.085514e-05\\\\\n",
       "\tXRPUSDT & 0.001115746 & 0.001455268 & 0.001650154 & 0.003351683 & 0.001882594 & 0.001689355 & 0.0014283803 & 0.001824146 & 0.001845807 & 0.002317943 & ⋯ & 0.0004762300 & 0.0006059839 & 0.0005503228 & -9.190736e-05 & 0.0005900446 & 0.0008936143 & 0.0006949940 & 0.0010784931 & 0.0006377378 &  2.433058e-05\\\\\n",
       "\tEOSUSDT & 0.001228519 & 0.001586128 & 0.001876128 & 0.001882594 & 0.002665066 & 0.001889743 & 0.0015077323 & 0.002185584 & 0.002022431 & 0.001988568 & ⋯ & 0.0007372026 & 0.0013071906 & 0.0008202318 & -2.254763e-04 & 0.0005419884 & 0.0011924345 & 0.0011503750 & 0.0013801471 & 0.0008974178 &  5.859936e-05\\\\\n",
       "\tLTCUSDT & 0.001374415 & 0.001714758 & 0.001926555 & 0.001689355 & 0.001889743 & 0.002456971 & 0.0013433160 & 0.002046660 & 0.002036484 & 0.001788308 & ⋯ & 0.0005532189 & 0.0006777831 & 0.0006348186 & -2.362741e-04 & 0.0002527921 & 0.0008244184 & 0.0004917830 & 0.0008205351 & 0.0005166350 & -2.901757e-05\\\\\n",
       "\\end{tabular}\n"
      ],
      "text/markdown": [
       "\n",
       "A matrix: 6 × 154 of type dbl\n",
       "\n",
       "| <!--/--> | BTCUSDT | ETHUSDT | BCHUSDT | XRPUSDT | EOSUSDT | LTCUSDT | TRXUSDT | ETCUSDT | LINKUSDT | XLMUSDT | ⋯ | ARKUSDT | BIGTIMEUSDT | GASUSDT | POWRUSDT | TIAUSDT | MEMEUSDT | ORDIUSDT | 1000BONKUSDT | PYTHUSDT | 1000SATSUSDT |\n",
       "|---|---|---|---|---|---|---|---|---|---|---|---|---|---|---|---|---|---|---|---|---|---|\n",
       "| BTCUSDT | 0.001257750 | 0.001265187 | 0.001292076 | 0.001115746 | 0.001228519 | 0.001374415 | 0.0009567806 | 0.001278436 | 0.001349403 | 0.001187751 | ⋯ | 0.0004572614 | 0.0008971800 | 0.0003884761 |  7.137973e-05 | 0.0007968656 | 0.0006152759 | 0.0007570901 | 0.0013995239 | 0.0003881934 |  3.737449e-04 |\n",
       "| ETHUSDT | 0.001265187 | 0.001894860 | 0.001601769 | 0.001455268 | 0.001586128 | 0.001714758 | 0.0011794332 | 0.001841863 | 0.001921484 | 0.001563655 | ⋯ | 0.0007247233 | 0.0007315801 | 0.0006155184 | -3.249583e-05 | 0.0002907538 | 0.0008001309 | 0.0005765096 | 0.0009809659 | 0.0003911769 |  3.025503e-04 |\n",
       "| BCHUSDT | 0.001292076 | 0.001601769 | 0.002517979 | 0.001650154 | 0.001876128 | 0.001926555 | 0.0013091551 | 0.002313368 | 0.001898103 | 0.001808057 | ⋯ | 0.0004925287 | 0.0011506410 | 0.0004856916 |  3.387579e-04 | 0.0003967369 | 0.0009569715 | 0.0008240247 | 0.0018537774 | 0.0007740062 | -6.085514e-05 |\n",
       "| XRPUSDT | 0.001115746 | 0.001455268 | 0.001650154 | 0.003351683 | 0.001882594 | 0.001689355 | 0.0014283803 | 0.001824146 | 0.001845807 | 0.002317943 | ⋯ | 0.0004762300 | 0.0006059839 | 0.0005503228 | -9.190736e-05 | 0.0005900446 | 0.0008936143 | 0.0006949940 | 0.0010784931 | 0.0006377378 |  2.433058e-05 |\n",
       "| EOSUSDT | 0.001228519 | 0.001586128 | 0.001876128 | 0.001882594 | 0.002665066 | 0.001889743 | 0.0015077323 | 0.002185584 | 0.002022431 | 0.001988568 | ⋯ | 0.0007372026 | 0.0013071906 | 0.0008202318 | -2.254763e-04 | 0.0005419884 | 0.0011924345 | 0.0011503750 | 0.0013801471 | 0.0008974178 |  5.859936e-05 |\n",
       "| LTCUSDT | 0.001374415 | 0.001714758 | 0.001926555 | 0.001689355 | 0.001889743 | 0.002456971 | 0.0013433160 | 0.002046660 | 0.002036484 | 0.001788308 | ⋯ | 0.0005532189 | 0.0006777831 | 0.0006348186 | -2.362741e-04 | 0.0002527921 | 0.0008244184 | 0.0004917830 | 0.0008205351 | 0.0005166350 | -2.901757e-05 |\n",
       "\n"
      ],
      "text/plain": [
       "        BTCUSDT     ETHUSDT     BCHUSDT     XRPUSDT     EOSUSDT     LTCUSDT    \n",
       "BTCUSDT 0.001257750 0.001265187 0.001292076 0.001115746 0.001228519 0.001374415\n",
       "ETHUSDT 0.001265187 0.001894860 0.001601769 0.001455268 0.001586128 0.001714758\n",
       "BCHUSDT 0.001292076 0.001601769 0.002517979 0.001650154 0.001876128 0.001926555\n",
       "XRPUSDT 0.001115746 0.001455268 0.001650154 0.003351683 0.001882594 0.001689355\n",
       "EOSUSDT 0.001228519 0.001586128 0.001876128 0.001882594 0.002665066 0.001889743\n",
       "LTCUSDT 0.001374415 0.001714758 0.001926555 0.001689355 0.001889743 0.002456971\n",
       "        TRXUSDT      ETCUSDT     LINKUSDT    XLMUSDT     ⋯ ARKUSDT     \n",
       "BTCUSDT 0.0009567806 0.001278436 0.001349403 0.001187751 ⋯ 0.0004572614\n",
       "ETHUSDT 0.0011794332 0.001841863 0.001921484 0.001563655 ⋯ 0.0007247233\n",
       "BCHUSDT 0.0013091551 0.002313368 0.001898103 0.001808057 ⋯ 0.0004925287\n",
       "XRPUSDT 0.0014283803 0.001824146 0.001845807 0.002317943 ⋯ 0.0004762300\n",
       "EOSUSDT 0.0015077323 0.002185584 0.002022431 0.001988568 ⋯ 0.0007372026\n",
       "LTCUSDT 0.0013433160 0.002046660 0.002036484 0.001788308 ⋯ 0.0005532189\n",
       "        BIGTIMEUSDT  GASUSDT      POWRUSDT      TIAUSDT      MEMEUSDT    \n",
       "BTCUSDT 0.0008971800 0.0003884761  7.137973e-05 0.0007968656 0.0006152759\n",
       "ETHUSDT 0.0007315801 0.0006155184 -3.249583e-05 0.0002907538 0.0008001309\n",
       "BCHUSDT 0.0011506410 0.0004856916  3.387579e-04 0.0003967369 0.0009569715\n",
       "XRPUSDT 0.0006059839 0.0005503228 -9.190736e-05 0.0005900446 0.0008936143\n",
       "EOSUSDT 0.0013071906 0.0008202318 -2.254763e-04 0.0005419884 0.0011924345\n",
       "LTCUSDT 0.0006777831 0.0006348186 -2.362741e-04 0.0002527921 0.0008244184\n",
       "        ORDIUSDT     1000BONKUSDT PYTHUSDT     1000SATSUSDT \n",
       "BTCUSDT 0.0007570901 0.0013995239 0.0003881934  3.737449e-04\n",
       "ETHUSDT 0.0005765096 0.0009809659 0.0003911769  3.025503e-04\n",
       "BCHUSDT 0.0008240247 0.0018537774 0.0007740062 -6.085514e-05\n",
       "XRPUSDT 0.0006949940 0.0010784931 0.0006377378  2.433058e-05\n",
       "EOSUSDT 0.0011503750 0.0013801471 0.0008974178  5.859936e-05\n",
       "LTCUSDT 0.0004917830 0.0008205351 0.0005166350 -2.901757e-05"
      ]
     },
     "metadata": {},
     "output_type": "display_data"
    }
   ],
   "source": [
    "# covariances\n",
    "# this is an in-sample covariance matrix for everything\n",
    "sigma <- features %>% \n",
    "  filter(ticker %in% universe_tickers) %>% \n",
    "  select(ticker, date, total_return_simple) %>% \n",
    "  pivot_wider(id_cols = date, names_from = ticker, values_from = total_return_simple) %>% \n",
    "  filter(date >= start_date) %>% \n",
    "  # some rows will have NA due to date things came into existence. probably just use pairwise.complete.obs\n",
    "  # although this can result in matrixes that aren't PSD \n",
    "  select(-date) %>% \n",
    "  cov(use = \"pairwise.complete.obs\")\n",
    "\n",
    "head(sigma)"
   ]
  },
  {
   "cell_type": "code",
   "execution_count": 19,
   "metadata": {
    "vscode": {
     "languageId": "r"
    }
   },
   "outputs": [
    {
     "name": "stderr",
     "output_type": "stream",
     "text": [
      "\n",
      "Attaching package: 'Matrix'\n",
      "\n",
      "\n",
      "The following objects are masked from 'package:tidyr':\n",
      "\n",
      "    expand, pack, unpack\n",
      "\n",
      "\n",
      "\n",
      "Attaching package: 'matrixcalc'\n",
      "\n",
      "\n",
      "The following object is masked from 'package:CVXR':\n",
      "\n",
      "    vec\n",
      "\n",
      "\n"
     ]
    },
    {
     "data": {
      "text/html": [
       "FALSE"
      ],
      "text/latex": [
       "FALSE"
      ],
      "text/markdown": [
       "FALSE"
      ],
      "text/plain": [
       "[1] FALSE"
      ]
     },
     "metadata": {},
     "output_type": "display_data"
    },
    {
     "data": {
      "text/html": [
       "TRUE"
      ],
      "text/latex": [
       "TRUE"
      ],
      "text/markdown": [
       "TRUE"
      ],
      "text/plain": [
       "[1] TRUE"
      ]
     },
     "metadata": {},
     "output_type": "display_data"
    }
   ],
   "source": [
    "library(Matrix)\n",
    "library(matrixcalc)\n",
    "\n",
    "is.positive.semi.definite(sigma, tol=1e-8)\n",
    "isSymmetric(sigma)"
   ]
  },
  {
   "cell_type": "code",
   "execution_count": 20,
   "metadata": {
    "vscode": {
     "languageId": "r"
    }
   },
   "outputs": [
    {
     "data": {
      "text/html": [
       "TRUE"
      ],
      "text/latex": [
       "TRUE"
      ],
      "text/markdown": [
       "TRUE"
      ],
      "text/plain": [
       "[1] TRUE"
      ]
     },
     "metadata": {},
     "output_type": "display_data"
    }
   ],
   "source": [
    "# if we make our covariance matrix from different number of pairwise obs, can be not PSD. Force it to be:\n",
    "sigma_pd <- nearPD(sigma)\n",
    "sigma_pd <- sigma_pd$mat\n",
    "\n",
    "is.positive.semi.definite(as.matrix(sigma_pd), tol=1e-8)"
   ]
  },
  {
   "cell_type": "code",
   "execution_count": 21,
   "metadata": {
    "vscode": {
     "languageId": "r"
    }
   },
   "outputs": [],
   "source": [
    "mvo_with_costs <- function(expected_returns, current_weights, na_idxs = c(), costs, covmat, lambda = 1, tau=1) {\n",
    "  # define our weights vector as a CVXR::Variable\n",
    "  weights <- Variable(length(expected_returns))\n",
    "  # define an alpha term as the weighted sum of expected returns\n",
    "    # again, express using linear algebra\n",
    "  alpha_term <- (t(weights) %*% expected_returns)\n",
    "  # define a costs term. depends on:\n",
    "    # cost of trading - needs to be expressed such that it scales with expected returns\n",
    "      # calculate as elementwise cost * absolute value of weights - current_weights\n",
    "      # use CVXR::multiply and CVXR::abs\n",
    "    # absolute distance of current_weights to our weights variable\n",
    "      # the more our target weights differ from current weights, the more it costs to trade\n",
    "      # this is a decent representation of fixed percentage costs, but doesn't capture minimum commissions\n",
    "    # sum_entries is a CVXR function for summing the elements of a vector\n",
    "  costs_term <- sum_entries(multiply(costs, abs(weights - current_weights))) # elementwise abs, multiply\n",
    "  # define a risk term as w*Sigma*w\n",
    "    # quad_form is a CVXR function for doing w*Sigma*w\n",
    "  risk_term <- quad_form(weights, covmat)\n",
    "  # define our objective\n",
    "    # maximise our alpha less our risk term multiplied by some factor, lambda, less our costs term multiplied by tau\n",
    "  objective <- Maximize(alpha_term - lambda*risk_term - tau*costs_term)\n",
    "  # apply our no leverage constraint\n",
    "  constraints <- list(cvxr_norm(weights, 1) <= 1, weights[na_idxs] == 0)\n",
    "  # specify the problem\n",
    "  problem <- Problem(objective, constraints)\n",
    "  # solve\n",
    "  result <- solve(problem)\n",
    "\n",
    "  # return the values of the variable we solved for\n",
    "  result$getValue(weights)\n",
    "}"
   ]
  },
  {
   "cell_type": "code",
   "execution_count": 22,
   "metadata": {
    "vscode": {
     "languageId": "r"
    }
   },
   "outputs": [],
   "source": [
    "# # expected returns in same order as columns of covariance matrix\n",
    "# # actually don't want to have tickers not in today's universe here... how to manage this when something drops out of the universe? constraints? YES\n",
    "# weights <- list()\n",
    "# w0 <- rep(0, ncol(sigma_pd))\n",
    "# i <- 1\n",
    "# for( d in exp_returns_wide$date ) {\n",
    "#     # get row of expected returns as a vector in the same order as the columns of the covariance matrix\n",
    "#     # contains NA at this point\n",
    "#     exp_rets <- exp_returns_wide %>% filter(date == d) %>% pivot_longer(-date, names_to = \"ticker\", values_to = \"expected_return\")%>% arrange(match(ticker, colnames(sigma))) %>% pull(expected_return)\n",
    "#     # get na indexes\n",
    "#     # we'll explicitly constrain these to get zero weight\n",
    "#     na_idxs <- which(is.na(exp_rets))\n",
    "#     # convert NA to zero\n",
    "#     exp_rets[is.na(exp_rets)] <- 0\n",
    "#     w <- mvo_with_costs(expected_returns = exp_rets, current_weights = w0, na_idxs = na_idxs, costs = 5./10000, covmat = sigma_pd, lambda = 10, tau=5)\n",
    "#     # w is a one-column matrix\n",
    "#     weights[[i]] <- w\n",
    "#     i <- i+1\n",
    "#     w0 <- w \n",
    "# }"
   ]
  },
  {
   "cell_type": "code",
   "execution_count": null,
   "metadata": {
    "vscode": {
     "languageId": "r"
    }
   },
   "outputs": [],
   "source": [
    "weights_mat_to_df <- function(x, d, tickers) {\n",
    "  x %>% \n",
    "    as_tibble(.name_repair = ~\"weight\") %>% \n",
    "    mutate(date = d) %>% mutate(ticker = tickers)\n",
    "}"
   ]
  },
  {
   "cell_type": "code",
   "execution_count": null,
   "metadata": {
    "vscode": {
     "languageId": "r"
    }
   },
   "outputs": [],
   "source": [
    "weights_df <- purrr::map2(weights, exp_returns_wide$date, ~weights_mat_to_df(.x, .y, tickers = colnames(sigma_pd))) %>% \n",
    "  bind_rows()"
   ]
  },
  {
   "cell_type": "code",
   "execution_count": null,
   "metadata": {
    "vscode": {
     "languageId": "r"
    }
   },
   "outputs": [],
   "source": [
    "weights_df %>% \n",
    "  left_join(strategy_df, by = c(\"ticker\", \"date\")) %>% \n",
    "  mutate(strat_return = weight * total_fwd_return_simple) %>% \n",
    "  replace_na(list(strat_return = 0)) %>% \n",
    "  group_by(date) %>% \n",
    "  summarise(port_return = sum(strat_return), .groups = \"drop\") %>% \n",
    "  mutate(port_return_log = log(1 + port_return)) %>% \n",
    "  mutate(cum_return = cumsum(port_return_log)) %>% \n",
    "  ggplot(aes(x = date, y = cum_return)) + geom_line()"
   ]
  },
  {
   "attachments": {},
   "cell_type": "markdown",
   "metadata": {},
   "source": [
    "^^^ in-sample cov mat"
   ]
  },
  {
   "cell_type": "code",
   "execution_count": null,
   "metadata": {
    "vscode": {
     "languageId": "r"
    }
   },
   "outputs": [],
   "source": [
    "strategy_df %>% head"
   ]
  },
  {
   "attachments": {},
   "cell_type": "markdown",
   "metadata": {},
   "source": [
    "How to manage covariances on a rolling basis??\n",
    "\n",
    "At each iteration, need to get the covariance matrix for all the assets that:\n",
    "- You have a current position in\n",
    "- You have a non-NA expected return for\n",
    "\n",
    "Could set up by having an exponentially weighted covariance matrix for everything, then constructing the matrix from the assets under consideration at that iteration.\n",
    "\n",
    "There's an EWMA covariance estimate on the blog. \n",
    "\n",
    "Need to use try_catch on the solver"
   ]
  },
  {
   "attachments": {},
   "cell_type": "markdown",
   "metadata": {},
   "source": [
    "<!-- tau < 10\n",
    "lambda 1-20? -->"
   ]
  },
  {
   "cell_type": "code",
   "execution_count": 23,
   "metadata": {
    "vscode": {
     "languageId": "r"
    }
   },
   "outputs": [],
   "source": [
    "# EWMA covariance estimate\n",
    "# note definition of lambda in line with Risk Metrics\n",
    "# ie higher values of lambda put less weight on the most recent returns and more weight on historical returns.\n",
    "ewma_cov <- function(x, y, lambda, initialisation_wdw = 100) {\n",
    "  # check that x and y are the same length and greater than initialisation_wdw\n",
    "  stopifnot(\"x and y must be of equal length\" = length(x) == length(y))\n",
    "  if(length(x) <= initialisation_wdw) {\n",
    "    ewma_cov <- rep(NA, length(x))\n",
    "    return(ewma_cov)\n",
    "  }\n",
    "\n",
    "  # create initialisation window and estimation window\n",
    "  init_x = x[1:initialisation_wdw]\n",
    "  init_y = y[1:initialisation_wdw]\n",
    "\n",
    "  num_obs <- length(x)\n",
    "\n",
    "  # initial covariance and mean return estimates\n",
    "  old_cov <- cov(init_x, init_y)\n",
    "  old_x <- mean(init_x)\n",
    "  old_y <- mean(init_y)\n",
    "\n",
    "  # preallocate output vector\n",
    "  ewma_cov <- vector(mode = \"numeric\", length = num_obs)\n",
    "\n",
    "  # pad with NA for initialisation window\n",
    "  ewma_cov[1:initialisation_wdw] <- NA\n",
    "\n",
    "  # covariance estimate\n",
    "  for(i in c((initialisation_wdw+1):num_obs)) {\n",
    "    ewma_cov[i] <- lambda*old_cov + (1 - lambda)*(old_x * old_y)\n",
    "    old_cov <- ewma_cov[i]\n",
    "    old_x <- x[i]\n",
    "    old_y <- y[i]\n",
    "  }\n",
    "  ewma_cov\n",
    "}"
   ]
  },
  {
   "cell_type": "code",
   "execution_count": 24,
   "metadata": {
    "vscode": {
     "languageId": "r"
    }
   },
   "outputs": [
    {
     "data": {
      "text/html": [
       "<table class=\"dataframe\">\n",
       "<caption>A tibble: 6 × 5</caption>\n",
       "<thead>\n",
       "\t<tr><th scope=col>date</th><th scope=col>tickers</th><th scope=col>ewma_cov</th><th scope=col>ticker.x</th><th scope=col>ticker.y</th></tr>\n",
       "\t<tr><th scope=col>&lt;date&gt;</th><th scope=col>&lt;chr&gt;</th><th scope=col>&lt;dbl&gt;</th><th scope=col>&lt;chr&gt;</th><th scope=col>&lt;chr&gt;</th></tr>\n",
       "</thead>\n",
       "<tbody>\n",
       "\t<tr><td>2024-02-07</td><td>ZRXUSDT, ZRXUSDT</td><td>0.003337849</td><td>ZRXUSDT</td><td>ZRXUSDT</td></tr>\n",
       "\t<tr><td>2024-02-08</td><td>ZRXUSDT, ZRXUSDT</td><td>0.003321164</td><td>ZRXUSDT</td><td>ZRXUSDT</td></tr>\n",
       "\t<tr><td>2024-02-09</td><td>ZRXUSDT, ZRXUSDT</td><td>0.003306101</td><td>ZRXUSDT</td><td>ZRXUSDT</td></tr>\n",
       "\t<tr><td>2024-02-10</td><td>ZRXUSDT, ZRXUSDT</td><td>0.003290074</td><td>ZRXUSDT</td><td>ZRXUSDT</td></tr>\n",
       "\t<tr><td>2024-02-11</td><td>ZRXUSDT, ZRXUSDT</td><td>0.003274115</td><td>ZRXUSDT</td><td>ZRXUSDT</td></tr>\n",
       "\t<tr><td>2024-02-12</td><td>ZRXUSDT, ZRXUSDT</td><td>0.003259633</td><td>ZRXUSDT</td><td>ZRXUSDT</td></tr>\n",
       "</tbody>\n",
       "</table>\n"
      ],
      "text/latex": [
       "A tibble: 6 × 5\n",
       "\\begin{tabular}{lllll}\n",
       " date & tickers & ewma\\_cov & ticker.x & ticker.y\\\\\n",
       " <date> & <chr> & <dbl> & <chr> & <chr>\\\\\n",
       "\\hline\n",
       "\t 2024-02-07 & ZRXUSDT, ZRXUSDT & 0.003337849 & ZRXUSDT & ZRXUSDT\\\\\n",
       "\t 2024-02-08 & ZRXUSDT, ZRXUSDT & 0.003321164 & ZRXUSDT & ZRXUSDT\\\\\n",
       "\t 2024-02-09 & ZRXUSDT, ZRXUSDT & 0.003306101 & ZRXUSDT & ZRXUSDT\\\\\n",
       "\t 2024-02-10 & ZRXUSDT, ZRXUSDT & 0.003290074 & ZRXUSDT & ZRXUSDT\\\\\n",
       "\t 2024-02-11 & ZRXUSDT, ZRXUSDT & 0.003274115 & ZRXUSDT & ZRXUSDT\\\\\n",
       "\t 2024-02-12 & ZRXUSDT, ZRXUSDT & 0.003259633 & ZRXUSDT & ZRXUSDT\\\\\n",
       "\\end{tabular}\n"
      ],
      "text/markdown": [
       "\n",
       "A tibble: 6 × 5\n",
       "\n",
       "| date &lt;date&gt; | tickers &lt;chr&gt; | ewma_cov &lt;dbl&gt; | ticker.x &lt;chr&gt; | ticker.y &lt;chr&gt; |\n",
       "|---|---|---|---|---|\n",
       "| 2024-02-07 | ZRXUSDT, ZRXUSDT | 0.003337849 | ZRXUSDT | ZRXUSDT |\n",
       "| 2024-02-08 | ZRXUSDT, ZRXUSDT | 0.003321164 | ZRXUSDT | ZRXUSDT |\n",
       "| 2024-02-09 | ZRXUSDT, ZRXUSDT | 0.003306101 | ZRXUSDT | ZRXUSDT |\n",
       "| 2024-02-10 | ZRXUSDT, ZRXUSDT | 0.003290074 | ZRXUSDT | ZRXUSDT |\n",
       "| 2024-02-11 | ZRXUSDT, ZRXUSDT | 0.003274115 | ZRXUSDT | ZRXUSDT |\n",
       "| 2024-02-12 | ZRXUSDT, ZRXUSDT | 0.003259633 | ZRXUSDT | ZRXUSDT |\n",
       "\n"
      ],
      "text/plain": [
       "  date       tickers          ewma_cov    ticker.x ticker.y\n",
       "1 2024-02-07 ZRXUSDT, ZRXUSDT 0.003337849 ZRXUSDT  ZRXUSDT \n",
       "2 2024-02-08 ZRXUSDT, ZRXUSDT 0.003321164 ZRXUSDT  ZRXUSDT \n",
       "3 2024-02-09 ZRXUSDT, ZRXUSDT 0.003306101 ZRXUSDT  ZRXUSDT \n",
       "4 2024-02-10 ZRXUSDT, ZRXUSDT 0.003290074 ZRXUSDT  ZRXUSDT \n",
       "5 2024-02-11 ZRXUSDT, ZRXUSDT 0.003274115 ZRXUSDT  ZRXUSDT \n",
       "6 2024-02-12 ZRXUSDT, ZRXUSDT 0.003259633 ZRXUSDT  ZRXUSDT "
      ]
     },
     "metadata": {},
     "output_type": "display_data"
    }
   ],
   "source": [
    "lambda <- 0.995\n",
    "wdw <- ew_cov_init_wdw\n",
    "\n",
    "returns <- features %>% \n",
    "  filter(ticker %in% universe_tickers) %>% \n",
    "  select(ticker, date, total_return_simple)\n",
    "\n",
    "ewma_covs <- returns %>%\n",
    "  full_join(returns, by = \"date\") %>%\n",
    "  na.omit() %>%\n",
    "  ungroup() %>%\n",
    "  # drop diagonal\n",
    "  # dplyr::filter(ticker.x != ticker.y) %>%\n",
    "  # get all combinations (tickers) and remove duplicate combos (eg BTC-ETH, ETH-BTC)\n",
    "  mutate(tickers = ifelse(ticker.x < ticker.y, glue(\"{ticker.x}, {ticker.y}\"), glue(\"{ticker.y}, {ticker.x}\"))) %>%\n",
    "  distinct(date, tickers, .keep_all = TRUE) %>%\n",
    "  # calculate rolling pairwise ewma correlations\n",
    "  group_by(tickers) %>%\n",
    "  arrange(date, .by_group = TRUE) %>%\n",
    "  mutate(ewma_cov = ewma_cov(total_return_simple.x, total_return_simple.y, lambda = lambda, initialisation_wdw = ew_cov_init_wdw)) %>%\n",
    "  select(date, tickers, ewma_cov, ticker.x, ticker.y) %>%\n",
    "  na.omit() %>% \n",
    "  ungroup()\n",
    "\n",
    "tail(ewma_covs)"
   ]
  },
  {
   "cell_type": "code",
   "execution_count": 25,
   "metadata": {
    "vscode": {
     "languageId": "r"
    }
   },
   "outputs": [
    {
     "data": {
      "image/png": "[encoded data removed]",
      "text/plain": [
       "plot without title"
      ]
     },
     "metadata": {
      "image/png": {
       "height": 420,
       "width": 840
      }
     },
     "output_type": "display_data"
    }
   ],
   "source": [
    "# plot pairwise rolling covariances\n",
    "ewma_covs %>%\n",
    "  filter(str_starts(tickers, \"BTCUSDT, S\")) %>%\n",
    "  ggplot(aes(x = date, y = ewma_cov, colour = tickers)) +\n",
    "    geom_line(size=0.8) +\n",
    "    # facet_wrap(~Tickers, ncol = 1) +\n",
    "    labs(\n",
    "      title = \"Rolling Window Covariance Estimates\",\n",
    "      colour = \"Tickers\"\n",
    "    )"
   ]
  },
  {
   "cell_type": "code",
   "execution_count": 26,
   "metadata": {
    "vscode": {
     "languageId": "r"
    }
   },
   "outputs": [],
   "source": [
    "# # recover and shrink covariance matrix for a given day\n",
    "# # function for recovering daily covmat from long covariance dataframe\n",
    "# recover_covmat <- function(long_covs, tickers, num_assets) {\n",
    "#   cov_mat <- matrix(rep(0, num_assets*num_assets), num_assets)\n",
    "#   dimnames(cov_mat) <- list(tickers, tickers)\n",
    "\n",
    "#   # recover lower triangle and diagonal\n",
    "#   cov_mat[lower.tri(cov_mat, diag = TRUE)] <- long_covs$ewma_cov\n",
    "\n",
    "#   # recover upper triangle as upper triangle of transpose of half-formed matrix\n",
    "#   cov_mat[upper.tri(cov_mat)] <- t(cov_mat)[upper.tri(cov_mat)]\n",
    "\n",
    "#   cov_mat\n",
    "# }"
   ]
  },
  {
   "cell_type": "code",
   "execution_count": 27,
   "metadata": {
    "vscode": {
     "languageId": "r"
    }
   },
   "outputs": [
    {
     "data": {
      "text/html": [
       "TRUE"
      ],
      "text/latex": [
       "TRUE"
      ],
      "text/markdown": [
       "TRUE"
      ],
      "text/plain": [
       "[1] TRUE"
      ]
     },
     "metadata": {},
     "output_type": "display_data"
    }
   ],
   "source": [
    "today_cov_df <- ewma_covs %>%\n",
    "  ungroup() %>% \n",
    "  filter(date == \"2024-02-02\") %>% \n",
    "  select(ticker.x, ticker.y, ewma_cov) %>%\n",
    "  pivot_wider(names_from = ticker.y, values_from = ewma_cov) %>%  # , names_prefix = \"cov_\"\n",
    "  column_to_rownames(var = \"ticker.x\")\n",
    "\n",
    "# check rownames and colnames match\n",
    "all.equal(rownames(today_cov_df), colnames(today_cov_df))"
   ]
  },
  {
   "cell_type": "code",
   "execution_count": 28,
   "metadata": {
    "vscode": {
     "languageId": "r"
    }
   },
   "outputs": [
    {
     "data": {
      "text/html": [
       "FALSE"
      ],
      "text/latex": [
       "FALSE"
      ],
      "text/markdown": [
       "FALSE"
      ],
      "text/plain": [
       "[1] FALSE"
      ]
     },
     "metadata": {},
     "output_type": "display_data"
    },
    {
     "data": {
      "text/html": [
       "TRUE"
      ],
      "text/latex": [
       "TRUE"
      ],
      "text/markdown": [
       "TRUE"
      ],
      "text/plain": [
       "[1] TRUE"
      ]
     },
     "metadata": {},
     "output_type": "display_data"
    }
   ],
   "source": [
    "today_covmat <- as.matrix(today_cov_df)\n",
    "today_covmat[lower.tri(today_covmat)] <- t(today_covmat)[lower.tri(today_covmat)]\n",
    "\n",
    "is.positive.semi.definite(today_covmat, tol=1e-8)\n",
    "isSymmetric(today_covmat)"
   ]
  },
  {
   "cell_type": "code",
   "execution_count": 29,
   "metadata": {
    "vscode": {
     "languageId": "r"
    }
   },
   "outputs": [
    {
     "data": {
      "text/html": [
       "TRUE"
      ],
      "text/latex": [
       "TRUE"
      ],
      "text/markdown": [
       "TRUE"
      ],
      "text/plain": [
       "[1] TRUE"
      ]
     },
     "metadata": {},
     "output_type": "display_data"
    }
   ],
   "source": [
    "# if we make our covariance matrix from different number of pairwise obs, can be not PSD. Force it to be:\n",
    "today_covmat_pd <- nearPD(today_covmat)$mat\n",
    "# today_covmat_pd <- today_covmat_pd$mat\n",
    "\n",
    "is.positive.semi.definite(as.matrix(today_covmat_pd), tol=1e-8)"
   ]
  },
  {
   "cell_type": "code",
   "execution_count": 30,
   "metadata": {
    "vscode": {
     "languageId": "r"
    }
   },
   "outputs": [],
   "source": [
    "# shrink covmat\n",
    "# library(corpcor)\n",
    "\n",
    "# cov.shrink works on returns data - maybe could compute for a rolling window?\n",
    "# today_covmat_shrunk <- cov.shrink()\n"
   ]
  },
  {
   "cell_type": "code",
   "execution_count": 31,
   "metadata": {
    "vscode": {
     "languageId": "r"
    }
   },
   "outputs": [],
   "source": [
    "# Assuming 'cov_matrix' is your pre-computed covariance matrix\n",
    "\n",
    "# Calculate the average variance from the diagonal of the covariance matrix\n",
    "average_variance <- mean(diag(today_covmat_pd))\n",
    "\n",
    "# Define the shrinkage target matrix (e.g., identity matrix scaled by average variance)\n",
    "target_matrix <- diag(average_variance, nrow = ncol(today_covmat_pd))\n",
    "\n",
    "# Define the shrinkage intensity (lambda) - choose a value between 0 and 1\n",
    "# 0 means no shrinkage (use the original cov_matrix),\n",
    "# 1 means full shrinkage (use only the target_matrix)\n",
    "lambda <- 0.9\n",
    "\n",
    "# Compute the shrunk covariance matrix\n",
    "today_covmat_shrunk <- (1 - lambda) * today_covmat_pd + lambda * target_matrix\n",
    "# note shrinks covs towards zero, reflecting uncertainty in cov estimates. may increases variances"
   ]
  },
  {
   "cell_type": "code",
   "execution_count": 32,
   "metadata": {
    "vscode": {
     "languageId": "r"
    }
   },
   "outputs": [
    {
     "data": {
      "text/html": [
       "0.000731289519862306"
      ],
      "text/latex": [
       "0.000731289519862306"
      ],
      "text/markdown": [
       "0.000731289519862306"
      ],
      "text/plain": [
       "[1] 0.0007312895"
      ]
     },
     "metadata": {},
     "output_type": "display_data"
    },
    {
     "data": {
      "text/html": [
       "7.37075488629882e-05"
      ],
      "text/latex": [
       "7.37075488629882e-05"
      ],
      "text/markdown": [
       "7.37075488629882e-05"
      ],
      "text/plain": [
       "[1] 7.370755e-05"
      ]
     },
     "metadata": {},
     "output_type": "display_data"
    }
   ],
   "source": [
    "i <- 3\n",
    "j <- 4\n",
    "today_covmat[i, j]\n",
    "today_covmat_shrunk[i, j]"
   ]
  },
  {
   "attachments": {},
   "cell_type": "markdown",
   "metadata": {},
   "source": [
    "Next steps:\n",
    "- Compare shrunk and unshrunk covars for a few days to the in-sample covariances. Want to generally shrink towards those values. See if this is actually the case. \n",
    "\n",
    "In clude comments about stickiness of covariance estimates - should test this assumption (but probably holds in a very noisy way - hence we shrink.)"
   ]
  },
  {
   "cell_type": "code",
   "execution_count": 37,
   "metadata": {
    "vscode": {
     "languageId": "r"
    }
   },
   "outputs": [],
   "source": [
    "# difs <- vector()\n",
    "# for( a1 in asset_names ) {\n",
    "#     for (a2 in asset_names ) {\n",
    "#         if(a1 %in% colnames(today_covmat_shrunk) & a2 %in% colnames(today_covmat_shrunk)) {\n",
    "#             dif <- (sigma_pd[a1, a2] - today_covmat_shrunk[a1, a2])/sigma_pd[a1, a2]\n",
    "#             difs <- c(difs, dif)\n",
    "#             # shrunk value is bigger than original value\n",
    "#             if(dif < -1)\n",
    "#               cat(a1, a2, sigma_pd[a1, a2], today_covmat_shrunk[a1, a2], \"\\n\")\n",
    "#         }\n",
    "#     }\n",
    "# }\n",
    "\n",
    "# data.frame(difs = difs, idx = c(1:length(difs))) %>% ggplot(aes(x = idx, y = difs)) + geom_line()"
   ]
  },
  {
   "cell_type": "code",
   "execution_count": null,
   "metadata": {
    "vscode": {
     "languageId": "r"
    }
   },
   "outputs": [],
   "source": [
    "# need a covariance estimate\n",
    "# start with in-sample covariance to prove it works, then calculate on a rolling basis, with shrinkage\n",
    "# maybe do the constrained downside example as well"
   ]
  },
  {
   "attachments": {},
   "cell_type": "markdown",
   "metadata": {},
   "source": [
    "Other things you can do - different model types, (lasso, ridge), more stable features - 3-day crypto funding, 20-day momentum.... other signals, etc\n"
   ]
  },
  {
   "cell_type": "code",
   "execution_count": 74,
   "metadata": {
    "vscode": {
     "languageId": "r"
    }
   },
   "outputs": [],
   "source": [
    "# functions for wrangling covariance matrix\n",
    "\n",
    "get_today_covmat <- function(ewma_covs_long, today_date) {\n",
    "    today_cov_df <- ewma_covs_long %>%\n",
    "        ungroup() %>% \n",
    "        filter(date == today_date) %>% \n",
    "        select(ticker.x, ticker.y, ewma_cov) %>%\n",
    "        pivot_wider(names_from = ticker.y, values_from = ewma_cov) %>%  # , names_prefix = \"cov_\"\n",
    "        column_to_rownames(var = \"ticker.x\")\n",
    "    \n",
    "    # check rownames and colnames match\n",
    "    stopifnot(\"error making today's cov matrix\" = all.equal(rownames(today_cov_df), colnames(today_cov_df)))\n",
    "    today_covmat <- as.matrix(today_cov_df)\n",
    "    today_covmat[lower.tri(today_covmat)] <- t(today_covmat)[lower.tri(today_covmat)]\n",
    "    \n",
    "    # return nearest positive semi-definite matrix\n",
    "    today_covmat <- nearPD(today_covmat)\n",
    "    return(today_covmat$mat)\n",
    "}\n",
    "\n",
    "#' shrinks covs towards zero, reflecting uncertainty in cov estimates. may increases variances.\n",
    "#' @param shrinkage_intensity: a value between 0 and 1. 0 means no shrinkage (use the original covmat), 1 means full shrinkage (use only the target_matrix)\n",
    "shrink_covmat <- function(covmat, shrinkage_intensity = 0.9) {\n",
    "    # average variance from the diagonal \n",
    "    average_variance <- mean(diag(covmat))\n",
    "    # shrinkage target matrix (identity matrix scaled by average variance)\n",
    "    target_matrix <- diag(average_variance, nrow = ncol(covmat))\n",
    "    # shrunk covariance matrix\n",
    "    covmat_shrunk <- (1 - shrinkage_intensity) * covmat + shrinkage_intensity * target_matrix\n",
    "\n",
    "    return(covmat_shrunk)\n",
    "}\n",
    "\n",
    "#' extend covmat to cover all tickers in the tradeable universe\n",
    "#' put average variance on the diagonal, zeroes elsewhere\n",
    "#' intent is that optimisation will explicitly constrain weights for assets not yet in the universe to 0\n",
    "extend_covmat <- function(covmat, all_tickers) {\n",
    "    current_tickers <- colnames(covmat) \n",
    "    \n",
    "    full_covmat <- matrix(0, nrow = length(all_tickers), ncol = length(all_tickers),\n",
    "         dimnames = list(all_tickers, all_tickers))\n",
    "    \n",
    "    current_tickers_ordered <- intersect(all_tickers, rownames(covmat))\n",
    "\n",
    "    # ensure covmats are ordered correctly\n",
    "    covmat_reordered <- covmat[current_tickers_ordered, current_tickers_ordered] %>% \n",
    "      # ensure is Matrix type for compatibility\n",
    "      as.matrix()\n",
    "    full_covmat <- full_covmat[all_tickers, all_tickers]\n",
    "\n",
    "    # replace in full_covmat\n",
    "    full_covmat[current_tickers_ordered, current_tickers_ordered] <- covmat_reordered\n",
    "\n",
    "    # replace zeros on diagonal with average variance\n",
    "    zero_diag_indices <- which(diag(full_covmat) == 0)\n",
    "    average_variance <- mean(diag(covmat))\n",
    "    diag(full_covmat)[zero_diag_indices] <- average_variance\n",
    "    \n",
    "    return(full_covmat)\n",
    "}\n",
    "\n",
    "wrangle_covmat <- function(ewma_covs_long, date, tickers, shrinkage_intensity = 0.9) {\n",
    "    today_covmat <- get_today_covmat(ewma_covs_long, date) %>% \n",
    "      shrink_covmat(shrinkage_intensity = shrinkage_intensity) %>% \n",
    "      extend_covmat(all_tickers = tickers)\n",
    "\n",
    "    # check\n",
    "    if(is.positive.semi.definite(today_covmat, tol=1e-8)){\n",
    "        if(isSymmetric(today_covmat)) {\n",
    "            glue(\"covmat crated for {date} not symmetric\")\n",
    "        }\n",
    "    } else {\n",
    "        glue(\"covmat crated for {date} not PSD\")\n",
    "    }    \n",
    "    \n",
    "    return(today_covmat)\n",
    "}"
   ]
  },
  {
   "cell_type": "code",
   "execution_count": 75,
   "metadata": {
    "vscode": {
     "languageId": "r"
    }
   },
   "outputs": [],
   "source": [
    "today_covmat <- get_today_covmat(ewma_covs, dates[1]) %>% \n",
    "      shrink_covmat(shrinkage_intensity = 0.9) %>% \n",
    "      extend_covmat(all_tickers = universe_tickers)"
   ]
  },
  {
   "cell_type": "code",
   "execution_count": 76,
   "metadata": {
    "vscode": {
     "languageId": "r"
    }
   },
   "outputs": [
    {
     "data": {
      "text/html": [
       "TRUE"
      ],
      "text/latex": [
       "TRUE"
      ],
      "text/markdown": [
       "TRUE"
      ],
      "text/plain": [
       "[1] TRUE"
      ]
     },
     "metadata": {},
     "output_type": "display_data"
    }
   ],
   "source": [
    "is.positive.semi.definite(today_covmat, tol=1e-8)"
   ]
  },
  {
   "cell_type": "code",
   "execution_count": 77,
   "metadata": {
    "vscode": {
     "languageId": "r"
    }
   },
   "outputs": [
    {
     "data": {
      "text/html": [
       "<table class=\"dataframe\">\n",
       "<caption>A matrix: 6 × 154 of type dbl</caption>\n",
       "<thead>\n",
       "\t<tr><th></th><th scope=col>BTCUSDT</th><th scope=col>ETHUSDT</th><th scope=col>BCHUSDT</th><th scope=col>XRPUSDT</th><th scope=col>EOSUSDT</th><th scope=col>LTCUSDT</th><th scope=col>TRXUSDT</th><th scope=col>ETCUSDT</th><th scope=col>LINKUSDT</th><th scope=col>XLMUSDT</th><th scope=col>⋯</th><th scope=col>GASUSDT</th><th scope=col>TIAUSDT</th><th scope=col>MEMEUSDT</th><th scope=col>ORDIUSDT</th><th scope=col>ICPUSDT</th><th scope=col>1000BONKUSDT</th><th scope=col>UMAUSDT</th><th scope=col>POWRUSDT</th><th scope=col>1000SATSUSDT</th><th scope=col>PYTHUSDT</th></tr>\n",
       "</thead>\n",
       "<tbody>\n",
       "\t<tr><th scope=row>BTCUSDT</th><td>0.0073908929</td><td>0.0001752296</td><td>0.0001910196</td><td>0.0001676661</td><td>0.0001856829</td><td>0.0002385430</td><td>0.0001784938</td><td>0.0001716937</td><td>0.0001962299</td><td>0.0002101182</td><td>⋯</td><td>0</td><td>0</td><td>0</td><td>0</td><td>0</td><td>0</td><td>0</td><td>0</td><td>0</td><td>0</td></tr>\n",
       "\t<tr><th scope=row>ETHUSDT</th><td>0.0001752296</td><td>0.0074963444</td><td>0.0002343257</td><td>0.0002449138</td><td>0.0002244257</td><td>0.0002760130</td><td>0.0002145189</td><td>0.0002537456</td><td>0.0002851202</td><td>0.0002985442</td><td>⋯</td><td>0</td><td>0</td><td>0</td><td>0</td><td>0</td><td>0</td><td>0</td><td>0</td><td>0</td><td>0</td></tr>\n",
       "\t<tr><th scope=row>BCHUSDT</th><td>0.0001910196</td><td>0.0002343257</td><td>0.0075547103</td><td>0.0002953755</td><td>0.0002732749</td><td>0.0003084001</td><td>0.0002624800</td><td>0.0003037456</td><td>0.0002823844</td><td>0.0003521719</td><td>⋯</td><td>0</td><td>0</td><td>0</td><td>0</td><td>0</td><td>0</td><td>0</td><td>0</td><td>0</td><td>0</td></tr>\n",
       "\t<tr><th scope=row>XRPUSDT</th><td>0.0001676661</td><td>0.0002449138</td><td>0.0002953755</td><td>0.0079595524</td><td>0.0003005393</td><td>0.0002543511</td><td>0.0002823906</td><td>0.0002782588</td><td>0.0002754832</td><td>0.0004866812</td><td>⋯</td><td>0</td><td>0</td><td>0</td><td>0</td><td>0</td><td>0</td><td>0</td><td>0</td><td>0</td><td>0</td></tr>\n",
       "\t<tr><th scope=row>EOSUSDT</th><td>0.0001856829</td><td>0.0002244257</td><td>0.0002732749</td><td>0.0003005393</td><td>0.0075073629</td><td>0.0002792302</td><td>0.0002590798</td><td>0.0002422626</td><td>0.0002686740</td><td>0.0003787931</td><td>⋯</td><td>0</td><td>0</td><td>0</td><td>0</td><td>0</td><td>0</td><td>0</td><td>0</td><td>0</td><td>0</td></tr>\n",
       "\t<tr><th scope=row>LTCUSDT</th><td>0.0002385430</td><td>0.0002760130</td><td>0.0003084001</td><td>0.0002543511</td><td>0.0002792302</td><td>0.0075977262</td><td>0.0002403276</td><td>0.0002775141</td><td>0.0002945871</td><td>0.0003147238</td><td>⋯</td><td>0</td><td>0</td><td>0</td><td>0</td><td>0</td><td>0</td><td>0</td><td>0</td><td>0</td><td>0</td></tr>\n",
       "</tbody>\n",
       "</table>\n"
      ],
      "text/latex": [
       "A matrix: 6 × 154 of type dbl\n",
       "\\begin{tabular}{r|lllllllllllllllllllll}\n",
       "  & BTCUSDT & ETHUSDT & BCHUSDT & XRPUSDT & EOSUSDT & LTCUSDT & TRXUSDT & ETCUSDT & LINKUSDT & XLMUSDT & ⋯ & GASUSDT & TIAUSDT & MEMEUSDT & ORDIUSDT & ICPUSDT & 1000BONKUSDT & UMAUSDT & POWRUSDT & 1000SATSUSDT & PYTHUSDT\\\\\n",
       "\\hline\n",
       "\tBTCUSDT & 0.0073908929 & 0.0001752296 & 0.0001910196 & 0.0001676661 & 0.0001856829 & 0.0002385430 & 0.0001784938 & 0.0001716937 & 0.0001962299 & 0.0002101182 & ⋯ & 0 & 0 & 0 & 0 & 0 & 0 & 0 & 0 & 0 & 0\\\\\n",
       "\tETHUSDT & 0.0001752296 & 0.0074963444 & 0.0002343257 & 0.0002449138 & 0.0002244257 & 0.0002760130 & 0.0002145189 & 0.0002537456 & 0.0002851202 & 0.0002985442 & ⋯ & 0 & 0 & 0 & 0 & 0 & 0 & 0 & 0 & 0 & 0\\\\\n",
       "\tBCHUSDT & 0.0001910196 & 0.0002343257 & 0.0075547103 & 0.0002953755 & 0.0002732749 & 0.0003084001 & 0.0002624800 & 0.0003037456 & 0.0002823844 & 0.0003521719 & ⋯ & 0 & 0 & 0 & 0 & 0 & 0 & 0 & 0 & 0 & 0\\\\\n",
       "\tXRPUSDT & 0.0001676661 & 0.0002449138 & 0.0002953755 & 0.0079595524 & 0.0003005393 & 0.0002543511 & 0.0002823906 & 0.0002782588 & 0.0002754832 & 0.0004866812 & ⋯ & 0 & 0 & 0 & 0 & 0 & 0 & 0 & 0 & 0 & 0\\\\\n",
       "\tEOSUSDT & 0.0001856829 & 0.0002244257 & 0.0002732749 & 0.0003005393 & 0.0075073629 & 0.0002792302 & 0.0002590798 & 0.0002422626 & 0.0002686740 & 0.0003787931 & ⋯ & 0 & 0 & 0 & 0 & 0 & 0 & 0 & 0 & 0 & 0\\\\\n",
       "\tLTCUSDT & 0.0002385430 & 0.0002760130 & 0.0003084001 & 0.0002543511 & 0.0002792302 & 0.0075977262 & 0.0002403276 & 0.0002775141 & 0.0002945871 & 0.0003147238 & ⋯ & 0 & 0 & 0 & 0 & 0 & 0 & 0 & 0 & 0 & 0\\\\\n",
       "\\end{tabular}\n"
      ],
      "text/markdown": [
       "\n",
       "A matrix: 6 × 154 of type dbl\n",
       "\n",
       "| <!--/--> | BTCUSDT | ETHUSDT | BCHUSDT | XRPUSDT | EOSUSDT | LTCUSDT | TRXUSDT | ETCUSDT | LINKUSDT | XLMUSDT | ⋯ | GASUSDT | TIAUSDT | MEMEUSDT | ORDIUSDT | ICPUSDT | 1000BONKUSDT | UMAUSDT | POWRUSDT | 1000SATSUSDT | PYTHUSDT |\n",
       "|---|---|---|---|---|---|---|---|---|---|---|---|---|---|---|---|---|---|---|---|---|---|\n",
       "| BTCUSDT | 0.0073908929 | 0.0001752296 | 0.0001910196 | 0.0001676661 | 0.0001856829 | 0.0002385430 | 0.0001784938 | 0.0001716937 | 0.0001962299 | 0.0002101182 | ⋯ | 0 | 0 | 0 | 0 | 0 | 0 | 0 | 0 | 0 | 0 |\n",
       "| ETHUSDT | 0.0001752296 | 0.0074963444 | 0.0002343257 | 0.0002449138 | 0.0002244257 | 0.0002760130 | 0.0002145189 | 0.0002537456 | 0.0002851202 | 0.0002985442 | ⋯ | 0 | 0 | 0 | 0 | 0 | 0 | 0 | 0 | 0 | 0 |\n",
       "| BCHUSDT | 0.0001910196 | 0.0002343257 | 0.0075547103 | 0.0002953755 | 0.0002732749 | 0.0003084001 | 0.0002624800 | 0.0003037456 | 0.0002823844 | 0.0003521719 | ⋯ | 0 | 0 | 0 | 0 | 0 | 0 | 0 | 0 | 0 | 0 |\n",
       "| XRPUSDT | 0.0001676661 | 0.0002449138 | 0.0002953755 | 0.0079595524 | 0.0003005393 | 0.0002543511 | 0.0002823906 | 0.0002782588 | 0.0002754832 | 0.0004866812 | ⋯ | 0 | 0 | 0 | 0 | 0 | 0 | 0 | 0 | 0 | 0 |\n",
       "| EOSUSDT | 0.0001856829 | 0.0002244257 | 0.0002732749 | 0.0003005393 | 0.0075073629 | 0.0002792302 | 0.0002590798 | 0.0002422626 | 0.0002686740 | 0.0003787931 | ⋯ | 0 | 0 | 0 | 0 | 0 | 0 | 0 | 0 | 0 | 0 |\n",
       "| LTCUSDT | 0.0002385430 | 0.0002760130 | 0.0003084001 | 0.0002543511 | 0.0002792302 | 0.0075977262 | 0.0002403276 | 0.0002775141 | 0.0002945871 | 0.0003147238 | ⋯ | 0 | 0 | 0 | 0 | 0 | 0 | 0 | 0 | 0 | 0 |\n",
       "\n"
      ],
      "text/plain": [
       "        BTCUSDT      ETHUSDT      BCHUSDT      XRPUSDT      EOSUSDT     \n",
       "BTCUSDT 0.0073908929 0.0001752296 0.0001910196 0.0001676661 0.0001856829\n",
       "ETHUSDT 0.0001752296 0.0074963444 0.0002343257 0.0002449138 0.0002244257\n",
       "BCHUSDT 0.0001910196 0.0002343257 0.0075547103 0.0002953755 0.0002732749\n",
       "XRPUSDT 0.0001676661 0.0002449138 0.0002953755 0.0079595524 0.0003005393\n",
       "EOSUSDT 0.0001856829 0.0002244257 0.0002732749 0.0003005393 0.0075073629\n",
       "LTCUSDT 0.0002385430 0.0002760130 0.0003084001 0.0002543511 0.0002792302\n",
       "        LTCUSDT      TRXUSDT      ETCUSDT      LINKUSDT     XLMUSDT      ⋯\n",
       "BTCUSDT 0.0002385430 0.0001784938 0.0001716937 0.0001962299 0.0002101182 ⋯\n",
       "ETHUSDT 0.0002760130 0.0002145189 0.0002537456 0.0002851202 0.0002985442 ⋯\n",
       "BCHUSDT 0.0003084001 0.0002624800 0.0003037456 0.0002823844 0.0003521719 ⋯\n",
       "XRPUSDT 0.0002543511 0.0002823906 0.0002782588 0.0002754832 0.0004866812 ⋯\n",
       "EOSUSDT 0.0002792302 0.0002590798 0.0002422626 0.0002686740 0.0003787931 ⋯\n",
       "LTCUSDT 0.0075977262 0.0002403276 0.0002775141 0.0002945871 0.0003147238 ⋯\n",
       "        GASUSDT TIAUSDT MEMEUSDT ORDIUSDT ICPUSDT 1000BONKUSDT UMAUSDT POWRUSDT\n",
       "BTCUSDT 0       0       0        0        0       0            0       0       \n",
       "ETHUSDT 0       0       0        0        0       0            0       0       \n",
       "BCHUSDT 0       0       0        0        0       0            0       0       \n",
       "XRPUSDT 0       0       0        0        0       0            0       0       \n",
       "EOSUSDT 0       0       0        0        0       0            0       0       \n",
       "LTCUSDT 0       0       0        0        0       0            0       0       \n",
       "        1000SATSUSDT PYTHUSDT\n",
       "BTCUSDT 0            0       \n",
       "ETHUSDT 0            0       \n",
       "BCHUSDT 0            0       \n",
       "XRPUSDT 0            0       \n",
       "EOSUSDT 0            0       \n",
       "LTCUSDT 0            0       "
      ]
     },
     "metadata": {},
     "output_type": "display_data"
    }
   ],
   "source": [
    "today_covmat %>% head"
   ]
  },
  {
   "cell_type": "code",
   "execution_count": 78,
   "metadata": {
    "vscode": {
     "languageId": "r"
    }
   },
   "outputs": [],
   "source": [
    "tcm2 <- wrangle_covmat(ewma_covs, date = dates[1], tickers = universe_tickers, shrinkage_intensity = 0.9)"
   ]
  },
  {
   "cell_type": "code",
   "execution_count": 79,
   "metadata": {
    "vscode": {
     "languageId": "r"
    }
   },
   "outputs": [
    {
     "data": {
      "text/html": [
       "TRUE"
      ],
      "text/latex": [
       "TRUE"
      ],
      "text/markdown": [
       "TRUE"
      ],
      "text/plain": [
       "[1] TRUE"
      ]
     },
     "metadata": {},
     "output_type": "display_data"
    }
   ],
   "source": [
    "is.positive.semi.definite(tcm2, tol=1e-8)"
   ]
  },
  {
   "cell_type": "code",
   "execution_count": 80,
   "metadata": {
    "vscode": {
     "languageId": "r"
    }
   },
   "outputs": [
    {
     "data": {
      "text/html": [],
      "text/latex": [],
      "text/markdown": [],
      "text/plain": [
       "numeric(0)"
      ]
     },
     "metadata": {},
     "output_type": "display_data"
    }
   ],
   "source": [
    "x <- today_covmat - tcm2\n",
    "x[abs(x > 0)]"
   ]
  },
  {
   "cell_type": "code",
   "execution_count": 82,
   "metadata": {
    "vscode": {
     "languageId": "r"
    }
   },
   "outputs": [],
   "source": [
    "# recompute covariances matrixes \n",
    "simulation_start_date <- start_date + days(100)  # allow for first in-sample period - otherwise we run lots of simulation loops for zero weights\n",
    "exp_returns_sim_df <- exp_returns_wide %>% filter(date >= simulation_start_date)\n",
    "\n",
    "dates <- exp_returns_sim_df$date\n",
    "covmat_list <- map(dates, ~wrangle_covmat(ewma_covs, .x, tickers = universe_tickers, shrinkage_intensity = 0.9))"
   ]
  },
  {
   "attachments": {},
   "cell_type": "markdown",
   "metadata": {},
   "source": [
    "Do say 500 days to figure out lambda and tau, then do whole simulation:"
   ]
  },
  {
   "cell_type": "code",
   "execution_count": 104,
   "metadata": {
    "vscode": {
     "languageId": "r"
    }
   },
   "outputs": [
    {
     "name": "stdout",
     "output_type": "stream",
     "text": [
      "[1] 1\n",
      "[1] 3\n"
     ]
    }
   ],
   "source": [
    "for(l in lambdas)\n",
    "  print(l)"
   ]
  },
  {
   "cell_type": "code",
   "execution_count": 119,
   "metadata": {
    "vscode": {
     "languageId": "r"
    }
   },
   "outputs": [
    {
     "name": "stdout",
     "output_type": "stream",
     "text": [
      "Doing lambda 1, tau 0.1\n",
      "Doing lambda 1, tau 0.3\n",
      "Doing lambda 1, tau 1\n",
      "Doing lambda 1, tau 3\n",
      "Doing lambda 1, tau 10\n",
      "Doing lambda 3, tau 0.1\n",
      "Doing lambda 3, tau 0.3\n",
      "Doing lambda 3, tau 1\n"
     ]
    },
    {
     "ename": "",
     "evalue": "",
     "output_type": "error",
     "traceback": [
      "\u001b[1;31mCanceled future for execute_request message before replies were done"
     ]
    },
    {
     "ename": "",
     "evalue": "",
     "output_type": "error",
     "traceback": [
      "\u001b[1;31mThe Kernel crashed while executing code in the the current cell or a previous cell. Please review the code in the cell(s) to identify a possible cause of the failure. Click <a href='https://aka.ms/vscodeJupyterKernelCrash'>here</a> for more info. View Jupyter <a href='command:jupyter.viewOutput'>log</a> for further details."
     ]
    }
   ],
   "source": [
    "# expected returns in same order as columns of covariance matrix\n",
    "# actually don't want to have tickers not in today's universe here... how to manage this when something drops out of the universe? constraints? YES\n",
    "costs <- 0.15/100\n",
    "num_days <- nrow(exp_returns_wide)\n",
    "lambdas <- c(1, 3, 10, 20)\n",
    "taus <- c(0.1, 0.3, 1, 3, 10)\n",
    "date_idxs_to_do <- c(1:500)\n",
    "all_weights <- list()\n",
    "outer_index <- 1\n",
    "for( lambda in lambdas ) {\n",
    "   for( tau in taus ) {\n",
    "      weights <- list()\n",
    "      errors <- list()\n",
    "      w0 <- rep(0, length(universe_tickers))\n",
    "      print(glue::glue(\"Doing lambda {lambda}, tau {tau}\"))\n",
    "      flush.console()  # force print to console\n",
    "      for( i in date_idxs_to_do ) {\n",
    "         # today's date\n",
    "         d = exp_returns_sim_df$date[i]\n",
    "\n",
    "         # cov estimate\n",
    "         today_covmat <- covmat_list[[i]]\n",
    "         \n",
    "         # get row of expected returns as a vector in the same order as the columns of the covariance matrix\n",
    "         # contains NA at this point\n",
    "         exp_rets <- exp_returns_sim_df %>% filter(date == d) %>% pivot_longer(-date, names_to = \"ticker\", values_to = \"expected_return\")%>% arrange(match(ticker, colnames(today_covmat))) %>% pull(expected_return)\n",
    "         # get na indexes\n",
    "         # we'll explicitly constrain these to get zero weight\n",
    "         na_idxs <- which(is.na(exp_rets))\n",
    "         # convert NA to zero\n",
    "         exp_rets[is.na(exp_rets)] <- 0\n",
    "         tryCatch({\n",
    "            w <- mvo_with_costs(expected_returns = exp_rets, current_weights = w0, na_idxs = na_idxs, costs = costs, covmat = today_covmat, lambda = lambda, tau = tau)\n",
    "         }, error = function(e) {\n",
    "               # in case of solver error, log and retain existing weights\n",
    "               w <- w0\n",
    "               errors[[i]] <- e\n",
    "            }\n",
    "         )\n",
    "         \n",
    "         # w is a one-column matrix\n",
    "         weights[[i]] <- w\n",
    "         w0 <- w \n",
    "      }\n",
    "      all_weights[[outer_index]] <- list(weights = weights, lambda = lambda, tau = tau)\n",
    "      outer_index <- outer_index + 1\n",
    "   }\n",
    "}"
   ]
  },
  {
   "cell_type": "code",
   "execution_count": 110,
   "metadata": {
    "vscode": {
     "languageId": "r"
    }
   },
   "outputs": [
    {
     "data": {
      "text/html": [
       "0.1"
      ],
      "text/latex": [
       "0.1"
      ],
      "text/markdown": [
       "0.1"
      ],
      "text/plain": [
       "[1] 0.1"
      ]
     },
     "metadata": {},
     "output_type": "display_data"
    }
   ],
   "source": [
    "x <- all_weights[[2]]\n",
    "x$tau"
   ]
  },
  {
   "cell_type": "code",
   "execution_count": 113,
   "metadata": {
    "vscode": {
     "languageId": "r"
    }
   },
   "outputs": [
    {
     "name": "stdout",
     "output_type": "stream",
     "text": [
      "[1] 1\n",
      "[1] 2\n"
     ]
    }
   ],
   "source": [
    "for(i in seq_along(all_weights)) {\n",
    "  this_entry <- all_weights[[i]]\n",
    "  these_weights <- this_entry$weights\n",
    "  this_lambda <- this_entry$lambda\n",
    "  this_tau <- this_entry$tau\n",
    "}"
   ]
  },
  {
   "cell_type": "code",
   "execution_count": 115,
   "metadata": {
    "vscode": {
     "languageId": "r"
    }
   },
   "outputs": [],
   "source": [
    "weights_mat_to_df <- function(x, d, lambda, tau, tickers) {\n",
    "  x %>% \n",
    "    as_tibble(.name_repair = ~paste0(\"lambda_\",lambda,\"_tau_\",tau)) %>% \n",
    "    mutate(date = d) %>% mutate(ticker = tickers)\n",
    "}"
   ]
  },
  {
   "cell_type": "code",
   "execution_count": 116,
   "metadata": {
    "vscode": {
     "languageId": "r"
    }
   },
   "outputs": [],
   "source": [
    "weights_df <- purrr::map2(these_weights, exp_returns_wide$date[1:20], ~weights_mat_to_df(.x, .y, lambda = this_lambda, tau = this_tau, tickers = colnames(today_covmat))) %>% \n",
    "  bind_rows()"
   ]
  },
  {
   "cell_type": "code",
   "execution_count": 118,
   "metadata": {
    "vscode": {
     "languageId": "r"
    }
   },
   "outputs": [
    {
     "data": {
      "text/html": [
       "<table class=\"dataframe\">\n",
       "<caption>A tibble: 3080 × 3</caption>\n",
       "<thead>\n",
       "\t<tr><th scope=col>lambda_3_tau_0.1</th><th scope=col>date</th><th scope=col>ticker</th></tr>\n",
       "\t<tr><th scope=col>&lt;dbl&gt;</th><th scope=col>&lt;date&gt;</th><th scope=col>&lt;chr&gt;</th></tr>\n",
       "</thead>\n",
       "<tbody>\n",
       "\t<tr><td>0</td><td>2020-11-10</td><td>BTCUSDT  </td></tr>\n",
       "\t<tr><td>0</td><td>2020-11-10</td><td>ETHUSDT  </td></tr>\n",
       "\t<tr><td>0</td><td>2020-11-10</td><td>BCHUSDT  </td></tr>\n",
       "\t<tr><td>0</td><td>2020-11-10</td><td>XRPUSDT  </td></tr>\n",
       "\t<tr><td>0</td><td>2020-11-10</td><td>EOSUSDT  </td></tr>\n",
       "\t<tr><td>0</td><td>2020-11-10</td><td>LTCUSDT  </td></tr>\n",
       "\t<tr><td>0</td><td>2020-11-10</td><td>TRXUSDT  </td></tr>\n",
       "\t<tr><td>0</td><td>2020-11-10</td><td>ETCUSDT  </td></tr>\n",
       "\t<tr><td>0</td><td>2020-11-10</td><td>LINKUSDT </td></tr>\n",
       "\t<tr><td>0</td><td>2020-11-10</td><td>XLMUSDT  </td></tr>\n",
       "\t<tr><td>0</td><td>2020-11-10</td><td>ADAUSDT  </td></tr>\n",
       "\t<tr><td>0</td><td>2020-11-10</td><td>XMRUSDT  </td></tr>\n",
       "\t<tr><td>0</td><td>2020-11-10</td><td>DASHUSDT </td></tr>\n",
       "\t<tr><td>0</td><td>2020-11-10</td><td>ZECUSDT  </td></tr>\n",
       "\t<tr><td>0</td><td>2020-11-10</td><td>XTZUSDT  </td></tr>\n",
       "\t<tr><td>0</td><td>2020-11-10</td><td>ATOMUSDT </td></tr>\n",
       "\t<tr><td>0</td><td>2020-11-10</td><td>BNBUSDT  </td></tr>\n",
       "\t<tr><td>0</td><td>2020-11-10</td><td>ONTUSDT  </td></tr>\n",
       "\t<tr><td>0</td><td>2020-11-10</td><td>IOTAUSDT </td></tr>\n",
       "\t<tr><td>0</td><td>2020-11-10</td><td>BATUSDT  </td></tr>\n",
       "\t<tr><td>0</td><td>2020-11-10</td><td>VETUSDT  </td></tr>\n",
       "\t<tr><td>0</td><td>2020-11-10</td><td>NEOUSDT  </td></tr>\n",
       "\t<tr><td>0</td><td>2020-11-10</td><td>QTUMUSDT </td></tr>\n",
       "\t<tr><td>0</td><td>2020-11-10</td><td>IOSTUSDT </td></tr>\n",
       "\t<tr><td>0</td><td>2020-11-10</td><td>THETAUSDT</td></tr>\n",
       "\t<tr><td>0</td><td>2020-11-10</td><td>ALGOUSDT </td></tr>\n",
       "\t<tr><td>0</td><td>2020-11-10</td><td>ZILUSDT  </td></tr>\n",
       "\t<tr><td>0</td><td>2020-11-10</td><td>KNCUSDT  </td></tr>\n",
       "\t<tr><td>0</td><td>2020-11-10</td><td>ZRXUSDT  </td></tr>\n",
       "\t<tr><td>0</td><td>2020-11-10</td><td>COMPUSDT </td></tr>\n",
       "\t<tr><td>⋮</td><td>⋮</td><td>⋮</td></tr>\n",
       "\t<tr><td>0</td><td>2020-11-29</td><td>SUIUSDT     </td></tr>\n",
       "\t<tr><td>0</td><td>2020-11-29</td><td>1000PEPEUSDT</td></tr>\n",
       "\t<tr><td>0</td><td>2020-11-29</td><td>1000XECUSDT </td></tr>\n",
       "\t<tr><td>0</td><td>2020-11-29</td><td>STMXUSDT    </td></tr>\n",
       "\t<tr><td>0</td><td>2020-11-29</td><td>LPTUSDT     </td></tr>\n",
       "\t<tr><td>0</td><td>2020-11-29</td><td>C98USDT     </td></tr>\n",
       "\t<tr><td>0</td><td>2020-11-29</td><td>HBARUSDT    </td></tr>\n",
       "\t<tr><td>0</td><td>2020-11-29</td><td>API3USDT    </td></tr>\n",
       "\t<tr><td>0</td><td>2020-11-29</td><td>PERPUSDT    </td></tr>\n",
       "\t<tr><td>0</td><td>2020-11-29</td><td>NMRUSDT     </td></tr>\n",
       "\t<tr><td>0</td><td>2020-11-29</td><td>WLDUSDT     </td></tr>\n",
       "\t<tr><td>0</td><td>2020-11-29</td><td>LEVERUSDT   </td></tr>\n",
       "\t<tr><td>0</td><td>2020-11-29</td><td>CYBERUSDT   </td></tr>\n",
       "\t<tr><td>0</td><td>2020-11-29</td><td>BNTUSDT     </td></tr>\n",
       "\t<tr><td>0</td><td>2020-11-29</td><td>LQTYUSDT    </td></tr>\n",
       "\t<tr><td>0</td><td>2020-11-29</td><td>MINAUSDT    </td></tr>\n",
       "\t<tr><td>0</td><td>2020-11-29</td><td>ARKUSDT     </td></tr>\n",
       "\t<tr><td>0</td><td>2020-11-29</td><td>BLURUSDT    </td></tr>\n",
       "\t<tr><td>0</td><td>2020-11-29</td><td>SEIUSDT     </td></tr>\n",
       "\t<tr><td>0</td><td>2020-11-29</td><td>BIGTIMEUSDT </td></tr>\n",
       "\t<tr><td>0</td><td>2020-11-29</td><td>GASUSDT     </td></tr>\n",
       "\t<tr><td>0</td><td>2020-11-29</td><td>TIAUSDT     </td></tr>\n",
       "\t<tr><td>0</td><td>2020-11-29</td><td>MEMEUSDT    </td></tr>\n",
       "\t<tr><td>0</td><td>2020-11-29</td><td>ORDIUSDT    </td></tr>\n",
       "\t<tr><td>0</td><td>2020-11-29</td><td>ICPUSDT     </td></tr>\n",
       "\t<tr><td>0</td><td>2020-11-29</td><td>1000BONKUSDT</td></tr>\n",
       "\t<tr><td>0</td><td>2020-11-29</td><td>UMAUSDT     </td></tr>\n",
       "\t<tr><td>0</td><td>2020-11-29</td><td>POWRUSDT    </td></tr>\n",
       "\t<tr><td>0</td><td>2020-11-29</td><td>1000SATSUSDT</td></tr>\n",
       "\t<tr><td>0</td><td>2020-11-29</td><td>PYTHUSDT    </td></tr>\n",
       "</tbody>\n",
       "</table>\n"
      ],
      "text/latex": [
       "A tibble: 3080 × 3\n",
       "\\begin{tabular}{lll}\n",
       " lambda\\_3\\_tau\\_0.1 & date & ticker\\\\\n",
       " <dbl> & <date> & <chr>\\\\\n",
       "\\hline\n",
       "\t 0 & 2020-11-10 & BTCUSDT  \\\\\n",
       "\t 0 & 2020-11-10 & ETHUSDT  \\\\\n",
       "\t 0 & 2020-11-10 & BCHUSDT  \\\\\n",
       "\t 0 & 2020-11-10 & XRPUSDT  \\\\\n",
       "\t 0 & 2020-11-10 & EOSUSDT  \\\\\n",
       "\t 0 & 2020-11-10 & LTCUSDT  \\\\\n",
       "\t 0 & 2020-11-10 & TRXUSDT  \\\\\n",
       "\t 0 & 2020-11-10 & ETCUSDT  \\\\\n",
       "\t 0 & 2020-11-10 & LINKUSDT \\\\\n",
       "\t 0 & 2020-11-10 & XLMUSDT  \\\\\n",
       "\t 0 & 2020-11-10 & ADAUSDT  \\\\\n",
       "\t 0 & 2020-11-10 & XMRUSDT  \\\\\n",
       "\t 0 & 2020-11-10 & DASHUSDT \\\\\n",
       "\t 0 & 2020-11-10 & ZECUSDT  \\\\\n",
       "\t 0 & 2020-11-10 & XTZUSDT  \\\\\n",
       "\t 0 & 2020-11-10 & ATOMUSDT \\\\\n",
       "\t 0 & 2020-11-10 & BNBUSDT  \\\\\n",
       "\t 0 & 2020-11-10 & ONTUSDT  \\\\\n",
       "\t 0 & 2020-11-10 & IOTAUSDT \\\\\n",
       "\t 0 & 2020-11-10 & BATUSDT  \\\\\n",
       "\t 0 & 2020-11-10 & VETUSDT  \\\\\n",
       "\t 0 & 2020-11-10 & NEOUSDT  \\\\\n",
       "\t 0 & 2020-11-10 & QTUMUSDT \\\\\n",
       "\t 0 & 2020-11-10 & IOSTUSDT \\\\\n",
       "\t 0 & 2020-11-10 & THETAUSDT\\\\\n",
       "\t 0 & 2020-11-10 & ALGOUSDT \\\\\n",
       "\t 0 & 2020-11-10 & ZILUSDT  \\\\\n",
       "\t 0 & 2020-11-10 & KNCUSDT  \\\\\n",
       "\t 0 & 2020-11-10 & ZRXUSDT  \\\\\n",
       "\t 0 & 2020-11-10 & COMPUSDT \\\\\n",
       "\t ⋮ & ⋮ & ⋮\\\\\n",
       "\t 0 & 2020-11-29 & SUIUSDT     \\\\\n",
       "\t 0 & 2020-11-29 & 1000PEPEUSDT\\\\\n",
       "\t 0 & 2020-11-29 & 1000XECUSDT \\\\\n",
       "\t 0 & 2020-11-29 & STMXUSDT    \\\\\n",
       "\t 0 & 2020-11-29 & LPTUSDT     \\\\\n",
       "\t 0 & 2020-11-29 & C98USDT     \\\\\n",
       "\t 0 & 2020-11-29 & HBARUSDT    \\\\\n",
       "\t 0 & 2020-11-29 & API3USDT    \\\\\n",
       "\t 0 & 2020-11-29 & PERPUSDT    \\\\\n",
       "\t 0 & 2020-11-29 & NMRUSDT     \\\\\n",
       "\t 0 & 2020-11-29 & WLDUSDT     \\\\\n",
       "\t 0 & 2020-11-29 & LEVERUSDT   \\\\\n",
       "\t 0 & 2020-11-29 & CYBERUSDT   \\\\\n",
       "\t 0 & 2020-11-29 & BNTUSDT     \\\\\n",
       "\t 0 & 2020-11-29 & LQTYUSDT    \\\\\n",
       "\t 0 & 2020-11-29 & MINAUSDT    \\\\\n",
       "\t 0 & 2020-11-29 & ARKUSDT     \\\\\n",
       "\t 0 & 2020-11-29 & BLURUSDT    \\\\\n",
       "\t 0 & 2020-11-29 & SEIUSDT     \\\\\n",
       "\t 0 & 2020-11-29 & BIGTIMEUSDT \\\\\n",
       "\t 0 & 2020-11-29 & GASUSDT     \\\\\n",
       "\t 0 & 2020-11-29 & TIAUSDT     \\\\\n",
       "\t 0 & 2020-11-29 & MEMEUSDT    \\\\\n",
       "\t 0 & 2020-11-29 & ORDIUSDT    \\\\\n",
       "\t 0 & 2020-11-29 & ICPUSDT     \\\\\n",
       "\t 0 & 2020-11-29 & 1000BONKUSDT\\\\\n",
       "\t 0 & 2020-11-29 & UMAUSDT     \\\\\n",
       "\t 0 & 2020-11-29 & POWRUSDT    \\\\\n",
       "\t 0 & 2020-11-29 & 1000SATSUSDT\\\\\n",
       "\t 0 & 2020-11-29 & PYTHUSDT    \\\\\n",
       "\\end{tabular}\n"
      ],
      "text/markdown": [
       "\n",
       "A tibble: 3080 × 3\n",
       "\n",
       "| lambda_3_tau_0.1 &lt;dbl&gt; | date &lt;date&gt; | ticker &lt;chr&gt; |\n",
       "|---|---|---|\n",
       "| 0 | 2020-11-10 | BTCUSDT   |\n",
       "| 0 | 2020-11-10 | ETHUSDT   |\n",
       "| 0 | 2020-11-10 | BCHUSDT   |\n",
       "| 0 | 2020-11-10 | XRPUSDT   |\n",
       "| 0 | 2020-11-10 | EOSUSDT   |\n",
       "| 0 | 2020-11-10 | LTCUSDT   |\n",
       "| 0 | 2020-11-10 | TRXUSDT   |\n",
       "| 0 | 2020-11-10 | ETCUSDT   |\n",
       "| 0 | 2020-11-10 | LINKUSDT  |\n",
       "| 0 | 2020-11-10 | XLMUSDT   |\n",
       "| 0 | 2020-11-10 | ADAUSDT   |\n",
       "| 0 | 2020-11-10 | XMRUSDT   |\n",
       "| 0 | 2020-11-10 | DASHUSDT  |\n",
       "| 0 | 2020-11-10 | ZECUSDT   |\n",
       "| 0 | 2020-11-10 | XTZUSDT   |\n",
       "| 0 | 2020-11-10 | ATOMUSDT  |\n",
       "| 0 | 2020-11-10 | BNBUSDT   |\n",
       "| 0 | 2020-11-10 | ONTUSDT   |\n",
       "| 0 | 2020-11-10 | IOTAUSDT  |\n",
       "| 0 | 2020-11-10 | BATUSDT   |\n",
       "| 0 | 2020-11-10 | VETUSDT   |\n",
       "| 0 | 2020-11-10 | NEOUSDT   |\n",
       "| 0 | 2020-11-10 | QTUMUSDT  |\n",
       "| 0 | 2020-11-10 | IOSTUSDT  |\n",
       "| 0 | 2020-11-10 | THETAUSDT |\n",
       "| 0 | 2020-11-10 | ALGOUSDT  |\n",
       "| 0 | 2020-11-10 | ZILUSDT   |\n",
       "| 0 | 2020-11-10 | KNCUSDT   |\n",
       "| 0 | 2020-11-10 | ZRXUSDT   |\n",
       "| 0 | 2020-11-10 | COMPUSDT  |\n",
       "| ⋮ | ⋮ | ⋮ |\n",
       "| 0 | 2020-11-29 | SUIUSDT      |\n",
       "| 0 | 2020-11-29 | 1000PEPEUSDT |\n",
       "| 0 | 2020-11-29 | 1000XECUSDT  |\n",
       "| 0 | 2020-11-29 | STMXUSDT     |\n",
       "| 0 | 2020-11-29 | LPTUSDT      |\n",
       "| 0 | 2020-11-29 | C98USDT      |\n",
       "| 0 | 2020-11-29 | HBARUSDT     |\n",
       "| 0 | 2020-11-29 | API3USDT     |\n",
       "| 0 | 2020-11-29 | PERPUSDT     |\n",
       "| 0 | 2020-11-29 | NMRUSDT      |\n",
       "| 0 | 2020-11-29 | WLDUSDT      |\n",
       "| 0 | 2020-11-29 | LEVERUSDT    |\n",
       "| 0 | 2020-11-29 | CYBERUSDT    |\n",
       "| 0 | 2020-11-29 | BNTUSDT      |\n",
       "| 0 | 2020-11-29 | LQTYUSDT     |\n",
       "| 0 | 2020-11-29 | MINAUSDT     |\n",
       "| 0 | 2020-11-29 | ARKUSDT      |\n",
       "| 0 | 2020-11-29 | BLURUSDT     |\n",
       "| 0 | 2020-11-29 | SEIUSDT      |\n",
       "| 0 | 2020-11-29 | BIGTIMEUSDT  |\n",
       "| 0 | 2020-11-29 | GASUSDT      |\n",
       "| 0 | 2020-11-29 | TIAUSDT      |\n",
       "| 0 | 2020-11-29 | MEMEUSDT     |\n",
       "| 0 | 2020-11-29 | ORDIUSDT     |\n",
       "| 0 | 2020-11-29 | ICPUSDT      |\n",
       "| 0 | 2020-11-29 | 1000BONKUSDT |\n",
       "| 0 | 2020-11-29 | UMAUSDT      |\n",
       "| 0 | 2020-11-29 | POWRUSDT     |\n",
       "| 0 | 2020-11-29 | 1000SATSUSDT |\n",
       "| 0 | 2020-11-29 | PYTHUSDT     |\n",
       "\n"
      ],
      "text/plain": [
       "     lambda_3_tau_0.1 date       ticker      \n",
       "1    0                2020-11-10 BTCUSDT     \n",
       "2    0                2020-11-10 ETHUSDT     \n",
       "3    0                2020-11-10 BCHUSDT     \n",
       "4    0                2020-11-10 XRPUSDT     \n",
       "5    0                2020-11-10 EOSUSDT     \n",
       "6    0                2020-11-10 LTCUSDT     \n",
       "7    0                2020-11-10 TRXUSDT     \n",
       "8    0                2020-11-10 ETCUSDT     \n",
       "9    0                2020-11-10 LINKUSDT    \n",
       "10   0                2020-11-10 XLMUSDT     \n",
       "11   0                2020-11-10 ADAUSDT     \n",
       "12   0                2020-11-10 XMRUSDT     \n",
       "13   0                2020-11-10 DASHUSDT    \n",
       "14   0                2020-11-10 ZECUSDT     \n",
       "15   0                2020-11-10 XTZUSDT     \n",
       "16   0                2020-11-10 ATOMUSDT    \n",
       "17   0                2020-11-10 BNBUSDT     \n",
       "18   0                2020-11-10 ONTUSDT     \n",
       "19   0                2020-11-10 IOTAUSDT    \n",
       "20   0                2020-11-10 BATUSDT     \n",
       "21   0                2020-11-10 VETUSDT     \n",
       "22   0                2020-11-10 NEOUSDT     \n",
       "23   0                2020-11-10 QTUMUSDT    \n",
       "24   0                2020-11-10 IOSTUSDT    \n",
       "25   0                2020-11-10 THETAUSDT   \n",
       "26   0                2020-11-10 ALGOUSDT    \n",
       "27   0                2020-11-10 ZILUSDT     \n",
       "28   0                2020-11-10 KNCUSDT     \n",
       "29   0                2020-11-10 ZRXUSDT     \n",
       "30   0                2020-11-10 COMPUSDT    \n",
       "⋮    ⋮                ⋮          ⋮           \n",
       "3051 0                2020-11-29 SUIUSDT     \n",
       "3052 0                2020-11-29 1000PEPEUSDT\n",
       "3053 0                2020-11-29 1000XECUSDT \n",
       "3054 0                2020-11-29 STMXUSDT    \n",
       "3055 0                2020-11-29 LPTUSDT     \n",
       "3056 0                2020-11-29 C98USDT     \n",
       "3057 0                2020-11-29 HBARUSDT    \n",
       "3058 0                2020-11-29 API3USDT    \n",
       "3059 0                2020-11-29 PERPUSDT    \n",
       "3060 0                2020-11-29 NMRUSDT     \n",
       "3061 0                2020-11-29 WLDUSDT     \n",
       "3062 0                2020-11-29 LEVERUSDT   \n",
       "3063 0                2020-11-29 CYBERUSDT   \n",
       "3064 0                2020-11-29 BNTUSDT     \n",
       "3065 0                2020-11-29 LQTYUSDT    \n",
       "3066 0                2020-11-29 MINAUSDT    \n",
       "3067 0                2020-11-29 ARKUSDT     \n",
       "3068 0                2020-11-29 BLURUSDT    \n",
       "3069 0                2020-11-29 SEIUSDT     \n",
       "3070 0                2020-11-29 BIGTIMEUSDT \n",
       "3071 0                2020-11-29 GASUSDT     \n",
       "3072 0                2020-11-29 TIAUSDT     \n",
       "3073 0                2020-11-29 MEMEUSDT    \n",
       "3074 0                2020-11-29 ORDIUSDT    \n",
       "3075 0                2020-11-29 ICPUSDT     \n",
       "3076 0                2020-11-29 1000BONKUSDT\n",
       "3077 0                2020-11-29 UMAUSDT     \n",
       "3078 0                2020-11-29 POWRUSDT    \n",
       "3079 0                2020-11-29 1000SATSUSDT\n",
       "3080 0                2020-11-29 PYTHUSDT    "
      ]
     },
     "metadata": {},
     "output_type": "display_data"
    }
   ],
   "source": [
    "weights_df"
   ]
  },
  {
   "cell_type": "code",
   "execution_count": 206,
   "metadata": {
    "vscode": {
     "languageId": "r"
    }
   },
   "outputs": [
    {
     "data": {
      "image/png": "[encoded data removed]",
      "text/plain": [
       "plot without title"
      ]
     },
     "metadata": {
      "image/png": {
       "height": 420,
       "width": 840
      }
     },
     "output_type": "display_data"
    }
   ],
   "source": [
    "weights_df %>% \n",
    "  left_join(strategy_df, by = c(\"ticker\", \"date\")) %>% \n",
    "  mutate(strat_return = weight * total_fwd_return_simple) %>% \n",
    "  replace_na(list(strat_return = 0)) %>% \n",
    "  group_by(date) %>% \n",
    "  summarise(port_return = sum(strat_return), .groups = \"drop\") %>% \n",
    "  mutate(port_return_log = log(1 + port_return)) %>% \n",
    "  mutate(cum_return = cumsum(port_return_log)) %>% \n",
    "  ggplot(aes(x = date, y = cum_return)) + geom_line()"
   ]
  },
  {
   "cell_type": "code",
   "execution_count": 165,
   "metadata": {
    "vscode": {
     "languageId": "r"
    }
   },
   "outputs": [
    {
     "data": {
      "text/html": [
       "<time datetime=\"2021-02-18\">2021-02-18</time>"
      ],
      "text/latex": [
       "2021-02-18"
      ],
      "text/markdown": [
       "2021-02-18"
      ],
      "text/plain": [
       "[1] \"2021-02-18\""
      ]
     },
     "metadata": {},
     "output_type": "display_data"
    }
   ],
   "source": []
  },
  {
   "cell_type": "code",
   "execution_count": 201,
   "metadata": {
    "vscode": {
     "languageId": "r"
    }
   },
   "outputs": [
    {
     "data": {
      "text/html": [
       "<table class=\"dataframe\">\n",
       "<caption>A tibble: 6 × 155</caption>\n",
       "<thead>\n",
       "\t<tr><th scope=col>date</th><th scope=col>ADAUSDT</th><th scope=col>ALGOUSDT</th><th scope=col>ATOMUSDT</th><th scope=col>AVAXUSDT</th><th scope=col>BANDUSDT</th><th scope=col>BATUSDT</th><th scope=col>BCHUSDT</th><th scope=col>BLZUSDT</th><th scope=col>BNBUSDT</th><th scope=col>⋯</th><th scope=col>ARKUSDT</th><th scope=col>BIGTIMEUSDT</th><th scope=col>GASUSDT</th><th scope=col>POWRUSDT</th><th scope=col>TIAUSDT</th><th scope=col>MEMEUSDT</th><th scope=col>ORDIUSDT</th><th scope=col>1000BONKUSDT</th><th scope=col>PYTHUSDT</th><th scope=col>1000SATSUSDT</th></tr>\n",
       "\t<tr><th scope=col>&lt;date&gt;</th><th scope=col>&lt;dbl&gt;</th><th scope=col>&lt;dbl&gt;</th><th scope=col>&lt;dbl&gt;</th><th scope=col>&lt;dbl&gt;</th><th scope=col>&lt;dbl&gt;</th><th scope=col>&lt;dbl&gt;</th><th scope=col>&lt;dbl&gt;</th><th scope=col>&lt;dbl&gt;</th><th scope=col>&lt;dbl&gt;</th><th scope=col>⋯</th><th scope=col>&lt;dbl&gt;</th><th scope=col>&lt;dbl&gt;</th><th scope=col>&lt;dbl&gt;</th><th scope=col>&lt;dbl&gt;</th><th scope=col>&lt;dbl&gt;</th><th scope=col>&lt;dbl&gt;</th><th scope=col>&lt;dbl&gt;</th><th scope=col>&lt;dbl&gt;</th><th scope=col>&lt;dbl&gt;</th><th scope=col>&lt;dbl&gt;</th></tr>\n",
       "</thead>\n",
       "<tbody>\n",
       "\t<tr><td>2020-11-10</td><td>NA</td><td>NA</td><td>NA</td><td>NA</td><td>NA</td><td>NA</td><td>NA</td><td>NA</td><td>NA</td><td>⋯</td><td>NA</td><td>NA</td><td>NA</td><td>NA</td><td>NA</td><td>NA</td><td>NA</td><td>NA</td><td>NA</td><td>NA</td></tr>\n",
       "\t<tr><td>2020-11-11</td><td>NA</td><td>NA</td><td>NA</td><td>NA</td><td>NA</td><td>NA</td><td>NA</td><td>NA</td><td>NA</td><td>⋯</td><td>NA</td><td>NA</td><td>NA</td><td>NA</td><td>NA</td><td>NA</td><td>NA</td><td>NA</td><td>NA</td><td>NA</td></tr>\n",
       "\t<tr><td>2020-11-12</td><td>NA</td><td>NA</td><td>NA</td><td>NA</td><td>NA</td><td>NA</td><td>NA</td><td>NA</td><td>NA</td><td>⋯</td><td>NA</td><td>NA</td><td>NA</td><td>NA</td><td>NA</td><td>NA</td><td>NA</td><td>NA</td><td>NA</td><td>NA</td></tr>\n",
       "\t<tr><td>2020-11-13</td><td>NA</td><td>NA</td><td>NA</td><td>NA</td><td>NA</td><td>NA</td><td>NA</td><td>NA</td><td>NA</td><td>⋯</td><td>NA</td><td>NA</td><td>NA</td><td>NA</td><td>NA</td><td>NA</td><td>NA</td><td>NA</td><td>NA</td><td>NA</td></tr>\n",
       "\t<tr><td>2020-11-14</td><td>NA</td><td>NA</td><td>NA</td><td>NA</td><td>NA</td><td>NA</td><td>NA</td><td>NA</td><td>NA</td><td>⋯</td><td>NA</td><td>NA</td><td>NA</td><td>NA</td><td>NA</td><td>NA</td><td>NA</td><td>NA</td><td>NA</td><td>NA</td></tr>\n",
       "\t<tr><td>2020-11-15</td><td>NA</td><td>NA</td><td>NA</td><td>NA</td><td>NA</td><td>NA</td><td>NA</td><td>NA</td><td>NA</td><td>⋯</td><td>NA</td><td>NA</td><td>NA</td><td>NA</td><td>NA</td><td>NA</td><td>NA</td><td>NA</td><td>NA</td><td>NA</td></tr>\n",
       "</tbody>\n",
       "</table>\n"
      ],
      "text/latex": [
       "A tibble: 6 × 155\n",
       "\\begin{tabular}{lllllllllllllllllllll}\n",
       " date & ADAUSDT & ALGOUSDT & ATOMUSDT & AVAXUSDT & BANDUSDT & BATUSDT & BCHUSDT & BLZUSDT & BNBUSDT & ⋯ & ARKUSDT & BIGTIMEUSDT & GASUSDT & POWRUSDT & TIAUSDT & MEMEUSDT & ORDIUSDT & 1000BONKUSDT & PYTHUSDT & 1000SATSUSDT\\\\\n",
       " <date> & <dbl> & <dbl> & <dbl> & <dbl> & <dbl> & <dbl> & <dbl> & <dbl> & <dbl> & ⋯ & <dbl> & <dbl> & <dbl> & <dbl> & <dbl> & <dbl> & <dbl> & <dbl> & <dbl> & <dbl>\\\\\n",
       "\\hline\n",
       "\t 2020-11-10 & NA & NA & NA & NA & NA & NA & NA & NA & NA & ⋯ & NA & NA & NA & NA & NA & NA & NA & NA & NA & NA\\\\\n",
       "\t 2020-11-11 & NA & NA & NA & NA & NA & NA & NA & NA & NA & ⋯ & NA & NA & NA & NA & NA & NA & NA & NA & NA & NA\\\\\n",
       "\t 2020-11-12 & NA & NA & NA & NA & NA & NA & NA & NA & NA & ⋯ & NA & NA & NA & NA & NA & NA & NA & NA & NA & NA\\\\\n",
       "\t 2020-11-13 & NA & NA & NA & NA & NA & NA & NA & NA & NA & ⋯ & NA & NA & NA & NA & NA & NA & NA & NA & NA & NA\\\\\n",
       "\t 2020-11-14 & NA & NA & NA & NA & NA & NA & NA & NA & NA & ⋯ & NA & NA & NA & NA & NA & NA & NA & NA & NA & NA\\\\\n",
       "\t 2020-11-15 & NA & NA & NA & NA & NA & NA & NA & NA & NA & ⋯ & NA & NA & NA & NA & NA & NA & NA & NA & NA & NA\\\\\n",
       "\\end{tabular}\n"
      ],
      "text/markdown": [
       "\n",
       "A tibble: 6 × 155\n",
       "\n",
       "| date &lt;date&gt; | ADAUSDT &lt;dbl&gt; | ALGOUSDT &lt;dbl&gt; | ATOMUSDT &lt;dbl&gt; | AVAXUSDT &lt;dbl&gt; | BANDUSDT &lt;dbl&gt; | BATUSDT &lt;dbl&gt; | BCHUSDT &lt;dbl&gt; | BLZUSDT &lt;dbl&gt; | BNBUSDT &lt;dbl&gt; | ⋯ ⋯ | ARKUSDT &lt;dbl&gt; | BIGTIMEUSDT &lt;dbl&gt; | GASUSDT &lt;dbl&gt; | POWRUSDT &lt;dbl&gt; | TIAUSDT &lt;dbl&gt; | MEMEUSDT &lt;dbl&gt; | ORDIUSDT &lt;dbl&gt; | 1000BONKUSDT &lt;dbl&gt; | PYTHUSDT &lt;dbl&gt; | 1000SATSUSDT &lt;dbl&gt; |\n",
       "|---|---|---|---|---|---|---|---|---|---|---|---|---|---|---|---|---|---|---|---|---|\n",
       "| 2020-11-10 | NA | NA | NA | NA | NA | NA | NA | NA | NA | ⋯ | NA | NA | NA | NA | NA | NA | NA | NA | NA | NA |\n",
       "| 2020-11-11 | NA | NA | NA | NA | NA | NA | NA | NA | NA | ⋯ | NA | NA | NA | NA | NA | NA | NA | NA | NA | NA |\n",
       "| 2020-11-12 | NA | NA | NA | NA | NA | NA | NA | NA | NA | ⋯ | NA | NA | NA | NA | NA | NA | NA | NA | NA | NA |\n",
       "| 2020-11-13 | NA | NA | NA | NA | NA | NA | NA | NA | NA | ⋯ | NA | NA | NA | NA | NA | NA | NA | NA | NA | NA |\n",
       "| 2020-11-14 | NA | NA | NA | NA | NA | NA | NA | NA | NA | ⋯ | NA | NA | NA | NA | NA | NA | NA | NA | NA | NA |\n",
       "| 2020-11-15 | NA | NA | NA | NA | NA | NA | NA | NA | NA | ⋯ | NA | NA | NA | NA | NA | NA | NA | NA | NA | NA |\n",
       "\n"
      ],
      "text/plain": [
       "  date       ADAUSDT ALGOUSDT ATOMUSDT AVAXUSDT BANDUSDT BATUSDT BCHUSDT\n",
       "1 2020-11-10 NA      NA       NA       NA       NA       NA      NA     \n",
       "2 2020-11-11 NA      NA       NA       NA       NA       NA      NA     \n",
       "3 2020-11-12 NA      NA       NA       NA       NA       NA      NA     \n",
       "4 2020-11-13 NA      NA       NA       NA       NA       NA      NA     \n",
       "5 2020-11-14 NA      NA       NA       NA       NA       NA      NA     \n",
       "6 2020-11-15 NA      NA       NA       NA       NA       NA      NA     \n",
       "  BLZUSDT BNBUSDT ⋯ ARKUSDT BIGTIMEUSDT GASUSDT POWRUSDT TIAUSDT MEMEUSDT\n",
       "1 NA      NA      ⋯ NA      NA          NA      NA       NA      NA      \n",
       "2 NA      NA      ⋯ NA      NA          NA      NA       NA      NA      \n",
       "3 NA      NA      ⋯ NA      NA          NA      NA       NA      NA      \n",
       "4 NA      NA      ⋯ NA      NA          NA      NA       NA      NA      \n",
       "5 NA      NA      ⋯ NA      NA          NA      NA       NA      NA      \n",
       "6 NA      NA      ⋯ NA      NA          NA      NA       NA      NA      \n",
       "  ORDIUSDT 1000BONKUSDT PYTHUSDT 1000SATSUSDT\n",
       "1 NA       NA           NA       NA          \n",
       "2 NA       NA           NA       NA          \n",
       "3 NA       NA           NA       NA          \n",
       "4 NA       NA           NA       NA          \n",
       "5 NA       NA           NA       NA          \n",
       "6 NA       NA           NA       NA          "
      ]
     },
     "metadata": {},
     "output_type": "display_data"
    }
   ],
   "source": [
    "exp_returns_wide %>% head"
   ]
  },
  {
   "cell_type": "code",
   "execution_count": 162,
   "metadata": {
    "vscode": {
     "languageId": "r"
    }
   },
   "outputs": [
    {
     "data": {
      "text/html": [
       "<table class=\"dataframe\">\n",
       "<caption>A tibble: 288 × 2</caption>\n",
       "<thead>\n",
       "\t<tr><th scope=col>date</th><th scope=col>port_return</th></tr>\n",
       "\t<tr><th scope=col>&lt;date&gt;</th><th scope=col>&lt;dbl&gt;</th></tr>\n",
       "</thead>\n",
       "<tbody>\n",
       "\t<tr><td>2021-02-22</td><td>-0.0020396386</td></tr>\n",
       "\t<tr><td>2021-02-23</td><td> 0.0034974428</td></tr>\n",
       "\t<tr><td>2021-02-24</td><td> 0.0053171001</td></tr>\n",
       "\t<tr><td>2021-02-25</td><td> 0.0018109421</td></tr>\n",
       "\t<tr><td>2021-02-26</td><td> 0.0171056292</td></tr>\n",
       "\t<tr><td>2021-02-27</td><td> 0.0050864032</td></tr>\n",
       "\t<tr><td>2021-02-28</td><td> 0.0040944290</td></tr>\n",
       "\t<tr><td>2021-03-01</td><td> 0.0010111482</td></tr>\n",
       "\t<tr><td>2021-03-02</td><td>-0.0011006109</td></tr>\n",
       "\t<tr><td>2021-03-03</td><td>-0.0006303523</td></tr>\n",
       "\t<tr><td>2021-03-04</td><td> 0.0026910553</td></tr>\n",
       "\t<tr><td>2021-03-05</td><td>-0.0012811520</td></tr>\n",
       "\t<tr><td>2021-03-06</td><td> 0.0047221212</td></tr>\n",
       "\t<tr><td>2021-03-07</td><td>-0.0068271889</td></tr>\n",
       "\t<tr><td>2021-03-08</td><td> 0.0065858227</td></tr>\n",
       "\t<tr><td>2021-03-09</td><td> 0.0043050536</td></tr>\n",
       "\t<tr><td>2021-03-10</td><td>-0.0015308114</td></tr>\n",
       "\t<tr><td>2021-03-11</td><td>-0.0041418220</td></tr>\n",
       "\t<tr><td>2021-03-12</td><td>-0.0012531855</td></tr>\n",
       "\t<tr><td>2021-03-13</td><td>-0.0120723904</td></tr>\n",
       "\t<tr><td>2021-03-14</td><td>-0.0060787597</td></tr>\n",
       "\t<tr><td>2021-03-15</td><td> 0.0067831160</td></tr>\n",
       "\t<tr><td>2021-03-16</td><td>-0.0025809298</td></tr>\n",
       "\t<tr><td>2021-03-17</td><td> 0.0028198219</td></tr>\n",
       "\t<tr><td>2021-03-18</td><td> 0.0001138971</td></tr>\n",
       "\t<tr><td>2021-03-19</td><td> 0.0272795302</td></tr>\n",
       "\t<tr><td>2021-03-20</td><td>-0.0029299308</td></tr>\n",
       "\t<tr><td>2021-03-21</td><td> 0.0060377790</td></tr>\n",
       "\t<tr><td>2021-03-22</td><td>-0.0018833865</td></tr>\n",
       "\t<tr><td>2021-03-23</td><td> 0.0096728797</td></tr>\n",
       "\t<tr><td>⋮</td><td>⋮</td></tr>\n",
       "\t<tr><td>2021-11-13</td><td>-0.0014505389</td></tr>\n",
       "\t<tr><td>2021-11-14</td><td> 0.0010813874</td></tr>\n",
       "\t<tr><td>2021-11-15</td><td>-0.0067536169</td></tr>\n",
       "\t<tr><td>2021-11-16</td><td>-0.0016301863</td></tr>\n",
       "\t<tr><td>2021-11-17</td><td>-0.0019444368</td></tr>\n",
       "\t<tr><td>2021-11-18</td><td> 0.0028815768</td></tr>\n",
       "\t<tr><td>2021-11-19</td><td>-0.0025516395</td></tr>\n",
       "\t<tr><td>2021-11-20</td><td> 0.0040952883</td></tr>\n",
       "\t<tr><td>2021-11-21</td><td>-0.0019870101</td></tr>\n",
       "\t<tr><td>2021-11-22</td><td>-0.0014647461</td></tr>\n",
       "\t<tr><td>2021-11-23</td><td> 0.0010264249</td></tr>\n",
       "\t<tr><td>2021-11-24</td><td> 0.0039191189</td></tr>\n",
       "\t<tr><td>2021-11-25</td><td>-0.0052027150</td></tr>\n",
       "\t<tr><td>2021-11-26</td><td> 0.0005652442</td></tr>\n",
       "\t<tr><td>2021-11-27</td><td> 0.0011290075</td></tr>\n",
       "\t<tr><td>2021-11-28</td><td> 0.0056191547</td></tr>\n",
       "\t<tr><td>2021-11-29</td><td> 0.0011837450</td></tr>\n",
       "\t<tr><td>2021-11-30</td><td> 0.0017521118</td></tr>\n",
       "\t<tr><td>2021-12-01</td><td>-0.0023530360</td></tr>\n",
       "\t<tr><td>2021-12-02</td><td>-0.0021733306</td></tr>\n",
       "\t<tr><td>2021-12-03</td><td>-0.0081894020</td></tr>\n",
       "\t<tr><td>2021-12-04</td><td>-0.0013401761</td></tr>\n",
       "\t<tr><td>2021-12-05</td><td>-0.0004228683</td></tr>\n",
       "\t<tr><td>2021-12-06</td><td> 0.0013736146</td></tr>\n",
       "\t<tr><td>2021-12-08</td><td>-0.0035071982</td></tr>\n",
       "\t<tr><td>2021-12-09</td><td>-0.0021538200</td></tr>\n",
       "\t<tr><td>2021-12-10</td><td>-0.0004146987</td></tr>\n",
       "\t<tr><td>2021-12-11</td><td> 0.0009692856</td></tr>\n",
       "\t<tr><td>2021-12-12</td><td>-0.0030329412</td></tr>\n",
       "\t<tr><td>2021-12-13</td><td>-0.0014823194</td></tr>\n",
       "</tbody>\n",
       "</table>\n"
      ],
      "text/latex": [
       "A tibble: 288 × 2\n",
       "\\begin{tabular}{ll}\n",
       " date & port\\_return\\\\\n",
       " <date> & <dbl>\\\\\n",
       "\\hline\n",
       "\t 2021-02-22 & -0.0020396386\\\\\n",
       "\t 2021-02-23 &  0.0034974428\\\\\n",
       "\t 2021-02-24 &  0.0053171001\\\\\n",
       "\t 2021-02-25 &  0.0018109421\\\\\n",
       "\t 2021-02-26 &  0.0171056292\\\\\n",
       "\t 2021-02-27 &  0.0050864032\\\\\n",
       "\t 2021-02-28 &  0.0040944290\\\\\n",
       "\t 2021-03-01 &  0.0010111482\\\\\n",
       "\t 2021-03-02 & -0.0011006109\\\\\n",
       "\t 2021-03-03 & -0.0006303523\\\\\n",
       "\t 2021-03-04 &  0.0026910553\\\\\n",
       "\t 2021-03-05 & -0.0012811520\\\\\n",
       "\t 2021-03-06 &  0.0047221212\\\\\n",
       "\t 2021-03-07 & -0.0068271889\\\\\n",
       "\t 2021-03-08 &  0.0065858227\\\\\n",
       "\t 2021-03-09 &  0.0043050536\\\\\n",
       "\t 2021-03-10 & -0.0015308114\\\\\n",
       "\t 2021-03-11 & -0.0041418220\\\\\n",
       "\t 2021-03-12 & -0.0012531855\\\\\n",
       "\t 2021-03-13 & -0.0120723904\\\\\n",
       "\t 2021-03-14 & -0.0060787597\\\\\n",
       "\t 2021-03-15 &  0.0067831160\\\\\n",
       "\t 2021-03-16 & -0.0025809298\\\\\n",
       "\t 2021-03-17 &  0.0028198219\\\\\n",
       "\t 2021-03-18 &  0.0001138971\\\\\n",
       "\t 2021-03-19 &  0.0272795302\\\\\n",
       "\t 2021-03-20 & -0.0029299308\\\\\n",
       "\t 2021-03-21 &  0.0060377790\\\\\n",
       "\t 2021-03-22 & -0.0018833865\\\\\n",
       "\t 2021-03-23 &  0.0096728797\\\\\n",
       "\t ⋮ & ⋮\\\\\n",
       "\t 2021-11-13 & -0.0014505389\\\\\n",
       "\t 2021-11-14 &  0.0010813874\\\\\n",
       "\t 2021-11-15 & -0.0067536169\\\\\n",
       "\t 2021-11-16 & -0.0016301863\\\\\n",
       "\t 2021-11-17 & -0.0019444368\\\\\n",
       "\t 2021-11-18 &  0.0028815768\\\\\n",
       "\t 2021-11-19 & -0.0025516395\\\\\n",
       "\t 2021-11-20 &  0.0040952883\\\\\n",
       "\t 2021-11-21 & -0.0019870101\\\\\n",
       "\t 2021-11-22 & -0.0014647461\\\\\n",
       "\t 2021-11-23 &  0.0010264249\\\\\n",
       "\t 2021-11-24 &  0.0039191189\\\\\n",
       "\t 2021-11-25 & -0.0052027150\\\\\n",
       "\t 2021-11-26 &  0.0005652442\\\\\n",
       "\t 2021-11-27 &  0.0011290075\\\\\n",
       "\t 2021-11-28 &  0.0056191547\\\\\n",
       "\t 2021-11-29 &  0.0011837450\\\\\n",
       "\t 2021-11-30 &  0.0017521118\\\\\n",
       "\t 2021-12-01 & -0.0023530360\\\\\n",
       "\t 2021-12-02 & -0.0021733306\\\\\n",
       "\t 2021-12-03 & -0.0081894020\\\\\n",
       "\t 2021-12-04 & -0.0013401761\\\\\n",
       "\t 2021-12-05 & -0.0004228683\\\\\n",
       "\t 2021-12-06 &  0.0013736146\\\\\n",
       "\t 2021-12-08 & -0.0035071982\\\\\n",
       "\t 2021-12-09 & -0.0021538200\\\\\n",
       "\t 2021-12-10 & -0.0004146987\\\\\n",
       "\t 2021-12-11 &  0.0009692856\\\\\n",
       "\t 2021-12-12 & -0.0030329412\\\\\n",
       "\t 2021-12-13 & -0.0014823194\\\\\n",
       "\\end{tabular}\n"
      ],
      "text/markdown": [
       "\n",
       "A tibble: 288 × 2\n",
       "\n",
       "| date &lt;date&gt; | port_return &lt;dbl&gt; |\n",
       "|---|---|\n",
       "| 2021-02-22 | -0.0020396386 |\n",
       "| 2021-02-23 |  0.0034974428 |\n",
       "| 2021-02-24 |  0.0053171001 |\n",
       "| 2021-02-25 |  0.0018109421 |\n",
       "| 2021-02-26 |  0.0171056292 |\n",
       "| 2021-02-27 |  0.0050864032 |\n",
       "| 2021-02-28 |  0.0040944290 |\n",
       "| 2021-03-01 |  0.0010111482 |\n",
       "| 2021-03-02 | -0.0011006109 |\n",
       "| 2021-03-03 | -0.0006303523 |\n",
       "| 2021-03-04 |  0.0026910553 |\n",
       "| 2021-03-05 | -0.0012811520 |\n",
       "| 2021-03-06 |  0.0047221212 |\n",
       "| 2021-03-07 | -0.0068271889 |\n",
       "| 2021-03-08 |  0.0065858227 |\n",
       "| 2021-03-09 |  0.0043050536 |\n",
       "| 2021-03-10 | -0.0015308114 |\n",
       "| 2021-03-11 | -0.0041418220 |\n",
       "| 2021-03-12 | -0.0012531855 |\n",
       "| 2021-03-13 | -0.0120723904 |\n",
       "| 2021-03-14 | -0.0060787597 |\n",
       "| 2021-03-15 |  0.0067831160 |\n",
       "| 2021-03-16 | -0.0025809298 |\n",
       "| 2021-03-17 |  0.0028198219 |\n",
       "| 2021-03-18 |  0.0001138971 |\n",
       "| 2021-03-19 |  0.0272795302 |\n",
       "| 2021-03-20 | -0.0029299308 |\n",
       "| 2021-03-21 |  0.0060377790 |\n",
       "| 2021-03-22 | -0.0018833865 |\n",
       "| 2021-03-23 |  0.0096728797 |\n",
       "| ⋮ | ⋮ |\n",
       "| 2021-11-13 | -0.0014505389 |\n",
       "| 2021-11-14 |  0.0010813874 |\n",
       "| 2021-11-15 | -0.0067536169 |\n",
       "| 2021-11-16 | -0.0016301863 |\n",
       "| 2021-11-17 | -0.0019444368 |\n",
       "| 2021-11-18 |  0.0028815768 |\n",
       "| 2021-11-19 | -0.0025516395 |\n",
       "| 2021-11-20 |  0.0040952883 |\n",
       "| 2021-11-21 | -0.0019870101 |\n",
       "| 2021-11-22 | -0.0014647461 |\n",
       "| 2021-11-23 |  0.0010264249 |\n",
       "| 2021-11-24 |  0.0039191189 |\n",
       "| 2021-11-25 | -0.0052027150 |\n",
       "| 2021-11-26 |  0.0005652442 |\n",
       "| 2021-11-27 |  0.0011290075 |\n",
       "| 2021-11-28 |  0.0056191547 |\n",
       "| 2021-11-29 |  0.0011837450 |\n",
       "| 2021-11-30 |  0.0017521118 |\n",
       "| 2021-12-01 | -0.0023530360 |\n",
       "| 2021-12-02 | -0.0021733306 |\n",
       "| 2021-12-03 | -0.0081894020 |\n",
       "| 2021-12-04 | -0.0013401761 |\n",
       "| 2021-12-05 | -0.0004228683 |\n",
       "| 2021-12-06 |  0.0013736146 |\n",
       "| 2021-12-08 | -0.0035071982 |\n",
       "| 2021-12-09 | -0.0021538200 |\n",
       "| 2021-12-10 | -0.0004146987 |\n",
       "| 2021-12-11 |  0.0009692856 |\n",
       "| 2021-12-12 | -0.0030329412 |\n",
       "| 2021-12-13 | -0.0014823194 |\n",
       "\n"
      ],
      "text/plain": [
       "    date       port_return  \n",
       "1   2021-02-22 -0.0020396386\n",
       "2   2021-02-23  0.0034974428\n",
       "3   2021-02-24  0.0053171001\n",
       "4   2021-02-25  0.0018109421\n",
       "5   2021-02-26  0.0171056292\n",
       "6   2021-02-27  0.0050864032\n",
       "7   2021-02-28  0.0040944290\n",
       "8   2021-03-01  0.0010111482\n",
       "9   2021-03-02 -0.0011006109\n",
       "10  2021-03-03 -0.0006303523\n",
       "11  2021-03-04  0.0026910553\n",
       "12  2021-03-05 -0.0012811520\n",
       "13  2021-03-06  0.0047221212\n",
       "14  2021-03-07 -0.0068271889\n",
       "15  2021-03-08  0.0065858227\n",
       "16  2021-03-09  0.0043050536\n",
       "17  2021-03-10 -0.0015308114\n",
       "18  2021-03-11 -0.0041418220\n",
       "19  2021-03-12 -0.0012531855\n",
       "20  2021-03-13 -0.0120723904\n",
       "21  2021-03-14 -0.0060787597\n",
       "22  2021-03-15  0.0067831160\n",
       "23  2021-03-16 -0.0025809298\n",
       "24  2021-03-17  0.0028198219\n",
       "25  2021-03-18  0.0001138971\n",
       "26  2021-03-19  0.0272795302\n",
       "27  2021-03-20 -0.0029299308\n",
       "28  2021-03-21  0.0060377790\n",
       "29  2021-03-22 -0.0018833865\n",
       "30  2021-03-23  0.0096728797\n",
       "⋮   ⋮          ⋮            \n",
       "259 2021-11-13 -0.0014505389\n",
       "260 2021-11-14  0.0010813874\n",
       "261 2021-11-15 -0.0067536169\n",
       "262 2021-11-16 -0.0016301863\n",
       "263 2021-11-17 -0.0019444368\n",
       "264 2021-11-18  0.0028815768\n",
       "265 2021-11-19 -0.0025516395\n",
       "266 2021-11-20  0.0040952883\n",
       "267 2021-11-21 -0.0019870101\n",
       "268 2021-11-22 -0.0014647461\n",
       "269 2021-11-23  0.0010264249\n",
       "270 2021-11-24  0.0039191189\n",
       "271 2021-11-25 -0.0052027150\n",
       "272 2021-11-26  0.0005652442\n",
       "273 2021-11-27  0.0011290075\n",
       "274 2021-11-28  0.0056191547\n",
       "275 2021-11-29  0.0011837450\n",
       "276 2021-11-30  0.0017521118\n",
       "277 2021-12-01 -0.0023530360\n",
       "278 2021-12-02 -0.0021733306\n",
       "279 2021-12-03 -0.0081894020\n",
       "280 2021-12-04 -0.0013401761\n",
       "281 2021-12-05 -0.0004228683\n",
       "282 2021-12-06  0.0013736146\n",
       "283 2021-12-08 -0.0035071982\n",
       "284 2021-12-09 -0.0021538200\n",
       "285 2021-12-10 -0.0004146987\n",
       "286 2021-12-11  0.0009692856\n",
       "287 2021-12-12 -0.0030329412\n",
       "288 2021-12-13 -0.0014823194"
      ]
     },
     "metadata": {},
     "output_type": "display_data"
    }
   ],
   "source": [
    "weights_df %>% \n",
    "  left_join(strategy_df, by = c(\"ticker\", \"date\")) %>% \n",
    "  mutate(strat_return = weight * total_fwd_return_simple) %>% \n",
    "  replace_na(list(strat_return = 0)) %>% \n",
    "  group_by(date) %>% \n",
    "  summarise(port_return = sum(strat_return), .groups = \"drop\") %>% \n",
    "  filter(abs(port_return) > 0.0001)"
   ]
  },
  {
   "cell_type": "code",
   "execution_count": 97,
   "metadata": {
    "vscode": {
     "languageId": "r"
    }
   },
   "outputs": [
    {
     "data": {
      "text/html": [
       "154"
      ],
      "text/latex": [
       "154"
      ],
      "text/markdown": [
       "154"
      ],
      "text/plain": [
       "[1] 154"
      ]
     },
     "metadata": {},
     "output_type": "display_data"
    },
    {
     "data": {
      "text/html": [
       "154"
      ],
      "text/latex": [
       "154"
      ],
      "text/markdown": [
       "154"
      ],
      "text/plain": [
       "[1] 154"
      ]
     },
     "metadata": {},
     "output_type": "display_data"
    }
   ],
   "source": [
    "length(exp_rets)\n",
    "ncol(full_covmat)"
   ]
  },
  {
   "cell_type": "code",
   "execution_count": 92,
   "metadata": {
    "vscode": {
     "languageId": "r"
    }
   },
   "outputs": [],
   "source": [
    "# universe_tickers - put everything in this order"
   ]
  },
  {
   "cell_type": "code",
   "execution_count": 76,
   "metadata": {
    "vscode": {
     "languageId": "r"
    }
   },
   "outputs": [
    {
     "data": {
      "text/html": [
       "<style>\n",
       ".list-inline {list-style: none; margin:0; padding: 0}\n",
       ".list-inline>li {display: inline-block}\n",
       ".list-inline>li:not(:last-child)::after {content: \"\\00b7\"; padding: 0 .5ex}\n",
       "</style>\n",
       "<ol class=list-inline><li>'ADAUSDT'</li><li>'ALGOUSDT'</li><li>'ATOMUSDT'</li><li>'BANDUSDT'</li><li>'BATUSDT'</li><li>'BCHUSDT'</li><li>'BNBUSDT'</li><li>'BTCUSDT'</li><li>'COMPUSDT'</li><li>'DASHUSDT'</li><li>'DOGEUSDT'</li><li>'DOTUSDT'</li><li>'EOSUSDT'</li><li>'ETCUSDT'</li><li>'ETHUSDT'</li><li>'IOSTUSDT'</li><li>'IOTAUSDT'</li><li>'KAVAUSDT'</li><li>'KNCUSDT'</li><li>'LINKUSDT'</li><li>'LTCUSDT'</li><li>'MKRUSDT'</li><li>'NEOUSDT'</li><li>'OMGUSDT'</li><li>'ONTUSDT'</li><li>'QTUMUSDT'</li><li>'RLCUSDT'</li><li>'SNXUSDT'</li><li>'SXPUSDT'</li><li>'THETAUSDT'</li><li>'TRXUSDT'</li><li>'VETUSDT'</li><li>'WAVESUSDT'</li><li>'XLMUSDT'</li><li>'XMRUSDT'</li><li>'XRPUSDT'</li><li>'XTZUSDT'</li><li>'ZECUSDT'</li><li>'ZILUSDT'</li><li>'ZRXUSDT'</li></ol>\n"
      ],
      "text/latex": [
       "\\begin{enumerate*}\n",
       "\\item 'ADAUSDT'\n",
       "\\item 'ALGOUSDT'\n",
       "\\item 'ATOMUSDT'\n",
       "\\item 'BANDUSDT'\n",
       "\\item 'BATUSDT'\n",
       "\\item 'BCHUSDT'\n",
       "\\item 'BNBUSDT'\n",
       "\\item 'BTCUSDT'\n",
       "\\item 'COMPUSDT'\n",
       "\\item 'DASHUSDT'\n",
       "\\item 'DOGEUSDT'\n",
       "\\item 'DOTUSDT'\n",
       "\\item 'EOSUSDT'\n",
       "\\item 'ETCUSDT'\n",
       "\\item 'ETHUSDT'\n",
       "\\item 'IOSTUSDT'\n",
       "\\item 'IOTAUSDT'\n",
       "\\item 'KAVAUSDT'\n",
       "\\item 'KNCUSDT'\n",
       "\\item 'LINKUSDT'\n",
       "\\item 'LTCUSDT'\n",
       "\\item 'MKRUSDT'\n",
       "\\item 'NEOUSDT'\n",
       "\\item 'OMGUSDT'\n",
       "\\item 'ONTUSDT'\n",
       "\\item 'QTUMUSDT'\n",
       "\\item 'RLCUSDT'\n",
       "\\item 'SNXUSDT'\n",
       "\\item 'SXPUSDT'\n",
       "\\item 'THETAUSDT'\n",
       "\\item 'TRXUSDT'\n",
       "\\item 'VETUSDT'\n",
       "\\item 'WAVESUSDT'\n",
       "\\item 'XLMUSDT'\n",
       "\\item 'XMRUSDT'\n",
       "\\item 'XRPUSDT'\n",
       "\\item 'XTZUSDT'\n",
       "\\item 'ZECUSDT'\n",
       "\\item 'ZILUSDT'\n",
       "\\item 'ZRXUSDT'\n",
       "\\end{enumerate*}\n"
      ],
      "text/markdown": [
       "1. 'ADAUSDT'\n",
       "2. 'ALGOUSDT'\n",
       "3. 'ATOMUSDT'\n",
       "4. 'BANDUSDT'\n",
       "5. 'BATUSDT'\n",
       "6. 'BCHUSDT'\n",
       "7. 'BNBUSDT'\n",
       "8. 'BTCUSDT'\n",
       "9. 'COMPUSDT'\n",
       "10. 'DASHUSDT'\n",
       "11. 'DOGEUSDT'\n",
       "12. 'DOTUSDT'\n",
       "13. 'EOSUSDT'\n",
       "14. 'ETCUSDT'\n",
       "15. 'ETHUSDT'\n",
       "16. 'IOSTUSDT'\n",
       "17. 'IOTAUSDT'\n",
       "18. 'KAVAUSDT'\n",
       "19. 'KNCUSDT'\n",
       "20. 'LINKUSDT'\n",
       "21. 'LTCUSDT'\n",
       "22. 'MKRUSDT'\n",
       "23. 'NEOUSDT'\n",
       "24. 'OMGUSDT'\n",
       "25. 'ONTUSDT'\n",
       "26. 'QTUMUSDT'\n",
       "27. 'RLCUSDT'\n",
       "28. 'SNXUSDT'\n",
       "29. 'SXPUSDT'\n",
       "30. 'THETAUSDT'\n",
       "31. 'TRXUSDT'\n",
       "32. 'VETUSDT'\n",
       "33. 'WAVESUSDT'\n",
       "34. 'XLMUSDT'\n",
       "35. 'XMRUSDT'\n",
       "36. 'XRPUSDT'\n",
       "37. 'XTZUSDT'\n",
       "38. 'ZECUSDT'\n",
       "39. 'ZILUSDT'\n",
       "40. 'ZRXUSDT'\n",
       "\n",
       "\n"
      ],
      "text/plain": [
       " [1] \"ADAUSDT\"   \"ALGOUSDT\"  \"ATOMUSDT\"  \"BANDUSDT\"  \"BATUSDT\"   \"BCHUSDT\"  \n",
       " [7] \"BNBUSDT\"   \"BTCUSDT\"   \"COMPUSDT\"  \"DASHUSDT\"  \"DOGEUSDT\"  \"DOTUSDT\"  \n",
       "[13] \"EOSUSDT\"   \"ETCUSDT\"   \"ETHUSDT\"   \"IOSTUSDT\"  \"IOTAUSDT\"  \"KAVAUSDT\" \n",
       "[19] \"KNCUSDT\"   \"LINKUSDT\"  \"LTCUSDT\"   \"MKRUSDT\"   \"NEOUSDT\"   \"OMGUSDT\"  \n",
       "[25] \"ONTUSDT\"   \"QTUMUSDT\"  \"RLCUSDT\"   \"SNXUSDT\"   \"SXPUSDT\"   \"THETAUSDT\"\n",
       "[31] \"TRXUSDT\"   \"VETUSDT\"   \"WAVESUSDT\" \"XLMUSDT\"   \"XMRUSDT\"   \"XRPUSDT\"  \n",
       "[37] \"XTZUSDT\"   \"ZECUSDT\"   \"ZILUSDT\"   \"ZRXUSDT\"  "
      ]
     },
     "metadata": {},
     "output_type": "display_data"
    }
   ],
   "source": [
    "current_tickers <- colnames(today_covmat_shrunk)\n",
    "current_tickers"
   ]
  },
  {
   "cell_type": "code",
   "execution_count": 77,
   "metadata": {
    "vscode": {
     "languageId": "r"
    }
   },
   "outputs": [
    {
     "ename": "ERROR",
     "evalue": "Error in full_covmat[current_tickers, current_tickers] <- today_covmat_shrunk: number of items to replace is not a multiple of replacement length\n",
     "output_type": "error",
     "traceback": [
      "Error in full_covmat[current_tickers, current_tickers] <- today_covmat_shrunk: number of items to replace is not a multiple of replacement length\nTraceback:\n"
     ]
    }
   ],
   "source": [
    "full_covmat <- matrix(0, nrow = length(universe_tickers), ncol = length(universe_tickers),\n",
    "         dimnames = list(universe_tickers, universe_tickers))\n",
    "full_covmat[current_tickers, current_tickers] <- today_covmat_shrunk\n",
    "full_covmat"
   ]
  },
  {
   "cell_type": "code",
   "execution_count": 81,
   "metadata": {
    "vscode": {
     "languageId": "r"
    }
   },
   "outputs": [
    {
     "data": {
      "text/html": [
       "1600"
      ],
      "text/latex": [
       "1600"
      ],
      "text/markdown": [
       "1600"
      ],
      "text/plain": [
       "[1] 1600"
      ]
     },
     "metadata": {},
     "output_type": "display_data"
    },
    {
     "data": {
      "text/html": [
       "1600"
      ],
      "text/latex": [
       "1600"
      ],
      "text/markdown": [
       "1600"
      ],
      "text/plain": [
       "[1] 1600"
      ]
     },
     "metadata": {},
     "output_type": "display_data"
    }
   ],
   "source": [
    "length(full_covmat[current_tickers, current_tickers]) \n",
    "length(today_covmat_shrunk)"
   ]
  },
  {
   "cell_type": "code",
   "execution_count": 82,
   "metadata": {
    "vscode": {
     "languageId": "r"
    }
   },
   "outputs": [
    {
     "name": "stdout",
     "output_type": "stream",
     "text": [
      "[1] 40 40\n",
      "[1] TRUE\n",
      "[1] TRUE\n"
     ]
    }
   ],
   "source": [
    "# Assuming current_assets is correctly ordered to match current_cov_matrix\n",
    "print(dim(today_covmat_shrunk))  # Should print 40 40 (or another square matrix size)\n",
    "print(all(rownames(today_covmat_shrunk) == current_tickers))  # Should be TRUE\n",
    "print(all(colnames(today_covmat_shrunk) == current_tickers)) "
   ]
  },
  {
   "cell_type": "code",
   "execution_count": 94,
   "metadata": {
    "vscode": {
     "languageId": "r"
    }
   },
   "outputs": [],
   "source": [
    "# Assuming 'all_assets' contains all tickers in the order used by 'full_cov_matrix'\n",
    "current_assets_ordered <- intersect(universe_tickers, rownames(today_covmat_shrunk))\n",
    "\n",
    "# Ensure 'current_cov_matrix' is reordered correctly\n",
    "today_covmat_shrunk_reordered <- today_covmat_shrunk[current_assets_ordered, current_assets_ordered] %>% as.matrix()\n",
    "full_covmat <- full_covmat[universe_tickers, universe_tickers]\n",
    "\n",
    "# Then, replace in 'full_cov_matrix'\n",
    "full_covmat[current_assets_ordered, current_assets_ordered] <- today_covmat_shrunk_reordered\n",
    "\n",
    "# replace zeros on diagonal with average variance\n",
    "# Identify zeros on the diagonal\n",
    "zero_diag_indices <- which(diag(full_covmat) == 0)\n",
    "\n",
    "# Replace these zeros with the average variance\n",
    "diag(full_covmat)[zero_diag_indices] <- average_variance"
   ]
  },
  {
   "cell_type": "code",
   "execution_count": 95,
   "metadata": {
    "vscode": {
     "languageId": "r"
    }
   },
   "outputs": [
    {
     "data": {
      "text/html": [
       "TRUE"
      ],
      "text/latex": [
       "TRUE"
      ],
      "text/markdown": [
       "TRUE"
      ],
      "text/plain": [
       "[1] TRUE"
      ]
     },
     "metadata": {},
     "output_type": "display_data"
    },
    {
     "data": {
      "text/html": [
       "TRUE"
      ],
      "text/latex": [
       "TRUE"
      ],
      "text/markdown": [
       "TRUE"
      ],
      "text/plain": [
       "[1] TRUE"
      ]
     },
     "metadata": {},
     "output_type": "display_data"
    }
   ],
   "source": [
    "is.positive.semi.definite(full_covmat, tol=1e-8)\n",
    "isSymmetric(full_covmat)"
   ]
  },
  {
   "attachments": {},
   "cell_type": "markdown",
   "metadata": {},
   "source": []
  }
 ],
 "metadata": {
  "kernelspec": {
   "display_name": "R",
   "language": "R",
   "name": "ir"
  },
  "language_info": {
   "codemirror_mode": "r",
   "file_extension": ".r",
   "mimetype": "text/x-r-source",
   "name": "R",
   "pygments_lexer": "r",
   "version": "4.2.3"
  },
  "orig_nbformat": 4
 },
 "nbformat": 4,
 "nbformat_minor": 2
}
