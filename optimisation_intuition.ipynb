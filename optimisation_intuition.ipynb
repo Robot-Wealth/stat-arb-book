{
 "cells": [
  {
   "attachments": {},
   "cell_type": "markdown",
   "metadata": {},
   "source": [
    "# Building Intuition of Convex Optimisation in Trading with CVXR\n",
    "\n",
    "This article continues our recent stat arb series. The previous articles are linked below:\n",
    "- [A short take on stat arb trading in the real world](https://robotwealth.com/a-short-take-on-real-world-pairs-trading/)\n",
    "- [A general approach for exploiting stat arb alphas](https://robotwealth.com/a-general-approach-for-exploiting-statistical-arbitrage-alphas/)\n",
    "- [Ideas for crypto stat arb features](https://robotwealth.com/ideas-for-crypto-stat-arb-features/)\n",
    "- [Quantifying and combining crypto alphas](https://robotwealth.com/quantifying-and-combining-crypto-alphas/)\n",
    "- [A simple and effective way to manage turnover and not get killed by costs](https://robotwealth.com/a-simple-effective-way-to-manage-turnover-and-not-get-killed-by-costs/)\n",
    "- [How to model features as expected returns](https://robotwealth.com/how-to-model-features-as-expected-returns/)\n",
    "\n",
    "Next, we'll build some intuition for using convex optimisation to manage real-world trade-offs in execution. \n",
    "\n",
    "Imagine you've quantified some signals that are predictive of next-day returns. You've done the grunt work of the research phase:\n",
    "- Understood their strength and decay characteristics\n",
    "- Gotten a handle on the rate at which they change and hence their impact on turnover\n",
    "- Examined how they changed over time\n",
    "- Modelled them as expected returns\n",
    "\n",
    "The next phase is implementation. This answers the question: \"Given these signals and my real-world constraints and objectives, what trading decisions am I going to make?\"\n",
    "\n",
    "This sounds straightforward, but it's nuanced. \n",
    "\n",
    "Often, if you naively trade the positions implied by your signals (for example without considering costs), you end up trading more frequently than you need to and getting killed with costs. \n",
    "\n",
    "Implementation is all about navigating trade-offs. For example, you have a signal that is noisily correlated with future returns. But you also incur a cost every time you trade. \n",
    "\n",
    "Maybe you care about ending up with positions concentrated in similar assets as well as maximising your expected returns.  \n",
    "\n",
    "Maybe you have a limit on how net long or short you want to be, or how much leverage you want to take. \n",
    "\n",
    "Clearly, your signals are only one input into your trading decisions. \n",
    "\n",
    "In the article *[A Simple, Effective Way to Manage Turnover and Not Get Killed by Costs](https://robotwealth.com/a-simple-effective-way-to-manage-turnover-and-not-get-killed-by-costs/)*, we introduced the concept of a \"no-trade buffer\" that stops you hyperactively trading your signals, and instead only rebalances positions when they get out of whack by some percentage of your target. \n",
    "\n",
    "The advantage of this approach is that it's simple and intuitive and leads to a predictable, mechanical set of rules for managing your positions. \n",
    "\n",
    "However, a more explicit optimisation approach has some attractive benefits:\n",
    "- It accommodates real-world constraints directly \n",
    "- It enables incorporation of risk models such as covariance estimates, Value-at-Risk, etc\n",
    "- It's very flexible and scalable: you can add new signals or risk estimates without re-fitting anything\n",
    "\n",
    "Before we get into the details of how to apply optimisation in the trading context, it's worth building some intuition. Optimisers can seem like a black box, but we can build up some intuition about how they work using some simple examples. \n",
    "\n",
    "Let's get to it. "
   ]
  },
  {
   "cell_type": "code",
   "execution_count": 2,
   "metadata": {
    "vscode": {
     "languageId": "r"
    }
   },
   "outputs": [],
   "source": [
    "# session  options\n",
    "options(repr.plot.width = 14, repr.plot.height=7, warn = -1)\n",
    "\n",
    "library(tidyverse)\n",
    "library(CVXR)\n",
    "\n",
    "# chart options\n",
    "theme_set(theme_bw())\n",
    "theme_update(text = element_text(size = 20))"
   ]
  },
  {
   "attachments": {},
   "cell_type": "markdown",
   "metadata": {},
   "source": [
    "## Why convex optimisation?\n",
    "\n",
    "In a nutshell, convex problems are fast to solve, and there's always a clear path to the solution. \n",
    "\n",
    "They're amenable to solving quickly and accurately because the problem is bounded in such a way that you can't get stuck in a local minimum or maximum, and you get to the right answer by always going in the same mathematical direction. \n",
    "\n",
    "The common definition of a convex function is a little wordy: \n",
    "\n",
    "> If we can draw a line segment between any two points on the graph of a function such that there is no point of this graph that is above this line segment between these two points then the function is called a convex function.\n",
    "\n",
    "This is a visual representation of what it means (right click, open in new tab to make bigger):\n",
    "\n",
    "![convex functions](https://robotwealth.com/wp-content/uploads/2024/02/convex_functions.png)\n",
    "\n",
    "Because of the bowl shape, we know a few useful things:\n",
    "\n",
    "- There's only one optimal spot.\n",
    "- We can find it without getting lost or stuck at a higher point - we just need to keep going down.\n",
    "- We can find the best spot efficiently. Since there's a straightforward path to the bottom, we don't have to check every single spot on the function to find the lowest point. We can follow a path that takes us directly there, which saves a lot of time and effort.\n",
    "- It works every time. No matter where you start on the function, you'll always end up at the bottom if you keep going downhill. This predictability makes it easier for us to solve these problems without surprises.\n",
    "\n",
    "The non-convex function on the right requires more care and effort. If we find a local minimum, there's no guarantee that we found the global minimum. \n",
    "\n",
    "Thankfully, many problems can be framed as convex problems, including the trading problem. "
   ]
  },
  {
   "attachments": {},
   "cell_type": "markdown",
   "metadata": {},
   "source": [
    "## Modeling convex problems in R\n",
    "![CVXR](https://cvxr.rbind.io/favicon.ico)\n",
    "\n",
    "CVXR is an R package that provides a simple, object-oriented modeling language for convex optimization. \n",
    "\n",
    "It's strength lies in allowing the user to formulate convex optimization problems in a natural, intuitive syntax. In contrast, many optimisers require restrictive syntax that's heavy on the linear algebra, making it inaccessible to many users. \n",
    "\n",
    "In CVXR, the user specifies an objective and set of constraints by combining CVXR objects representing constants, variables, and parameters using a library of functions with known mathematical properties. \n",
    "\n",
    "CVXR then automatically verifies the problem’s convexity. Once verified, the problem is automatically converted into standard form and passed to an underlying solver. "
   ]
  },
  {
   "attachments": {},
   "cell_type": "markdown",
   "metadata": {},
   "source": [
    "## Building intuition through examples\n",
    "\n",
    "Next, we'll explore CVXR and build up our intuition of what the optimiser does via gradually more complex examples.\n",
    "\n",
    "### Maximise portfolio returns given expected returns\n",
    "\n",
    "In this simplest of problems, we seek only to maximise expected returns. We don't consisder costs or risk. We only add no-leverage and long-only constraints.\n",
    "\n",
    "We are asking the question: *\"Given expected returns for these assets, what weights maximise my portfolio expected return?\"*\n",
    "\n",
    "Under this scenario, since it's considering nothing but expected returns, the optimiser should invest 100% in whatever asset has the highest expected return, and return a weight of 0% for everything else.\n",
    "\n",
    "We first specify a function for solving this optimisation problem:"
   ]
  },
  {
   "cell_type": "code",
   "execution_count": 3,
   "metadata": {
    "vscode": {
     "languageId": "r"
    }
   },
   "outputs": [],
   "source": [
    "maximise_returns <- function(expected_returns) {\n",
    "  # define our unknown weight vector as a CVXR::Variable\n",
    "    # this is the thing that CVXR will try to solve for\n",
    "  weights <- Variable(rows = length(expected_returns))\n",
    "  # define our objective:\n",
    "    # portfolio returns = sum(weights * expected_returns)\n",
    "    # we want to maximise this, so use CVXR::Maximise\n",
    "    # and express weighted sum of returns using linear algebra - transpose the weight vector and get dot product of expected returns vector\n",
    "  objective <- Maximize(t(weights) %*% expected_returns)\n",
    "  # define our constraints as a list:\n",
    "    # here we have only two constraints:\n",
    "      # that the sum of the abs.values of the weights be less than or equal to 1 (ie no leverage constraint),\n",
    "      # and that each weight is greater than or equal to zero (long only)\n",
    "    # CVXR::cvxr_norm is a function for getting the sum of the abs.values of a vector\n",
    "    # CVXR has loads of functions for doing all sorts of operations and aggregations\n",
    "  constraints <- list(cvxr_norm(weights, 1) <= 1, weights >= 0)  # sum(abs(weights))\n",
    "  # construct our problem using CVXR::Problem and specifying objective and constraints\n",
    "  problem <- Problem(objective, constraints)\n",
    "  # solve\n",
    "  result <- solve(problem)\n",
    "\n",
    "  # return the solved values of our CVXR::Variable\n",
    "  result$getValue(weights)\n",
    "}"
   ]
  },
  {
   "attachments": {},
   "cell_type": "markdown",
   "metadata": {},
   "source": [
    "Here's our vector of expected returns. "
   ]
  },
  {
   "cell_type": "code",
   "execution_count": 4,
   "metadata": {
    "vscode": {
     "languageId": "r"
    }
   },
   "outputs": [
    {
     "data": {
      "text/html": [
       "<style>\n",
       ".list-inline {list-style: none; margin:0; padding: 0}\n",
       ".list-inline>li {display: inline-block}\n",
       ".list-inline>li:not(:last-child)::after {content: \"\\00b7\"; padding: 0 .5ex}\n",
       "</style>\n",
       "<ol class=list-inline><li>0.001</li><li>0.002</li><li>0.003</li><li>0.004</li><li>0.005</li><li>0.006</li></ol>\n"
      ],
      "text/latex": [
       "\\begin{enumerate*}\n",
       "\\item 0.001\n",
       "\\item 0.002\n",
       "\\item 0.003\n",
       "\\item 0.004\n",
       "\\item 0.005\n",
       "\\item 0.006\n",
       "\\end{enumerate*}\n"
      ],
      "text/markdown": [
       "1. 0.001\n",
       "2. 0.002\n",
       "3. 0.003\n",
       "4. 0.004\n",
       "5. 0.005\n",
       "6. 0.006\n",
       "\n",
       "\n"
      ],
      "text/plain": [
       "[1] 0.001 0.002 0.003 0.004 0.005 0.006"
      ]
     },
     "metadata": {},
     "output_type": "display_data"
    }
   ],
   "source": [
    "# vector of expected returns\n",
    "r1 <- seq(from = 0.001, by = 0.001, length.out = 6)\n",
    "r1"
   ]
  },
  {
   "attachments": {},
   "cell_type": "markdown",
   "metadata": {},
   "source": [
    "Asset 6 has the highest expected return, so we should go all in on this asset (weight should be 1) and assign a zero weight to everything else:"
   ]
  },
  {
   "cell_type": "code",
   "execution_count": 5,
   "metadata": {
    "vscode": {
     "languageId": "r"
    }
   },
   "outputs": [
    {
     "data": {
      "text/html": [
       "<table class=\"dataframe\">\n",
       "<caption>A matrix: 6 × 1 of type dbl</caption>\n",
       "<tbody>\n",
       "\t<tr><td>-1.173742e-15</td></tr>\n",
       "\t<tr><td>-3.200916e-16</td></tr>\n",
       "\t<tr><td>-2.997776e-16</td></tr>\n",
       "\t<tr><td>-2.771167e-15</td></tr>\n",
       "\t<tr><td>-9.126314e-15</td></tr>\n",
       "\t<tr><td> 1.000025e+00</td></tr>\n",
       "</tbody>\n",
       "</table>\n"
      ],
      "text/latex": [
       "A matrix: 6 × 1 of type dbl\n",
       "\\begin{tabular}{l}\n",
       "\t -1.173742e-15\\\\\n",
       "\t -3.200916e-16\\\\\n",
       "\t -2.997776e-16\\\\\n",
       "\t -2.771167e-15\\\\\n",
       "\t -9.126314e-15\\\\\n",
       "\t  1.000025e+00\\\\\n",
       "\\end{tabular}\n"
      ],
      "text/markdown": [
       "\n",
       "A matrix: 6 × 1 of type dbl\n",
       "\n",
       "| -1.173742e-15 |\n",
       "| -3.200916e-16 |\n",
       "| -2.997776e-16 |\n",
       "| -2.771167e-15 |\n",
       "| -9.126314e-15 |\n",
       "|  1.000025e+00 |\n",
       "\n"
      ],
      "text/plain": [
       "     [,1]         \n",
       "[1,] -1.173742e-15\n",
       "[2,] -3.200916e-16\n",
       "[3,] -2.997776e-16\n",
       "[4,] -2.771167e-15\n",
       "[5,] -9.126314e-15\n",
       "[6,]  1.000025e+00"
      ]
     },
     "metadata": {},
     "output_type": "display_data"
    },
    {
     "data": {
      "text/html": [
       "'Mean relative difference: 2.470575e-05'"
      ],
      "text/latex": [
       "'Mean relative difference: 2.470575e-05'"
      ],
      "text/markdown": [
       "'Mean relative difference: 2.470575e-05'"
      ],
      "text/plain": [
       "[1] \"Mean relative difference: 2.470575e-05\""
      ]
     },
     "metadata": {},
     "output_type": "display_data"
    },
    {
     "data": {
      "image/png": "[encoded data removed]",
      "text/plain": [
       "plot without title"
      ]
     },
     "metadata": {
      "image/png": {
       "height": 420,
       "width": 840
      }
     },
     "output_type": "display_data"
    }
   ],
   "source": [
    "# vector of weights we expect the optimiser to find\n",
    "expected_weights <- matrix(c(0, 0, 0, 0, 0, 1), ncol = 1)  # fully invested in highest expected return\n",
    "\n",
    "weights1 <- maximise_returns(r1)\n",
    "weights1\n",
    "\n",
    "weights1 %>%\n",
    "  as.data.frame() %>%\n",
    "  ggplot(aes(x = factor(1:6), y = V1)) +\n",
    "    geom_col() +\n",
    "    labs(\n",
    "      x = \"asset\",\n",
    "      y = \"weight\",\n",
    "      title = \"Optimal weights\"\n",
    "    )\n",
    "\n",
    "# check we got what we expected\n",
    "all.equal(weights1, expected_weights, tolerance = 1e-9)"
   ]
  },
  {
   "attachments": {},
   "cell_type": "markdown",
   "metadata": {},
   "source": [
    "You can see that the optimiser did indeed go all in on asset 6. Also notice that the other weights go extremely close, but not precisely to zero. That's because the optimiser uses a numerical method rather than a precise analytical solution to solve the problem. \n",
    "\n",
    "Let's verify the long-only constraint. We'll set asset 6's return to be -0.006. We could now maximise our expected portfolio returns by assigning 100% of our position to a short on this asset. But since we have a long-only constraint, this asset should be assigned a zero weight, and asset 5 (expected return 0.005) should get 100% of our weight:"
   ]
  },
  {
   "cell_type": "code",
   "execution_count": 6,
   "metadata": {
    "vscode": {
     "languageId": "r"
    }
   },
   "outputs": [
    {
     "data": {
      "text/html": [
       "<style>\n",
       ".list-inline {list-style: none; margin:0; padding: 0}\n",
       ".list-inline>li {display: inline-block}\n",
       ".list-inline>li:not(:last-child)::after {content: \"\\00b7\"; padding: 0 .5ex}\n",
       "</style>\n",
       "<ol class=list-inline><li>0.001</li><li>0.002</li><li>0.003</li><li>0.004</li><li>0.005</li><li>-0.006</li></ol>\n"
      ],
      "text/latex": [
       "\\begin{enumerate*}\n",
       "\\item 0.001\n",
       "\\item 0.002\n",
       "\\item 0.003\n",
       "\\item 0.004\n",
       "\\item 0.005\n",
       "\\item -0.006\n",
       "\\end{enumerate*}\n"
      ],
      "text/markdown": [
       "1. 0.001\n",
       "2. 0.002\n",
       "3. 0.003\n",
       "4. 0.004\n",
       "5. 0.005\n",
       "6. -0.006\n",
       "\n",
       "\n"
      ],
      "text/plain": [
       "[1]  0.001  0.002  0.003  0.004  0.005 -0.006"
      ]
     },
     "metadata": {},
     "output_type": "display_data"
    },
    {
     "data": {
      "text/html": [
       "<table class=\"dataframe\">\n",
       "<caption>A matrix: 6 × 1 of type dbl</caption>\n",
       "<tbody>\n",
       "\t<tr><td> 1.833225e-16</td></tr>\n",
       "\t<tr><td> 1.190608e-16</td></tr>\n",
       "\t<tr><td>-2.071393e-16</td></tr>\n",
       "\t<tr><td>-1.427314e-16</td></tr>\n",
       "\t<tr><td> 1.000074e+00</td></tr>\n",
       "\t<tr><td>-1.191854e-16</td></tr>\n",
       "</tbody>\n",
       "</table>\n"
      ],
      "text/latex": [
       "A matrix: 6 × 1 of type dbl\n",
       "\\begin{tabular}{l}\n",
       "\t  1.833225e-16\\\\\n",
       "\t  1.190608e-16\\\\\n",
       "\t -2.071393e-16\\\\\n",
       "\t -1.427314e-16\\\\\n",
       "\t  1.000074e+00\\\\\n",
       "\t -1.191854e-16\\\\\n",
       "\\end{tabular}\n"
      ],
      "text/markdown": [
       "\n",
       "A matrix: 6 × 1 of type dbl\n",
       "\n",
       "|  1.833225e-16 |\n",
       "|  1.190608e-16 |\n",
       "| -2.071393e-16 |\n",
       "| -1.427314e-16 |\n",
       "|  1.000074e+00 |\n",
       "| -1.191854e-16 |\n",
       "\n"
      ],
      "text/plain": [
       "     [,1]         \n",
       "[1,]  1.833225e-16\n",
       "[2,]  1.190608e-16\n",
       "[3,] -2.071393e-16\n",
       "[4,] -1.427314e-16\n",
       "[5,]  1.000074e+00\n",
       "[6,] -1.191854e-16"
      ]
     },
     "metadata": {},
     "output_type": "display_data"
    },
    {
     "data": {
      "text/html": [
       "'Mean relative difference: 7.402931e-05'"
      ],
      "text/latex": [
       "'Mean relative difference: 7.402931e-05'"
      ],
      "text/markdown": [
       "'Mean relative difference: 7.402931e-05'"
      ],
      "text/plain": [
       "[1] \"Mean relative difference: 7.402931e-05\""
      ]
     },
     "metadata": {},
     "output_type": "display_data"
    },
    {
     "data": {
      "image/png": "[encoded data removed]",
      "text/plain": [
       "plot without title"
      ]
     },
     "metadata": {
      "image/png": {
       "height": 420,
       "width": 840
      }
     },
     "output_type": "display_data"
    }
   ],
   "source": [
    "# vector of expected returns\n",
    "r1a <- r1*c(rep(1, 5), -1)\n",
    "r1a\n",
    "\n",
    "# vector of weights we expect the optimiser to find\n",
    "expected_weights <- matrix(c(0, 0, 0, 0, 1, 0), ncol = 1)  # fully invested in highest expected return\n",
    "\n",
    "weights1a <- maximise_returns(r1a)\n",
    "weights1a\n",
    "\n",
    "weights1a %>%\n",
    "  as.data.frame() %>%\n",
    "  ggplot(aes(x = factor(1:6), y = V1)) +\n",
    "    geom_col() +\n",
    "    labs(\n",
    "      x = \"asset\",\n",
    "      y = \"weight\",\n",
    "      title = \"Optimal weights\"\n",
    "    )\n",
    "\n",
    "# check we got what we expected\n",
    "all.equal(weights1a, expected_weights, tolerance = 1e-9)"
   ]
  },
  {
   "attachments": {},
   "cell_type": "markdown",
   "metadata": {},
   "source": [
    "You can see that the optimiser did indeed find an optimal weight of 100% for asset 5 and 0% for everything else. "
   ]
  },
  {
   "attachments": {},
   "cell_type": "markdown",
   "metadata": {},
   "source": [
    "### Maximise expected return given costs and our initial position\n",
    "\n",
    "The next problem is slightly more complex and starts to reflect what we would think about in the trading problem - maximising our expected return subject to transaction costs, given our existing position.\n",
    "\n",
    "Imagine you have three assets A, B, and C with the following expected returns:\n",
    "- A: 0.002\n",
    "- B: 0.001\n",
    "- C: 0.001\n",
    "\n",
    "So you buy asset A in an effort to maximise expected returns. \n",
    "\n",
    "Now things change and you update your forecasts for your three assets:\n",
    "- A: 0.002\n",
    "- B: 0.0025\n",
    "- c: 0.001\n",
    "\n",
    "If it didn't cost anything to trade, you would switch to asset B. But say it costs you 5 basis points (0.0005) to trade. In this scenario, your costs wipe out your additional expected returns. Suddenly, there's no benefit to switching, so you stay in asset A. \n",
    "\n",
    "Our problem is now *\"Given these expected returns and these existing positions, and these costs of trading, what are my optimal weights in the next period?*\n",
    "\n",
    "Here's a function for framing and solving that problem with CVXR, assuming fixed percentage costs (retaining our no-leverage and long-only constraints):"
   ]
  },
  {
   "cell_type": "code",
   "execution_count": 7,
   "metadata": {
    "vscode": {
     "languageId": "r"
    }
   },
   "outputs": [],
   "source": [
    "maximise_alpha_with_costs <- function(expected_returns, current_weights, costs) {\n",
    "  # define our weights vector as a CVXR::Variable\n",
    "  weights <- Variable(rows = length(expected_returns))\n",
    "  # define an alpha term as the weighted sum of expected returns\n",
    "    # again, express using linear algebra\n",
    "  alpha_term <- (t(weights) %*% expected_returns)\n",
    "  # define a costs term. depends on:\n",
    "    # cost of trading - needs to be expressed such that it scales with expected returns\n",
    "      # calculate as elementwise cost * absolute value of weights - current_weights\n",
    "      # use CVXR::multiply and CVXR::abs\n",
    "    # absolute distance of current_weights to our weights variable\n",
    "      # the more our target weights differ from current weights, the more it costs to trade\n",
    "      # this is a decent representation of fixed percentage costs, but doesn't capture minimum commissions\n",
    "    # sum_entries is a CVXR function for summing the elements of a vector\n",
    "  costs_term <- sum_entries(multiply(costs, abs(weights - current_weights))) # elementwise abs, multiply\n",
    "  # now our portfolio expected returns can be modelled as our alpha term less our costs\n",
    "  # and our objective is to maximise this expression\n",
    "  objective <- Maximize(alpha_term - costs_term)\n",
    "  # we'll keep our no leverage constraint - sum of the abs.values of the weights must be less than or equal to 1\n",
    "  # also keep our long only constraint\n",
    "  constraints <- list(cvxr_norm(weights, 1) <= 1, weights >= 0)\n",
    "  # specify our problem\n",
    "  problem <- Problem(objective, constraints)\n",
    "  # solve it\n",
    "  result <- solve(problem)\n",
    "\n",
    "  # return the weights vector that CVXR found\n",
    "  result$getValue(weights)\n",
    "}"
   ]
  },
  {
   "attachments": {},
   "cell_type": "markdown",
   "metadata": {},
   "source": [
    "Now we set our expected returns for the next period, our current weights, and our costs. \n",
    "\n",
    "We'll start off 100% invested in asset 6. But in the next period, we predict asset 5 to return 5 basis points more than asset 6. But we'll set our costs to 5 basis points, and thus expect the optimiser to return our existing positions (ie do no trading in the next period):"
   ]
  },
  {
   "cell_type": "code",
   "execution_count": 8,
   "metadata": {
    "vscode": {
     "languageId": "r"
    }
   },
   "outputs": [
    {
     "data": {
      "text/html": [
       "<table class=\"dataframe\">\n",
       "<caption>A matrix: 6 × 1 of type dbl</caption>\n",
       "<tbody>\n",
       "\t<tr><td>2.791983e-15</td></tr>\n",
       "\t<tr><td>0.000000e+00</td></tr>\n",
       "\t<tr><td>0.000000e+00</td></tr>\n",
       "\t<tr><td>0.000000e+00</td></tr>\n",
       "\t<tr><td>1.142232e-15</td></tr>\n",
       "\t<tr><td>9.999862e-01</td></tr>\n",
       "</tbody>\n",
       "</table>\n"
      ],
      "text/latex": [
       "A matrix: 6 × 1 of type dbl\n",
       "\\begin{tabular}{l}\n",
       "\t 2.791983e-15\\\\\n",
       "\t 0.000000e+00\\\\\n",
       "\t 0.000000e+00\\\\\n",
       "\t 0.000000e+00\\\\\n",
       "\t 1.142232e-15\\\\\n",
       "\t 9.999862e-01\\\\\n",
       "\\end{tabular}\n"
      ],
      "text/markdown": [
       "\n",
       "A matrix: 6 × 1 of type dbl\n",
       "\n",
       "| 2.791983e-15 |\n",
       "| 0.000000e+00 |\n",
       "| 0.000000e+00 |\n",
       "| 0.000000e+00 |\n",
       "| 1.142232e-15 |\n",
       "| 9.999862e-01 |\n",
       "\n"
      ],
      "text/plain": [
       "     [,1]        \n",
       "[1,] 2.791983e-15\n",
       "[2,] 0.000000e+00\n",
       "[3,] 0.000000e+00\n",
       "[4,] 0.000000e+00\n",
       "[5,] 1.142232e-15\n",
       "[6,] 9.999862e-01"
      ]
     },
     "metadata": {},
     "output_type": "display_data"
    },
    {
     "data": {
      "text/html": [
       "'Mean relative difference: 1.375717e-05'"
      ],
      "text/latex": [
       "'Mean relative difference: 1.375717e-05'"
      ],
      "text/markdown": [
       "'Mean relative difference: 1.375717e-05'"
      ],
      "text/plain": [
       "[1] \"Mean relative difference: 1.375717e-05\""
      ]
     },
     "metadata": {},
     "output_type": "display_data"
    },
    {
     "data": {
      "image/png": "[encoded data removed]",
      "text/plain": [
       "plot without title"
      ]
     },
     "metadata": {
      "image/png": {
       "height": 420,
       "width": 840
      }
     },
     "output_type": "display_data"
    }
   ],
   "source": [
    "# two assets with high expected returns, existing position in one.\n",
    "# expect that adding transaction costs causes us not to switch out of existing position.\n",
    "expected_returns <- c(0, 0, 0, 0, 0.0025, 0.002)\n",
    "w0 <- c(0, 0, 0, 0, 0, 1)\n",
    "costs <- 5/10000  # costs expressed roughly scaled to expected returns\n",
    "expected_weights <- matrix(w0, ncol = 1)  # shouldn't switch\n",
    "\n",
    "weights2 <- maximise_alpha_with_costs(expected_returns, w0, costs)\n",
    "weights2\n",
    "\n",
    "weights2 %>%\n",
    "  as.data.frame() %>%\n",
    "  ggplot(aes(x = factor(1:6), y = V1)) +\n",
    "    geom_col() +\n",
    "    labs(\n",
    "      x = \"asset\",\n",
    "      y = \"weight\",\n",
    "      title = \"Optimal weights\"\n",
    "    )\n",
    "\n",
    "all.equal(weights2, expected_weights, tolerance = 1e-9)"
   ]
  },
  {
   "attachments": {},
   "cell_type": "markdown",
   "metadata": {},
   "source": [
    "Nice. Again we got the result we expected.  \n",
    "\n",
    "An important point here is the concept of \"certain costs versus uncertain expected returns.\" \n",
    "\n",
    "I don't mean \"uncertain\" in the probabilistic sense (realising the expected return in the long term despite random variation in the short term). I mean that there's a chance we overestimate our expected returns - either from biases introduced in the modelling process, alpha decay, increasing market efficiency, or something else.\n",
    "\n",
    "Since our costs are certain, but our edge is uncertain, we might want to artificially inflate the hurdle we need to overcome to trigger us to trade. We can do this by introducing a coefficient on the costs term corresponding to our \"propensity to trade.\" More on this below. "
   ]
  },
  {
   "attachments": {},
   "cell_type": "markdown",
   "metadata": {},
   "source": [
    "### Markowitz (mean-variance) optimisation without costs\n",
    "\n",
    "Markowitz or mean-variance optimisation incorporates a penalty for risk. Typically we use a covariance matrix to model our risks - we want lower weights on things that tend to move together, because in the extreme it's like having two of the same thing in the portfolio (in this case, risk is narrowly defined as portfolio volatility).\n",
    "\n",
    "Note that we use our *assumed* or *forecast* covariance matrix going forward - how we estimate this can be a significant source of error. Usually we shrink it towards long-term values or zeros to reflect uncertainty in our estimates.\n",
    "\n",
    "Under this framework, we're essentially asking the question *\"Which portfolio weights maximise my return for a given level of expected portfolio volatility, given these expected returns, and these asset co-movements?\"* \n",
    "\n",
    "We seek to maximise the weighted sum of portfolio returns less a penalty term for risk - which in this case we define as portfolio variance (how much our portfolio returns wiggle around). Portfolio variance is calculated as $w^T \\Sigma w$ (the transpose of the weight vector multiplied by the covariance matrix multiplied by the weight vector, where \"multiplied by\" == the dot product).\n",
    "\n",
    "We add a coefficient lambda ($\\lambda$) which represents how much risk we'd like to take on. A higher lambda will put a bigger penalty on the risk term and change the weights accordingly.\n",
    "\n",
    "So now we seek the weight vector $w$ that maximises:\n",
    "\n",
    "$\n",
    "w^T R - \\lambda w^T \\Sigma w\n",
    "$\n",
    "\n",
    "Here's a function for framing and solving this problem with CVXR, retaining our no-leverage and long-only constraints:"
   ]
  },
  {
   "cell_type": "code",
   "execution_count": 9,
   "metadata": {
    "vscode": {
     "languageId": "r"
    }
   },
   "outputs": [],
   "source": [
    "mvo <- function(expected_returns, covmat, lambda = 1) {\n",
    "  # define our weights vector as a CVXR::Variable\n",
    "  weights <- Variable(length(expected_returns))\n",
    "  # define an alpha term as the weighted sum of expected returns\n",
    "    # again, express using linear algebra\n",
    "  alpha_term <- (t(weights) %*% expected_returns)\n",
    "  # define a risk term as w*Sigma*w\n",
    "    # quad_form is a CVXR function for doing w*Sigma*w\n",
    "  risk_term <- quad_form(weights, covmat)\n",
    "  # define our object\n",
    "    # maximise our alpha less our risk term multiplied by some factor, lambda\n",
    "  objective <- Maximize(alpha_term - lambda*risk_term)\n",
    "  # apply our no leverage and long only constraints\n",
    "  constraints <- list(cvxr_norm(weights, 1) <= 1, weights >= 0)\n",
    "  # specify the problem\n",
    "  problem <- Problem(objective, constraints)\n",
    "  # solve\n",
    "  result <- solve(problem)\n",
    "\n",
    "  # return the values of the variable we solved for\n",
    "  result$getValue(weights)\n",
    "}"
   ]
  },
  {
   "attachments": {},
   "cell_type": "markdown",
   "metadata": {},
   "source": [
    "We'll give all six assets the same expected return of 0.01.  \n",
    "\n",
    "And we'll give all our pairs of assets a covariance of zero (meaning that they're uncorrelated with one another), but we'll give assets 5 and 6 a slightly higher covariance so that they noisily move together.\n",
    "\n",
    "Finally, we'll give all the assets the same variance (the term on the diagonal in the covariance matrix). \n",
    "\n",
    "Under this scenario, we would expect assets 1-4 to get the same weight. But we would expect assets 5 and 6 to be slightly down-weighted because they're somewhat similar. "
   ]
  },
  {
   "cell_type": "code",
   "execution_count": 10,
   "metadata": {
    "vscode": {
     "languageId": "r"
    }
   },
   "outputs": [
    {
     "data": {
      "text/html": [
       "<style>\n",
       ".list-inline {list-style: none; margin:0; padding: 0}\n",
       ".list-inline>li {display: inline-block}\n",
       ".list-inline>li:not(:last-child)::after {content: \"\\00b7\"; padding: 0 .5ex}\n",
       "</style>\n",
       "<ol class=list-inline><li>0.01</li><li>0.01</li><li>0.01</li><li>0.01</li><li>0.01</li><li>0.01</li></ol>\n"
      ],
      "text/latex": [
       "\\begin{enumerate*}\n",
       "\\item 0.01\n",
       "\\item 0.01\n",
       "\\item 0.01\n",
       "\\item 0.01\n",
       "\\item 0.01\n",
       "\\item 0.01\n",
       "\\end{enumerate*}\n"
      ],
      "text/markdown": [
       "1. 0.01\n",
       "2. 0.01\n",
       "3. 0.01\n",
       "4. 0.01\n",
       "5. 0.01\n",
       "6. 0.01\n",
       "\n",
       "\n"
      ],
      "text/plain": [
       "[1] 0.01 0.01 0.01 0.01 0.01 0.01"
      ]
     },
     "metadata": {},
     "output_type": "display_data"
    },
    {
     "data": {
      "text/html": [
       "<table class=\"dataframe\">\n",
       "<caption>A matrix: 6 × 6 of type dbl</caption>\n",
       "<tbody>\n",
       "\t<tr><td>1</td><td>0</td><td>0</td><td>0</td><td>0.0</td><td>0.0</td></tr>\n",
       "\t<tr><td>0</td><td>1</td><td>0</td><td>0</td><td>0.0</td><td>0.0</td></tr>\n",
       "\t<tr><td>0</td><td>0</td><td>1</td><td>0</td><td>0.0</td><td>0.0</td></tr>\n",
       "\t<tr><td>0</td><td>0</td><td>0</td><td>1</td><td>0.0</td><td>0.0</td></tr>\n",
       "\t<tr><td>0</td><td>0</td><td>0</td><td>0</td><td>1.0</td><td>0.5</td></tr>\n",
       "\t<tr><td>0</td><td>0</td><td>0</td><td>0</td><td>0.5</td><td>1.0</td></tr>\n",
       "</tbody>\n",
       "</table>\n"
      ],
      "text/latex": [
       "A matrix: 6 × 6 of type dbl\n",
       "\\begin{tabular}{llllll}\n",
       "\t 1 & 0 & 0 & 0 & 0.0 & 0.0\\\\\n",
       "\t 0 & 1 & 0 & 0 & 0.0 & 0.0\\\\\n",
       "\t 0 & 0 & 1 & 0 & 0.0 & 0.0\\\\\n",
       "\t 0 & 0 & 0 & 1 & 0.0 & 0.0\\\\\n",
       "\t 0 & 0 & 0 & 0 & 1.0 & 0.5\\\\\n",
       "\t 0 & 0 & 0 & 0 & 0.5 & 1.0\\\\\n",
       "\\end{tabular}\n"
      ],
      "text/markdown": [
       "\n",
       "A matrix: 6 × 6 of type dbl\n",
       "\n",
       "| 1 | 0 | 0 | 0 | 0.0 | 0.0 |\n",
       "| 0 | 1 | 0 | 0 | 0.0 | 0.0 |\n",
       "| 0 | 0 | 1 | 0 | 0.0 | 0.0 |\n",
       "| 0 | 0 | 0 | 1 | 0.0 | 0.0 |\n",
       "| 0 | 0 | 0 | 0 | 1.0 | 0.5 |\n",
       "| 0 | 0 | 0 | 0 | 0.5 | 1.0 |\n",
       "\n"
      ],
      "text/plain": [
       "     [,1] [,2] [,3] [,4] [,5] [,6]\n",
       "[1,] 1    0    0    0    0.0  0.0 \n",
       "[2,] 0    1    0    0    0.0  0.0 \n",
       "[3,] 0    0    1    0    0.0  0.0 \n",
       "[4,] 0    0    0    1    0.0  0.0 \n",
       "[5,] 0    0    0    0    1.0  0.5 \n",
       "[6,] 0    0    0    0    0.5  1.0 "
      ]
     },
     "metadata": {},
     "output_type": "display_data"
    }
   ],
   "source": [
    "# 6 assets with equal expected returns\n",
    "expected_returns <- rep(0.01, 6)\n",
    "\n",
    "# give all assets except 5 and 6 a covariance of zero\n",
    "# give assets 5 and 6 a larger covariance\n",
    "# and set each asset's variance to the same value\n",
    "covmat <- diag(6)\n",
    "covmat[5, 6] <- covmat[6, 5] <- 0.5\n",
    "\n",
    "expected_returns\n",
    "covmat"
   ]
  },
  {
   "cell_type": "code",
   "execution_count": 11,
   "metadata": {
    "vscode": {
     "languageId": "r"
    }
   },
   "outputs": [
    {
     "data": {
      "text/html": [
       "<table class=\"dataframe\">\n",
       "<caption>A matrix: 6 × 1 of type dbl</caption>\n",
       "<tbody>\n",
       "\t<tr><td>0.1875</td></tr>\n",
       "\t<tr><td>0.1875</td></tr>\n",
       "\t<tr><td>0.1875</td></tr>\n",
       "\t<tr><td>0.1875</td></tr>\n",
       "\t<tr><td>0.1250</td></tr>\n",
       "\t<tr><td>0.1250</td></tr>\n",
       "</tbody>\n",
       "</table>\n"
      ],
      "text/latex": [
       "A matrix: 6 × 1 of type dbl\n",
       "\\begin{tabular}{l}\n",
       "\t 0.1875\\\\\n",
       "\t 0.1875\\\\\n",
       "\t 0.1875\\\\\n",
       "\t 0.1875\\\\\n",
       "\t 0.1250\\\\\n",
       "\t 0.1250\\\\\n",
       "\\end{tabular}\n"
      ],
      "text/markdown": [
       "\n",
       "A matrix: 6 × 1 of type dbl\n",
       "\n",
       "| 0.1875 |\n",
       "| 0.1875 |\n",
       "| 0.1875 |\n",
       "| 0.1875 |\n",
       "| 0.1250 |\n",
       "| 0.1250 |\n",
       "\n"
      ],
      "text/plain": [
       "     [,1]  \n",
       "[1,] 0.1875\n",
       "[2,] 0.1875\n",
       "[3,] 0.1875\n",
       "[4,] 0.1875\n",
       "[5,] 0.1250\n",
       "[6,] 0.1250"
      ]
     },
     "metadata": {},
     "output_type": "display_data"
    },
    {
     "data": {
      "image/png": "[encoded data removed]",
      "text/plain": [
       "plot without title"
      ]
     },
     "metadata": {
      "image/png": {
       "height": 420,
       "width": 840
      }
     },
     "output_type": "display_data"
    }
   ],
   "source": [
    "# we expect to go equal weight into assets 1-4 and have a lower weight on assets 5 and 6 due to their co-movement\n",
    "weights3 <- mvo(expected_returns, covmat, lambda = 0.01)\n",
    "\n",
    "weights3\n",
    "\n",
    "weights3 %>%\n",
    "  as.data.frame() %>%\n",
    "  ggplot(aes(x = factor(1:6), y = V1)) +\n",
    "    geom_col() +\n",
    "    labs(\n",
    "      x = \"asset\",\n",
    "      y = \"weight\",\n",
    "      title = \"Optimal weights\"\n",
    "    )"
   ]
  },
  {
   "attachments": {},
   "cell_type": "markdown",
   "metadata": {},
   "source": [
    "Perfect. The optimiser correctly diversified the portfolio to minimise portfolio variance by taking into account the co-movement of assets 5 and 6, while maximising expected returns. \n",
    "\n",
    "It's also illustrative to look at the effect of higher asset-wise variances. \n",
    "\n",
    "We'll progressively increase the variance of assets 1 through 6 so that asset 1 has the lowest variance and asset 6 has the highest. \n",
    "\n",
    "Since we're seeking to maximise expected returns and minimise risk, we would expect the optimiser to prefer the assets with the lower volatilities. That is, we'd expect asset 1 to get the highest weight and asset 6 to get the lowest. Since assets 5 and 6 move noisily together, we'd expect these to be down-weighted more than the others. "
   ]
  },
  {
   "cell_type": "code",
   "execution_count": 12,
   "metadata": {
    "vscode": {
     "languageId": "r"
    }
   },
   "outputs": [
    {
     "data": {
      "text/html": [
       "<style>\n",
       ".list-inline {list-style: none; margin:0; padding: 0}\n",
       ".list-inline>li {display: inline-block}\n",
       ".list-inline>li:not(:last-child)::after {content: \"\\00b7\"; padding: 0 .5ex}\n",
       "</style>\n",
       "<ol class=list-inline><li>0.01</li><li>0.01</li><li>0.01</li><li>0.01</li><li>0.01</li><li>0.01</li></ol>\n"
      ],
      "text/latex": [
       "\\begin{enumerate*}\n",
       "\\item 0.01\n",
       "\\item 0.01\n",
       "\\item 0.01\n",
       "\\item 0.01\n",
       "\\item 0.01\n",
       "\\item 0.01\n",
       "\\end{enumerate*}\n"
      ],
      "text/markdown": [
       "1. 0.01\n",
       "2. 0.01\n",
       "3. 0.01\n",
       "4. 0.01\n",
       "5. 0.01\n",
       "6. 0.01\n",
       "\n",
       "\n"
      ],
      "text/plain": [
       "[1] 0.01 0.01 0.01 0.01 0.01 0.01"
      ]
     },
     "metadata": {},
     "output_type": "display_data"
    },
    {
     "data": {
      "text/html": [
       "<table class=\"dataframe\">\n",
       "<caption>A matrix: 6 × 6 of type dbl</caption>\n",
       "<tbody>\n",
       "\t<tr><td>1.1</td><td>0.0</td><td>0.0</td><td>0.0</td><td>0.0</td><td>0.0</td></tr>\n",
       "\t<tr><td>0.0</td><td>1.2</td><td>0.0</td><td>0.0</td><td>0.0</td><td>0.0</td></tr>\n",
       "\t<tr><td>0.0</td><td>0.0</td><td>1.3</td><td>0.0</td><td>0.0</td><td>0.0</td></tr>\n",
       "\t<tr><td>0.0</td><td>0.0</td><td>0.0</td><td>1.4</td><td>0.0</td><td>0.0</td></tr>\n",
       "\t<tr><td>0.0</td><td>0.0</td><td>0.0</td><td>0.0</td><td>1.5</td><td>0.5</td></tr>\n",
       "\t<tr><td>0.0</td><td>0.0</td><td>0.0</td><td>0.0</td><td>0.5</td><td>1.6</td></tr>\n",
       "</tbody>\n",
       "</table>\n"
      ],
      "text/latex": [
       "A matrix: 6 × 6 of type dbl\n",
       "\\begin{tabular}{llllll}\n",
       "\t 1.1 & 0.0 & 0.0 & 0.0 & 0.0 & 0.0\\\\\n",
       "\t 0.0 & 1.2 & 0.0 & 0.0 & 0.0 & 0.0\\\\\n",
       "\t 0.0 & 0.0 & 1.3 & 0.0 & 0.0 & 0.0\\\\\n",
       "\t 0.0 & 0.0 & 0.0 & 1.4 & 0.0 & 0.0\\\\\n",
       "\t 0.0 & 0.0 & 0.0 & 0.0 & 1.5 & 0.5\\\\\n",
       "\t 0.0 & 0.0 & 0.0 & 0.0 & 0.5 & 1.6\\\\\n",
       "\\end{tabular}\n"
      ],
      "text/markdown": [
       "\n",
       "A matrix: 6 × 6 of type dbl\n",
       "\n",
       "| 1.1 | 0.0 | 0.0 | 0.0 | 0.0 | 0.0 |\n",
       "| 0.0 | 1.2 | 0.0 | 0.0 | 0.0 | 0.0 |\n",
       "| 0.0 | 0.0 | 1.3 | 0.0 | 0.0 | 0.0 |\n",
       "| 0.0 | 0.0 | 0.0 | 1.4 | 0.0 | 0.0 |\n",
       "| 0.0 | 0.0 | 0.0 | 0.0 | 1.5 | 0.5 |\n",
       "| 0.0 | 0.0 | 0.0 | 0.0 | 0.5 | 1.6 |\n",
       "\n"
      ],
      "text/plain": [
       "     [,1] [,2] [,3] [,4] [,5] [,6]\n",
       "[1,] 1.1  0.0  0.0  0.0  0.0  0.0 \n",
       "[2,] 0.0  1.2  0.0  0.0  0.0  0.0 \n",
       "[3,] 0.0  0.0  1.3  0.0  0.0  0.0 \n",
       "[4,] 0.0  0.0  0.0  1.4  0.0  0.0 \n",
       "[5,] 0.0  0.0  0.0  0.0  1.5  0.5 \n",
       "[6,] 0.0  0.0  0.0  0.0  0.5  1.6 "
      ]
     },
     "metadata": {},
     "output_type": "display_data"
    }
   ],
   "source": [
    "# 6 assets with equal expected returns\n",
    "expected_returns <- rep(0.01, 6)\n",
    "\n",
    "# give all assets except 5 and 6 a covariance of zero\n",
    "# give assets 5 and 6 a larger covariance\n",
    "# and set each asset's variance to a larger value\n",
    "covmat <- diag(6)*(seq(1.1, 1.6, by = 0.1))\n",
    "covmat[5, 6] <- covmat[6, 5] <- 0.5\n",
    "\n",
    "expected_returns\n",
    "covmat"
   ]
  },
  {
   "cell_type": "code",
   "execution_count": 13,
   "metadata": {
    "vscode": {
     "languageId": "r"
    }
   },
   "outputs": [
    {
     "data": {
      "text/html": [
       "<table class=\"dataframe\">\n",
       "<caption>A matrix: 6 × 1 of type dbl</caption>\n",
       "<tbody>\n",
       "\t<tr><td>0.2163119</td></tr>\n",
       "\t<tr><td>0.1982859</td></tr>\n",
       "\t<tr><td>0.1830332</td></tr>\n",
       "\t<tr><td>0.1699594</td></tr>\n",
       "\t<tr><td>0.1217383</td></tr>\n",
       "\t<tr><td>0.1106712</td></tr>\n",
       "</tbody>\n",
       "</table>\n"
      ],
      "text/latex": [
       "A matrix: 6 × 1 of type dbl\n",
       "\\begin{tabular}{l}\n",
       "\t 0.2163119\\\\\n",
       "\t 0.1982859\\\\\n",
       "\t 0.1830332\\\\\n",
       "\t 0.1699594\\\\\n",
       "\t 0.1217383\\\\\n",
       "\t 0.1106712\\\\\n",
       "\\end{tabular}\n"
      ],
      "text/markdown": [
       "\n",
       "A matrix: 6 × 1 of type dbl\n",
       "\n",
       "| 0.2163119 |\n",
       "| 0.1982859 |\n",
       "| 0.1830332 |\n",
       "| 0.1699594 |\n",
       "| 0.1217383 |\n",
       "| 0.1106712 |\n",
       "\n"
      ],
      "text/plain": [
       "     [,1]     \n",
       "[1,] 0.2163119\n",
       "[2,] 0.1982859\n",
       "[3,] 0.1830332\n",
       "[4,] 0.1699594\n",
       "[5,] 0.1217383\n",
       "[6,] 0.1106712"
      ]
     },
     "metadata": {},
     "output_type": "display_data"
    },
    {
     "data": {
      "image/png": "[encoded data removed]",
      "text/plain": [
       "plot without title"
      ]
     },
     "metadata": {
      "image/png": {
       "height": 420,
       "width": 840
      }
     },
     "output_type": "display_data"
    }
   ],
   "source": [
    "# we expect to go equal weight into assets 1-4 and have a lower weight on assets 5 and 6 due to their co-movement\n",
    "weights3 <- mvo(expected_returns, covmat, lambda = 0.01)\n",
    "\n",
    "weights3\n",
    "\n",
    "weights3 %>%\n",
    "  as.data.frame() %>%\n",
    "  ggplot(aes(x = factor(1:6), y = V1)) +\n",
    "    geom_col() +\n",
    "    labs(\n",
    "      x = \"asset\",\n",
    "      y = \"weight\",\n",
    "      title = \"Optimal weights\"\n",
    "    )"
   ]
  },
  {
   "attachments": {},
   "cell_type": "markdown",
   "metadata": {},
   "source": [
    "You can see how the optimiser now takes into account the increasing variances by up-weighting the lower-variance assets."
   ]
  },
  {
   "attachments": {},
   "cell_type": "markdown",
   "metadata": {},
   "source": [
    "## Explore the impact of the lambda parameter\n",
    "Next, we'll use MVO and explore different values of lambda. This time, we'll include assets with negative expected returns, but force the portfolio to be fully invested and long only. Our covariance matrix will be random (but we need to force symmetry and positive variances on the diagonal to match the real world). \n",
    "\n",
    "Remember that higher values of lambda will penalise assets that move together more. So:\n",
    "- higher values of lambda should lead to more diversification due to the higher risk penalty.  \n",
    "- lower values of lambda should lead to more concentration as we penalise risk less and seek the asset with the highest expected returns more aggressively"
   ]
  },
  {
   "cell_type": "code",
   "execution_count": 14,
   "metadata": {
    "vscode": {
     "languageId": "r"
    }
   },
   "outputs": [
    {
     "data": {
      "text/html": [
       "<style>\n",
       ".list-inline {list-style: none; margin:0; padding: 0}\n",
       ".list-inline>li {display: inline-block}\n",
       ".list-inline>li:not(:last-child)::after {content: \"\\00b7\"; padding: 0 .5ex}\n",
       "</style>\n",
       "<ol class=list-inline><li>0.0355125069753125</li><li>-0.077889340941631</li><li>-0.0757356956529148</li><li>0.232980060737877</li><li>0.0283974925959303</li><li>0.128102521571192</li></ol>\n"
      ],
      "text/latex": [
       "\\begin{enumerate*}\n",
       "\\item 0.0355125069753125\n",
       "\\item -0.077889340941631\n",
       "\\item -0.0757356956529148\n",
       "\\item 0.232980060737877\n",
       "\\item 0.0283974925959303\n",
       "\\item 0.128102521571192\n",
       "\\end{enumerate*}\n"
      ],
      "text/markdown": [
       "1. 0.0355125069753125\n",
       "2. -0.077889340941631\n",
       "3. -0.0757356956529148\n",
       "4. 0.232980060737877\n",
       "5. 0.0283974925959303\n",
       "6. 0.128102521571192\n",
       "\n",
       "\n"
      ],
      "text/plain": [
       "[1]  0.03551251 -0.07788934 -0.07573570  0.23298006  0.02839749  0.12810252"
      ]
     },
     "metadata": {},
     "output_type": "display_data"
    },
    {
     "data": {
      "text/html": [
       "<table class=\"dataframe\">\n",
       "<caption>A matrix: 6 × 6 of type dbl</caption>\n",
       "<tbody>\n",
       "\t<tr><td> 0.0155231533</td><td> 0.02012679</td><td>-0.0230124341</td><td>-0.0001158865</td><td> 0.006316539</td><td>-0.0003914469</td></tr>\n",
       "\t<tr><td> 0.0201267875</td><td> 0.06045292</td><td>-0.0132481650</td><td>-0.0192946840</td><td> 0.010127719</td><td>-0.0185506516</td></tr>\n",
       "\t<tr><td>-0.0230124341</td><td>-0.01324817</td><td> 0.0721931391</td><td> 0.0137559086</td><td>-0.019164521</td><td> 0.0006967321</td></tr>\n",
       "\t<tr><td>-0.0001158865</td><td>-0.01929468</td><td> 0.0137559086</td><td> 0.1004947030</td><td>-0.037670426</td><td>-0.0224346107</td></tr>\n",
       "\t<tr><td> 0.0063165389</td><td> 0.01012772</td><td>-0.0191645212</td><td>-0.0376704259</td><td> 0.025109511</td><td> 0.0065522954</td></tr>\n",
       "\t<tr><td>-0.0003914469</td><td>-0.01855065</td><td> 0.0006967321</td><td>-0.0224346107</td><td> 0.006552295</td><td> 0.0397130317</td></tr>\n",
       "</tbody>\n",
       "</table>\n"
      ],
      "text/latex": [
       "A matrix: 6 × 6 of type dbl\n",
       "\\begin{tabular}{llllll}\n",
       "\t  0.0155231533 &  0.02012679 & -0.0230124341 & -0.0001158865 &  0.006316539 & -0.0003914469\\\\\n",
       "\t  0.0201267875 &  0.06045292 & -0.0132481650 & -0.0192946840 &  0.010127719 & -0.0185506516\\\\\n",
       "\t -0.0230124341 & -0.01324817 &  0.0721931391 &  0.0137559086 & -0.019164521 &  0.0006967321\\\\\n",
       "\t -0.0001158865 & -0.01929468 &  0.0137559086 &  0.1004947030 & -0.037670426 & -0.0224346107\\\\\n",
       "\t  0.0063165389 &  0.01012772 & -0.0191645212 & -0.0376704259 &  0.025109511 &  0.0065522954\\\\\n",
       "\t -0.0003914469 & -0.01855065 &  0.0006967321 & -0.0224346107 &  0.006552295 &  0.0397130317\\\\\n",
       "\\end{tabular}\n"
      ],
      "text/markdown": [
       "\n",
       "A matrix: 6 × 6 of type dbl\n",
       "\n",
       "|  0.0155231533 |  0.02012679 | -0.0230124341 | -0.0001158865 |  0.006316539 | -0.0003914469 |\n",
       "|  0.0201267875 |  0.06045292 | -0.0132481650 | -0.0192946840 |  0.010127719 | -0.0185506516 |\n",
       "| -0.0230124341 | -0.01324817 |  0.0721931391 |  0.0137559086 | -0.019164521 |  0.0006967321 |\n",
       "| -0.0001158865 | -0.01929468 |  0.0137559086 |  0.1004947030 | -0.037670426 | -0.0224346107 |\n",
       "|  0.0063165389 |  0.01012772 | -0.0191645212 | -0.0376704259 |  0.025109511 |  0.0065522954 |\n",
       "| -0.0003914469 | -0.01855065 |  0.0006967321 | -0.0224346107 |  0.006552295 |  0.0397130317 |\n",
       "\n"
      ],
      "text/plain": [
       "     [,1]          [,2]        [,3]          [,4]          [,5]        \n",
       "[1,]  0.0155231533  0.02012679 -0.0230124341 -0.0001158865  0.006316539\n",
       "[2,]  0.0201267875  0.06045292 -0.0132481650 -0.0192946840  0.010127719\n",
       "[3,] -0.0230124341 -0.01324817  0.0721931391  0.0137559086 -0.019164521\n",
       "[4,] -0.0001158865 -0.01929468  0.0137559086  0.1004947030 -0.037670426\n",
       "[5,]  0.0063165389  0.01012772 -0.0191645212 -0.0376704259  0.025109511\n",
       "[6,] -0.0003914469 -0.01855065  0.0006967321 -0.0224346107  0.006552295\n",
       "     [,6]         \n",
       "[1,] -0.0003914469\n",
       "[2,] -0.0185506516\n",
       "[3,]  0.0006967321\n",
       "[4,] -0.0224346107\n",
       "[5,]  0.0065522954\n",
       "[6,]  0.0397130317"
      ]
     },
     "metadata": {},
     "output_type": "display_data"
    },
    {
     "data": {
      "text/html": [
       "TRUE"
      ],
      "text/latex": [
       "TRUE"
      ],
      "text/markdown": [
       "TRUE"
      ],
      "text/plain": [
       "[1] TRUE"
      ]
     },
     "metadata": {},
     "output_type": "display_data"
    }
   ],
   "source": [
    "set.seed(503)\n",
    "\n",
    "# define returns and covariances\n",
    "num_assets <- 6\n",
    "expected_returns <- rnorm(num_assets, 0, 0.1)\n",
    "S <- matrix(rnorm(num_assets^2, 0, 0.1), nrow = num_assets, ncol = num_assets)\n",
    "S <- t(S) %*% S  # make symmetric and positive variances on diagonal\n",
    "\n",
    "expected_returns\n",
    "S\n",
    "isSymmetric(S)"
   ]
  },
  {
   "attachments": {},
   "cell_type": "markdown",
   "metadata": {},
   "source": [
    "We'll loop through different values of lambda, let the optimiser find our optimal weights, and calculate the resulting expected portfolio return and volatility. The end result will be a different set of weights and a different portfolio return and volatility for each value of lamda:"
   ]
  },
  {
   "cell_type": "code",
   "execution_count": 15,
   "metadata": {
    "vscode": {
     "languageId": "r"
    }
   },
   "outputs": [],
   "source": [
    "# define our optimisation problem inputs\n",
    "weights <- Variable(num_assets)\n",
    "portfolio_return <- t(expected_returns) %*% weights\n",
    "portfolio_vol <- quad_form(weights, S)\n",
    "constraints <- list(weights >= 0, sum(weights) == 1)  # long only...and force portfolio to be be fully invested\n",
    "\n",
    "# lambdas\n",
    "lambdas <- 10^seq(-2, 4, length.out = 100)\n",
    "\n",
    "# allocate vectors for returns and volatilities\n",
    "returns <- rep(0, length(lambdas))\n",
    "vols <- rep(0, length(lambdas))\n",
    "# allocate matrix for weight vectors\n",
    "weight_vectors <- matrix(0, nrow = length(lambdas), ncol = num_assets)\n",
    "\n",
    "# loop through lambdas and solve\n",
    "for(i in seq_along(lambdas)) {\n",
    "  lambda <- lambdas[i]\n",
    "  obj <- Maximize(portfolio_return - lambda*portfolio_vol)\n",
    "  problem <- Problem(obj, constraints)\n",
    "  result <- solve(problem)\n",
    "\n",
    "  # note can't get other variables back if we return `result` from our function, so do outside function call\n",
    "  returns[i] <- result$getValue(portfolio_return)\n",
    "  vols[i] <- result$getValue(sqrt(portfolio_vol))\n",
    "  weight_vectors[i, ] <- result$getValue(weights)\n",
    "}"
   ]
  },
  {
   "attachments": {},
   "cell_type": "markdown",
   "metadata": {},
   "source": [
    "Now we can plot the expected portfolio volatility and return for each value of lambda:"
   ]
  },
  {
   "cell_type": "code",
   "execution_count": 16,
   "metadata": {
    "vscode": {
     "languageId": "r"
    }
   },
   "outputs": [
    {
     "data": {
      "image/png": "[encoded data removed]",
      "text/plain": [
       "plot without title"
      ]
     },
     "metadata": {
      "image/png": {
       "height": 420,
       "width": 840
      }
     },
     "output_type": "display_data"
    }
   ],
   "source": [
    "data.frame(\"portfolio_return\" = returns, \"portfolio_vol\" = vols, \"lambda\" = lambdas) %>%\n",
    "  ggplot(aes(x = portfolio_vol, y = portfolio_return)) +\n",
    "  geom_line() +\n",
    "  geom_point(aes(colour = log(lambda))) +\n",
    "  labs(\n",
    "    x = \"Portfolio Volatility\",\n",
    "    y = \"Portfolio Return\",\n",
    "    title = \"Return-Risk Tradeoff using Lambda\"\n",
    "  )"
   ]
  },
  {
   "attachments": {},
   "cell_type": "markdown",
   "metadata": {},
   "source": [
    "You will recognise this as Markowitz's efficient frontier - we have found the weights that maximise return for a given volatility, or minimise volatility for a given return.\n",
    "\n",
    "Each point on that frontier represents a different set of weights. Let's look at some of those weight vectors for different values of lambda:"
   ]
  },
  {
   "cell_type": "code",
   "execution_count": 17,
   "metadata": {
    "vscode": {
     "languageId": "r"
    }
   },
   "outputs": [
    {
     "data": {
      "image/png": "[encoded data removed]",
      "text/plain": [
       "plot without title"
      ]
     },
     "metadata": {
      "image/png": {
       "height": 420,
       "width": 840
      }
     },
     "output_type": "display_data"
    }
   ],
   "source": [
    "weight_vecs <- data.frame(weight_vectors, lambdas) %>%\n",
    "  pivot_longer(-lambdas, names_to = \"asset\", values_to = \"weight\") %>%\n",
    "  rename(\"lambda\" = lambdas)\n",
    "\n",
    "weight_vecs %>%\n",
    "  filter(lambda %in% lambdas[seq(from = 1, to = length(lambdas), by = 9)]) %>%\n",
    "  ggplot(aes(x = factor(round(lambda, 2)), y = weight, fill = asset)) +\n",
    "    geom_col(position = \"stack\") +\n",
    "    labs(\n",
    "      x = \"lambda\",\n",
    "      y = \"weight\",\n",
    "      title = \"Diversification as a function of lambda\"\n",
    "    )"
   ]
  },
  {
   "attachments": {},
   "cell_type": "markdown",
   "metadata": {},
   "source": [
    "You can see how the lambda parameter impacts diversification:\n",
    "\n",
    "- Low values seek concentration in the assets with the highest expected returns (asset 4)\n",
    "- Higher values force diversification into other assets with lower expected returns (we trade expected returns for more diversification and lower volatility)\n",
    "- There is a limit to diversification and thus a minimum portfolio volatility given our covariance matrix and the fact that we force the portfolio to be fully invested:\n",
    "    - We see this in the convergence of portfolio weights towards the right of the bar plot above.\n",
    "    - This corresponds to the left-most part of the efficient frontier where it goes vertical."
   ]
  },
  {
   "attachments": {},
   "cell_type": "markdown",
   "metadata": {},
   "source": [
    "## How about if we relax the long only and fully invested constraints?\n",
    "If we repeat the above, but without the long only and fully invested constraints, we should see the lambda parameter force us into more extreme diversification and some short positions. In the extreme, as we increase lambda, the optimiser should prefer smaller target weights as a way to reduce the portfolio volatility beyond what can be achieved through diversification alone:"
   ]
  },
  {
   "cell_type": "code",
   "execution_count": 18,
   "metadata": {
    "vscode": {
     "languageId": "r"
    }
   },
   "outputs": [
    {
     "data": {
      "image/png": "[encoded data removed]",
      "text/plain": [
       "plot without title"
      ]
     },
     "metadata": {
      "image/png": {
       "height": 420,
       "width": 840
      }
     },
     "output_type": "display_data"
    }
   ],
   "source": [
    "# replace our long only and fully invested constraint with leverage less than 1. Also allows negative weights.\n",
    "constraints <- list(cvxr_norm(weights, 1) <= 1)\n",
    "\n",
    "returns <- rep(0, length(lambdas))\n",
    "vols <- rep(0, length(lambdas))\n",
    "weight_vectors <- matrix(0, nrow = length(lambdas), ncol = num_assets)\n",
    "\n",
    "for(i in seq_along(lambdas)) {\n",
    "  lambda <- lambdas[i]\n",
    "  obj <- Maximize(portfolio_return - lambda*portfolio_vol)\n",
    "  problem <- Problem(obj, constraints)\n",
    "  result <- solve(problem)\n",
    "\n",
    "  returns[i] <- result$getValue(portfolio_return)\n",
    "  vols[i] <- result$getValue(sqrt(portfolio_vol))\n",
    "  weight_vectors[i, ] <- result$getValue(weights)\n",
    "}\n",
    "\n",
    "ggplot(\n",
    "  data = data.frame(\"portfolio_return\" = returns, \"portfolio_vol\" = vols, \"lambda\" = lambdas),\n",
    "  aes(x = portfolio_vol, y = portfolio_return)\n",
    ") +\n",
    "  geom_line() +\n",
    "  geom_point(aes(colour = log(lambda))) +\n",
    "  labs(\n",
    "    x = \"Portfolio Volatility\",\n",
    "    y = \"Portfolio Return\",\n",
    "    title = \"Return-Risk Tradeoff using Lambda\"\n",
    "  )"
   ]
  },
  {
   "attachments": {},
   "cell_type": "markdown",
   "metadata": {},
   "source": [
    "We can see that under this different set of constraints, portfolio volatility can go all the way to zero. We would assume that that's because the optimiser is no longer forced to find a set of weights that has us fully invested, and that at some point it starts to reduce our position:"
   ]
  },
  {
   "cell_type": "code",
   "execution_count": 19,
   "metadata": {
    "vscode": {
     "languageId": "r"
    }
   },
   "outputs": [
    {
     "data": {
      "image/png": "[encoded data removed]",
      "text/plain": [
       "plot without title"
      ]
     },
     "metadata": {
      "image/png": {
       "height": 420,
       "width": 840
      }
     },
     "output_type": "display_data"
    }
   ],
   "source": [
    "weight_vecs <- data.frame(weight_vectors, lambdas) %>%\n",
    "  pivot_longer(-lambdas, names_to = \"asset\", values_to = \"weight\") %>%\n",
    "  rename(\"lambda\" = lambdas)\n",
    "\n",
    "weight_vecs %>%\n",
    "  filter(lambda %in% lambdas[seq(from = 1, to = length(lambdas), by = 9)]) %>%\n",
    "  ggplot(aes(x = factor(round(lambda, 3)), y = weight, fill = asset)) +\n",
    "    geom_col(position = \"stack\") +\n",
    "    labs(\n",
    "      x = \"lambda\",\n",
    "      y = \"weight\",\n",
    "      title = \"Diversification and position sizing as a function of lambda\",\n",
    "      subtitle = \"Remove long only and fully invested constraints\"\n",
    "    )"
   ]
  },
  {
   "attachments": {},
   "cell_type": "markdown",
   "metadata": {},
   "source": [
    "So you can start to see the interplay of the constraints, the alpha term, and the risk term (including the lambda coefficient). \n",
    "- At low values of lambda, we simply target the asset with the highest expected returns (asset 4) with little to no regard for portfolio volatility. \n",
    "- At a value of lambda of about 0.45, the diversification provided by a position in asset 6 is worth another reduction in expected returns. \n",
    "- At a value of about 5, the additional diversification from asset 5 is worth another reduction in expected returns. \n",
    "- At about 18, the additional diversification provided by a short position in asset 1 is worth another reduction in expected returns. \n",
    "- At about 60, the optimser starts to reduce the overall position of the portfolio. \n",
    "- From that point onwards, portfolio positions are reduced further and further, until in the extreme they're essentially zero. "
   ]
  },
  {
   "attachments": {},
   "cell_type": "markdown",
   "metadata": {},
   "source": [
    "## MVO with costs\n",
    "\n",
    "Our final example adds the cost term to the mean-variance optimisation problem. \n",
    "\n",
    "We introduce a new parameter, tau, a coefficient on our costs term that controls our \"propensity to trade\" in a similar way to how lambda controls our risk aversion.\n",
    "\n",
    "For simplicity, we'll include our no-leverage and long-only constraints.\n",
    "\n",
    "Our question now becomes *\"Given my existing positions, these expected returns, these forecast covariances, these costs to trade, my risk aversion and my propensity to trade, as well as my constraints (long only, no leverage), what is the best set of weights for the next period?\"*\n",
    "\n",
    "We can write this as an optimisation problem:\n",
    "\n",
    "Find the weights, $w$ that maximise:\n",
    "\n",
    "$\n",
    "w^T R - \\lambda w^T \\Sigma w - \\tau c|{w - w_0}|\n",
    "$\n",
    "\n",
    "where $w_0$ is our initial weights and $c$ is our cost term.\n",
    "\n",
    "Here's how we frame that problem in CVXR:\n"
   ]
  },
  {
   "cell_type": "code",
   "execution_count": 20,
   "metadata": {
    "vscode": {
     "languageId": "r"
    }
   },
   "outputs": [],
   "source": [
    "mvo_with_costs <- function(expected_returns, current_weights, costs, covmat, lambda = 1, tau=1) {\n",
    "  # define our weights vector as a CVXR::Variable\n",
    "  weights <- Variable(length(expected_returns))\n",
    "  # define an alpha term as the weighted sum of expected returns\n",
    "    # again, express using linear algebra\n",
    "  alpha_term <- (t(weights) %*% expected_returns)\n",
    "  # define a costs term. depends on:\n",
    "    # cost of trading - needs to be expressed such that it scales with expected returns\n",
    "      # calculate as elementwise cost * absolute value of weights - current_weights\n",
    "      # use CVXR::multiply and CVXR::abs\n",
    "    # absolute distance of current_weights to our weights variable\n",
    "      # the more our target weights differ from current weights, the more it costs to trade\n",
    "      # this is a decent representation of fixed percentage costs, but doesn't capture minimum commissions\n",
    "    # sum_entries is a CVXR function for summing the elements of a vector\n",
    "  costs_term <- sum_entries(multiply(costs, abs(weights - current_weights))) # elementwise abs, multiply\n",
    "  # define a risk term as w*Sigma*w\n",
    "    # quad_form is a CVXR function for doing w*Sigma*w\n",
    "  risk_term <- quad_form(weights, covmat)\n",
    "  # define our objective\n",
    "    # maximise our alpha less our risk term multiplied by some factor, lambda, less our costs term multiplied by tau\n",
    "  objective <- Maximize(alpha_term - lambda*risk_term - tau*costs_term)\n",
    "  # apply our no leverage and long only constraints\n",
    "  constraints <- list(cvxr_norm(weights, 1) <= 1, weights >= 0)\n",
    "  # specify the problem\n",
    "  problem <- Problem(objective, constraints)\n",
    "  # solve\n",
    "  result <- solve(problem)\n",
    "\n",
    "  # return the values of the variable we solved for\n",
    "  result$getValue(weights)\n",
    "}"
   ]
  },
  {
   "attachments": {},
   "cell_type": "markdown",
   "metadata": {},
   "source": [
    "We'll use our expected returns and covariance matrix from last time:"
   ]
  },
  {
   "cell_type": "code",
   "execution_count": 21,
   "metadata": {
    "vscode": {
     "languageId": "r"
    }
   },
   "outputs": [
    {
     "data": {
      "text/html": [
       "<style>\n",
       ".list-inline {list-style: none; margin:0; padding: 0}\n",
       ".list-inline>li {display: inline-block}\n",
       ".list-inline>li:not(:last-child)::after {content: \"\\00b7\"; padding: 0 .5ex}\n",
       "</style>\n",
       "<ol class=list-inline><li>0.0355125069753125</li><li>-0.077889340941631</li><li>-0.0757356956529148</li><li>0.232980060737877</li><li>0.0283974925959303</li><li>0.128102521571192</li></ol>\n"
      ],
      "text/latex": [
       "\\begin{enumerate*}\n",
       "\\item 0.0355125069753125\n",
       "\\item -0.077889340941631\n",
       "\\item -0.0757356956529148\n",
       "\\item 0.232980060737877\n",
       "\\item 0.0283974925959303\n",
       "\\item 0.128102521571192\n",
       "\\end{enumerate*}\n"
      ],
      "text/markdown": [
       "1. 0.0355125069753125\n",
       "2. -0.077889340941631\n",
       "3. -0.0757356956529148\n",
       "4. 0.232980060737877\n",
       "5. 0.0283974925959303\n",
       "6. 0.128102521571192\n",
       "\n",
       "\n"
      ],
      "text/plain": [
       "[1]  0.03551251 -0.07788934 -0.07573570  0.23298006  0.02839749  0.12810252"
      ]
     },
     "metadata": {},
     "output_type": "display_data"
    },
    {
     "data": {
      "text/html": [
       "<table class=\"dataframe\">\n",
       "<caption>A matrix: 6 × 6 of type dbl</caption>\n",
       "<tbody>\n",
       "\t<tr><td> 0.0155231533</td><td> 0.02012679</td><td>-0.0230124341</td><td>-0.0001158865</td><td> 0.006316539</td><td>-0.0003914469</td></tr>\n",
       "\t<tr><td> 0.0201267875</td><td> 0.06045292</td><td>-0.0132481650</td><td>-0.0192946840</td><td> 0.010127719</td><td>-0.0185506516</td></tr>\n",
       "\t<tr><td>-0.0230124341</td><td>-0.01324817</td><td> 0.0721931391</td><td> 0.0137559086</td><td>-0.019164521</td><td> 0.0006967321</td></tr>\n",
       "\t<tr><td>-0.0001158865</td><td>-0.01929468</td><td> 0.0137559086</td><td> 0.1004947030</td><td>-0.037670426</td><td>-0.0224346107</td></tr>\n",
       "\t<tr><td> 0.0063165389</td><td> 0.01012772</td><td>-0.0191645212</td><td>-0.0376704259</td><td> 0.025109511</td><td> 0.0065522954</td></tr>\n",
       "\t<tr><td>-0.0003914469</td><td>-0.01855065</td><td> 0.0006967321</td><td>-0.0224346107</td><td> 0.006552295</td><td> 0.0397130317</td></tr>\n",
       "</tbody>\n",
       "</table>\n"
      ],
      "text/latex": [
       "A matrix: 6 × 6 of type dbl\n",
       "\\begin{tabular}{llllll}\n",
       "\t  0.0155231533 &  0.02012679 & -0.0230124341 & -0.0001158865 &  0.006316539 & -0.0003914469\\\\\n",
       "\t  0.0201267875 &  0.06045292 & -0.0132481650 & -0.0192946840 &  0.010127719 & -0.0185506516\\\\\n",
       "\t -0.0230124341 & -0.01324817 &  0.0721931391 &  0.0137559086 & -0.019164521 &  0.0006967321\\\\\n",
       "\t -0.0001158865 & -0.01929468 &  0.0137559086 &  0.1004947030 & -0.037670426 & -0.0224346107\\\\\n",
       "\t  0.0063165389 &  0.01012772 & -0.0191645212 & -0.0376704259 &  0.025109511 &  0.0065522954\\\\\n",
       "\t -0.0003914469 & -0.01855065 &  0.0006967321 & -0.0224346107 &  0.006552295 &  0.0397130317\\\\\n",
       "\\end{tabular}\n"
      ],
      "text/markdown": [
       "\n",
       "A matrix: 6 × 6 of type dbl\n",
       "\n",
       "|  0.0155231533 |  0.02012679 | -0.0230124341 | -0.0001158865 |  0.006316539 | -0.0003914469 |\n",
       "|  0.0201267875 |  0.06045292 | -0.0132481650 | -0.0192946840 |  0.010127719 | -0.0185506516 |\n",
       "| -0.0230124341 | -0.01324817 |  0.0721931391 |  0.0137559086 | -0.019164521 |  0.0006967321 |\n",
       "| -0.0001158865 | -0.01929468 |  0.0137559086 |  0.1004947030 | -0.037670426 | -0.0224346107 |\n",
       "|  0.0063165389 |  0.01012772 | -0.0191645212 | -0.0376704259 |  0.025109511 |  0.0065522954 |\n",
       "| -0.0003914469 | -0.01855065 |  0.0006967321 | -0.0224346107 |  0.006552295 |  0.0397130317 |\n",
       "\n"
      ],
      "text/plain": [
       "     [,1]          [,2]        [,3]          [,4]          [,5]        \n",
       "[1,]  0.0155231533  0.02012679 -0.0230124341 -0.0001158865  0.006316539\n",
       "[2,]  0.0201267875  0.06045292 -0.0132481650 -0.0192946840  0.010127719\n",
       "[3,] -0.0230124341 -0.01324817  0.0721931391  0.0137559086 -0.019164521\n",
       "[4,] -0.0001158865 -0.01929468  0.0137559086  0.1004947030 -0.037670426\n",
       "[5,]  0.0063165389  0.01012772 -0.0191645212 -0.0376704259  0.025109511\n",
       "[6,] -0.0003914469 -0.01855065  0.0006967321 -0.0224346107  0.006552295\n",
       "     [,6]         \n",
       "[1,] -0.0003914469\n",
       "[2,] -0.0185506516\n",
       "[3,]  0.0006967321\n",
       "[4,] -0.0224346107\n",
       "[5,]  0.0065522954\n",
       "[6,]  0.0397130317"
      ]
     },
     "metadata": {},
     "output_type": "display_data"
    }
   ],
   "source": [
    "# use our expected returns and cov mat from last time\n",
    "expected_returns\n",
    "S"
   ]
  },
  {
   "attachments": {},
   "cell_type": "markdown",
   "metadata": {},
   "source": [
    "Given a tau of zero (meaning we disgregard costs altogether) and a lambda of 15, we get the following weights for the next period:"
   ]
  },
  {
   "cell_type": "code",
   "execution_count": 22,
   "metadata": {
    "vscode": {
     "languageId": "r"
    }
   },
   "outputs": [
    {
     "data": {
      "text/html": [
       "<table class=\"dataframe\">\n",
       "<caption>A matrix: 6 × 1 of type dbl</caption>\n",
       "<tbody>\n",
       "\t<tr><td>-6.530549e-07</td></tr>\n",
       "\t<tr><td> 5.589699e-02</td></tr>\n",
       "\t<tr><td> 2.541301e-02</td></tr>\n",
       "\t<tr><td> 2.866296e-01</td></tr>\n",
       "\t<tr><td> 4.041310e-01</td></tr>\n",
       "\t<tr><td> 2.278091e-01</td></tr>\n",
       "</tbody>\n",
       "</table>\n"
      ],
      "text/latex": [
       "A matrix: 6 × 1 of type dbl\n",
       "\\begin{tabular}{l}\n",
       "\t -6.530549e-07\\\\\n",
       "\t  5.589699e-02\\\\\n",
       "\t  2.541301e-02\\\\\n",
       "\t  2.866296e-01\\\\\n",
       "\t  4.041310e-01\\\\\n",
       "\t  2.278091e-01\\\\\n",
       "\\end{tabular}\n"
      ],
      "text/markdown": [
       "\n",
       "A matrix: 6 × 1 of type dbl\n",
       "\n",
       "| -6.530549e-07 |\n",
       "|  5.589699e-02 |\n",
       "|  2.541301e-02 |\n",
       "|  2.866296e-01 |\n",
       "|  4.041310e-01 |\n",
       "|  2.278091e-01 |\n",
       "\n"
      ],
      "text/plain": [
       "     [,1]         \n",
       "[1,] -6.530549e-07\n",
       "[2,]  5.589699e-02\n",
       "[3,]  2.541301e-02\n",
       "[4,]  2.866296e-01\n",
       "[5,]  4.041310e-01\n",
       "[6,]  2.278091e-01"
      ]
     },
     "metadata": {},
     "output_type": "display_data"
    },
    {
     "data": {
      "image/png": "[encoded data removed]",
      "text/plain": [
       "plot without title"
      ]
     },
     "metadata": {
      "image/png": {
       "height": 420,
       "width": 840
      }
     },
     "output_type": "display_data"
    }
   ],
   "source": [
    "# define our existing positions - we're in the asset with the second highest expected returns\n",
    "w0 <- c(0, 0, 0, 0, 0, 1)\n",
    "costs <- 5/10000  # costs expressed roughly scaled to expected returns\n",
    "\n",
    "# set lambda and tau\n",
    "lambda <- 15\n",
    "tau <- 0\n",
    "\n",
    "weights4 <- mvo_with_costs(expected_returns, w0, costs, S, lambda = lambda, tau = tau)\n",
    "weights4\n",
    "\n",
    "weights4 %>%\n",
    "  as.data.frame() %>%\n",
    "  ggplot(aes(x = factor(1:6), y = V1)) +\n",
    "    geom_col() +\n",
    "    labs(\n",
    "      x = \"asset\",\n",
    "      y = \"weight\",\n",
    "      title = \"Optimal weights\"\n",
    "    )"
   ]
  },
  {
   "attachments": {},
   "cell_type": "markdown",
   "metadata": {},
   "source": [
    "Let's see what happens as we increase tau. We'll hold lambda constant at 15. "
   ]
  },
  {
   "cell_type": "code",
   "execution_count": 23,
   "metadata": {
    "vscode": {
     "languageId": "r"
    }
   },
   "outputs": [],
   "source": [
    "# taus\n",
    "taus <- 10^seq(0.5, 4, length.out = 20)\n",
    "\n",
    "# allocate vectors for returns and volatilities\n",
    "returns <- rep(0, length(lambdas))\n",
    "vols <- rep(0, length(lambdas))\n",
    "# allocate matrix for weight vectors\n",
    "weight_vectors <- matrix(0, nrow = length(taus), ncol = num_assets)\n",
    "\n",
    "# loop through lambdas and solve\n",
    "for(i in seq_along(taus)) {\n",
    "  tau <- taus[i]\n",
    "  weight_vectors[i, ] <- mvo_with_costs(expected_returns, w0, costs, S, lambda = lambda, tau = tau)\n",
    "}"
   ]
  },
  {
   "attachments": {},
   "cell_type": "markdown",
   "metadata": {},
   "source": [
    "Here's a plot of our next-period weights for different values of tau:"
   ]
  },
  {
   "cell_type": "code",
   "execution_count": 24,
   "metadata": {
    "vscode": {
     "languageId": "r"
    }
   },
   "outputs": [
    {
     "data": {
      "image/png": "[encoded data removed]",
      "text/plain": [
       "plot without title"
      ]
     },
     "metadata": {
      "image/png": {
       "height": 420,
       "width": 840
      }
     },
     "output_type": "display_data"
    }
   ],
   "source": [
    "weight_vecs <- data.frame(weight_vectors, taus) %>% \n",
    "  rename_with(~gsub(\"X\", \"\", .x)) %>% \n",
    "  pivot_longer(-taus, names_to = \"asset\", values_to = \"weight\") %>%\n",
    "  rename(\"tau\" = taus) %>% \n",
    "  left_join(\n",
    "    data.frame(asset = as.character(c(1:6)), starting_weight = w0),\n",
    "    by = \"asset\"\n",
    "  )%>% \n",
    "  mutate(pos_delta = weight - starting_weight)\n",
    "\n",
    "weight_vecs %>%\n",
    "  filter(tau %in% taus[seq(from = 1, to = length(taus), by = 2)]) %>%\n",
    "  ggplot(aes(x = factor(round(tau, 0)), y = weight, fill = asset)) +\n",
    "    geom_col(position = \"stack\") +\n",
    "    labs(\n",
    "      x = \"tau\",\n",
    "      y = \"weight\",\n",
    "      title = glue::glue(\"Diversification and position sizing as a function of tau, lambda = {lambda}\"),\n",
    "      subtitle = \"Long only, remove fully invested constraints\\nInitial position: 100% invested in asset 6\"\n",
    "    )"
   ]
  },
  {
   "attachments": {},
   "cell_type": "markdown",
   "metadata": {},
   "source": [
    "This plot shows the actual trading required for each asset as a proportion of invested capital (negative values imply selling an asset):"
   ]
  },
  {
   "cell_type": "code",
   "execution_count": 25,
   "metadata": {
    "vscode": {
     "languageId": "r"
    }
   },
   "outputs": [
    {
     "data": {
      "image/png": "[encoded data removed]",
      "text/plain": [
       "plot without title"
      ]
     },
     "metadata": {
      "image/png": {
       "height": 420,
       "width": 840
      }
     },
     "output_type": "display_data"
    }
   ],
   "source": [
    "  weight_vecs %>%\n",
    "  filter(tau %in% taus[seq(from = 1, to = length(taus), by = 2)]) %>%\n",
    "  ggplot(aes(x = factor(round(tau, 0)), y = pos_delta, fill = asset)) +\n",
    "    geom_col(position = \"dodge\") +\n",
    "    labs(\n",
    "      x = \"tau\",\n",
    "      y = \"position delta\",\n",
    "      title = glue::glue(\"Trading required as a function of tau, lambda = {lambda}\"),\n",
    "      subtitle = \"Long only, remove fully invested constraints\\nInitial position: 100% invested in asset 6\"\n",
    "    )"
   ]
  },
  {
   "attachments": {},
   "cell_type": "markdown",
   "metadata": {},
   "source": [
    "You can see that for smaller values of tau, we pay less attention to costs and make more and bigger trades. We sell a big chunk of asset 6 and buy varying amounts of the other assets. \n",
    "\n",
    "As we increase tau, our target weights start to differ less from our starting weights, until we do no trading at all and our next position is equal to our current position.\n",
    "\n",
    "You can see how, under this framework, the behaviour of your strategy is controlled by essentially two levers: lambda and tau. You would find appropriate values for these parameters through simulation, similarly to how we found an appropriate value for our no-trade buffer in previous articles. We'll do that in the next article. "
   ]
  },
  {
   "attachments": {},
   "cell_type": "markdown",
   "metadata": {},
   "source": [
    "## Some tips and tricks\n",
    "\n",
    "### Convex optimisation in context\n",
    "\n",
    "It's important to understand that under this framework, estimating our expected returns and covariances is the whole game. The optimiser will always find the best weights given your expected returns and covariances, but it has no control over the *quality* of those estimates. That's up to you. \n",
    "\n",
    "Remember, convex optimisation isn't a source of alpha. It's just a tool to help you implement some trading rules to harness your alphas effectively. \n",
    "\n",
    "### CVXR tips and tricks\n",
    "\n",
    "Here are some general tips and tricks to be aware of when setting up optimisation problems with CVXR:\n",
    "\n",
    "- <= and >= problems can generally be solved by CVXR\n",
    "- but > and < problems may not be strictly convex (and hence CVXR won't converge)\n",
    "- if you get errors, it's often because you didn't specify a linear algebra problem correctly (check you've transposed the correct vector or matrix and used the correct operator)\n",
    "- look through the lst of CVXR functions - it is incredibly rich\n",
    "- CVXR will fall over if you covariance matrix isn't symmetrical and positive semi definite, sometimes even if it is out just a touch, so it's wise to put a check on your covariance matrix before proceeding with the optimisation."
   ]
  },
  {
   "attachments": {},
   "cell_type": "markdown",
   "metadata": {},
   "source": [
    "## Bonus: constrain historical downside risk\n",
    "\n",
    "I got this idea from Scott Sanderson back in the Quantopian days. \n",
    "\n",
    "In what we've seen so far, our weights are dependent on expected return and covariance estimates (as well as constraints, costs, etc).\n",
    "\n",
    "Estimating covariances is, unfortunately, famously difficult. And the weights our optimiser returns will be very sensitive to the covariance values you input (as an exercise, experiment by changing one or more values in the covariance matrixes of previous examples and get a feel for this dependency).   \n",
    "\n",
    "Typically in practice, you'll end up doing some sort of shrinking procedure to reduce your covariance estimates to either zero or their long-run averages. \n",
    "\n",
    "Another interesting approach that gets around this is to not express a view on covariances at all. Instead, we can model risk as the maximum daily downside that would have resulted from the target weights given the actual historical returns of the assets in our portfolio. \n",
    "\n",
    "This comes with another set of considerations - for example, it reflects just one path through reality, and we all know that there's no guarantee that the future will be like the past. It's entirely feasible (likely, perhaps) that the future will conspire to produce a set of circumstances where the target weights lead to a greater loss than we saw in the past. But at least it gives us something tangible that we can base our assessment of risk on. \n",
    "\n",
    "Let me show you how this works. \n",
    "\n",
    "First, we'll create some historical returns. We'll get 1,000 days of returns for the six assets we're trading:\n"
   ]
  },
  {
   "cell_type": "code",
   "execution_count": 26,
   "metadata": {
    "vscode": {
     "languageId": "r"
    }
   },
   "outputs": [
    {
     "data": {
      "text/html": [
       "<table class=\"dataframe\">\n",
       "<caption>A matrix: 6 × 6 of type dbl</caption>\n",
       "<tbody>\n",
       "\t<tr><td> 0.03551251</td><td> 0.01728147</td><td> 0.10600270</td><td> 0.1298158</td><td>-0.07601763</td><td> 0.14176114</td></tr>\n",
       "\t<tr><td>-0.07788934</td><td> 0.04335477</td><td>-0.05217292</td><td> 0.1907053</td><td> 0.02713085</td><td>-0.05079215</td></tr>\n",
       "\t<tr><td>-0.07573570</td><td> 0.02067132</td><td>-0.02152929</td><td>-0.0940365</td><td>-0.25205753</td><td>-0.01763523</td></tr>\n",
       "\t<tr><td> 0.23298006</td><td>-0.03187455</td><td>-0.12913116</td><td>-0.1180375</td><td> 0.02760712</td><td> 0.11984626</td></tr>\n",
       "\t<tr><td> 0.02839749</td><td>-0.04619874</td><td>-0.11878668</td><td>-0.1272778</td><td> 0.06466424</td><td>-0.10790562</td></tr>\n",
       "\t<tr><td> 0.12810252</td><td> 0.15281995</td><td> 0.17616053</td><td> 0.1354930</td><td> 0.02578447</td><td>-0.06109857</td></tr>\n",
       "</tbody>\n",
       "</table>\n"
      ],
      "text/latex": [
       "A matrix: 6 × 6 of type dbl\n",
       "\\begin{tabular}{llllll}\n",
       "\t  0.03551251 &  0.01728147 &  0.10600270 &  0.1298158 & -0.07601763 &  0.14176114\\\\\n",
       "\t -0.07788934 &  0.04335477 & -0.05217292 &  0.1907053 &  0.02713085 & -0.05079215\\\\\n",
       "\t -0.07573570 &  0.02067132 & -0.02152929 & -0.0940365 & -0.25205753 & -0.01763523\\\\\n",
       "\t  0.23298006 & -0.03187455 & -0.12913116 & -0.1180375 &  0.02760712 &  0.11984626\\\\\n",
       "\t  0.02839749 & -0.04619874 & -0.11878668 & -0.1272778 &  0.06466424 & -0.10790562\\\\\n",
       "\t  0.12810252 &  0.15281995 &  0.17616053 &  0.1354930 &  0.02578447 & -0.06109857\\\\\n",
       "\\end{tabular}\n"
      ],
      "text/markdown": [
       "\n",
       "A matrix: 6 × 6 of type dbl\n",
       "\n",
       "|  0.03551251 |  0.01728147 |  0.10600270 |  0.1298158 | -0.07601763 |  0.14176114 |\n",
       "| -0.07788934 |  0.04335477 | -0.05217292 |  0.1907053 |  0.02713085 | -0.05079215 |\n",
       "| -0.07573570 |  0.02067132 | -0.02152929 | -0.0940365 | -0.25205753 | -0.01763523 |\n",
       "|  0.23298006 | -0.03187455 | -0.12913116 | -0.1180375 |  0.02760712 |  0.11984626 |\n",
       "|  0.02839749 | -0.04619874 | -0.11878668 | -0.1272778 |  0.06466424 | -0.10790562 |\n",
       "|  0.12810252 |  0.15281995 |  0.17616053 |  0.1354930 |  0.02578447 | -0.06109857 |\n",
       "\n"
      ],
      "text/plain": [
       "     [,1]        [,2]        [,3]        [,4]       [,5]        [,6]       \n",
       "[1,]  0.03551251  0.01728147  0.10600270  0.1298158 -0.07601763  0.14176114\n",
       "[2,] -0.07788934  0.04335477 -0.05217292  0.1907053  0.02713085 -0.05079215\n",
       "[3,] -0.07573570  0.02067132 -0.02152929 -0.0940365 -0.25205753 -0.01763523\n",
       "[4,]  0.23298006 -0.03187455 -0.12913116 -0.1180375  0.02760712  0.11984626\n",
       "[5,]  0.02839749 -0.04619874 -0.11878668 -0.1272778  0.06466424 -0.10790562\n",
       "[6,]  0.12810252  0.15281995  0.17616053  0.1354930  0.02578447 -0.06109857"
      ]
     },
     "metadata": {},
     "output_type": "display_data"
    }
   ],
   "source": [
    "set.seed(503)\n",
    "\n",
    "num_days <- 1000\n",
    "num_assets <- 6\n",
    "historical_returns <- matrix(rnorm(num_days*num_assets, 0, 0.1), nrow = num_days, ncol = num_assets)\n",
    "\n",
    "head(historical_returns)"
   ]
  },
  {
   "attachments": {},
   "cell_type": "markdown",
   "metadata": {},
   "source": [
    "Let's create a random weight vector for the sake of the example:"
   ]
  },
  {
   "cell_type": "code",
   "execution_count": 27,
   "metadata": {
    "vscode": {
     "languageId": "r"
    }
   },
   "outputs": [
    {
     "data": {
      "text/html": [
       "<style>\n",
       ".list-inline {list-style: none; margin:0; padding: 0}\n",
       ".list-inline>li {display: inline-block}\n",
       ".list-inline>li:not(:last-child)::after {content: \"\\00b7\"; padding: 0 .5ex}\n",
       "</style>\n",
       "<ol class=list-inline><li>0.0613747418699724</li><li>-0.134612805512101</li><li>-0.13089075277822</li><li>0.402649441183583</li><li>0.0490781678421434</li><li>0.221394090813981</li></ol>\n"
      ],
      "text/latex": [
       "\\begin{enumerate*}\n",
       "\\item 0.0613747418699724\n",
       "\\item -0.134612805512101\n",
       "\\item -0.13089075277822\n",
       "\\item 0.402649441183583\n",
       "\\item 0.0490781678421434\n",
       "\\item 0.221394090813981\n",
       "\\end{enumerate*}\n"
      ],
      "text/markdown": [
       "1. 0.0613747418699724\n",
       "2. -0.134612805512101\n",
       "3. -0.13089075277822\n",
       "4. 0.402649441183583\n",
       "5. 0.0490781678421434\n",
       "6. 0.221394090813981\n",
       "\n",
       "\n"
      ],
      "text/plain": [
       "[1]  0.06137474 -0.13461281 -0.13089075  0.40264944  0.04907817  0.22139409"
      ]
     },
     "metadata": {},
     "output_type": "display_data"
    }
   ],
   "source": [
    "set.seed(503)\n",
    "\n",
    "num_assets <- 6\n",
    "w0 <- rnorm(num_assets, 0, 1)\n",
    "# scale so that their abs.values sum to \n",
    "w0 <- w0/sum(abs(w0))\n",
    "w0"
   ]
  },
  {
   "attachments": {},
   "cell_type": "markdown",
   "metadata": {},
   "source": [
    "Now, let's look at the historical daily returns to a portfolio of these six assets at these weights. The dot product of our historical asset-wise returns matrix and our weight vector will give us our daily portfolio returns:"
   ]
  },
  {
   "cell_type": "code",
   "execution_count": 28,
   "metadata": {
    "vscode": {
     "languageId": "r"
    }
   },
   "outputs": [
    {
     "data": {
      "image/png": "[encoded data removed]",
      "text/plain": [
       "plot without title"
      ]
     },
     "metadata": {
      "image/png": {
       "height": 420,
       "width": 840
      }
     },
     "output_type": "display_data"
    }
   ],
   "source": [
    "historical_port_returns <- historical_returns %*% w0\n",
    "\n",
    "historical_port_returns %>% \n",
    "  data.frame(portfolio_return = ., index = c(1:nrow(historical_returns))) %>% \n",
    "  ggplot(aes(x = portfolio_return)) +\n",
    "  geom_histogram(bins=100) +\n",
    "  labs(\n",
    "    title = \"Histogram of daily portfolio returns\",\n",
    "    subtitle = glue::glue(\"Weights: {glue::glue_collapse(round(w0, 2), sep = ', ')}\")\n",
    "  )"
   ]
  },
  {
   "attachments": {},
   "cell_type": "markdown",
   "metadata": {},
   "source": [
    "You can see that we had several days in our 1,000-day sample in which we lost more than 10%. \n",
    "\n",
    "Next, let's figure out the 5th percentile of our daily returns. That is, what's the cutoff for our worst 5% of days?"
   ]
  },
  {
   "cell_type": "code",
   "execution_count": 29,
   "metadata": {
    "vscode": {
     "languageId": "r"
    }
   },
   "outputs": [
    {
     "data": {
      "text/html": [
       "<strong>5%:</strong> -0.0862743958212262"
      ],
      "text/latex": [
       "\\textbf{5\\textbackslash{}\\%:} -0.0862743958212262"
      ],
      "text/markdown": [
       "**5%:** -0.0862743958212262"
      ],
      "text/plain": [
       "        5% \n",
       "-0.0862744 "
      ]
     },
     "metadata": {},
     "output_type": "display_data"
    }
   ],
   "source": [
    "# get the bottom \n",
    "quantile(historical_port_returns, 0.05)"
   ]
  },
  {
   "attachments": {},
   "cell_type": "markdown",
   "metadata": {},
   "source": [
    "We can use that to firstly extract the bottom 5% of days:"
   ]
  },
  {
   "cell_type": "code",
   "execution_count": 30,
   "metadata": {
    "vscode": {
     "languageId": "r"
    }
   },
   "outputs": [
    {
     "data": {
      "text/html": [
       "<style>\n",
       ".list-inline {list-style: none; margin:0; padding: 0}\n",
       ".list-inline>li {display: inline-block}\n",
       ".list-inline>li:not(:last-child)::after {content: \"\\00b7\"; padding: 0 .5ex}\n",
       "</style>\n",
       "<ol class=list-inline><li>-0.140243608302904</li><li>-0.0875556659433104</li><li>-0.0898470072466509</li><li>-0.100539995047078</li><li>-0.126077141570876</li><li>-0.0962782588902194</li></ol>\n"
      ],
      "text/latex": [
       "\\begin{enumerate*}\n",
       "\\item -0.140243608302904\n",
       "\\item -0.0875556659433104\n",
       "\\item -0.0898470072466509\n",
       "\\item -0.100539995047078\n",
       "\\item -0.126077141570876\n",
       "\\item -0.0962782588902194\n",
       "\\end{enumerate*}\n"
      ],
      "text/markdown": [
       "1. -0.140243608302904\n",
       "2. -0.0875556659433104\n",
       "3. -0.0898470072466509\n",
       "4. -0.100539995047078\n",
       "5. -0.126077141570876\n",
       "6. -0.0962782588902194\n",
       "\n",
       "\n"
      ],
      "text/plain": [
       "[1] -0.14024361 -0.08755567 -0.08984701 -0.10054000 -0.12607714 -0.09627826"
      ]
     },
     "metadata": {},
     "output_type": "display_data"
    }
   ],
   "source": [
    "worst_days <- historical_port_returns[historical_port_returns <= quantile(historical_port_returns, 0.05)]\n",
    "head(worst_days)"
   ]
  },
  {
   "attachments": {},
   "cell_type": "markdown",
   "metadata": {},
   "source": [
    "And now we can calculate the mean of our worst days:"
   ]
  },
  {
   "cell_type": "code",
   "execution_count": 31,
   "metadata": {
    "vscode": {
     "languageId": "r"
    }
   },
   "outputs": [
    {
     "data": {
      "text/html": [
       "-0.114550160414768"
      ],
      "text/latex": [
       "-0.114550160414768"
      ],
      "text/markdown": [
       "-0.114550160414768"
      ],
      "text/plain": [
       "[1] -0.1145502"
      ]
     },
     "metadata": {},
     "output_type": "display_data"
    }
   ],
   "source": [
    "mean(worst_days)"
   ]
  },
  {
   "attachments": {},
   "cell_type": "markdown",
   "metadata": {},
   "source": [
    "Now let's say we decide to exclude any weights that resulted in a mean worst day loss of 10% or more in the historical data.  \n",
    "\n",
    "That would mean that the weights we chose here would get passed over by the optimiser, because the mean of their worst days was slightly worse than -10%. \n",
    "\n",
    "And that's the whole idea of this approach in a nutshell:\n",
    "- Pick a maximum historical average worst day cutoff (say -10%)\n",
    "- Define your set of \"worst days\" - here we simply grabbed the bottom 5% of daily returns\n",
    "- Define a constraint such that the optimiser excludes weights whose average worst day in the past exceeded your cutoff value\n",
    "\n",
    "A logical question would be *\"Why complicate things by using the average of your worst days? Why not simply pick a single maximum daily loss and use that instead?\"*\n",
    "\n",
    "That would introduce a lot of sensitivity and randomness. For example, an otherwise optimal set of weights might have resulted in a single outlying bad return that would exclude it from the solution space. You might not want to exclude a set of weights due to a single bad day - you're essentially letting randomness drive the results to a very large extent.  \n",
    "\n",
    "Constraining our cutoff to a mean of the bottom $x$% of bad days somewhat reduces this randomness.  \n",
    "\n",
    "Now let's implement this approach using CVXR:"
   ]
  },
  {
   "cell_type": "code",
   "execution_count": 32,
   "metadata": {
    "vscode": {
     "languageId": "r"
    }
   },
   "outputs": [],
   "source": [
    "constrain_downside <- function(expected_returns, current_weights, historical_returns, max_loss = -0.1, costs, tau=1) {\n",
    "  # define our weights vector as a CVXR::Variable\n",
    "  weights <- Variable(length(expected_returns))\n",
    "  # define an alpha term as the weighted sum of expected returns\n",
    "    # again, express using linear algebra\n",
    "  alpha_term <- (t(weights) %*% expected_returns)\n",
    "  # define a costs term. depends on:\n",
    "    # cost of trading - needs to be expressed such that it scales with expected returns\n",
    "      # calculate as elementwise cost * absolute value of weights - current_weights\n",
    "      # use CVXR::multiply and CVXR::abs\n",
    "    # absolute distance of current_weights to our weights variable\n",
    "      # the more our target weights differ from current weights, the more it costs to trade\n",
    "      # this is a decent representation of fixed percentage costs, but doesn't capture minimum commissions\n",
    "    # sum_entries is a CVXR function for summing the elements of a vector\n",
    "  costs_term <- sum_entries(multiply(costs, abs(weights - current_weights))) # elementwise abs, multiply\n",
    "  # define our objective\n",
    "    # maximise our alpha less our costs term multiplied by tau\n",
    "  objective <- Maximize(alpha_term)  #  - tau*costs_term\n",
    "  # define a risk constraint as the average of our bottom 5% of bad days\n",
    "    # you might want to pick of different value for k, or pass it as a parameter to the function\n",
    "    k = round(nrow(historical_returns) * 0.05, 0)\n",
    "    historical_port_returns = historical_returns %*% weights\n",
    "    # sum_smallest sums the smallest k values\n",
    "    ave_bad_day = CVXR::sum_smallest(historical_port_returns, k)/k\n",
    "  # apply our no leverage and long only constraints\n",
    "  constraints <- list(cvxr_norm(weights, 1) <= 1, weights >= 0, ave_bad_day >= max_loss)\n",
    "  # specify the problem\n",
    "  problem <- Problem(objective, constraints)\n",
    "  # solve\n",
    "  result <- solve(problem, solver = \"ECOS\")\n",
    "\n",
    "  # return the values of the variable we solved for\n",
    "  result$getValue(weights)\n",
    "}"
   ]
  },
  {
   "attachments": {},
   "cell_type": "markdown",
   "metadata": {},
   "source": [
    "We'll set our maximum average worst day to -10% and apply a tau of 20 to our costs parameter:"
   ]
  },
  {
   "cell_type": "code",
   "execution_count": 33,
   "metadata": {
    "vscode": {
     "languageId": "r"
    }
   },
   "outputs": [
    {
     "data": {
      "image/png": "[encoded data removed]",
      "text/plain": [
       "plot without title"
      ]
     },
     "metadata": {
      "image/png": {
       "height": 420,
       "width": 840
      }
     },
     "output_type": "display_data"
    }
   ],
   "source": [
    "w <- constrain_downside(expected_returns = expected_returns, current_weights = w0, historical_returns = historical_returns, max_loss = -0.1, costs = 5./10000, tau=20)\n",
    "\n",
    "# plot optimal weights\n",
    "w %>%\n",
    "  as.data.frame() %>%\n",
    "  ggplot(aes(x = factor(1:num_assets), y = V1)) +\n",
    "    geom_col() +\n",
    "    labs(\n",
    "      x = \"asset\",\n",
    "      y = \"weight\",\n",
    "      title = \"Optimal weights\"\n",
    "    )"
   ]
  },
  {
   "attachments": {},
   "cell_type": "markdown",
   "metadata": {},
   "source": [
    "Let's have a look at the historical returns given these weights:"
   ]
  },
  {
   "cell_type": "code",
   "execution_count": 34,
   "metadata": {
    "vscode": {
     "languageId": "r"
    }
   },
   "outputs": [
    {
     "data": {
      "image/png": "[encoded data removed]",
      "text/plain": [
       "plot without title"
      ]
     },
     "metadata": {
      "image/png": {
       "height": 420,
       "width": 840
      }
     },
     "output_type": "display_data"
    }
   ],
   "source": [
    "# historical daily portfolio returns at these weights\n",
    "historical_port_returns <- historical_returns %*% w\n",
    "\n",
    "historical_port_returns %>% \n",
    "  data.frame(portfolio_return = ., index = c(1:nrow(historical_returns))) %>% \n",
    "  ggplot(aes(x = portfolio_return)) +\n",
    "  geom_histogram(bins=100) +\n",
    "  labs(\n",
    "    title = \"Histogram of daily portfolio returns\",\n",
    "    subtitle = glue::glue(\"Weights: {glue::glue_collapse(round(w0, 2), sep = ', ')}\")\n",
    "  )"
   ]
  },
  {
   "cell_type": "code",
   "execution_count": 35,
   "metadata": {
    "vscode": {
     "languageId": "r"
    }
   },
   "outputs": [
    {
     "data": {
      "text/html": [
       "-0.0999999999993967"
      ],
      "text/latex": [
       "-0.0999999999993967"
      ],
      "text/markdown": [
       "-0.0999999999993967"
      ],
      "text/plain": [
       "[1] -0.1"
      ]
     },
     "metadata": {},
     "output_type": "display_data"
    }
   ],
   "source": [
    "# what's the mean of our bottom 5% of bad days?\n",
    "worst_days <- historical_port_returns[historical_port_returns <= quantile(historical_port_returns, 0.05)]\n",
    "mean(worst_days)"
   ]
  },
  {
   "attachments": {},
   "cell_type": "markdown",
   "metadata": {},
   "source": [
    "You can see that the average of the worst days given these weights did indeed come in just north of our cutoff of -10%."
   ]
  },
  {
   "attachments": {},
   "cell_type": "markdown",
   "metadata": {},
   "source": [
    "## Conclusion\n",
    "\n",
    "The purpose of this article was to build your intuition for convex optimisation. Specifcally, how will certain constraints and objectives influence the optimiser's decisions?\n",
    "\n",
    "We also saw several examples of constructing different optimisation problems using the CVXR library, which provides a high-level convex optimisation modelling language with user-friendly syntax.\n",
    "\n",
    "In particular, we saw that we can construct the trading problem as a mean-variance optimisation that includes costs. Under this framework, we can essentially control the strategy's behaviour using two parameters: our risk version (lambda) and our propensity to trade (tau). In the next article, we'll see how we can use simulation to pick appropriate values for these parameters. \n",
    "\n",
    "Given the difficulties around covariance estimates and the sensitivity to small changes in these values, we also saw an approach that defines risk in terms of historical losses rather than covariances and portfolio volatility. The main drawback with this approach is that the future will likely not look exactly like the past. But maybe it will look enough like the past that this approach is feasible. \n",
    "\n",
    "Finally, we underline the point that convex optimisation is not a source of alpha itself. It's simply a tool to help you navigate the various operational trade-offs involved with harnessing your edges, and is entirely dependent on the quality of your forecasts.  "
   ]
  }
 ],
 "metadata": {
  "kernelspec": {
   "display_name": "R",
   "language": "R",
   "name": "ir"
  },
  "language_info": {
   "codemirror_mode": "r",
   "file_extension": ".r",
   "mimetype": "text/x-r-source",
   "name": "R",
   "pygments_lexer": "r",
   "version": "4.2.3"
  },
  "orig_nbformat": 4
 },
 "nbformat": 4,
 "nbformat_minor": 2
}
